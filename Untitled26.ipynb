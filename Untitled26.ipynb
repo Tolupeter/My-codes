{
 "cells": [
  {
   "cell_type": "code",
   "execution_count": null,
   "id": "48d47580-fba0-4cc9-88c1-b0a5fd126aa3",
   "metadata": {},
   "outputs": [],
   "source": []
  },
  {
   "cell_type": "code",
   "execution_count": null,
   "id": "68086c9f-219c-4cfa-ad08-26c9f62e1773",
   "metadata": {},
   "outputs": [],
   "source": [
    "#M2 SHAM"
   ]
  },
  {
   "cell_type": "code",
   "execution_count": 3,
   "id": "67925bc3-74b0-4daf-9e68-8eed275d1de9",
   "metadata": {},
   "outputs": [
    {
     "name": "stdout",
     "output_type": "stream",
     "text": [
      "✅ Saved: expr_matrix.csv, cell_metadata.csv, gene_annotation.csv\n"
     ]
    }
   ],
   "source": [
    "import os\n",
    "import scanpy as sc\n",
    "import pandas as pd\n",
    "\n",
    "# Set working directory\n",
    "os.chdir(\"P:/Tolulope/Manuscript/Yuan Analysis\")\n",
    "\n",
    "# Load AnnData\n",
    "adata = sc.read_h5ad(\"integratedssssss.h5ad\")\n",
    "\n",
    "# Subset to Dendritic cells and ASham-GFP vs ASham-noGFP\n",
    "subset = adata[\n",
    "    (adata.obs['cell type'] == 'M2-like macrophages') &\n",
    "    (adata.obs['condition'].isin(['ASham-GFP', 'ASham-noGFP']))\n",
    "].copy()\n",
    "\n",
    "# Use raw counts if available\n",
    "if 'counts' in subset.layers:\n",
    "    subset.X = subset.layers['counts']\n",
    "\n",
    "# Optionally, append sample info to cell barcodes to match your R format\n",
    "subset.obs_names = [f\"{cell}-{sample}\" for cell, sample in zip(subset.obs_names, subset.obs['Sample'])]\n",
    "\n",
    "# Create and save expression matrix (genes × cells)\n",
    "expr_matrix = pd.DataFrame(\n",
    "    subset.X.toarray() if hasattr(subset.X, \"toarray\") else subset.X,\n",
    "    index=subset.obs_names,\n",
    "    columns=subset.var_names\n",
    ").T  # Transpose: genes as rows, cells as columns\n",
    "\n",
    "expr_matrix.to_csv(\"expr_matrix.csv\")\n",
    "\n",
    "# Save cell metadata (row index = full cell names)\n",
    "cell_metadata = subset.obs.copy()\n",
    "cell_metadata.index.name = None\n",
    "cell_metadata.to_csv(\"cell_metadata.csv\")\n",
    "\n",
    "# ---- Save Gene Annotation ----\n",
    "# Now use the `subset` object to generate gene annotation\n",
    "gene_annotation = pd.DataFrame(index=subset.var_names)\n",
    "gene_annotation['gene_short_name'] = subset.var_names\n",
    "gene_annotation.index.name = 'gene_id'\n",
    "gene_annotation.to_csv(\"gene_annotation.csv\")\n",
    "\n",
    "print(\"✅ Saved: expr_matrix.csv, cell_metadata.csv, gene_annotation.csv\")\n"
   ]
  },
  {
   "cell_type": "code",
   "execution_count": null,
   "id": "84a284d3-ef13-4619-a00c-ba652a321c8c",
   "metadata": {},
   "outputs": [],
   "source": [
    "# Count number of dendritic cells per condition\n",
    "cell_counts = subset.obs['condition'].value_counts()\n",
    "print(cell_counts)\n"
   ]
  },
  {
   "cell_type": "code",
   "execution_count": null,
   "id": "d01ac1ed-30b5-4e84-b017-348c8dbab012",
   "metadata": {},
   "outputs": [],
   "source": [
    "#Residence Macrophages/APCs I Sham"
   ]
  },
  {
   "cell_type": "code",
   "execution_count": null,
   "id": "48a3975d-b4ec-40e2-8f41-61861fdbed44",
   "metadata": {},
   "outputs": [],
   "source": [
    "import os\n",
    "import scanpy as sc\n",
    "import pandas as pd\n",
    "\n",
    "# Set working directory\n",
    "os.chdir(\"P:/Tolulope/Manuscript/Yuan Analysis\")\n",
    "\n",
    "# Load AnnData\n",
    "adata = sc.read_h5ad(\"integratedssssss.h5ad\")\n",
    "\n",
    "# Subset to Dendritic cells and ASham-GFP vs ASham-noGFP\n",
    "subset = adata[\n",
    "    (adata.obs['cell type'] == 'Residence Macrophages/APCs I') &\n",
    "    (adata.obs['condition'].isin(['ASham-GFP', 'ASham-noGFP']))\n",
    "].copy()\n",
    "\n",
    "# Use raw counts if available\n",
    "if 'counts' in subset.layers:\n",
    "    subset.X = subset.layers['counts']\n",
    "\n",
    "# Optionally, append sample info to cell barcodes to match your R format\n",
    "subset.obs_names = [f\"{cell}-{sample}\" for cell, sample in zip(subset.obs_names, subset.obs['Sample'])]\n",
    "\n",
    "# Create and save expression matrix (genes × cells)\n",
    "expr_matrix = pd.DataFrame(\n",
    "    subset.X.toarray() if hasattr(subset.X, \"toarray\") else subset.X,\n",
    "    index=subset.obs_names,\n",
    "    columns=subset.var_names\n",
    ").T  # Transpose: genes as rows, cells as columns\n",
    "\n",
    "expr_matrix.to_csv(\"expr_matrix.csv\")\n",
    "\n",
    "# Save cell metadata (row index = full cell names)\n",
    "cell_metadata = subset.obs.copy()\n",
    "cell_metadata.index.name = None\n",
    "cell_metadata.to_csv(\"cell_metadata.csv\")\n",
    "\n",
    "# ---- Save Gene Annotation ----\n",
    "# Now use the `subset` object to generate gene annotation\n",
    "gene_annotation = pd.DataFrame(index=subset.var_names)\n",
    "gene_annotation['gene_short_name'] = subset.var_names\n",
    "gene_annotation.index.name = 'gene_id'\n",
    "gene_annotation.to_csv(\"gene_annotation.csv\")\n",
    "\n",
    "print(\"✅ Saved: expr_matrix.csv, cell_metadata.csv, gene_annotation.csv\")\n"
   ]
  },
  {
   "cell_type": "code",
   "execution_count": 5,
   "id": "7dd4a214-8c14-4934-add6-d8b2cc5032bd",
   "metadata": {},
   "outputs": [
    {
     "name": "stdout",
     "output_type": "stream",
     "text": [
      "condition\n",
      "ASham-noGFP    256\n",
      "ASham-GFP       77\n",
      "Name: count, dtype: int64\n"
     ]
    }
   ],
   "source": [
    "# Count number of dendritic cells per condition\n",
    "cell_counts = subset.obs['condition'].value_counts()\n",
    "print(cell_counts)\n"
   ]
  },
  {
   "cell_type": "code",
   "execution_count": null,
   "id": "58613b3c-f6e0-49d1-b11f-31a7e1ea75b0",
   "metadata": {},
   "outputs": [],
   "source": [
    "#M2 OV YOUNG"
   ]
  },
  {
   "cell_type": "code",
   "execution_count": 1,
   "id": "ba9c4ae6-b732-46a0-be13-e0cdf5feaaee",
   "metadata": {},
   "outputs": [
    {
     "name": "stdout",
     "output_type": "stream",
     "text": [
      "✅ Saved: expr_matrix.csv, cell_metadata.csv, gene_annotation.csv\n"
     ]
    }
   ],
   "source": [
    "import os\n",
    "import scanpy as sc\n",
    "import pandas as pd\n",
    "\n",
    "# Set working directory\n",
    "os.chdir(\"P:/Tolulope/Manuscript/Yuan Analysis\")\n",
    "\n",
    "# Load AnnData\n",
    "adata = sc.read_h5ad(\"integratedssssss.h5ad\")\n",
    "\n",
    "# Subset to Dendritic cells and ASham-GFP vs ASham-noGFP\n",
    "subset = adata[\n",
    "    (adata.obs['cell type'] == 'M2-like macrophages') &\n",
    "    (adata.obs['condition'].isin(['YOV-GFP', 'YOV-noGFP']))\n",
    "].copy()\n",
    "\n",
    "# Use raw counts if available\n",
    "if 'counts' in subset.layers:\n",
    "    subset.X = subset.layers['counts']\n",
    "\n",
    "# Optionally, append sample info to cell barcodes to match your R format\n",
    "subset.obs_names = [f\"{cell}-{sample}\" for cell, sample in zip(subset.obs_names, subset.obs['Sample'])]\n",
    "\n",
    "# Create and save expression matrix (genes × cells)\n",
    "expr_matrix = pd.DataFrame(\n",
    "    subset.X.toarray() if hasattr(subset.X, \"toarray\") else subset.X,\n",
    "    index=subset.obs_names,\n",
    "    columns=subset.var_names\n",
    ").T  # Transpose: genes as rows, cells as columns\n",
    "\n",
    "expr_matrix.to_csv(\"expr_matrix.csv\")\n",
    "\n",
    "# Save cell metadata (row index = full cell names)\n",
    "cell_metadata = subset.obs.copy()\n",
    "cell_metadata.index.name = None\n",
    "cell_metadata.to_csv(\"cell_metadata.csv\")\n",
    "\n",
    "# ---- Save Gene Annotation ----\n",
    "# Now use the `subset` object to generate gene annotation\n",
    "gene_annotation = pd.DataFrame(index=subset.var_names)\n",
    "gene_annotation['gene_short_name'] = subset.var_names\n",
    "gene_annotation.index.name = 'gene_id'\n",
    "gene_annotation.to_csv(\"gene_annotation.csv\")\n",
    "\n",
    "print(\"✅ Saved: expr_matrix.csv, cell_metadata.csv, gene_annotation.csv\")\n"
   ]
  },
  {
   "cell_type": "code",
   "execution_count": 2,
   "id": "564cae5c-4edd-42c1-bbe2-3d9b601511a3",
   "metadata": {},
   "outputs": [
    {
     "name": "stdout",
     "output_type": "stream",
     "text": [
      "condition\n",
      "YOV-noGFP    618\n",
      "YOV-GFP      397\n",
      "Name: count, dtype: int64\n"
     ]
    }
   ],
   "source": [
    "# Count number of dendritic cells per condition\n",
    "cell_counts = subset.obs['condition'].value_counts()\n",
    "print(cell_counts)\n"
   ]
  },
  {
   "cell_type": "code",
   "execution_count": null,
   "id": "e5866921-7274-41cd-ba7d-1761b84d9ef8",
   "metadata": {},
   "outputs": [],
   "source": [
    "#AGED M2 OV"
   ]
  },
  {
   "cell_type": "code",
   "execution_count": 1,
   "id": "14455f3f-023b-4473-9f7e-26e0aadf17b5",
   "metadata": {},
   "outputs": [
    {
     "name": "stdout",
     "output_type": "stream",
     "text": [
      "✅ Saved: expr_matrix.csv, cell_metadata.csv, gene_annotation.csv\n"
     ]
    }
   ],
   "source": [
    "import os\n",
    "import scanpy as sc\n",
    "import pandas as pd\n",
    "\n",
    "# Set working directory\n",
    "os.chdir(\"P:/Tolulope/Manuscript/Yuan Analysis\")\n",
    "\n",
    "# Load AnnData\n",
    "adata = sc.read_h5ad(\"integratedssssss.h5ad\")\n",
    "\n",
    "# Subset to Dendritic cells and ASham-GFP vs ASham-noGFP\n",
    "subset = adata[\n",
    "    (adata.obs['cell type'] == 'M2-like macrophages') &\n",
    "    (adata.obs['condition'].isin(['AOV-GFP', 'AOV-noGFP']))\n",
    "].copy()\n",
    "\n",
    "# Use raw counts if available\n",
    "if 'counts' in subset.layers:\n",
    "    subset.X = subset.layers['counts']\n",
    "\n",
    "# Optionally, append sample info to cell barcodes to match your R format\n",
    "subset.obs_names = [f\"{cell}-{sample}\" for cell, sample in zip(subset.obs_names, subset.obs['Sample'])]\n",
    "\n",
    "# Create and save expression matrix (genes × cells)\n",
    "expr_matrix = pd.DataFrame(\n",
    "    subset.X.toarray() if hasattr(subset.X, \"toarray\") else subset.X,\n",
    "    index=subset.obs_names,\n",
    "    columns=subset.var_names\n",
    ").T  # Transpose: genes as rows, cells as columns\n",
    "\n",
    "expr_matrix.to_csv(\"expr_matrix.csv\")\n",
    "\n",
    "# Save cell metadata (row index = full cell names)\n",
    "cell_metadata = subset.obs.copy()\n",
    "cell_metadata.index.name = None\n",
    "cell_metadata.to_csv(\"cell_metadata.csv\")\n",
    "\n",
    "# ---- Save Gene Annotation ----\n",
    "# Now use the `subset` object to generate gene annotation\n",
    "gene_annotation = pd.DataFrame(index=subset.var_names)\n",
    "gene_annotation['gene_short_name'] = subset.var_names\n",
    "gene_annotation.index.name = 'gene_id'\n",
    "gene_annotation.to_csv(\"gene_annotation.csv\")\n",
    "\n",
    "print(\"✅ Saved: expr_matrix.csv, cell_metadata.csv, gene_annotation.csv\")\n"
   ]
  },
  {
   "cell_type": "code",
   "execution_count": 2,
   "id": "49cf10e5-0884-4e9f-aa6c-27811644aa25",
   "metadata": {},
   "outputs": [
    {
     "name": "stdout",
     "output_type": "stream",
     "text": [
      "condition\n",
      "AOV-GFP      1436\n",
      "AOV-noGFP     655\n",
      "Name: count, dtype: int64\n"
     ]
    }
   ],
   "source": [
    "# Count number of dendritic cells per condition\n",
    "cell_counts = subset.obs['condition'].value_counts()\n",
    "print(cell_counts)\n"
   ]
  },
  {
   "cell_type": "code",
   "execution_count": null,
   "id": "7f849e22-c4b9-4d3e-b76e-320081f25395",
   "metadata": {},
   "outputs": [],
   "source": []
  },
  {
   "cell_type": "code",
   "execution_count": null,
   "id": "9a9d7dfd-e1d6-4938-9659-ca9b03207e66",
   "metadata": {},
   "outputs": [],
   "source": [
    "#Residence Macrophages/APCs I  YOV"
   ]
  },
  {
   "cell_type": "code",
   "execution_count": 1,
   "id": "5d1fca7a-27a4-41e4-9c50-47b4297489f9",
   "metadata": {},
   "outputs": [
    {
     "name": "stdout",
     "output_type": "stream",
     "text": [
      "✅ Saved: expr_matrix.csv, cell_metadata.csv, gene_annotation.csv\n"
     ]
    }
   ],
   "source": [
    "import os\n",
    "import scanpy as sc\n",
    "import pandas as pd\n",
    "\n",
    "# Set working directory\n",
    "os.chdir(\"P:/Tolulope/Manuscript/Yuan Analysis\")\n",
    "\n",
    "# Load AnnData\n",
    "adata = sc.read_h5ad(\"integratedssssss.h5ad\")\n",
    "\n",
    "# Subset to Dendritic cells and ASham-GFP vs ASham-noGFP\n",
    "subset = adata[\n",
    "    (adata.obs['cell type'] == 'Residence Macrophages/APCs I') &\n",
    "    (adata.obs['condition'].isin(['YOV-GFP', 'YOV-noGFP']))\n",
    "].copy()\n",
    "\n",
    "# Use raw counts if available\n",
    "if 'counts' in subset.layers:\n",
    "    subset.X = subset.layers['counts']\n",
    "\n",
    "# Optionally, append sample info to cell barcodes to match your R format\n",
    "subset.obs_names = [f\"{cell}-{sample}\" for cell, sample in zip(subset.obs_names, subset.obs['Sample'])]\n",
    "\n",
    "# Create and save expression matrix (genes × cells)\n",
    "expr_matrix = pd.DataFrame(\n",
    "    subset.X.toarray() if hasattr(subset.X, \"toarray\") else subset.X,\n",
    "    index=subset.obs_names,\n",
    "    columns=subset.var_names\n",
    ").T  # Transpose: genes as rows, cells as columns\n",
    "\n",
    "expr_matrix.to_csv(\"expr_matrix.csv\")\n",
    "\n",
    "# Save cell metadata (row index = full cell names)\n",
    "cell_metadata = subset.obs.copy()\n",
    "cell_metadata.index.name = None\n",
    "cell_metadata.to_csv(\"cell_metadata.csv\")\n",
    "\n",
    "# ---- Save Gene Annotation ----\n",
    "# Now use the `subset` object to generate gene annotation\n",
    "gene_annotation = pd.DataFrame(index=subset.var_names)\n",
    "gene_annotation['gene_short_name'] = subset.var_names\n",
    "gene_annotation.index.name = 'gene_id'\n",
    "gene_annotation.to_csv(\"gene_annotation.csv\")\n",
    "\n",
    "print(\"✅ Saved: expr_matrix.csv, cell_metadata.csv, gene_annotation.csv\")\n"
   ]
  },
  {
   "cell_type": "code",
   "execution_count": 2,
   "id": "d94e0f24-3fba-4f85-8b8c-ebd0af2c2509",
   "metadata": {},
   "outputs": [
    {
     "name": "stdout",
     "output_type": "stream",
     "text": [
      "condition\n",
      "YOV-noGFP    1235\n",
      "YOV-GFP       712\n",
      "Name: count, dtype: int64\n"
     ]
    }
   ],
   "source": [
    "# Count number of dendritic cells per condition\n",
    "cell_counts = subset.obs['condition'].value_counts()\n",
    "print(cell_counts)\n"
   ]
  },
  {
   "cell_type": "code",
   "execution_count": null,
   "id": "fc05a8a0-0c71-489f-8876-48cb93c04373",
   "metadata": {},
   "outputs": [],
   "source": [
    "#RES AGED OV"
   ]
  },
  {
   "cell_type": "code",
   "execution_count": 1,
   "id": "f1c74976-0fe6-4bb4-bcdf-f444671751cc",
   "metadata": {},
   "outputs": [
    {
     "name": "stdout",
     "output_type": "stream",
     "text": [
      "✅ Saved: expr_matrix.csv, cell_metadata.csv, gene_annotation.csv\n"
     ]
    }
   ],
   "source": [
    "import os\n",
    "import scanpy as sc\n",
    "import pandas as pd\n",
    "\n",
    "# Set working directory\n",
    "os.chdir(\"P:/Tolulope/Manuscript/Yuan Analysis\")\n",
    "\n",
    "# Load AnnData\n",
    "adata = sc.read_h5ad(\"integratedssssss.h5ad\")\n",
    "\n",
    "# Subset to Dendritic cells and ASham-GFP vs ASham-noGFP\n",
    "subset = adata[\n",
    "    (adata.obs['cell type'] == 'Residence Macrophages/APCs I') &\n",
    "    (adata.obs['condition'].isin(['AOV-GFP', 'AOV-noGFP']))\n",
    "].copy()\n",
    "\n",
    "# Use raw counts if available\n",
    "if 'counts' in subset.layers:\n",
    "    subset.X = subset.layers['counts']\n",
    "\n",
    "# Optionally, append sample info to cell barcodes to match your R format\n",
    "subset.obs_names = [f\"{cell}-{sample}\" for cell, sample in zip(subset.obs_names, subset.obs['Sample'])]\n",
    "\n",
    "# Create and save expression matrix (genes × cells)\n",
    "expr_matrix = pd.DataFrame(\n",
    "    subset.X.toarray() if hasattr(subset.X, \"toarray\") else subset.X,\n",
    "    index=subset.obs_names,\n",
    "    columns=subset.var_names\n",
    ").T  # Transpose: genes as rows, cells as columns\n",
    "\n",
    "expr_matrix.to_csv(\"expr_matrix.csv\")\n",
    "\n",
    "# Save cell metadata (row index = full cell names)\n",
    "cell_metadata = subset.obs.copy()\n",
    "cell_metadata.index.name = None\n",
    "cell_metadata.to_csv(\"cell_metadata.csv\")\n",
    "\n",
    "# ---- Save Gene Annotation ----\n",
    "# Now use the `subset` object to generate gene annotation\n",
    "gene_annotation = pd.DataFrame(index=subset.var_names)\n",
    "gene_annotation['gene_short_name'] = subset.var_names\n",
    "gene_annotation.index.name = 'gene_id'\n",
    "gene_annotation.to_csv(\"gene_annotation.csv\")\n",
    "\n",
    "print(\"✅ Saved: expr_matrix.csv, cell_metadata.csv, gene_annotation.csv\")\n"
   ]
  },
  {
   "cell_type": "code",
   "execution_count": 2,
   "id": "2029cf80-54a9-42c7-bbf6-508ed2d26333",
   "metadata": {},
   "outputs": [
    {
     "name": "stdout",
     "output_type": "stream",
     "text": [
      "condition\n",
      "AOV-noGFP    1696\n",
      "AOV-GFP      1497\n",
      "Name: count, dtype: int64\n"
     ]
    }
   ],
   "source": [
    "# Count number of dendritic cells per condition\n",
    "cell_counts = subset.obs['condition'].value_counts()\n",
    "print(cell_counts)\n"
   ]
  },
  {
   "cell_type": "code",
   "execution_count": null,
   "id": "11ed0331-b735-4fe4-bb1f-e467db2158a7",
   "metadata": {},
   "outputs": [],
   "source": []
  },
  {
   "cell_type": "code",
   "execution_count": null,
   "id": "833fed8e-8d51-4ce1-af6f-550501325c02",
   "metadata": {},
   "outputs": [],
   "source": [
    "#Lipid-Laden Macrophages young"
   ]
  },
  {
   "cell_type": "code",
   "execution_count": 1,
   "id": "04652c2b-af45-4029-a664-e832966f1897",
   "metadata": {},
   "outputs": [
    {
     "name": "stdout",
     "output_type": "stream",
     "text": [
      "✅ Saved: expr_matrix.csv, cell_metadata.csv, gene_annotation.csv\n"
     ]
    }
   ],
   "source": [
    "import os\n",
    "import scanpy as sc\n",
    "import pandas as pd\n",
    "\n",
    "# Set working directory\n",
    "os.chdir(\"P:/Tolulope/Manuscript/Yuan Analysis\")\n",
    "\n",
    "# Load AnnData\n",
    "adata = sc.read_h5ad(\"integratedssssss.h5ad\")\n",
    "\n",
    "# Subset to Dendritic cells and ASham-GFP vs ASham-noGFP\n",
    "subset = adata[\n",
    "    (adata.obs['cell type'] == 'Lipid-Laden Macrophages') &\n",
    "    (adata.obs['condition'].isin(['YOV-GFP', 'YOV-noGFP']))\n",
    "].copy()\n",
    "\n",
    "# Use raw counts if available\n",
    "if 'counts' in subset.layers:\n",
    "    subset.X = subset.layers['counts']\n",
    "\n",
    "# Optionally, append sample info to cell barcodes to match your R format\n",
    "subset.obs_names = [f\"{cell}-{sample}\" for cell, sample in zip(subset.obs_names, subset.obs['Sample'])]\n",
    "\n",
    "# Create and save expression matrix (genes × cells)\n",
    "expr_matrix = pd.DataFrame(\n",
    "    subset.X.toarray() if hasattr(subset.X, \"toarray\") else subset.X,\n",
    "    index=subset.obs_names,\n",
    "    columns=subset.var_names\n",
    ").T  # Transpose: genes as rows, cells as columns\n",
    "\n",
    "expr_matrix.to_csv(\"expr_matrix.csv\")\n",
    "\n",
    "# Save cell metadata (row index = full cell names)\n",
    "cell_metadata = subset.obs.copy()\n",
    "cell_metadata.index.name = None\n",
    "cell_metadata.to_csv(\"cell_metadata.csv\")\n",
    "\n",
    "# ---- Save Gene Annotation ----\n",
    "# Now use the `subset` object to generate gene annotation\n",
    "gene_annotation = pd.DataFrame(index=subset.var_names)\n",
    "gene_annotation['gene_short_name'] = subset.var_names\n",
    "gene_annotation.index.name = 'gene_id'\n",
    "gene_annotation.to_csv(\"gene_annotation.csv\")\n",
    "\n",
    "print(\"✅ Saved: expr_matrix.csv, cell_metadata.csv, gene_annotation.csv\")\n"
   ]
  },
  {
   "cell_type": "code",
   "execution_count": 2,
   "id": "ab8b8c14-739c-4bae-a1db-a90448a016ce",
   "metadata": {},
   "outputs": [
    {
     "name": "stdout",
     "output_type": "stream",
     "text": [
      "condition\n",
      "YOV-GFP      387\n",
      "YOV-noGFP    121\n",
      "Name: count, dtype: int64\n"
     ]
    }
   ],
   "source": [
    "# Count number of dendritic cells per condition\n",
    "cell_counts = subset.obs['condition'].value_counts()\n",
    "print(cell_counts)\n"
   ]
  },
  {
   "cell_type": "code",
   "execution_count": 1,
   "id": "5cad609f-caed-40f6-9ff3-6d93ed9a3dd5",
   "metadata": {},
   "outputs": [
    {
     "name": "stdout",
     "output_type": "stream",
     "text": [
      "✅ Saved: expr_matrix.csv, cell_metadata.csv, gene_annotation.csv\n"
     ]
    }
   ],
   "source": [
    "import os\n",
    "import scanpy as sc\n",
    "import pandas as pd\n",
    "\n",
    "# Set working directory\n",
    "os.chdir(\"P:/Tolulope/Manuscript/Yuan Analysis\")\n",
    "\n",
    "# Load AnnData\n",
    "adata = sc.read_h5ad(\"integratedssssss.h5ad\")\n",
    "\n",
    "# Subset to Dendritic cells and ASham-GFP vs ASham-noGFP\n",
    "subset = adata[\n",
    "    (adata.obs['cell type'] == 'Lipid-Laden Macrophages') &\n",
    "    (adata.obs['condition'].isin(['AOV-GFP', 'AOV-noGFP']))\n",
    "].copy()\n",
    "\n",
    "# Use raw counts if available\n",
    "if 'counts' in subset.layers:\n",
    "    subset.X = subset.layers['counts']\n",
    "\n",
    "# Optionally, append sample info to cell barcodes to match your R format\n",
    "subset.obs_names = [f\"{cell}-{sample}\" for cell, sample in zip(subset.obs_names, subset.obs['Sample'])]\n",
    "\n",
    "# Create and save expression matrix (genes × cells)\n",
    "expr_matrix = pd.DataFrame(\n",
    "    subset.X.toarray() if hasattr(subset.X, \"toarray\") else subset.X,\n",
    "    index=subset.obs_names,\n",
    "    columns=subset.var_names\n",
    ").T  # Transpose: genes as rows, cells as columns\n",
    "\n",
    "expr_matrix.to_csv(\"expr_matrix.csv\")\n",
    "\n",
    "# Save cell metadata (row index = full cell names)\n",
    "cell_metadata = subset.obs.copy()\n",
    "cell_metadata.index.name = None\n",
    "cell_metadata.to_csv(\"cell_metadata.csv\")\n",
    "\n",
    "# ---- Save Gene Annotation ----\n",
    "# Now use the `subset` object to generate gene annotation\n",
    "gene_annotation = pd.DataFrame(index=subset.var_names)\n",
    "gene_annotation['gene_short_name'] = subset.var_names\n",
    "gene_annotation.index.name = 'gene_id'\n",
    "gene_annotation.to_csv(\"gene_annotation.csv\")\n",
    "\n",
    "print(\"✅ Saved: expr_matrix.csv, cell_metadata.csv, gene_annotation.csv\")\n"
   ]
  },
  {
   "cell_type": "code",
   "execution_count": 2,
   "id": "e335d12c-e998-4007-a2a2-d0b8f1b7432d",
   "metadata": {},
   "outputs": [
    {
     "name": "stdout",
     "output_type": "stream",
     "text": [
      "condition\n",
      "AOV-GFP      653\n",
      "AOV-noGFP     95\n",
      "Name: count, dtype: int64\n"
     ]
    }
   ],
   "source": [
    "# Count number of dendritic cells per condition\n",
    "cell_counts = subset.obs['condition'].value_counts()\n",
    "print(cell_counts)\n"
   ]
  },
  {
   "cell_type": "code",
   "execution_count": null,
   "id": "5dbbf5c3-8921-4312-9da8-ef849debca6d",
   "metadata": {},
   "outputs": [],
   "source": []
  },
  {
   "cell_type": "code",
   "execution_count": null,
   "id": "799c87e0-575c-40b1-b21c-2efa0710402a",
   "metadata": {},
   "outputs": [],
   "source": []
  },
  {
   "cell_type": "code",
   "execution_count": null,
   "id": "d5fd30fa-76f6-4a41-9f6b-e9a9ac80a535",
   "metadata": {},
   "outputs": [],
   "source": [
    "#aded mono"
   ]
  },
  {
   "cell_type": "code",
   "execution_count": 1,
   "id": "38361a6f-618e-413a-abc2-1243e16e008e",
   "metadata": {},
   "outputs": [
    {
     "name": "stdout",
     "output_type": "stream",
     "text": [
      "✅ Saved: expr_matrix.csv, cell_metadata.csv, gene_annotation.csv\n"
     ]
    }
   ],
   "source": [
    "import os\n",
    "import scanpy as sc\n",
    "import pandas as pd\n",
    "\n",
    "# Set working directory\n",
    "os.chdir(\"P:/Tolulope/Manuscript/Yuan Analysis\")\n",
    "\n",
    "# Load AnnData\n",
    "adata = sc.read_h5ad(\"integratedssssss.h5ad\")\n",
    "\n",
    "# Subset to Dendritic cells and ASham-GFP vs ASham-noGFP\n",
    "subset = adata[\n",
    "    (adata.obs['cell type'] == 'Monocyte/Macrophages') &\n",
    "    (adata.obs['condition'].isin(['AOV-GFP', 'AOV-noGFP']))\n",
    "].copy()\n",
    "\n",
    "# Use raw counts if available\n",
    "if 'counts' in subset.layers:\n",
    "    subset.X = subset.layers['counts']\n",
    "\n",
    "# Optionally, append sample info to cell barcodes to match your R format\n",
    "subset.obs_names = [f\"{cell}-{sample}\" for cell, sample in zip(subset.obs_names, subset.obs['Sample'])]\n",
    "\n",
    "# Create and save expression matrix (genes × cells)\n",
    "expr_matrix = pd.DataFrame(\n",
    "    subset.X.toarray() if hasattr(subset.X, \"toarray\") else subset.X,\n",
    "    index=subset.obs_names,\n",
    "    columns=subset.var_names\n",
    ").T  # Transpose: genes as rows, cells as columns\n",
    "\n",
    "expr_matrix.to_csv(\"expr_matrix.csv\")\n",
    "\n",
    "# Save cell metadata (row index = full cell names)\n",
    "cell_metadata = subset.obs.copy()\n",
    "cell_metadata.index.name = None\n",
    "cell_metadata.to_csv(\"cell_metadata.csv\")\n",
    "\n",
    "# ---- Save Gene Annotation ----\n",
    "# Now use the `subset` object to generate gene annotation\n",
    "gene_annotation = pd.DataFrame(index=subset.var_names)\n",
    "gene_annotation['gene_short_name'] = subset.var_names\n",
    "gene_annotation.index.name = 'gene_id'\n",
    "gene_annotation.to_csv(\"gene_annotation.csv\")\n",
    "\n",
    "print(\"✅ Saved: expr_matrix.csv, cell_metadata.csv, gene_annotation.csv\")\n"
   ]
  },
  {
   "cell_type": "code",
   "execution_count": null,
   "id": "f6cfe012-521c-41d7-ae8c-aa7eb6e07afd",
   "metadata": {},
   "outputs": [],
   "source": []
  },
  {
   "cell_type": "code",
   "execution_count": null,
   "id": "ed07fd0a-bc5a-4a6d-b3cf-2d6fec8a468f",
   "metadata": {},
   "outputs": [],
   "source": [
    "#young mono"
   ]
  },
  {
   "cell_type": "code",
   "execution_count": 1,
   "id": "8d4b2f31-4355-446d-805b-616358a171c2",
   "metadata": {},
   "outputs": [
    {
     "name": "stdout",
     "output_type": "stream",
     "text": [
      "✅ Saved: expr_matrix.csv, cell_metadata.csv, gene_annotation.csv\n"
     ]
    }
   ],
   "source": [
    "import os\n",
    "import scanpy as sc\n",
    "import pandas as pd\n",
    "\n",
    "# Set working directory\n",
    "os.chdir(\"P:/Tolulope/Manuscript/Yuan Analysis\")\n",
    "\n",
    "# Load AnnData\n",
    "adata = sc.read_h5ad(\"integratedssssss.h5ad\")\n",
    "\n",
    "# Subset to Dendritic cells and ASham-GFP vs ASham-noGFP\n",
    "subset = adata[\n",
    "    (adata.obs['cell type'] == 'Monocyte/Macrophages') &\n",
    "    (adata.obs['condition'].isin(['YOV-GFP', 'YOV-noGFP']))\n",
    "].copy()\n",
    "\n",
    "# Use raw counts if available\n",
    "if 'counts' in subset.layers:\n",
    "    subset.X = subset.layers['counts']\n",
    "\n",
    "# Optionally, append sample info to cell barcodes to match your R format\n",
    "subset.obs_names = [f\"{cell}-{sample}\" for cell, sample in zip(subset.obs_names, subset.obs['Sample'])]\n",
    "\n",
    "# Create and save expression matrix (genes × cells)\n",
    "expr_matrix = pd.DataFrame(\n",
    "    subset.X.toarray() if hasattr(subset.X, \"toarray\") else subset.X,\n",
    "    index=subset.obs_names,\n",
    "    columns=subset.var_names\n",
    ").T  # Transpose: genes as rows, cells as columns\n",
    "\n",
    "expr_matrix.to_csv(\"expr_matrix.csv\")\n",
    "\n",
    "# Save cell metadata (row index = full cell names)\n",
    "cell_metadata = subset.obs.copy()\n",
    "cell_metadata.index.name = None\n",
    "cell_metadata.to_csv(\"cell_metadata.csv\")\n",
    "\n",
    "# ---- Save Gene Annotation ----\n",
    "# Now use the `subset` object to generate gene annotation\n",
    "gene_annotation = pd.DataFrame(index=subset.var_names)\n",
    "gene_annotation['gene_short_name'] = subset.var_names\n",
    "gene_annotation.index.name = 'gene_id'\n",
    "gene_annotation.to_csv(\"gene_annotation.csv\")\n",
    "\n",
    "print(\"✅ Saved: expr_matrix.csv, cell_metadata.csv, gene_annotation.csv\")\n"
   ]
  },
  {
   "cell_type": "code",
   "execution_count": null,
   "id": "fc1327c2-c713-46ba-bcdc-c9c73e1bd902",
   "metadata": {},
   "outputs": [],
   "source": []
  },
  {
   "cell_type": "code",
   "execution_count": null,
   "id": "823b7dfa-afe4-45e9-84ee-4d0e3e62817d",
   "metadata": {},
   "outputs": [],
   "source": []
  }
 ],
 "metadata": {
  "kernelspec": {
   "display_name": "Python 3 (ipykernel)",
   "language": "python",
   "name": "python3"
  },
  "language_info": {
   "codemirror_mode": {
    "name": "ipython",
    "version": 3
   },
   "file_extension": ".py",
   "mimetype": "text/x-python",
   "name": "python",
   "nbconvert_exporter": "python",
   "pygments_lexer": "ipython3",
   "version": "3.9.21"
  }
 },
 "nbformat": 4,
 "nbformat_minor": 5
}
