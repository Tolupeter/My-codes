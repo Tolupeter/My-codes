{
 "cells": [
  {
   "cell_type": "code",
   "execution_count": null,
   "id": "505f95eb-1431-4d29-831d-9948b005677f",
   "metadata": {},
   "outputs": [],
   "source": [
    "import numpy as np\n",
    "import pandas as pd\n",
    "import scanpy as sc\n",
    "import matplotlib.pyplot as pl\n",
    "import seaborn as sns\n",
    "import bbknn\n",
    "import scvelo as scv\n",
    "import anndata\n",
    "import leidenalg\n",
    "import loompy\n",
    "from scipy import io\n",
    "from scipy.sparse import coo_matrix, csr_matrix\n",
    "from matplotlib.pyplot import rc_context\n",
    "from matplotlib import cm\n",
    "from matplotlib.colors import ListedColormap, LinearSegmentedColormap\n",
    "import os\n",
    "import random"
   ]
  },
  {
   "cell_type": "code",
   "execution_count": null,
   "id": "793b9b3f-4e48-4f0e-af48-cfcc94444271",
   "metadata": {},
   "outputs": [],
   "source": [
    "# Set working directory\n",
    "os.chdir(\"Y:/Tolulope/Cellranger Results/ALL\")\n",
    "adata = sc.read_h5ad('combined2.h5ad')\n",
    "adata"
   ]
  },
  {
   "cell_type": "code",
   "execution_count": null,
   "id": "86b9d88d-7ce8-4d2b-869e-aba57b84cbff",
   "metadata": {},
   "outputs": [],
   "source": [
    "adata.obs.groupby('Sample').count()"
   ]
  },
  {
   "cell_type": "code",
   "execution_count": null,
   "id": "61d25b66-cbfe-4ad7-b574-322e09aab4d2",
   "metadata": {},
   "outputs": [],
   "source": [
    "sc.pp.filter_genes(adata, min_cells = 10)\n",
    "adata.layers['counts'] = adata.X.copy()"
   ]
  },
  {
   "cell_type": "code",
   "execution_count": null,
   "id": "37efe182-ab38-4541-acb0-4a2a31d46775",
   "metadata": {},
   "outputs": [],
   "source": [
    "sc.pp.normalize_total(adata, target_sum = 1e4)\n",
    "sc.pp.log1p(adata)\n",
    "adata.raw = adata\n",
    "adata.obs.head()"
   ]
  },
  {
   "cell_type": "code",
   "execution_count": null,
   "id": "96d0e5cd-78f6-4c91-971a-a63513dd138d",
   "metadata": {},
   "outputs": [],
   "source": [
    "sc.pp.highly_variable_genes(adata, min_mean=0.0125, max_mean=3, min_disp=0.5, n_bins=20, batch_key='Sample', n_top_genes=2000)\n",
    "sc.pl.highly_variable_genes(adata)#, save=f\"{projID}_high_variable_{n3}.png\")"
   ]
  },
  {
   "cell_type": "code",
   "execution_count": null,
   "id": "f8c53c9f-b711-4c6c-8047-900259eef275",
   "metadata": {},
   "outputs": [],
   "source": [
    "sc.pp.scale(adata, max_value=10) \n",
    "sc.tl.pca(adata, svd_solver='arpack')\n",
    "# Plot PCA variance ratio\n",
    "sc.pl.pca_variance_ratio(adata, log=True, n_pcs=50)"
   ]
  },
  {
   "cell_type": "code",
   "execution_count": null,
   "id": "cdd4bf8b-9cf0-479e-8f50-7d38a7051850",
   "metadata": {},
   "outputs": [],
   "source": [
    "sc.pp.neighbors(adata, n_neighbors=30, n_pcs=50)\n",
    "#BBKNN\n",
    "bbknn.bbknn(adata, batch_key=\"Sample\")"
   ]
  },
  {
   "cell_type": "code",
   "execution_count": null,
   "id": "85739804-5345-41f1-80d3-70c6e611d44f",
   "metadata": {},
   "outputs": [],
   "source": [
    "sc.tl.umap(adata)\n",
    "sc.tl.leiden(adata, resolution = 0.7)"
   ]
  },
  {
   "cell_type": "code",
   "execution_count": null,
   "id": "8b10c4c8-0d9b-4ff6-b03f-8bb9156d3c74",
   "metadata": {},
   "outputs": [],
   "source": [
    "#Visualize the data\n",
    "# Main UMAP\n"
   ]
  },
  {
   "cell_type": "code",
   "execution_count": null,
   "id": "abcdbbeb-9dbe-4d27-886f-0f9c601b895b",
   "metadata": {},
   "outputs": [],
   "source": [
    "\n",
    "# Customize UMAP plot\n",
    "sc.set_figure_params(figsize=(10, 10))\n",
    "img_tag = \"_color\"  # Specify your image tag here\n",
    "sc.pl.umap(adata, color=['Sample', 'leiden'], legend_loc='on data', legend_fontsize=12, legend_fontoutline=2, frameon=False, size=35, title='Clustering of Cells', save=f'umap_plot after integration sample and cell type{img_tag}.png')\n",
    "pl.show()"
   ]
  },
  {
   "cell_type": "code",
   "execution_count": null,
   "id": "85b85a3a-7c40-49ef-a4a8-94f2a3736662",
   "metadata": {},
   "outputs": [],
   "source": [
    "# Customize UMAP plot\n",
    "sc.set_figure_params(figsize=(10, 10))\n",
    "img_tag = \"_color\"  # Specify your image tag here\n",
    "sc.pl.umap(adata, color=['leiden'],  legend_fontsize=12, legend_fontoutline=2, frameon=False, size=35, title='Clustering of Cells', save=f'umap_plot{img_tag}.png')\n",
    "pl.show()"
   ]
  },
  {
   "cell_type": "code",
   "execution_count": null,
   "id": "48281923-d648-4917-9426-17b1d50e1d91",
   "metadata": {},
   "outputs": [],
   "source": [
    "# Customize UMAP plot\n",
    "sc.set_figure_params(figsize=(10, 10))\n",
    "img_tag = \"_color\"  # Specify your image tag here\n",
    "sc.pl.umap(adata, color=['Sample'],  legend_fontsize=12, legend_fontoutline=2, frameon=True, size=35, title='Clustering of Cells', save=f'umap_plot after intesample{img_tag}.png')\n",
    "pl.show()"
   ]
  },
  {
   "cell_type": "code",
   "execution_count": null,
   "id": "35d1655f-10cd-4158-b68c-fab9ce61cc8f",
   "metadata": {},
   "outputs": [],
   "source": []
  },
  {
   "cell_type": "code",
   "execution_count": null,
   "id": "7114465c-9927-4f51-aa9e-e25c9214a064",
   "metadata": {},
   "outputs": [],
   "source": [
    "def filter_anndata_by_gene(adata, gene, lim=1) -> \"AnnData object\":\n",
    "    \"\"\"filters anndata objects by gene\n",
    "    \n",
    "    Args: \n",
    "        adata: 'anndata object', that we are filtering\n",
    "        gene: 'str', the gene we wish to filter by\n",
    "    \"\"\"\n",
    "    ind = np.where(adata[:, [gene]].X.flatten() > lim)\n",
    "    \n",
    "    return adata[ind[0], :]"
   ]
  },
  {
   "cell_type": "code",
   "execution_count": null,
   "id": "f0933002-551a-410e-99c2-e3f5a6af8cad",
   "metadata": {},
   "outputs": [],
   "source": [
    "genes = ['Esam', 'Gpnmb',  'Pax7'] \n",
    "limits = {\n",
    "    \"Esam\": 4,\n",
    "    \"Gpnmb\": 4,\n",
    "    \"Pax7\": 5,\n",
    "    \n",
    "}"
   ]
  },
  {
   "cell_type": "code",
   "execution_count": null,
   "id": "1fabcd08-ba83-445e-b158-d73de4f962dc",
   "metadata": {},
   "outputs": [],
   "source": [
    "import matplotlib.pyplot as plt\n",
    "from matplotlib import rc_context\n",
    "\n",
    "with rc_context({'figure.figsize': (15, 4)}):\n",
    "    print('[Starting umapping]')\n",
    "    fig, axs = plt.subplots(ncols=3, nrows=1)\n",
    "    axs = axs.flatten()\n",
    "    \n",
    "    for i in range(len(axs)):\n",
    "        tmp = filter_anndata_by_gene(adata, genes[i], lim=limits[genes[i]])\n",
    "        \n",
    "        axs[i].scatter(x=adata.obsm['X_umap'].T[0], y=adata.obsm['X_umap'].T[1], s=4, c=\"lightgrey\")\n",
    "        axs[i].scatter(x=tmp.obsm['X_umap'].T[0], y=tmp.obsm['X_umap'].T[1], s=1, c=\"red\")\n",
    "        axs[i].set_xlabel(genes[i])\n",
    "        \n",
    "        axs[i].set_xticks([])  # Hide x-axis ticks\n",
    "        axs[i].set_yticks([])  # Hide y-axis ticks\n",
    "\n",
    "        axs[i].set_aspect('equal')  # Set aspect ratio to equal\n",
    "    plt.savefig(os.path.join(sc.settings.figdir, \"marker_plot.png\"))\n",
    "    pl.show()\n",
    "    # plt.close()\n"
   ]
  },
  {
   "cell_type": "code",
   "execution_count": null,
   "id": "1a06be97-cffc-4313-8739-9f12a0e63cb7",
   "metadata": {},
   "outputs": [],
   "source": [
    "#subcluster cluster 11"
   ]
  },
  {
   "cell_type": "code",
   "execution_count": null,
   "id": "8922bdf0-a12a-44c2-b576-655e977a6862",
   "metadata": {},
   "outputs": [],
   "source": [
    "import scanpy as sc\n",
    "\n",
    "# Rename original Leiden cluster labels\n",
    "leiden_labels = [\"0\", \"1\", \"2\", \"3\", \"4\",\n",
    "                 \"5\", \"6\", \"7\", \"8\", \"9\",\n",
    "                 \"10\", \"11\", \"12\", \"13\", \"14\",\n",
    "                 \"15\", \"16\", \"17\", \"18\"]\n",
    "\n",
    "adata.obs['leiden'] = adata.obs['leiden'].astype(\"category\")  # Ensure categorical type\n",
    "adata.obs['leiden'] = adata.obs['leiden'].cat.rename_categories(leiden_labels)  # Correct renaming\n",
    "\n",
    "# Create a copy of the original Leiden cluster assignments\n",
    "adata.obs['leiden_R'] = adata.obs['leiden'].astype(str)  # Preserve all clusters as strings\n",
    "\n",
    "# Subcluster within Leiden cluster '11'\n",
    "sc.tl.leiden(adata, restrict_to=('leiden', ['11']), resolution=0.05, key_added='sub_leiden')\n",
    "\n",
    "# Convert the subcluster labels to string type\n",
    "adata.obs['sub_leiden'] = adata.obs['sub_leiden'].astype(str)\n",
    "\n",
    "# Replace new subcluster labels ('0' → '11,0', '1' → '11,1')\n",
    "adata.obs['sub_leiden'] = adata.obs['sub_leiden'].replace({'0': '11,0', '1': '11,1'})\n",
    "\n",
    "# Assign subclusters back to `leiden_R` only for the original cluster 11\n",
    "subset_mask = adata.obs['leiden'] == '11'\n",
    "adata.obs.loc[subset_mask, 'leiden_R'] = adata.obs.loc[subset_mask, 'sub_leiden']\n",
    "\n",
    "# Remove 'sub_leiden' to avoid redundancy\n",
    "adata.obs.drop(columns=['sub_leiden'], inplace=True)\n",
    "\n",
    "# Plot updated UMAP\n",
    "sc.pl.umap(adata, color='leiden_R', add_outline=True, legend_loc='on data',\n",
    "           legend_fontsize=12, legend_fontoutline=2, frameon=False, size=35,\n",
    "           title='Leiden Clustering with Subclustered 11')\n",
    "\n",
    "# Find marker genes for the refined clustering\n",
    "sc.tl.rank_genes_groups(adata, 'leiden_R', method='wilcoxon')\n",
    "# Plot the top 20 ranked genes\n",
    "sc.pl.rank_genes_groups(adata, n_genes=20, sharey=False, save=f'rankgenese{img_tag}.png')\n",
    "result=adata.uns['rank_genes_groups']\n",
    "groups=result ['names'].dtype.names\n",
    "df=pd.DataFrame(\n",
    "    {group + '_' + key[:15]: result [key] [group]\n",
    "     for group in groups for key in ['names', 'scores', 'pvals', 'pvals_adj', 'logfoldchanges']})\n",
    "markers = sc.get.rank_genes_groups_df(adata, None)\n",
    "markers = markers[(markers.pvals_adj < 0.05) & (markers.logfoldchanges > .5)]\n",
    "markers\n",
    "# Create a DataFrame from the 'markers' variable\n",
    "markers_df = pd.DataFrame(markers)\n",
    "\n",
    "# Define the full path including the file name and extension\n",
    "csv_file_path = 'P:/Tolulope/Cellranger Results/Fry-Murach 4d OV aged/markers_outputnew.csv'\n",
    "\n",
    "# Save the DataFrame to a CSV file\n",
    "markers_df.to_csv(csv_file_path, index=False)\n",
    "\n",
    "print(f\"Output saved to {csv_file_path}\")"
   ]
  },
  {
   "cell_type": "code",
   "execution_count": null,
   "id": "d37badec-8c45-42e4-9896-090e6c2face2",
   "metadata": {},
   "outputs": [],
   "source": [
    "markers[markers.names =='Pax7']  "
   ]
  },
  {
   "cell_type": "code",
   "execution_count": null,
   "id": "916b82f2-02b3-4221-b124-ea393aa40548",
   "metadata": {},
   "outputs": [],
   "source": [
    "cell_type = {\n",
    "    \"0\": \"Mature skeletal muscle\",\n",
    "    \"1\": \"Neutrophils\",\n",
    "    \"2\": \"Residence Macrophages/APC I\",\n",
    "    \"3\": \"Monocytes/Macrophages\",\n",
    "    \"4\": \"Fibroadipogenic cells\",\n",
    "    \"5\": \"Anti-inflammatory Macrophages II\",\n",
    "    \"6\": \"Myo-Fibroblast\",\n",
    "    \"7\": \"Lipid-Laden Macrophages\",\n",
    "    \"8\": \"Residence Macrophages/APC II\",\n",
    "    \"9\": \"Classical dendritic cell\",\n",
    "    \"10\": \"Endothelial cells\",\n",
    "    \"11,0\": \"Proliferation\",  # Changed from \"11_0\"\n",
    "    \"11,1\": \"MuSCs\",         # Changed from \"11_1\"\n",
    "    \"12\": \"Interferons\",\n",
    "    \"13\": \"Anti-inflammatory Macrophages I\",\n",
    "    \"14\": \"T-lymphocytes and NKCs\",\n",
    "    \"15\": \"Tenocyte\",\n",
    "    \"16\": \"Fibroblast I\",\n",
    "    \"17\": \"Fibroblast II\",\n",
    "    \"18\": \"Residence Macrophages/APC III\",\n",
    "}\n",
    "\n",
    "# Now map the 'leiden_R' column to 'cell type'\n",
    "adata.obs['cell type'] = adata.obs['leiden_R'].map(cell_type)\n"
   ]
  },
  {
   "cell_type": "code",
   "execution_count": null,
   "id": "55a3bf7e-50d8-4035-9b26-b21e1bb81aeb",
   "metadata": {},
   "outputs": [],
   "source": [
    "#UMAP plot\n",
    "sc.set_figure_params(figsize=(10, 10))\n",
    "img_tag = \"_color\"  # Specify your image tag here\n",
    "sc.pl.umap(adata, color=['cell type'],  legend_fontsize=12, legend_fontoutline=2, frameon=True, size=80, title='Clustering of Cells', save=f'umap_plot{img_tag}.png')\n",
    "pl.show()"
   ]
  },
  {
   "cell_type": "code",
   "execution_count": null,
   "id": "72b07498-3e89-449b-ae00-b8925511b94f",
   "metadata": {},
   "outputs": [],
   "source": [
    "\n",
    "\n",
    "# Define the map_condition function\n",
    "def map_condition(x):\n",
    "    if 'T' in x:\n",
    "        return 'tam'  # lowercase\n",
    "    else:\n",
    "        return 'veh'  # lowercase\n",
    "\n",
    "adata.obs['condition'] = adata.obs.Sample.map(map_condition)\n",
    "#adata.obs\n",
    "\n",
    "num_tot_cells = adata.obs.groupby(['Sample']).count()\n",
    "num_tot_cells = dict(zip(num_tot_cells.index, num_tot_cells.doublet))\n",
    "num_tot_cells\n",
    "\n",
    "cell_type_counts = adata.obs.groupby(['Sample', 'condition', 'cell type']).count()\n",
    "cell_type_counts = cell_type_counts[cell_type_counts.sum(axis = 1) > 0].reset_index()\n",
    "cell_type_counts = cell_type_counts[cell_type_counts.columns[0:4]]\n",
    "cell_type_counts\n",
    "\n",
    "cell_type_counts['total_cells'] = cell_type_counts.Sample.map(num_tot_cells).astype(int)\n",
    "\n",
    "cell_type_counts['frequency'] = cell_type_counts.doublet / cell_type_counts.total_cells\n",
    "\n",
    "cell_type_counts\n",
    "\n",
    "import matplotlib.pyplot as plt\n",
    "\n",
    "plt.figure(figsize = (14,9))\n",
    "\n",
    "ax = sns.boxplot(data = cell_type_counts, x = 'cell type', y = 'frequency', hue = 'condition')\n",
    "\n",
    "plt.xticks(rotation = 35, rotation_mode = 'anchor', ha = 'right')\n",
    "plt.savefig('bar_plot.png')\n",
    "plt.show()\n"
   ]
  },
  {
   "cell_type": "code",
   "execution_count": null,
   "id": "0cf58ec4-344e-4abb-8949-e89730149663",
   "metadata": {},
   "outputs": [],
   "source": [
    "# Calculate percentages for each cell type across groups\n",
    "percentage_data = stacked_data.div(stacked_data.sum(axis=1), axis=0) * 100\n",
    "# Export percentages to a CSV file\n",
    "percentage_data.to_csv('cell_type_percentages new99.csv', index=True)\n"
   ]
  },
  {
   "cell_type": "code",
   "execution_count": null,
   "id": "5aa6dbca-304c-4592-b56b-db916011e0e5",
   "metadata": {},
   "outputs": [],
   "source": [
    "adata.write_h5ad('integrated satellite cell depleted.h5ad')"
   ]
  },
  {
   "cell_type": "code",
   "execution_count": null,
   "id": "75dff2b9-5584-4ea0-9cd9-cc7e76fd9281",
   "metadata": {},
   "outputs": [],
   "source": []
  },
  {
   "cell_type": "code",
   "execution_count": null,
   "id": "c1dbf613-94de-45f5-8dd9-c13f6baac466",
   "metadata": {},
   "outputs": [],
   "source": []
  },
  {
   "cell_type": "code",
   "execution_count": null,
   "id": "8cb1366d-0dd6-4047-abce-9d5a428abde2",
   "metadata": {},
   "outputs": [],
   "source": [
    "# The new color map\n"
   ]
  },
  {
   "cell_type": "code",
   "execution_count": null,
   "id": "95305239-2f8a-48a4-981e-7769c0d2f741",
   "metadata": {},
   "outputs": [],
   "source": [
    "import matplotlib.pyplot as plt\n",
    "import numpy as np\n",
    "import scanpy as sc\n",
    "import seaborn as sns\n",
    "from matplotlib import rc_context\n",
    "import matplotlib as mpl\n",
    "import pandas as pd\n",
    "import os\n",
    "import scanpy as sc\n",
    "from scipy.sparse import csr_matrix\n",
    "\n",
    "# Set working directory and read the AnnData object\n",
    "os.chdir(\"P:/Tolulope/Cellranger Results/Fry-Murach 4d OV aged\")\n",
    "adata = sc.read_h5ad('integrated satellite cell depleted.h5ad')\n",
    "# Set the output directory for saving plots\n",
    "sc.settings.figdir = \"FIGURE_2\"\n"
   ]
  },
  {
   "cell_type": "code",
   "execution_count": null,
   "id": "0aefac64-621f-4c93-9937-84c467157170",
   "metadata": {},
   "outputs": [],
   "source": [
    "# Set figure parameters\n",
    "celltypePalette = {\n",
    "    \"Mature skeletal muscle\": '#ff7f0e',\n",
    "    \"Neutrophils\": '#c5b0d5',\n",
    "    \"Residence Macrophages/APC I\": '#17becf',\n",
    "    \"Monocytes/Macrophages\": '#8c564b',\n",
    "    \"Fibroadipogenic cells\": '#9467bd',\n",
    "    \"Anti-inflammatory Macrophages II\": '#e377c2', \n",
    "    \"Myo-Fibroblast\": '#9edae5',\n",
    "    \"Lipid-Laden Macrophages\": '#ffbb78',\n",
    "    \"Residence Macrophages/APC II\": '#1f77b4',\n",
    "    \"Classical dendritic cell\": '#dbdb8d',\n",
    "    \"Endothelial cells\": '#d62728',\n",
    "    \"Proliferation\": '#ff9896',\n",
    "    \"MuSCs\": '#2ca02c',\n",
    "    \"Interferons\": '#98df8a',\n",
    "    \"Anti-inflammatory Macrophages I\": '#ffcc00',  # Added color code\n",
    "    \"T-lymphocytes and NKCs\": '#c7c7c7',\n",
    "    \"Tenocyte\": '#f7b6d2',\n",
    "    \"Fibroblast I\": '#bcbd22',\n",
    "    \"Fibroblast II\": '#aec7e8', \n",
    "    \"Residence Macrophages/APC III\": '#c49c94'\n",
    "}\n",
    "\n",
    "# Set figure parameters\n",
    "sc.set_figure_params(figsize=(10, 10))\n",
    "\n",
    "# Plot UMAP with specified color palette for cell types\n",
    "sc.pl.umap(adata, color='cell type', palette=celltypePalette, legend_fontsize=12, legend_fontoutline=2, frameon=True, size=40, title='Clustering of Cells', save='umap_plot_color.png')\n",
    "plt.show()\n"
   ]
  },
  {
   "cell_type": "code",
   "execution_count": null,
   "id": "a8ab7fad-a5a1-4951-9758-588caddd3445",
   "metadata": {},
   "outputs": [],
   "source": []
  },
  {
   "cell_type": "code",
   "execution_count": null,
   "id": "6928d2b0-427a-415c-a48d-24caf8ac588d",
   "metadata": {},
   "outputs": [],
   "source": [
    "# Violin "
   ]
  },
  {
   "cell_type": "code",
   "execution_count": null,
   "id": "cc813d97-670a-4019-8c2d-660ddb7cbe5d",
   "metadata": {},
   "outputs": [],
   "source": [
    "\n",
    "# Specify the gene names for plotting\n",
    "genes_for_violin = ['Pax7', 'Megf10', 'Chrdl2', 'Cthrc1', 'Col1a1', 'Dcn', 'Ebf1', 'Pdgfra', 'Cd74', 'H2-DMb1', \n",
    "                    'Clec9a', 'H2-Ab1', 'Cd163', 'Lyve1', 'Tnf', 'Ccl4','Cd68', 'Cd14', 'Cxcl3', 'Fn1', 'Cd3e', \n",
    "                    'Nkg7', 'S100a8', 'S100a9', 'Gpnmb', 'Fabp5']\n",
    "\n",
    "# Calculate the number of rows needed based on the number of genes\n",
    "num_rows = len(genes_for_violin)\n",
    "\n",
    "# Create subplots\n",
    "fig, axs = plt.subplots(nrows=num_rows, ncols=1, figsize=(10, 30))\n",
    "\n",
    "# Ensure axs is iterable when num_rows = 1\n",
    "if num_rows == 1:\n",
    "    axs = [axs]\n",
    "\n",
    "# Loop through genes and plot each one\n",
    "for i, gene in enumerate(genes_for_violin):\n",
    "    sc.pl.violin(adata, gene, groupby='cell type',  split=False, stripplot=False, rotation=90, \n",
    "                 use_raw=False, scale=\"width\", ax=axs[i], show=False, fill=True, inner=\"box\")\n",
    "    \n",
    "    # Hide x-axis labels for all but the last plot\n",
    "    if i != num_rows - 1:\n",
    "        axs[i].set_xticklabels([])\n",
    "        axs[i].set_xlabel('')\n",
    "    else:\n",
    "        axs[i].set_xlabel('Cell Type', fontsize=12)\n",
    "        axs[i].tick_params(axis='x', labelrotation=90)  # Rotate x-axis labels\n",
    "    \n",
    "    # Access and customize the inner box color\n",
    "    for patch in axs[i].collections:\n",
    "        if isinstance(patch, plt.Polygon):  # Check for the inner box (which is a Polygon)\n",
    "            patch.set_edgecolor('black')  # Set the edge color to black\n",
    "            patch.set_facecolor('black')  # Set the fill color to black\n",
    "\n",
    "# Adjust spacing\n",
    "plt.tight_layout()\n",
    "\n",
    "# Save the figure\n",
    "output_path = os.path.join(sc.settings.figdir, \"SCDEPLETEDviolinmarker_plot.png\")\n",
    "plt.savefig(output_path, dpi=300)\n",
    "\n",
    "# Display all plots\n",
    "plt.show()\n"
   ]
  },
  {
   "cell_type": "code",
   "execution_count": null,
   "id": "5817f6ea-dd55-45ea-a561-41529880eae7",
   "metadata": {},
   "outputs": [],
   "source": []
  },
  {
   "cell_type": "code",
   "execution_count": null,
   "id": "193d587a-cd89-4783-85bb-47b67e8344ab",
   "metadata": {},
   "outputs": [],
   "source": [
    "# Merged cell type map"
   ]
  },
  {
   "cell_type": "code",
   "execution_count": null,
   "id": "38973e08-f94d-48c6-9a58-6c7287795bfc",
   "metadata": {},
   "outputs": [],
   "source": [
    "import matplotlib.pyplot as plt\n",
    "import numpy as np\n",
    "import scanpy as sc\n",
    "import seaborn as sns\n",
    "from matplotlib import rc_context\n",
    "import matplotlib as mpl\n",
    "import pandas as pd\n",
    "import os\n",
    "import scanpy as sc\n",
    "from scipy.sparse import csr_matrix\n",
    "\n",
    "# Set working directory and read the AnnData object\n",
    "os.chdir(\"P:/Tolulope/Cellranger Results/Fry-Murach 4d OV aged\")\n",
    "adata = sc.read_h5ad('integrated satellite cell depleted.h5ad')\n",
    "# Set the output directory for saving plots\n",
    "sc.settings.figdir = \"FIGURE_2\"\n"
   ]
  },
  {
   "cell_type": "code",
   "execution_count": null,
   "id": "bb84ce12-0a74-4986-9f69-e43f859fc514",
   "metadata": {},
   "outputs": [],
   "source": [
    "# Merged cell type mapping\n",
    "merged_cell_type = {\n",
    "    \"0\": \"Mature skeletal muscle\",\n",
    "    \"1\": \"Immune cells\",\n",
    "    \"2\": \"Immune cells\",\n",
    "    \"3\": \"Immune cells\",\n",
    "    \"4\": \"FAPs\",\n",
    "    \"5\": \"Immune cells\",\n",
    "    \"6\": \"FAPs\",\n",
    "    \"7\": \"Immune cells\",\n",
    "    \"8\": \"Immune cells\",\n",
    "    \"9\": \"Immune cells\",\n",
    "    \"10\": \"Endothelial cells\",\n",
    "    \"11,0\": \"Proliferation\",\n",
    "    \"11,1\": \"MuSCs\",\n",
    "    \"12\": \"Interferons\",\n",
    "    \"13\": \"Immune cells\",\n",
    "    \"14\": \"Immune cells\",\n",
    "    \"15\": \"Tenocyte\",\n",
    "    \"16\": \"FAPs\",\n",
    "    \"17\": \"FAPs\",\n",
    "    \"18\": \"Immune cells\",\n",
    "    \n",
    "}\n",
    "\n",
    "# Now map the 'leiden_R' column to 'cell type'\n",
    "adata.obs['cell type'] = adata.obs['leiden_R'].map(merged_cell_type)\n"
   ]
  },
  {
   "cell_type": "code",
   "execution_count": null,
   "id": "dd464519-3eda-4d9b-8d19-daa637275acf",
   "metadata": {},
   "outputs": [],
   "source": [
    "#UMAP plot\n",
    "sc.set_figure_params(figsize=(10, 10))\n",
    "img_tag = \"_color\"  # Specify your image tag here\n",
    "sc.pl.umap(adata, color=['cell type'],  legend_fontsize=12, legend_fontoutline=2, frameon=True, size=80, title='Clustering of Cells', save=f'umap_plot{img_tag}.png')\n",
    "plt.show()\n"
   ]
  },
  {
   "cell_type": "code",
   "execution_count": null,
   "id": "3a976c6c-c0fe-4ecd-9795-c27ab4d35036",
   "metadata": {},
   "outputs": [],
   "source": [
    "# The new color for marged map\n"
   ]
  },
  {
   "cell_type": "code",
   "execution_count": null,
   "id": "dbca24d1-46a6-471f-a3fc-3fbed07d34d0",
   "metadata": {},
   "outputs": [],
   "source": [
    "# Set figure parameters\n",
    "celltypePalette = {\n",
    "    \"FAPs\": '#9467bd',\n",
    "    \"Immune cells\": '#17becf',\n",
    "    \"Endothelial cells\": '#d62728',\n",
    "    \"Mature skeletal muscle\": '#ff7f0e', \n",
    "    \"MuSCs\": '#2ca02c', \n",
    "    \"Interferons\": '#bcbd22',\n",
    "    \"Proliferation\": '#ff9896',\n",
    "    \"Tenocyte\": '#f7b6d2',\n",
    "    \n",
    "}\n",
    "\n",
    "# Set figure parameters\n",
    "sc.set_figure_params(figsize=(10, 10))\n",
    "\n",
    "# Plot UMAP with specified color palette for cell types\n",
    "sc.pl.umap(adata, color='cell type', palette=celltypePalette, legend_fontsize=12, legend_fontoutline=2, frameon=True, size=40, title='Clustering of Cells', save='umap_plot_color.png')\n",
    "plt.show()\n"
   ]
  },
  {
   "cell_type": "code",
   "execution_count": null,
   "id": "62e37b44-8ad6-42cb-8dfe-d5d6836e3f33",
   "metadata": {},
   "outputs": [],
   "source": []
  },
  {
   "cell_type": "code",
   "execution_count": null,
   "id": "8e22ea17-9a66-4991-bf86-c920ee51e132",
   "metadata": {},
   "outputs": [],
   "source": []
  }
 ],
 "metadata": {
  "kernelspec": {
   "display_name": "Python 3 (ipykernel)",
   "language": "python",
   "name": "python3"
  },
  "language_info": {
   "codemirror_mode": {
    "name": "ipython",
    "version": 3
   },
   "file_extension": ".py",
   "mimetype": "text/x-python",
   "name": "python",
   "nbconvert_exporter": "python",
   "pygments_lexer": "ipython3",
   "version": "3.9.21"
  }
 },
 "nbformat": 4,
 "nbformat_minor": 5
}
