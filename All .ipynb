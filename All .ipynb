{
 "cells": [
  {
   "cell_type": "code",
   "execution_count": 1,
   "id": "1129c543-c7d3-4ac3-a35d-8cb1eeeaef16",
   "metadata": {},
   "outputs": [],
   "source": [
    "import os\n",
    "import numpy as np\n",
    "import scanpy as sc\n",
    "import pandas as pd\n",
    "import seaborn as sns\n",
    "\n",
    "# Set working directory\n",
    "os.chdir(\"P:/Tolulope/Manuscript/Yuan Analysis\")"
   ]
  },
  {
   "cell_type": "code",
   "execution_count": 2,
   "id": "22d46829-9fe9-4739-87db-63f030a09536",
   "metadata": {},
   "outputs": [],
   "source": [
    "# Load each sample's data one by one\n",
    "adata1 = sc.read_h5ad(\"YSham_GFP_adata.h5ad\")\n",
    "adata2 = sc.read_h5ad(\"YSham_noGFP_adata.h5ad\")\n",
    "adata3 = sc.read_h5ad(\"YOV_GFP_adata.h5ad\")\n",
    "adata4 = sc.read_h5ad(\"YOV_noGFP_adata.h5ad\")\n",
    "adata5 = sc.read_h5ad(\"ASham_GFP_adata.h5ad\")\n",
    "adata6 = sc.read_h5ad(\"ASham_noGFP_adata.h5ad\")\n",
    "adata7 = sc.read_h5ad(\"AOV_GFP_adata.h5ad\")\n",
    "adata8 = sc.read_h5ad(\"AOV_noGFP_adata.h5ad\")"
   ]
  },
  {
   "cell_type": "code",
   "execution_count": 2,
   "id": "5671342f-d518-4395-a18c-bbf7e5eb71f6",
   "metadata": {},
   "outputs": [],
   "source": [
    "import scvi\n",
    "import scanpy as sc\n",
    "\n",
    "from matplotlib.pyplot import rc_context\n",
    "sc.set_figure_params(dpi=100)\n",
    "\n",
    "import warnings\n",
    "warnings.simplefilter(\"ignore\", FutureWarning)\n",
    "warnings.simplefilter(\"ignore\", UserWarning)\n",
    "warnings.simplefilter(\"ignore\", RuntimeWarning)"
   ]
  },
  {
   "cell_type": "code",
   "execution_count": 4,
   "id": "751ff309-3a7c-4518-ad5d-9ed04d495bd6",
   "metadata": {},
   "outputs": [
    {
     "data": {
      "text/plain": [
       "AnnData object with n_obs × n_vars = 2760 × 55402\n",
       "    obs: 'batch'\n",
       "    var: 'gene_ids', 'feature_types', 'genome'"
      ]
     },
     "execution_count": 4,
     "metadata": {},
     "output_type": "execute_result"
    }
   ],
   "source": [
    "adata1"
   ]
  },
  {
   "cell_type": "code",
   "execution_count": 5,
   "id": "8a43c37c-6d11-40cf-af08-9df97765efa9",
   "metadata": {},
   "outputs": [],
   "source": [
    "sc.pp.filter_genes(adata1, min_cells = 10)\n",
    "sc.pp.highly_variable_genes(adata1, n_top_genes = 3000, subset = True, flavor = 'seurat_v3')"
   ]
  },
  {
   "cell_type": "code",
   "execution_count": 6,
   "id": "5dd8766a-b951-408b-a65e-a3c0b3fb8c82",
   "metadata": {},
   "outputs": [
    {
     "name": "stderr",
     "output_type": "stream",
     "text": [
      "GPU available: False, used: False\n",
      "TPU available: False, using: 0 TPU cores\n",
      "HPU available: False, using: 0 HPUs\n"
     ]
    },
    {
     "name": "stdout",
     "output_type": "stream",
     "text": [
      "Epoch 400/400: 100%|█████| 400/400 [05:30<00:00,  1.22it/s, v_num=1, train_loss_step=1.06e+3, train_loss_epoch=1.06e+3]"
     ]
    },
    {
     "name": "stderr",
     "output_type": "stream",
     "text": [
      "`Trainer.fit` stopped: `max_epochs=400` reached.\n"
     ]
    },
    {
     "name": "stdout",
     "output_type": "stream",
     "text": [
      "Epoch 400/400: 100%|█████| 400/400 [05:30<00:00,  1.21it/s, v_num=1, train_loss_step=1.06e+3, train_loss_epoch=1.06e+3]\n"
     ]
    }
   ],
   "source": [
    "scvi.model.SCVI.setup_anndata(adata1)\n",
    "vae = scvi.model.SCVI(adata1)\n",
    "vae.train()\n"
   ]
  },
  {
   "cell_type": "code",
   "execution_count": 7,
   "id": "65b34082-8e94-4cc3-9d83-fe7bbf166b68",
   "metadata": {},
   "outputs": [
    {
     "name": "stdout",
     "output_type": "stream",
     "text": [
      "\u001b[34mINFO    \u001b[0m Creating doublets, preparing SOLO model.                                                                  \n"
     ]
    },
    {
     "name": "stderr",
     "output_type": "stream",
     "text": [
      "GPU available: False, used: False\n",
      "TPU available: False, using: 0 TPU cores\n",
      "HPU available: False, using: 0 HPUs\n"
     ]
    },
    {
     "name": "stdout",
     "output_type": "stream",
     "text": [
      "Epoch 282/400:  70%|██████▎  | 282/400 [01:49<00:45,  2.58it/s, v_num=1, train_loss_step=0.307, train_loss_epoch=0.248]\n",
      "Monitored metric validation_loss did not improve in the last 30 records. Best score: 0.278. Signaling Trainer to stop.\n"
     ]
    }
   ],
   "source": [
    "solo = scvi.external.SOLO.from_scvi_model(vae)\n",
    "solo.train()"
   ]
  },
  {
   "cell_type": "code",
   "execution_count": 8,
   "id": "995d26b7-1dd8-4b82-a056-d731fc5ff5e6",
   "metadata": {},
   "outputs": [
    {
     "data": {
      "text/html": [
       "<div>\n",
       "<style scoped>\n",
       "    .dataframe tbody tr th:only-of-type {\n",
       "        vertical-align: middle;\n",
       "    }\n",
       "\n",
       "    .dataframe tbody tr th {\n",
       "        vertical-align: top;\n",
       "    }\n",
       "\n",
       "    .dataframe thead th {\n",
       "        text-align: right;\n",
       "    }\n",
       "</style>\n",
       "<table border=\"1\" class=\"dataframe\">\n",
       "  <thead>\n",
       "    <tr style=\"text-align: right;\">\n",
       "      <th></th>\n",
       "      <th>doublet</th>\n",
       "      <th>singlet</th>\n",
       "    </tr>\n",
       "  </thead>\n",
       "  <tbody>\n",
       "    <tr>\n",
       "      <th>AAACCCAGTTCCGTTC-1-YSham_GFP</th>\n",
       "      <td>0.756582</td>\n",
       "      <td>0.243418</td>\n",
       "    </tr>\n",
       "    <tr>\n",
       "      <th>AAACCCATCCATACTT-1-YSham_GFP</th>\n",
       "      <td>0.629807</td>\n",
       "      <td>0.370193</td>\n",
       "    </tr>\n",
       "    <tr>\n",
       "      <th>AAACCCATCCCACAGG-1-YSham_GFP</th>\n",
       "      <td>0.099105</td>\n",
       "      <td>0.900895</td>\n",
       "    </tr>\n",
       "    <tr>\n",
       "      <th>AAACGAACATACCACA-1-YSham_GFP</th>\n",
       "      <td>0.293741</td>\n",
       "      <td>0.706259</td>\n",
       "    </tr>\n",
       "    <tr>\n",
       "      <th>AAACGAAGTCGTGGTC-1-YSham_GFP</th>\n",
       "      <td>0.125207</td>\n",
       "      <td>0.874793</td>\n",
       "    </tr>\n",
       "    <tr>\n",
       "      <th>...</th>\n",
       "      <td>...</td>\n",
       "      <td>...</td>\n",
       "    </tr>\n",
       "    <tr>\n",
       "      <th>TTTGGTTGTGACTGTT-1-YSham_GFP</th>\n",
       "      <td>0.004591</td>\n",
       "      <td>0.995409</td>\n",
       "    </tr>\n",
       "    <tr>\n",
       "      <th>TTTGGTTGTTTGACAC-1-YSham_GFP</th>\n",
       "      <td>0.424203</td>\n",
       "      <td>0.575797</td>\n",
       "    </tr>\n",
       "    <tr>\n",
       "      <th>TTTGTTGCACTCTAGA-1-YSham_GFP</th>\n",
       "      <td>0.060917</td>\n",
       "      <td>0.939083</td>\n",
       "    </tr>\n",
       "    <tr>\n",
       "      <th>TTTGTTGTCATTGTTC-1-YSham_GFP</th>\n",
       "      <td>0.375724</td>\n",
       "      <td>0.624276</td>\n",
       "    </tr>\n",
       "    <tr>\n",
       "      <th>TTTGTTGTCCACTGGG-1-YSham_GFP</th>\n",
       "      <td>0.085474</td>\n",
       "      <td>0.914526</td>\n",
       "    </tr>\n",
       "  </tbody>\n",
       "</table>\n",
       "<p>2760 rows × 2 columns</p>\n",
       "</div>"
      ],
      "text/plain": [
       "                               doublet   singlet\n",
       "AAACCCAGTTCCGTTC-1-YSham_GFP  0.756582  0.243418\n",
       "AAACCCATCCATACTT-1-YSham_GFP  0.629807  0.370193\n",
       "AAACCCATCCCACAGG-1-YSham_GFP  0.099105  0.900895\n",
       "AAACGAACATACCACA-1-YSham_GFP  0.293741  0.706259\n",
       "AAACGAAGTCGTGGTC-1-YSham_GFP  0.125207  0.874793\n",
       "...                                ...       ...\n",
       "TTTGGTTGTGACTGTT-1-YSham_GFP  0.004591  0.995409\n",
       "TTTGGTTGTTTGACAC-1-YSham_GFP  0.424203  0.575797\n",
       "TTTGTTGCACTCTAGA-1-YSham_GFP  0.060917  0.939083\n",
       "TTTGTTGTCATTGTTC-1-YSham_GFP  0.375724  0.624276\n",
       "TTTGTTGTCCACTGGG-1-YSham_GFP  0.085474  0.914526\n",
       "\n",
       "[2760 rows x 2 columns]"
      ]
     },
     "execution_count": 8,
     "metadata": {},
     "output_type": "execute_result"
    }
   ],
   "source": [
    "solo.predict()"
   ]
  },
  {
   "cell_type": "code",
   "execution_count": 9,
   "id": "ccabf844-6187-4af6-920b-fecb8b663fa5",
   "metadata": {},
   "outputs": [
    {
     "data": {
      "text/html": [
       "<div>\n",
       "<style scoped>\n",
       "    .dataframe tbody tr th:only-of-type {\n",
       "        vertical-align: middle;\n",
       "    }\n",
       "\n",
       "    .dataframe tbody tr th {\n",
       "        vertical-align: top;\n",
       "    }\n",
       "\n",
       "    .dataframe thead th {\n",
       "        text-align: right;\n",
       "    }\n",
       "</style>\n",
       "<table border=\"1\" class=\"dataframe\">\n",
       "  <thead>\n",
       "    <tr style=\"text-align: right;\">\n",
       "      <th></th>\n",
       "      <th>doublet</th>\n",
       "      <th>singlet</th>\n",
       "      <th>prediction</th>\n",
       "    </tr>\n",
       "  </thead>\n",
       "  <tbody>\n",
       "    <tr>\n",
       "      <th>AAACCCAGTTCCGTTC-1-YSham_GFP</th>\n",
       "      <td>0.756582</td>\n",
       "      <td>0.243418</td>\n",
       "      <td>doublet</td>\n",
       "    </tr>\n",
       "    <tr>\n",
       "      <th>AAACCCATCCATACTT-1-YSham_GFP</th>\n",
       "      <td>0.629807</td>\n",
       "      <td>0.370193</td>\n",
       "      <td>doublet</td>\n",
       "    </tr>\n",
       "    <tr>\n",
       "      <th>AAACCCATCCCACAGG-1-YSham_GFP</th>\n",
       "      <td>0.099105</td>\n",
       "      <td>0.900895</td>\n",
       "      <td>singlet</td>\n",
       "    </tr>\n",
       "    <tr>\n",
       "      <th>AAACGAACATACCACA-1-YSham_GFP</th>\n",
       "      <td>0.293741</td>\n",
       "      <td>0.706259</td>\n",
       "      <td>singlet</td>\n",
       "    </tr>\n",
       "    <tr>\n",
       "      <th>AAACGAAGTCGTGGTC-1-YSham_GFP</th>\n",
       "      <td>0.125207</td>\n",
       "      <td>0.874793</td>\n",
       "      <td>singlet</td>\n",
       "    </tr>\n",
       "    <tr>\n",
       "      <th>...</th>\n",
       "      <td>...</td>\n",
       "      <td>...</td>\n",
       "      <td>...</td>\n",
       "    </tr>\n",
       "    <tr>\n",
       "      <th>TTTGGTTGTGACTGTT-1-YSham_GFP</th>\n",
       "      <td>0.004591</td>\n",
       "      <td>0.995409</td>\n",
       "      <td>singlet</td>\n",
       "    </tr>\n",
       "    <tr>\n",
       "      <th>TTTGGTTGTTTGACAC-1-YSham_GFP</th>\n",
       "      <td>0.424203</td>\n",
       "      <td>0.575797</td>\n",
       "      <td>singlet</td>\n",
       "    </tr>\n",
       "    <tr>\n",
       "      <th>TTTGTTGCACTCTAGA-1-YSham_GFP</th>\n",
       "      <td>0.060917</td>\n",
       "      <td>0.939083</td>\n",
       "      <td>singlet</td>\n",
       "    </tr>\n",
       "    <tr>\n",
       "      <th>TTTGTTGTCATTGTTC-1-YSham_GFP</th>\n",
       "      <td>0.375724</td>\n",
       "      <td>0.624276</td>\n",
       "      <td>singlet</td>\n",
       "    </tr>\n",
       "    <tr>\n",
       "      <th>TTTGTTGTCCACTGGG-1-YSham_GFP</th>\n",
       "      <td>0.085474</td>\n",
       "      <td>0.914526</td>\n",
       "      <td>singlet</td>\n",
       "    </tr>\n",
       "  </tbody>\n",
       "</table>\n",
       "<p>2760 rows × 3 columns</p>\n",
       "</div>"
      ],
      "text/plain": [
       "                               doublet   singlet prediction\n",
       "AAACCCAGTTCCGTTC-1-YSham_GFP  0.756582  0.243418    doublet\n",
       "AAACCCATCCATACTT-1-YSham_GFP  0.629807  0.370193    doublet\n",
       "AAACCCATCCCACAGG-1-YSham_GFP  0.099105  0.900895    singlet\n",
       "AAACGAACATACCACA-1-YSham_GFP  0.293741  0.706259    singlet\n",
       "AAACGAAGTCGTGGTC-1-YSham_GFP  0.125207  0.874793    singlet\n",
       "...                                ...       ...        ...\n",
       "TTTGGTTGTGACTGTT-1-YSham_GFP  0.004591  0.995409    singlet\n",
       "TTTGGTTGTTTGACAC-1-YSham_GFP  0.424203  0.575797    singlet\n",
       "TTTGTTGCACTCTAGA-1-YSham_GFP  0.060917  0.939083    singlet\n",
       "TTTGTTGTCATTGTTC-1-YSham_GFP  0.375724  0.624276    singlet\n",
       "TTTGTTGTCCACTGGG-1-YSham_GFP  0.085474  0.914526    singlet\n",
       "\n",
       "[2760 rows x 3 columns]"
      ]
     },
     "execution_count": 9,
     "metadata": {},
     "output_type": "execute_result"
    }
   ],
   "source": [
    "df = solo.predict()\n",
    "df['prediction'] = solo.predict(soft = False)\n",
    "\n",
    "df"
   ]
  },
  {
   "cell_type": "code",
   "execution_count": 10,
   "id": "41363a37-252e-4f6c-87b7-0bed52d83a6b",
   "metadata": {},
   "outputs": [
    {
     "data": {
      "text/html": [
       "<div>\n",
       "<style scoped>\n",
       "    .dataframe tbody tr th:only-of-type {\n",
       "        vertical-align: middle;\n",
       "    }\n",
       "\n",
       "    .dataframe tbody tr th {\n",
       "        vertical-align: top;\n",
       "    }\n",
       "\n",
       "    .dataframe thead th {\n",
       "        text-align: right;\n",
       "    }\n",
       "</style>\n",
       "<table border=\"1\" class=\"dataframe\">\n",
       "  <thead>\n",
       "    <tr style=\"text-align: right;\">\n",
       "      <th></th>\n",
       "      <th>doublet</th>\n",
       "      <th>singlet</th>\n",
       "    </tr>\n",
       "    <tr>\n",
       "      <th>prediction</th>\n",
       "      <th></th>\n",
       "      <th></th>\n",
       "    </tr>\n",
       "  </thead>\n",
       "  <tbody>\n",
       "    <tr>\n",
       "      <th>doublet</th>\n",
       "      <td>371</td>\n",
       "      <td>371</td>\n",
       "    </tr>\n",
       "    <tr>\n",
       "      <th>singlet</th>\n",
       "      <td>2389</td>\n",
       "      <td>2389</td>\n",
       "    </tr>\n",
       "  </tbody>\n",
       "</table>\n",
       "</div>"
      ],
      "text/plain": [
       "            doublet  singlet\n",
       "prediction                  \n",
       "doublet         371      371\n",
       "singlet        2389     2389"
      ]
     },
     "execution_count": 10,
     "metadata": {},
     "output_type": "execute_result"
    }
   ],
   "source": [
    "df.groupby('prediction').count()"
   ]
  },
  {
   "cell_type": "code",
   "execution_count": 11,
   "id": "b5050249-c1a5-4c39-b59c-a6f85256ab7b",
   "metadata": {},
   "outputs": [
    {
     "data": {
      "text/html": [
       "<div>\n",
       "<style scoped>\n",
       "    .dataframe tbody tr th:only-of-type {\n",
       "        vertical-align: middle;\n",
       "    }\n",
       "\n",
       "    .dataframe tbody tr th {\n",
       "        vertical-align: top;\n",
       "    }\n",
       "\n",
       "    .dataframe thead th {\n",
       "        text-align: right;\n",
       "    }\n",
       "</style>\n",
       "<table border=\"1\" class=\"dataframe\">\n",
       "  <thead>\n",
       "    <tr style=\"text-align: right;\">\n",
       "      <th></th>\n",
       "      <th>doublet</th>\n",
       "      <th>singlet</th>\n",
       "      <th>prediction</th>\n",
       "      <th>dif</th>\n",
       "    </tr>\n",
       "  </thead>\n",
       "  <tbody>\n",
       "    <tr>\n",
       "      <th>AAACCCAGTTCCGTTC-1-YSham_GFP</th>\n",
       "      <td>0.756582</td>\n",
       "      <td>0.243418</td>\n",
       "      <td>doublet</td>\n",
       "      <td>0.513163</td>\n",
       "    </tr>\n",
       "    <tr>\n",
       "      <th>AAACCCATCCATACTT-1-YSham_GFP</th>\n",
       "      <td>0.629807</td>\n",
       "      <td>0.370193</td>\n",
       "      <td>doublet</td>\n",
       "      <td>0.259614</td>\n",
       "    </tr>\n",
       "    <tr>\n",
       "      <th>AAACCCATCCCACAGG-1-YSham_GFP</th>\n",
       "      <td>0.099105</td>\n",
       "      <td>0.900895</td>\n",
       "      <td>singlet</td>\n",
       "      <td>-0.801790</td>\n",
       "    </tr>\n",
       "    <tr>\n",
       "      <th>AAACGAACATACCACA-1-YSham_GFP</th>\n",
       "      <td>0.293741</td>\n",
       "      <td>0.706259</td>\n",
       "      <td>singlet</td>\n",
       "      <td>-0.412518</td>\n",
       "    </tr>\n",
       "    <tr>\n",
       "      <th>AAACGAAGTCGTGGTC-1-YSham_GFP</th>\n",
       "      <td>0.125207</td>\n",
       "      <td>0.874793</td>\n",
       "      <td>singlet</td>\n",
       "      <td>-0.749586</td>\n",
       "    </tr>\n",
       "    <tr>\n",
       "      <th>...</th>\n",
       "      <td>...</td>\n",
       "      <td>...</td>\n",
       "      <td>...</td>\n",
       "      <td>...</td>\n",
       "    </tr>\n",
       "    <tr>\n",
       "      <th>TTTGGTTGTGACTGTT-1-YSham_GFP</th>\n",
       "      <td>0.004591</td>\n",
       "      <td>0.995409</td>\n",
       "      <td>singlet</td>\n",
       "      <td>-0.990818</td>\n",
       "    </tr>\n",
       "    <tr>\n",
       "      <th>TTTGGTTGTTTGACAC-1-YSham_GFP</th>\n",
       "      <td>0.424203</td>\n",
       "      <td>0.575797</td>\n",
       "      <td>singlet</td>\n",
       "      <td>-0.151594</td>\n",
       "    </tr>\n",
       "    <tr>\n",
       "      <th>TTTGTTGCACTCTAGA-1-YSham_GFP</th>\n",
       "      <td>0.060917</td>\n",
       "      <td>0.939083</td>\n",
       "      <td>singlet</td>\n",
       "      <td>-0.878166</td>\n",
       "    </tr>\n",
       "    <tr>\n",
       "      <th>TTTGTTGTCATTGTTC-1-YSham_GFP</th>\n",
       "      <td>0.375724</td>\n",
       "      <td>0.624276</td>\n",
       "      <td>singlet</td>\n",
       "      <td>-0.248552</td>\n",
       "    </tr>\n",
       "    <tr>\n",
       "      <th>TTTGTTGTCCACTGGG-1-YSham_GFP</th>\n",
       "      <td>0.085474</td>\n",
       "      <td>0.914526</td>\n",
       "      <td>singlet</td>\n",
       "      <td>-0.829053</td>\n",
       "    </tr>\n",
       "  </tbody>\n",
       "</table>\n",
       "<p>2760 rows × 4 columns</p>\n",
       "</div>"
      ],
      "text/plain": [
       "                               doublet   singlet prediction       dif\n",
       "AAACCCAGTTCCGTTC-1-YSham_GFP  0.756582  0.243418    doublet  0.513163\n",
       "AAACCCATCCATACTT-1-YSham_GFP  0.629807  0.370193    doublet  0.259614\n",
       "AAACCCATCCCACAGG-1-YSham_GFP  0.099105  0.900895    singlet -0.801790\n",
       "AAACGAACATACCACA-1-YSham_GFP  0.293741  0.706259    singlet -0.412518\n",
       "AAACGAAGTCGTGGTC-1-YSham_GFP  0.125207  0.874793    singlet -0.749586\n",
       "...                                ...       ...        ...       ...\n",
       "TTTGGTTGTGACTGTT-1-YSham_GFP  0.004591  0.995409    singlet -0.990818\n",
       "TTTGGTTGTTTGACAC-1-YSham_GFP  0.424203  0.575797    singlet -0.151594\n",
       "TTTGTTGCACTCTAGA-1-YSham_GFP  0.060917  0.939083    singlet -0.878166\n",
       "TTTGTTGTCATTGTTC-1-YSham_GFP  0.375724  0.624276    singlet -0.248552\n",
       "TTTGTTGTCCACTGGG-1-YSham_GFP  0.085474  0.914526    singlet -0.829053\n",
       "\n",
       "[2760 rows x 4 columns]"
      ]
     },
     "execution_count": 11,
     "metadata": {},
     "output_type": "execute_result"
    }
   ],
   "source": [
    "df['dif'] = df.doublet - df.singlet\n",
    "df"
   ]
  },
  {
   "cell_type": "code",
   "execution_count": 12,
   "id": "67e70055-3b74-40a0-bf6a-e29d2c6e6b80",
   "metadata": {},
   "outputs": [],
   "source": [
    "import seaborn as sns"
   ]
  },
  {
   "cell_type": "code",
   "execution_count": 13,
   "id": "58976a05-0267-4e29-be53-27e8249d15d1",
   "metadata": {},
   "outputs": [
    {
     "data": {
      "text/plain": [
       "<seaborn.axisgrid.FacetGrid at 0x216f3508ee0>"
      ]
     },
     "execution_count": 13,
     "metadata": {},
     "output_type": "execute_result"
    },
    {
     "data": {
      "image/png": "[encoded data removed]",
      "text/plain": [
       "<Figure size 500x500 with 1 Axes>"
      ]
     },
     "metadata": {
      "image/png": {
       "height": 477,
       "width": 478
      }
     },
     "output_type": "display_data"
    }
   ],
   "source": [
    "sns.displot(df[df.prediction == 'doublet'], x = 'dif')"
   ]
  },
  {
   "cell_type": "code",
   "execution_count": 14,
   "id": "1d986fdb-03ca-417d-a324-24be85c653bb",
   "metadata": {},
   "outputs": [
    {
     "data": {
      "text/html": [
       "<div>\n",
       "<style scoped>\n",
       "    .dataframe tbody tr th:only-of-type {\n",
       "        vertical-align: middle;\n",
       "    }\n",
       "\n",
       "    .dataframe tbody tr th {\n",
       "        vertical-align: top;\n",
       "    }\n",
       "\n",
       "    .dataframe thead th {\n",
       "        text-align: right;\n",
       "    }\n",
       "</style>\n",
       "<table border=\"1\" class=\"dataframe\">\n",
       "  <thead>\n",
       "    <tr style=\"text-align: right;\">\n",
       "      <th></th>\n",
       "      <th>doublet</th>\n",
       "      <th>singlet</th>\n",
       "      <th>prediction</th>\n",
       "      <th>dif</th>\n",
       "    </tr>\n",
       "  </thead>\n",
       "  <tbody>\n",
       "    <tr>\n",
       "      <th>AAACCCAGTTCCGTTC-1-YSham_GFP</th>\n",
       "      <td>0.756582</td>\n",
       "      <td>0.243418</td>\n",
       "      <td>doublet</td>\n",
       "      <td>0.513163</td>\n",
       "    </tr>\n",
       "    <tr>\n",
       "      <th>AAACCCATCCATACTT-1-YSham_GFP</th>\n",
       "      <td>0.629807</td>\n",
       "      <td>0.370193</td>\n",
       "      <td>doublet</td>\n",
       "      <td>0.259614</td>\n",
       "    </tr>\n",
       "    <tr>\n",
       "      <th>AAACGCTCAGCGAACA-1-YSham_GFP</th>\n",
       "      <td>0.862798</td>\n",
       "      <td>0.137202</td>\n",
       "      <td>doublet</td>\n",
       "      <td>0.725597</td>\n",
       "    </tr>\n",
       "    <tr>\n",
       "      <th>AAACGCTTCCGATGTA-1-YSham_GFP</th>\n",
       "      <td>0.609619</td>\n",
       "      <td>0.390381</td>\n",
       "      <td>doublet</td>\n",
       "      <td>0.219238</td>\n",
       "    </tr>\n",
       "    <tr>\n",
       "      <th>AAAGTCCAGCTCGGCT-1-YSham_GFP</th>\n",
       "      <td>0.877771</td>\n",
       "      <td>0.122229</td>\n",
       "      <td>doublet</td>\n",
       "      <td>0.755542</td>\n",
       "    </tr>\n",
       "    <tr>\n",
       "      <th>...</th>\n",
       "      <td>...</td>\n",
       "      <td>...</td>\n",
       "      <td>...</td>\n",
       "      <td>...</td>\n",
       "    </tr>\n",
       "    <tr>\n",
       "      <th>TTGCCTGCATTCGGGC-1-YSham_GFP</th>\n",
       "      <td>0.622453</td>\n",
       "      <td>0.377547</td>\n",
       "      <td>doublet</td>\n",
       "      <td>0.244906</td>\n",
       "    </tr>\n",
       "    <tr>\n",
       "      <th>TTGTTGTCAATCGCCG-1-YSham_GFP</th>\n",
       "      <td>0.999170</td>\n",
       "      <td>0.000830</td>\n",
       "      <td>doublet</td>\n",
       "      <td>0.998340</td>\n",
       "    </tr>\n",
       "    <tr>\n",
       "      <th>TTTAGTCCAGGTGACA-1-YSham_GFP</th>\n",
       "      <td>0.612423</td>\n",
       "      <td>0.387577</td>\n",
       "      <td>doublet</td>\n",
       "      <td>0.224847</td>\n",
       "    </tr>\n",
       "    <tr>\n",
       "      <th>TTTCCTCCACCTTCCA-1-YSham_GFP</th>\n",
       "      <td>0.750293</td>\n",
       "      <td>0.249707</td>\n",
       "      <td>doublet</td>\n",
       "      <td>0.500586</td>\n",
       "    </tr>\n",
       "    <tr>\n",
       "      <th>TTTCGATCATGTAACC-1-YSham_GFP</th>\n",
       "      <td>0.978485</td>\n",
       "      <td>0.021515</td>\n",
       "      <td>doublet</td>\n",
       "      <td>0.956970</td>\n",
       "    </tr>\n",
       "  </tbody>\n",
       "</table>\n",
       "<p>248 rows × 4 columns</p>\n",
       "</div>"
      ],
      "text/plain": [
       "                               doublet   singlet prediction       dif\n",
       "AAACCCAGTTCCGTTC-1-YSham_GFP  0.756582  0.243418    doublet  0.513163\n",
       "AAACCCATCCATACTT-1-YSham_GFP  0.629807  0.370193    doublet  0.259614\n",
       "AAACGCTCAGCGAACA-1-YSham_GFP  0.862798  0.137202    doublet  0.725597\n",
       "AAACGCTTCCGATGTA-1-YSham_GFP  0.609619  0.390381    doublet  0.219238\n",
       "AAAGTCCAGCTCGGCT-1-YSham_GFP  0.877771  0.122229    doublet  0.755542\n",
       "...                                ...       ...        ...       ...\n",
       "TTGCCTGCATTCGGGC-1-YSham_GFP  0.622453  0.377547    doublet  0.244906\n",
       "TTGTTGTCAATCGCCG-1-YSham_GFP  0.999170  0.000830    doublet  0.998340\n",
       "TTTAGTCCAGGTGACA-1-YSham_GFP  0.612423  0.387577    doublet  0.224847\n",
       "TTTCCTCCACCTTCCA-1-YSham_GFP  0.750293  0.249707    doublet  0.500586\n",
       "TTTCGATCATGTAACC-1-YSham_GFP  0.978485  0.021515    doublet  0.956970\n",
       "\n",
       "[248 rows x 4 columns]"
      ]
     },
     "execution_count": 14,
     "metadata": {},
     "output_type": "execute_result"
    }
   ],
   "source": [
    "doublets = df[(df.prediction == 'doublet') & (df.dif > 0.2)]\n",
    "doublets"
   ]
  },
  {
   "cell_type": "code",
   "execution_count": 15,
   "id": "0a125d9d-e0c7-4d73-a1b8-0453922b7d7f",
   "metadata": {},
   "outputs": [
    {
     "data": {
      "text/plain": [
       "AnnData object with n_obs × n_vars = 2760 × 3000\n",
       "    obs: 'batch', '_scvi_batch', '_scvi_labels'\n",
       "    var: 'gene_ids', 'feature_types', 'genome', 'n_cells', 'highly_variable', 'highly_variable_rank', 'means', 'variances', 'variances_norm'\n",
       "    uns: 'hvg', '_scvi_uuid', '_scvi_manager_uuid'"
      ]
     },
     "execution_count": 15,
     "metadata": {},
     "output_type": "execute_result"
    }
   ],
   "source": [
    "adata1"
   ]
  },
  {
   "cell_type": "code",
   "execution_count": 16,
   "id": "dc63b457-97bc-4664-ba9e-9cc7e2eb36c7",
   "metadata": {},
   "outputs": [],
   "source": [
    "adata1 = sc.read_h5ad(\"YSham_GFP_adata.h5ad\")"
   ]
  },
  {
   "cell_type": "code",
   "execution_count": 17,
   "id": "9b129fd7-3653-4bfe-acc3-6be39291414a",
   "metadata": {},
   "outputs": [
    {
     "data": {
      "text/html": [
       "<div>\n",
       "<style scoped>\n",
       "    .dataframe tbody tr th:only-of-type {\n",
       "        vertical-align: middle;\n",
       "    }\n",
       "\n",
       "    .dataframe tbody tr th {\n",
       "        vertical-align: top;\n",
       "    }\n",
       "\n",
       "    .dataframe thead th {\n",
       "        text-align: right;\n",
       "    }\n",
       "</style>\n",
       "<table border=\"1\" class=\"dataframe\">\n",
       "  <thead>\n",
       "    <tr style=\"text-align: right;\">\n",
       "      <th></th>\n",
       "      <th>batch</th>\n",
       "    </tr>\n",
       "  </thead>\n",
       "  <tbody>\n",
       "    <tr>\n",
       "      <th>AAACCCAGTTCCGTTC-1-YSham_GFP</th>\n",
       "      <td>YSham_GFP</td>\n",
       "    </tr>\n",
       "    <tr>\n",
       "      <th>AAACCCATCCATACTT-1-YSham_GFP</th>\n",
       "      <td>YSham_GFP</td>\n",
       "    </tr>\n",
       "    <tr>\n",
       "      <th>AAACCCATCCCACAGG-1-YSham_GFP</th>\n",
       "      <td>YSham_GFP</td>\n",
       "    </tr>\n",
       "    <tr>\n",
       "      <th>AAACGAACATACCACA-1-YSham_GFP</th>\n",
       "      <td>YSham_GFP</td>\n",
       "    </tr>\n",
       "    <tr>\n",
       "      <th>AAACGAAGTCGTGGTC-1-YSham_GFP</th>\n",
       "      <td>YSham_GFP</td>\n",
       "    </tr>\n",
       "    <tr>\n",
       "      <th>...</th>\n",
       "      <td>...</td>\n",
       "    </tr>\n",
       "    <tr>\n",
       "      <th>TTTGGTTGTGACTGTT-1-YSham_GFP</th>\n",
       "      <td>YSham_GFP</td>\n",
       "    </tr>\n",
       "    <tr>\n",
       "      <th>TTTGGTTGTTTGACAC-1-YSham_GFP</th>\n",
       "      <td>YSham_GFP</td>\n",
       "    </tr>\n",
       "    <tr>\n",
       "      <th>TTTGTTGCACTCTAGA-1-YSham_GFP</th>\n",
       "      <td>YSham_GFP</td>\n",
       "    </tr>\n",
       "    <tr>\n",
       "      <th>TTTGTTGTCATTGTTC-1-YSham_GFP</th>\n",
       "      <td>YSham_GFP</td>\n",
       "    </tr>\n",
       "    <tr>\n",
       "      <th>TTTGTTGTCCACTGGG-1-YSham_GFP</th>\n",
       "      <td>YSham_GFP</td>\n",
       "    </tr>\n",
       "  </tbody>\n",
       "</table>\n",
       "<p>2760 rows × 1 columns</p>\n",
       "</div>"
      ],
      "text/plain": [
       "                                  batch\n",
       "AAACCCAGTTCCGTTC-1-YSham_GFP  YSham_GFP\n",
       "AAACCCATCCATACTT-1-YSham_GFP  YSham_GFP\n",
       "AAACCCATCCCACAGG-1-YSham_GFP  YSham_GFP\n",
       "AAACGAACATACCACA-1-YSham_GFP  YSham_GFP\n",
       "AAACGAAGTCGTGGTC-1-YSham_GFP  YSham_GFP\n",
       "...                                 ...\n",
       "TTTGGTTGTGACTGTT-1-YSham_GFP  YSham_GFP\n",
       "TTTGGTTGTTTGACAC-1-YSham_GFP  YSham_GFP\n",
       "TTTGTTGCACTCTAGA-1-YSham_GFP  YSham_GFP\n",
       "TTTGTTGTCATTGTTC-1-YSham_GFP  YSham_GFP\n",
       "TTTGTTGTCCACTGGG-1-YSham_GFP  YSham_GFP\n",
       "\n",
       "[2760 rows x 1 columns]"
      ]
     },
     "execution_count": 17,
     "metadata": {},
     "output_type": "execute_result"
    }
   ],
   "source": [
    "adata1.obs"
   ]
  },
  {
   "cell_type": "code",
   "execution_count": 18,
   "id": "c13a93a9-0a5a-4de2-b116-8a58c2443bcb",
   "metadata": {},
   "outputs": [],
   "source": [
    "adata1.obs['doublet'] = adata1.obs.index.isin(doublets.index) "
   ]
  },
  {
   "cell_type": "code",
   "execution_count": 19,
   "id": "f2cc9583-5025-4ae5-939a-df52993e64f5",
   "metadata": {},
   "outputs": [
    {
     "data": {
      "text/html": [
       "<div>\n",
       "<style scoped>\n",
       "    .dataframe tbody tr th:only-of-type {\n",
       "        vertical-align: middle;\n",
       "    }\n",
       "\n",
       "    .dataframe tbody tr th {\n",
       "        vertical-align: top;\n",
       "    }\n",
       "\n",
       "    .dataframe thead th {\n",
       "        text-align: right;\n",
       "    }\n",
       "</style>\n",
       "<table border=\"1\" class=\"dataframe\">\n",
       "  <thead>\n",
       "    <tr style=\"text-align: right;\">\n",
       "      <th></th>\n",
       "      <th>batch</th>\n",
       "      <th>doublet</th>\n",
       "    </tr>\n",
       "  </thead>\n",
       "  <tbody>\n",
       "    <tr>\n",
       "      <th>AAACCCAGTTCCGTTC-1-YSham_GFP</th>\n",
       "      <td>YSham_GFP</td>\n",
       "      <td>True</td>\n",
       "    </tr>\n",
       "    <tr>\n",
       "      <th>AAACCCATCCATACTT-1-YSham_GFP</th>\n",
       "      <td>YSham_GFP</td>\n",
       "      <td>True</td>\n",
       "    </tr>\n",
       "    <tr>\n",
       "      <th>AAACCCATCCCACAGG-1-YSham_GFP</th>\n",
       "      <td>YSham_GFP</td>\n",
       "      <td>False</td>\n",
       "    </tr>\n",
       "    <tr>\n",
       "      <th>AAACGAACATACCACA-1-YSham_GFP</th>\n",
       "      <td>YSham_GFP</td>\n",
       "      <td>False</td>\n",
       "    </tr>\n",
       "    <tr>\n",
       "      <th>AAACGAAGTCGTGGTC-1-YSham_GFP</th>\n",
       "      <td>YSham_GFP</td>\n",
       "      <td>False</td>\n",
       "    </tr>\n",
       "    <tr>\n",
       "      <th>...</th>\n",
       "      <td>...</td>\n",
       "      <td>...</td>\n",
       "    </tr>\n",
       "    <tr>\n",
       "      <th>TTTGGTTGTGACTGTT-1-YSham_GFP</th>\n",
       "      <td>YSham_GFP</td>\n",
       "      <td>False</td>\n",
       "    </tr>\n",
       "    <tr>\n",
       "      <th>TTTGGTTGTTTGACAC-1-YSham_GFP</th>\n",
       "      <td>YSham_GFP</td>\n",
       "      <td>False</td>\n",
       "    </tr>\n",
       "    <tr>\n",
       "      <th>TTTGTTGCACTCTAGA-1-YSham_GFP</th>\n",
       "      <td>YSham_GFP</td>\n",
       "      <td>False</td>\n",
       "    </tr>\n",
       "    <tr>\n",
       "      <th>TTTGTTGTCATTGTTC-1-YSham_GFP</th>\n",
       "      <td>YSham_GFP</td>\n",
       "      <td>False</td>\n",
       "    </tr>\n",
       "    <tr>\n",
       "      <th>TTTGTTGTCCACTGGG-1-YSham_GFP</th>\n",
       "      <td>YSham_GFP</td>\n",
       "      <td>False</td>\n",
       "    </tr>\n",
       "  </tbody>\n",
       "</table>\n",
       "<p>2760 rows × 2 columns</p>\n",
       "</div>"
      ],
      "text/plain": [
       "                                  batch  doublet\n",
       "AAACCCAGTTCCGTTC-1-YSham_GFP  YSham_GFP     True\n",
       "AAACCCATCCATACTT-1-YSham_GFP  YSham_GFP     True\n",
       "AAACCCATCCCACAGG-1-YSham_GFP  YSham_GFP    False\n",
       "AAACGAACATACCACA-1-YSham_GFP  YSham_GFP    False\n",
       "AAACGAAGTCGTGGTC-1-YSham_GFP  YSham_GFP    False\n",
       "...                                 ...      ...\n",
       "TTTGGTTGTGACTGTT-1-YSham_GFP  YSham_GFP    False\n",
       "TTTGGTTGTTTGACAC-1-YSham_GFP  YSham_GFP    False\n",
       "TTTGTTGCACTCTAGA-1-YSham_GFP  YSham_GFP    False\n",
       "TTTGTTGTCATTGTTC-1-YSham_GFP  YSham_GFP    False\n",
       "TTTGTTGTCCACTGGG-1-YSham_GFP  YSham_GFP    False\n",
       "\n",
       "[2760 rows x 2 columns]"
      ]
     },
     "execution_count": 19,
     "metadata": {},
     "output_type": "execute_result"
    }
   ],
   "source": [
    "adata1.obs"
   ]
  },
  {
   "cell_type": "code",
   "execution_count": 20,
   "id": "02116469-efc7-4479-97ed-eaa809433223",
   "metadata": {},
   "outputs": [],
   "source": [
    "adata1 = adata1[~adata1.obs.doublet]"
   ]
  },
  {
   "cell_type": "code",
   "execution_count": 21,
   "id": "2f9903cf-6174-413c-b1ed-9037e2713d5b",
   "metadata": {},
   "outputs": [],
   "source": [
    "# Save the filtered AnnData object\n",
    "adata1.write(\"YSham_GFP_adata_filtered_with_SOLO.h5ad\")"
   ]
  },
  {
   "cell_type": "code",
   "execution_count": 22,
   "id": "62664037-7960-4ab5-97b5-e4d52ad15445",
   "metadata": {},
   "outputs": [
    {
     "data": {
      "text/plain": [
       "View of AnnData object with n_obs × n_vars = 2512 × 55402\n",
       "    obs: 'batch', 'doublet'\n",
       "    var: 'gene_ids', 'feature_types', 'genome'"
      ]
     },
     "execution_count": 22,
     "metadata": {},
     "output_type": "execute_result"
    }
   ],
   "source": [
    "adata1"
   ]
  },
  {
   "cell_type": "code",
   "execution_count": 22,
   "id": "0be96a70-81ae-4ee5-a53e-a1e3437ecf1b",
   "metadata": {},
   "outputs": [],
   "source": [
    "#sample 2"
   ]
  },
  {
   "cell_type": "code",
   "execution_count": 23,
   "id": "50b59a5e-d325-49d9-92d1-27bd9434857e",
   "metadata": {},
   "outputs": [
    {
     "data": {
      "text/plain": [
       "AnnData object with n_obs × n_vars = 8197 × 55402\n",
       "    obs: 'batch'\n",
       "    var: 'gene_ids', 'feature_types', 'genome'"
      ]
     },
     "execution_count": 23,
     "metadata": {},
     "output_type": "execute_result"
    }
   ],
   "source": [
    "adata2"
   ]
  },
  {
   "cell_type": "code",
   "execution_count": 24,
   "id": "4ad8c3ac-438d-499d-b681-f8b6a0cc0138",
   "metadata": {},
   "outputs": [
    {
     "data": {
      "text/plain": [
       "AnnData object with n_obs × n_vars = 8197 × 21409\n",
       "    obs: 'batch'\n",
       "    var: 'gene_ids', 'feature_types', 'genome', 'n_cells'"
      ]
     },
     "execution_count": 24,
     "metadata": {},
     "output_type": "execute_result"
    }
   ],
   "source": [
    "sc.pp.filter_genes(adata2, min_cells = 10)\n",
    "adata2"
   ]
  },
  {
   "cell_type": "code",
   "execution_count": 25,
   "id": "97a8471c-689f-421b-9ade-8b9f6f7a893c",
   "metadata": {},
   "outputs": [],
   "source": [
    "sc.pp.highly_variable_genes(adata2, n_top_genes = 3000, subset = True, flavor = 'seurat_v3')"
   ]
  },
  {
   "cell_type": "code",
   "execution_count": 26,
   "id": "e12bfd5f-9ae1-4379-a767-46790cd27035",
   "metadata": {},
   "outputs": [
    {
     "name": "stderr",
     "output_type": "stream",
     "text": [
      "GPU available: False, used: False\n",
      "TPU available: False, using: 0 TPU cores\n",
      "HPU available: False, using: 0 HPUs\n"
     ]
    },
    {
     "name": "stdout",
     "output_type": "stream",
     "text": [
      "Epoch 400/400: 100%|█████████████| 400/400 [15:42<00:00,  2.28s/it, v_num=1, train_loss_step=810, train_loss_epoch=760]"
     ]
    },
    {
     "name": "stderr",
     "output_type": "stream",
     "text": [
      "`Trainer.fit` stopped: `max_epochs=400` reached.\n"
     ]
    },
    {
     "name": "stdout",
     "output_type": "stream",
     "text": [
      "Epoch 400/400: 100%|█████████████| 400/400 [15:42<00:00,  2.36s/it, v_num=1, train_loss_step=810, train_loss_epoch=760]\n"
     ]
    }
   ],
   "source": [
    "scvi.model.SCVI.setup_anndata(adata2)\n",
    "vae = scvi.model.SCVI(adata2)\n",
    "vae.train()"
   ]
  },
  {
   "cell_type": "code",
   "execution_count": 27,
   "id": "f09b8eaf-c950-47d7-a3de-3081746c645b",
   "metadata": {},
   "outputs": [
    {
     "name": "stdout",
     "output_type": "stream",
     "text": [
      "\u001b[34mINFO    \u001b[0m Creating doublets, preparing SOLO model.                                                                  \n"
     ]
    },
    {
     "name": "stderr",
     "output_type": "stream",
     "text": [
      "GPU available: False, used: False\n",
      "TPU available: False, using: 0 TPU cores\n",
      "HPU available: False, using: 0 HPUs\n"
     ]
    },
    {
     "name": "stdout",
     "output_type": "stream",
     "text": [
      "Epoch 231/400:  58%|█████▏   | 231/400 [05:37<04:06,  1.46s/it, v_num=1, train_loss_step=0.292, train_loss_epoch=0.264]\n",
      "Monitored metric validation_loss did not improve in the last 30 records. Best score: 0.248. Signaling Trainer to stop.\n"
     ]
    }
   ],
   "source": [
    "solo = scvi.external.SOLO.from_scvi_model(vae)\n",
    "solo.train()"
   ]
  },
  {
   "cell_type": "code",
   "execution_count": 28,
   "id": "f526d30b-b124-4384-970e-6c17994b6f77",
   "metadata": {},
   "outputs": [
    {
     "data": {
      "text/html": [
       "<div>\n",
       "<style scoped>\n",
       "    .dataframe tbody tr th:only-of-type {\n",
       "        vertical-align: middle;\n",
       "    }\n",
       "\n",
       "    .dataframe tbody tr th {\n",
       "        vertical-align: top;\n",
       "    }\n",
       "\n",
       "    .dataframe thead th {\n",
       "        text-align: right;\n",
       "    }\n",
       "</style>\n",
       "<table border=\"1\" class=\"dataframe\">\n",
       "  <thead>\n",
       "    <tr style=\"text-align: right;\">\n",
       "      <th></th>\n",
       "      <th>doublet</th>\n",
       "      <th>singlet</th>\n",
       "    </tr>\n",
       "  </thead>\n",
       "  <tbody>\n",
       "    <tr>\n",
       "      <th>AAACCCAAGCTTCATG-1-YSham_noGFP</th>\n",
       "      <td>0.015291</td>\n",
       "      <td>0.984709</td>\n",
       "    </tr>\n",
       "    <tr>\n",
       "      <th>AAACCCACAGAGTCAG-1-YSham_noGFP</th>\n",
       "      <td>0.004562</td>\n",
       "      <td>0.995438</td>\n",
       "    </tr>\n",
       "    <tr>\n",
       "      <th>AAACCCAGTAAGATCA-1-YSham_noGFP</th>\n",
       "      <td>0.093517</td>\n",
       "      <td>0.906483</td>\n",
       "    </tr>\n",
       "    <tr>\n",
       "      <th>AAACCCAGTGGCTGCT-1-YSham_noGFP</th>\n",
       "      <td>0.015361</td>\n",
       "      <td>0.984639</td>\n",
       "    </tr>\n",
       "    <tr>\n",
       "      <th>AAACCCAGTTGGTAGG-1-YSham_noGFP</th>\n",
       "      <td>0.432460</td>\n",
       "      <td>0.567540</td>\n",
       "    </tr>\n",
       "    <tr>\n",
       "      <th>...</th>\n",
       "      <td>...</td>\n",
       "      <td>...</td>\n",
       "    </tr>\n",
       "    <tr>\n",
       "      <th>TTTGTTGGTTCAAAGA-1-YSham_noGFP</th>\n",
       "      <td>0.532571</td>\n",
       "      <td>0.467429</td>\n",
       "    </tr>\n",
       "    <tr>\n",
       "      <th>TTTGTTGGTTGTCATG-1-YSham_noGFP</th>\n",
       "      <td>0.021572</td>\n",
       "      <td>0.978428</td>\n",
       "    </tr>\n",
       "    <tr>\n",
       "      <th>TTTGTTGTCAGAGTTC-1-YSham_noGFP</th>\n",
       "      <td>0.029953</td>\n",
       "      <td>0.970047</td>\n",
       "    </tr>\n",
       "    <tr>\n",
       "      <th>TTTGTTGTCCGCACGA-1-YSham_noGFP</th>\n",
       "      <td>0.436430</td>\n",
       "      <td>0.563570</td>\n",
       "    </tr>\n",
       "    <tr>\n",
       "      <th>TTTGTTGTCGACACTA-1-YSham_noGFP</th>\n",
       "      <td>0.007459</td>\n",
       "      <td>0.992541</td>\n",
       "    </tr>\n",
       "  </tbody>\n",
       "</table>\n",
       "<p>8197 rows × 2 columns</p>\n",
       "</div>"
      ],
      "text/plain": [
       "                                 doublet   singlet\n",
       "AAACCCAAGCTTCATG-1-YSham_noGFP  0.015291  0.984709\n",
       "AAACCCACAGAGTCAG-1-YSham_noGFP  0.004562  0.995438\n",
       "AAACCCAGTAAGATCA-1-YSham_noGFP  0.093517  0.906483\n",
       "AAACCCAGTGGCTGCT-1-YSham_noGFP  0.015361  0.984639\n",
       "AAACCCAGTTGGTAGG-1-YSham_noGFP  0.432460  0.567540\n",
       "...                                  ...       ...\n",
       "TTTGTTGGTTCAAAGA-1-YSham_noGFP  0.532571  0.467429\n",
       "TTTGTTGGTTGTCATG-1-YSham_noGFP  0.021572  0.978428\n",
       "TTTGTTGTCAGAGTTC-1-YSham_noGFP  0.029953  0.970047\n",
       "TTTGTTGTCCGCACGA-1-YSham_noGFP  0.436430  0.563570\n",
       "TTTGTTGTCGACACTA-1-YSham_noGFP  0.007459  0.992541\n",
       "\n",
       "[8197 rows x 2 columns]"
      ]
     },
     "execution_count": 28,
     "metadata": {},
     "output_type": "execute_result"
    }
   ],
   "source": [
    "solo.predict()"
   ]
  },
  {
   "cell_type": "code",
   "execution_count": 29,
   "id": "26461068-af4c-4640-9bb0-e7fbe4666c7d",
   "metadata": {},
   "outputs": [
    {
     "data": {
      "text/html": [
       "<div>\n",
       "<style scoped>\n",
       "    .dataframe tbody tr th:only-of-type {\n",
       "        vertical-align: middle;\n",
       "    }\n",
       "\n",
       "    .dataframe tbody tr th {\n",
       "        vertical-align: top;\n",
       "    }\n",
       "\n",
       "    .dataframe thead th {\n",
       "        text-align: right;\n",
       "    }\n",
       "</style>\n",
       "<table border=\"1\" class=\"dataframe\">\n",
       "  <thead>\n",
       "    <tr style=\"text-align: right;\">\n",
       "      <th></th>\n",
       "      <th>doublet</th>\n",
       "      <th>singlet</th>\n",
       "      <th>prediction</th>\n",
       "    </tr>\n",
       "  </thead>\n",
       "  <tbody>\n",
       "    <tr>\n",
       "      <th>AAACCCAAGCTTCATG-1-YSham_noGFP</th>\n",
       "      <td>0.015291</td>\n",
       "      <td>0.984709</td>\n",
       "      <td>singlet</td>\n",
       "    </tr>\n",
       "    <tr>\n",
       "      <th>AAACCCACAGAGTCAG-1-YSham_noGFP</th>\n",
       "      <td>0.004562</td>\n",
       "      <td>0.995438</td>\n",
       "      <td>singlet</td>\n",
       "    </tr>\n",
       "    <tr>\n",
       "      <th>AAACCCAGTAAGATCA-1-YSham_noGFP</th>\n",
       "      <td>0.093517</td>\n",
       "      <td>0.906483</td>\n",
       "      <td>singlet</td>\n",
       "    </tr>\n",
       "    <tr>\n",
       "      <th>AAACCCAGTGGCTGCT-1-YSham_noGFP</th>\n",
       "      <td>0.015361</td>\n",
       "      <td>0.984639</td>\n",
       "      <td>singlet</td>\n",
       "    </tr>\n",
       "    <tr>\n",
       "      <th>AAACCCAGTTGGTAGG-1-YSham_noGFP</th>\n",
       "      <td>0.432460</td>\n",
       "      <td>0.567540</td>\n",
       "      <td>singlet</td>\n",
       "    </tr>\n",
       "    <tr>\n",
       "      <th>...</th>\n",
       "      <td>...</td>\n",
       "      <td>...</td>\n",
       "      <td>...</td>\n",
       "    </tr>\n",
       "    <tr>\n",
       "      <th>TTTGTTGGTTCAAAGA-1-YSham_noGFP</th>\n",
       "      <td>0.532571</td>\n",
       "      <td>0.467429</td>\n",
       "      <td>doublet</td>\n",
       "    </tr>\n",
       "    <tr>\n",
       "      <th>TTTGTTGGTTGTCATG-1-YSham_noGFP</th>\n",
       "      <td>0.021572</td>\n",
       "      <td>0.978428</td>\n",
       "      <td>singlet</td>\n",
       "    </tr>\n",
       "    <tr>\n",
       "      <th>TTTGTTGTCAGAGTTC-1-YSham_noGFP</th>\n",
       "      <td>0.029953</td>\n",
       "      <td>0.970047</td>\n",
       "      <td>singlet</td>\n",
       "    </tr>\n",
       "    <tr>\n",
       "      <th>TTTGTTGTCCGCACGA-1-YSham_noGFP</th>\n",
       "      <td>0.436430</td>\n",
       "      <td>0.563570</td>\n",
       "      <td>singlet</td>\n",
       "    </tr>\n",
       "    <tr>\n",
       "      <th>TTTGTTGTCGACACTA-1-YSham_noGFP</th>\n",
       "      <td>0.007459</td>\n",
       "      <td>0.992541</td>\n",
       "      <td>singlet</td>\n",
       "    </tr>\n",
       "  </tbody>\n",
       "</table>\n",
       "<p>8197 rows × 3 columns</p>\n",
       "</div>"
      ],
      "text/plain": [
       "                                 doublet   singlet prediction\n",
       "AAACCCAAGCTTCATG-1-YSham_noGFP  0.015291  0.984709    singlet\n",
       "AAACCCACAGAGTCAG-1-YSham_noGFP  0.004562  0.995438    singlet\n",
       "AAACCCAGTAAGATCA-1-YSham_noGFP  0.093517  0.906483    singlet\n",
       "AAACCCAGTGGCTGCT-1-YSham_noGFP  0.015361  0.984639    singlet\n",
       "AAACCCAGTTGGTAGG-1-YSham_noGFP  0.432460  0.567540    singlet\n",
       "...                                  ...       ...        ...\n",
       "TTTGTTGGTTCAAAGA-1-YSham_noGFP  0.532571  0.467429    doublet\n",
       "TTTGTTGGTTGTCATG-1-YSham_noGFP  0.021572  0.978428    singlet\n",
       "TTTGTTGTCAGAGTTC-1-YSham_noGFP  0.029953  0.970047    singlet\n",
       "TTTGTTGTCCGCACGA-1-YSham_noGFP  0.436430  0.563570    singlet\n",
       "TTTGTTGTCGACACTA-1-YSham_noGFP  0.007459  0.992541    singlet\n",
       "\n",
       "[8197 rows x 3 columns]"
      ]
     },
     "execution_count": 29,
     "metadata": {},
     "output_type": "execute_result"
    }
   ],
   "source": [
    "df = solo.predict()\n",
    "df['prediction'] = solo.predict(soft = False)\n",
    "df"
   ]
  },
  {
   "cell_type": "code",
   "execution_count": 30,
   "id": "dbe47778-fe70-4c46-af50-16432fe00597",
   "metadata": {},
   "outputs": [
    {
     "data": {
      "text/html": [
       "<div>\n",
       "<style scoped>\n",
       "    .dataframe tbody tr th:only-of-type {\n",
       "        vertical-align: middle;\n",
       "    }\n",
       "\n",
       "    .dataframe tbody tr th {\n",
       "        vertical-align: top;\n",
       "    }\n",
       "\n",
       "    .dataframe thead th {\n",
       "        text-align: right;\n",
       "    }\n",
       "</style>\n",
       "<table border=\"1\" class=\"dataframe\">\n",
       "  <thead>\n",
       "    <tr style=\"text-align: right;\">\n",
       "      <th></th>\n",
       "      <th>doublet</th>\n",
       "      <th>singlet</th>\n",
       "    </tr>\n",
       "    <tr>\n",
       "      <th>prediction</th>\n",
       "      <th></th>\n",
       "      <th></th>\n",
       "    </tr>\n",
       "  </thead>\n",
       "  <tbody>\n",
       "    <tr>\n",
       "      <th>doublet</th>\n",
       "      <td>892</td>\n",
       "      <td>892</td>\n",
       "    </tr>\n",
       "    <tr>\n",
       "      <th>singlet</th>\n",
       "      <td>7305</td>\n",
       "      <td>7305</td>\n",
       "    </tr>\n",
       "  </tbody>\n",
       "</table>\n",
       "</div>"
      ],
      "text/plain": [
       "            doublet  singlet\n",
       "prediction                  \n",
       "doublet         892      892\n",
       "singlet        7305     7305"
      ]
     },
     "execution_count": 30,
     "metadata": {},
     "output_type": "execute_result"
    }
   ],
   "source": [
    "df.groupby('prediction').count()"
   ]
  },
  {
   "cell_type": "code",
   "execution_count": 31,
   "id": "25c26784-a528-4d4b-80d0-5b27f3927949",
   "metadata": {},
   "outputs": [
    {
     "data": {
      "text/html": [
       "<div>\n",
       "<style scoped>\n",
       "    .dataframe tbody tr th:only-of-type {\n",
       "        vertical-align: middle;\n",
       "    }\n",
       "\n",
       "    .dataframe tbody tr th {\n",
       "        vertical-align: top;\n",
       "    }\n",
       "\n",
       "    .dataframe thead th {\n",
       "        text-align: right;\n",
       "    }\n",
       "</style>\n",
       "<table border=\"1\" class=\"dataframe\">\n",
       "  <thead>\n",
       "    <tr style=\"text-align: right;\">\n",
       "      <th></th>\n",
       "      <th>doublet</th>\n",
       "      <th>singlet</th>\n",
       "      <th>prediction</th>\n",
       "      <th>dif</th>\n",
       "    </tr>\n",
       "  </thead>\n",
       "  <tbody>\n",
       "    <tr>\n",
       "      <th>AAACCCAAGCTTCATG-1-YSham_noGFP</th>\n",
       "      <td>0.015291</td>\n",
       "      <td>0.984709</td>\n",
       "      <td>singlet</td>\n",
       "      <td>-0.969417</td>\n",
       "    </tr>\n",
       "    <tr>\n",
       "      <th>AAACCCACAGAGTCAG-1-YSham_noGFP</th>\n",
       "      <td>0.004562</td>\n",
       "      <td>0.995438</td>\n",
       "      <td>singlet</td>\n",
       "      <td>-0.990876</td>\n",
       "    </tr>\n",
       "    <tr>\n",
       "      <th>AAACCCAGTAAGATCA-1-YSham_noGFP</th>\n",
       "      <td>0.093517</td>\n",
       "      <td>0.906483</td>\n",
       "      <td>singlet</td>\n",
       "      <td>-0.812966</td>\n",
       "    </tr>\n",
       "    <tr>\n",
       "      <th>AAACCCAGTGGCTGCT-1-YSham_noGFP</th>\n",
       "      <td>0.015361</td>\n",
       "      <td>0.984639</td>\n",
       "      <td>singlet</td>\n",
       "      <td>-0.969277</td>\n",
       "    </tr>\n",
       "    <tr>\n",
       "      <th>AAACCCAGTTGGTAGG-1-YSham_noGFP</th>\n",
       "      <td>0.432460</td>\n",
       "      <td>0.567540</td>\n",
       "      <td>singlet</td>\n",
       "      <td>-0.135081</td>\n",
       "    </tr>\n",
       "    <tr>\n",
       "      <th>...</th>\n",
       "      <td>...</td>\n",
       "      <td>...</td>\n",
       "      <td>...</td>\n",
       "      <td>...</td>\n",
       "    </tr>\n",
       "    <tr>\n",
       "      <th>TTTGTTGGTTCAAAGA-1-YSham_noGFP</th>\n",
       "      <td>0.532571</td>\n",
       "      <td>0.467429</td>\n",
       "      <td>doublet</td>\n",
       "      <td>0.065141</td>\n",
       "    </tr>\n",
       "    <tr>\n",
       "      <th>TTTGTTGGTTGTCATG-1-YSham_noGFP</th>\n",
       "      <td>0.021572</td>\n",
       "      <td>0.978428</td>\n",
       "      <td>singlet</td>\n",
       "      <td>-0.956856</td>\n",
       "    </tr>\n",
       "    <tr>\n",
       "      <th>TTTGTTGTCAGAGTTC-1-YSham_noGFP</th>\n",
       "      <td>0.029953</td>\n",
       "      <td>0.970047</td>\n",
       "      <td>singlet</td>\n",
       "      <td>-0.940094</td>\n",
       "    </tr>\n",
       "    <tr>\n",
       "      <th>TTTGTTGTCCGCACGA-1-YSham_noGFP</th>\n",
       "      <td>0.436430</td>\n",
       "      <td>0.563570</td>\n",
       "      <td>singlet</td>\n",
       "      <td>-0.127140</td>\n",
       "    </tr>\n",
       "    <tr>\n",
       "      <th>TTTGTTGTCGACACTA-1-YSham_noGFP</th>\n",
       "      <td>0.007459</td>\n",
       "      <td>0.992541</td>\n",
       "      <td>singlet</td>\n",
       "      <td>-0.985081</td>\n",
       "    </tr>\n",
       "  </tbody>\n",
       "</table>\n",
       "<p>8197 rows × 4 columns</p>\n",
       "</div>"
      ],
      "text/plain": [
       "                                 doublet   singlet prediction       dif\n",
       "AAACCCAAGCTTCATG-1-YSham_noGFP  0.015291  0.984709    singlet -0.969417\n",
       "AAACCCACAGAGTCAG-1-YSham_noGFP  0.004562  0.995438    singlet -0.990876\n",
       "AAACCCAGTAAGATCA-1-YSham_noGFP  0.093517  0.906483    singlet -0.812966\n",
       "AAACCCAGTGGCTGCT-1-YSham_noGFP  0.015361  0.984639    singlet -0.969277\n",
       "AAACCCAGTTGGTAGG-1-YSham_noGFP  0.432460  0.567540    singlet -0.135081\n",
       "...                                  ...       ...        ...       ...\n",
       "TTTGTTGGTTCAAAGA-1-YSham_noGFP  0.532571  0.467429    doublet  0.065141\n",
       "TTTGTTGGTTGTCATG-1-YSham_noGFP  0.021572  0.978428    singlet -0.956856\n",
       "TTTGTTGTCAGAGTTC-1-YSham_noGFP  0.029953  0.970047    singlet -0.940094\n",
       "TTTGTTGTCCGCACGA-1-YSham_noGFP  0.436430  0.563570    singlet -0.127140\n",
       "TTTGTTGTCGACACTA-1-YSham_noGFP  0.007459  0.992541    singlet -0.985081\n",
       "\n",
       "[8197 rows x 4 columns]"
      ]
     },
     "execution_count": 31,
     "metadata": {},
     "output_type": "execute_result"
    }
   ],
   "source": [
    "df['dif'] = df.doublet - df.singlet\n",
    "df"
   ]
  },
  {
   "cell_type": "code",
   "execution_count": 32,
   "id": "b2232897-b983-4c1f-8cdc-743e13476680",
   "metadata": {},
   "outputs": [
    {
     "data": {
      "text/plain": [
       "<seaborn.axisgrid.FacetGrid at 0x216ff9ebf40>"
      ]
     },
     "execution_count": 32,
     "metadata": {},
     "output_type": "execute_result"
    },
    {
     "data": {
      "image/png": "[encoded data removed]",
      "text/plain": [
       "<Figure size 500x500 with 1 Axes>"
      ]
     },
     "metadata": {
      "image/png": {
       "height": 478,
       "width": 477
      }
     },
     "output_type": "display_data"
    }
   ],
   "source": [
    "sns.displot(df[df.prediction == 'doublet'], x = 'dif')"
   ]
  },
  {
   "cell_type": "code",
   "execution_count": 33,
   "id": "e9c2abea-7cbd-41c4-88a4-036c09be2378",
   "metadata": {},
   "outputs": [
    {
     "data": {
      "text/html": [
       "<div>\n",
       "<style scoped>\n",
       "    .dataframe tbody tr th:only-of-type {\n",
       "        vertical-align: middle;\n",
       "    }\n",
       "\n",
       "    .dataframe tbody tr th {\n",
       "        vertical-align: top;\n",
       "    }\n",
       "\n",
       "    .dataframe thead th {\n",
       "        text-align: right;\n",
       "    }\n",
       "</style>\n",
       "<table border=\"1\" class=\"dataframe\">\n",
       "  <thead>\n",
       "    <tr style=\"text-align: right;\">\n",
       "      <th></th>\n",
       "      <th>doublet</th>\n",
       "      <th>singlet</th>\n",
       "      <th>prediction</th>\n",
       "      <th>dif</th>\n",
       "    </tr>\n",
       "  </thead>\n",
       "  <tbody>\n",
       "    <tr>\n",
       "      <th>AAACGAAGTCACAGAG-1-YSham_noGFP</th>\n",
       "      <td>0.980101</td>\n",
       "      <td>0.019899</td>\n",
       "      <td>doublet</td>\n",
       "      <td>0.960201</td>\n",
       "    </tr>\n",
       "    <tr>\n",
       "      <th>AAAGAACAGTCATGAA-1-YSham_noGFP</th>\n",
       "      <td>0.966185</td>\n",
       "      <td>0.033815</td>\n",
       "      <td>doublet</td>\n",
       "      <td>0.932370</td>\n",
       "    </tr>\n",
       "    <tr>\n",
       "      <th>AAAGGTACAACCAACT-1-YSham_noGFP</th>\n",
       "      <td>0.831793</td>\n",
       "      <td>0.168207</td>\n",
       "      <td>doublet</td>\n",
       "      <td>0.663586</td>\n",
       "    </tr>\n",
       "    <tr>\n",
       "      <th>AAATGGAGTCACCACG-1-YSham_noGFP</th>\n",
       "      <td>0.767230</td>\n",
       "      <td>0.232770</td>\n",
       "      <td>doublet</td>\n",
       "      <td>0.534460</td>\n",
       "    </tr>\n",
       "    <tr>\n",
       "      <th>AACAAAGTCAGCCTTC-1-YSham_noGFP</th>\n",
       "      <td>0.989189</td>\n",
       "      <td>0.010811</td>\n",
       "      <td>doublet</td>\n",
       "      <td>0.978377</td>\n",
       "    </tr>\n",
       "    <tr>\n",
       "      <th>...</th>\n",
       "      <td>...</td>\n",
       "      <td>...</td>\n",
       "      <td>...</td>\n",
       "      <td>...</td>\n",
       "    </tr>\n",
       "    <tr>\n",
       "      <th>TTTGATCTCAGTCCGG-1-YSham_noGFP</th>\n",
       "      <td>0.839175</td>\n",
       "      <td>0.160825</td>\n",
       "      <td>doublet</td>\n",
       "      <td>0.678350</td>\n",
       "    </tr>\n",
       "    <tr>\n",
       "      <th>TTTGGAGCAAGGTCGA-1-YSham_noGFP</th>\n",
       "      <td>0.866263</td>\n",
       "      <td>0.133737</td>\n",
       "      <td>doublet</td>\n",
       "      <td>0.732526</td>\n",
       "    </tr>\n",
       "    <tr>\n",
       "      <th>TTTGGTTGTGATTGGG-1-YSham_noGFP</th>\n",
       "      <td>0.981843</td>\n",
       "      <td>0.018157</td>\n",
       "      <td>doublet</td>\n",
       "      <td>0.963687</td>\n",
       "    </tr>\n",
       "    <tr>\n",
       "      <th>TTTGGTTTCTATCACT-1-YSham_noGFP</th>\n",
       "      <td>0.642369</td>\n",
       "      <td>0.357631</td>\n",
       "      <td>doublet</td>\n",
       "      <td>0.284738</td>\n",
       "    </tr>\n",
       "    <tr>\n",
       "      <th>TTTGTTGCATCCGTGG-1-YSham_noGFP</th>\n",
       "      <td>0.739586</td>\n",
       "      <td>0.260414</td>\n",
       "      <td>doublet</td>\n",
       "      <td>0.479173</td>\n",
       "    </tr>\n",
       "  </tbody>\n",
       "</table>\n",
       "<p>620 rows × 4 columns</p>\n",
       "</div>"
      ],
      "text/plain": [
       "                                 doublet   singlet prediction       dif\n",
       "AAACGAAGTCACAGAG-1-YSham_noGFP  0.980101  0.019899    doublet  0.960201\n",
       "AAAGAACAGTCATGAA-1-YSham_noGFP  0.966185  0.033815    doublet  0.932370\n",
       "AAAGGTACAACCAACT-1-YSham_noGFP  0.831793  0.168207    doublet  0.663586\n",
       "AAATGGAGTCACCACG-1-YSham_noGFP  0.767230  0.232770    doublet  0.534460\n",
       "AACAAAGTCAGCCTTC-1-YSham_noGFP  0.989189  0.010811    doublet  0.978377\n",
       "...                                  ...       ...        ...       ...\n",
       "TTTGATCTCAGTCCGG-1-YSham_noGFP  0.839175  0.160825    doublet  0.678350\n",
       "TTTGGAGCAAGGTCGA-1-YSham_noGFP  0.866263  0.133737    doublet  0.732526\n",
       "TTTGGTTGTGATTGGG-1-YSham_noGFP  0.981843  0.018157    doublet  0.963687\n",
       "TTTGGTTTCTATCACT-1-YSham_noGFP  0.642369  0.357631    doublet  0.284738\n",
       "TTTGTTGCATCCGTGG-1-YSham_noGFP  0.739586  0.260414    doublet  0.479173\n",
       "\n",
       "[620 rows x 4 columns]"
      ]
     },
     "execution_count": 33,
     "metadata": {},
     "output_type": "execute_result"
    }
   ],
   "source": [
    "doublets = df[(df.prediction == 'doublet') & (df.dif > 0.2)]\n",
    "doublets"
   ]
  },
  {
   "cell_type": "code",
   "execution_count": 34,
   "id": "94ee5173-6130-4c54-b76b-3af182a4be5c",
   "metadata": {},
   "outputs": [
    {
     "data": {
      "text/plain": [
       "AnnData object with n_obs × n_vars = 8197 × 3000\n",
       "    obs: 'batch', '_scvi_batch', '_scvi_labels'\n",
       "    var: 'gene_ids', 'feature_types', 'genome', 'n_cells', 'highly_variable', 'highly_variable_rank', 'means', 'variances', 'variances_norm'\n",
       "    uns: 'hvg', '_scvi_uuid', '_scvi_manager_uuid'"
      ]
     },
     "execution_count": 34,
     "metadata": {},
     "output_type": "execute_result"
    }
   ],
   "source": [
    "adata2"
   ]
  },
  {
   "cell_type": "code",
   "execution_count": 35,
   "id": "64b5b1a3-ce6f-42f4-a687-f33513281723",
   "metadata": {},
   "outputs": [],
   "source": [
    "adata2 = sc.read_h5ad(\"YSham_noGFP_adata.h5ad\")"
   ]
  },
  {
   "cell_type": "code",
   "execution_count": 36,
   "id": "cd4dac4b-438c-4119-affc-da34522534f2",
   "metadata": {},
   "outputs": [
    {
     "data": {
      "text/html": [
       "<div>\n",
       "<style scoped>\n",
       "    .dataframe tbody tr th:only-of-type {\n",
       "        vertical-align: middle;\n",
       "    }\n",
       "\n",
       "    .dataframe tbody tr th {\n",
       "        vertical-align: top;\n",
       "    }\n",
       "\n",
       "    .dataframe thead th {\n",
       "        text-align: right;\n",
       "    }\n",
       "</style>\n",
       "<table border=\"1\" class=\"dataframe\">\n",
       "  <thead>\n",
       "    <tr style=\"text-align: right;\">\n",
       "      <th></th>\n",
       "      <th>batch</th>\n",
       "    </tr>\n",
       "  </thead>\n",
       "  <tbody>\n",
       "    <tr>\n",
       "      <th>AAACCCAAGCTTCATG-1-YSham_noGFP</th>\n",
       "      <td>YSham_noGFP</td>\n",
       "    </tr>\n",
       "    <tr>\n",
       "      <th>AAACCCACAGAGTCAG-1-YSham_noGFP</th>\n",
       "      <td>YSham_noGFP</td>\n",
       "    </tr>\n",
       "    <tr>\n",
       "      <th>AAACCCAGTAAGATCA-1-YSham_noGFP</th>\n",
       "      <td>YSham_noGFP</td>\n",
       "    </tr>\n",
       "    <tr>\n",
       "      <th>AAACCCAGTGGCTGCT-1-YSham_noGFP</th>\n",
       "      <td>YSham_noGFP</td>\n",
       "    </tr>\n",
       "    <tr>\n",
       "      <th>AAACCCAGTTGGTAGG-1-YSham_noGFP</th>\n",
       "      <td>YSham_noGFP</td>\n",
       "    </tr>\n",
       "    <tr>\n",
       "      <th>...</th>\n",
       "      <td>...</td>\n",
       "    </tr>\n",
       "    <tr>\n",
       "      <th>TTTGTTGGTTCAAAGA-1-YSham_noGFP</th>\n",
       "      <td>YSham_noGFP</td>\n",
       "    </tr>\n",
       "    <tr>\n",
       "      <th>TTTGTTGGTTGTCATG-1-YSham_noGFP</th>\n",
       "      <td>YSham_noGFP</td>\n",
       "    </tr>\n",
       "    <tr>\n",
       "      <th>TTTGTTGTCAGAGTTC-1-YSham_noGFP</th>\n",
       "      <td>YSham_noGFP</td>\n",
       "    </tr>\n",
       "    <tr>\n",
       "      <th>TTTGTTGTCCGCACGA-1-YSham_noGFP</th>\n",
       "      <td>YSham_noGFP</td>\n",
       "    </tr>\n",
       "    <tr>\n",
       "      <th>TTTGTTGTCGACACTA-1-YSham_noGFP</th>\n",
       "      <td>YSham_noGFP</td>\n",
       "    </tr>\n",
       "  </tbody>\n",
       "</table>\n",
       "<p>8197 rows × 1 columns</p>\n",
       "</div>"
      ],
      "text/plain": [
       "                                      batch\n",
       "AAACCCAAGCTTCATG-1-YSham_noGFP  YSham_noGFP\n",
       "AAACCCACAGAGTCAG-1-YSham_noGFP  YSham_noGFP\n",
       "AAACCCAGTAAGATCA-1-YSham_noGFP  YSham_noGFP\n",
       "AAACCCAGTGGCTGCT-1-YSham_noGFP  YSham_noGFP\n",
       "AAACCCAGTTGGTAGG-1-YSham_noGFP  YSham_noGFP\n",
       "...                                     ...\n",
       "TTTGTTGGTTCAAAGA-1-YSham_noGFP  YSham_noGFP\n",
       "TTTGTTGGTTGTCATG-1-YSham_noGFP  YSham_noGFP\n",
       "TTTGTTGTCAGAGTTC-1-YSham_noGFP  YSham_noGFP\n",
       "TTTGTTGTCCGCACGA-1-YSham_noGFP  YSham_noGFP\n",
       "TTTGTTGTCGACACTA-1-YSham_noGFP  YSham_noGFP\n",
       "\n",
       "[8197 rows x 1 columns]"
      ]
     },
     "execution_count": 36,
     "metadata": {},
     "output_type": "execute_result"
    }
   ],
   "source": [
    "adata2.obs"
   ]
  },
  {
   "cell_type": "code",
   "execution_count": 37,
   "id": "a6fdeca9-7c00-4460-965a-35ab7b88ed0f",
   "metadata": {},
   "outputs": [],
   "source": [
    "adata2.obs['doublet'] = adata2.obs.index.isin(doublets.index) "
   ]
  },
  {
   "cell_type": "code",
   "execution_count": 38,
   "id": "ad300518-d8a9-40d3-9e11-f5a6dcdd3e54",
   "metadata": {},
   "outputs": [
    {
     "data": {
      "text/html": [
       "<div>\n",
       "<style scoped>\n",
       "    .dataframe tbody tr th:only-of-type {\n",
       "        vertical-align: middle;\n",
       "    }\n",
       "\n",
       "    .dataframe tbody tr th {\n",
       "        vertical-align: top;\n",
       "    }\n",
       "\n",
       "    .dataframe thead th {\n",
       "        text-align: right;\n",
       "    }\n",
       "</style>\n",
       "<table border=\"1\" class=\"dataframe\">\n",
       "  <thead>\n",
       "    <tr style=\"text-align: right;\">\n",
       "      <th></th>\n",
       "      <th>batch</th>\n",
       "      <th>doublet</th>\n",
       "    </tr>\n",
       "  </thead>\n",
       "  <tbody>\n",
       "    <tr>\n",
       "      <th>AAACCCAAGCTTCATG-1-YSham_noGFP</th>\n",
       "      <td>YSham_noGFP</td>\n",
       "      <td>False</td>\n",
       "    </tr>\n",
       "    <tr>\n",
       "      <th>AAACCCACAGAGTCAG-1-YSham_noGFP</th>\n",
       "      <td>YSham_noGFP</td>\n",
       "      <td>False</td>\n",
       "    </tr>\n",
       "    <tr>\n",
       "      <th>AAACCCAGTAAGATCA-1-YSham_noGFP</th>\n",
       "      <td>YSham_noGFP</td>\n",
       "      <td>False</td>\n",
       "    </tr>\n",
       "    <tr>\n",
       "      <th>AAACCCAGTGGCTGCT-1-YSham_noGFP</th>\n",
       "      <td>YSham_noGFP</td>\n",
       "      <td>False</td>\n",
       "    </tr>\n",
       "    <tr>\n",
       "      <th>AAACCCAGTTGGTAGG-1-YSham_noGFP</th>\n",
       "      <td>YSham_noGFP</td>\n",
       "      <td>False</td>\n",
       "    </tr>\n",
       "    <tr>\n",
       "      <th>...</th>\n",
       "      <td>...</td>\n",
       "      <td>...</td>\n",
       "    </tr>\n",
       "    <tr>\n",
       "      <th>TTTGTTGGTTCAAAGA-1-YSham_noGFP</th>\n",
       "      <td>YSham_noGFP</td>\n",
       "      <td>False</td>\n",
       "    </tr>\n",
       "    <tr>\n",
       "      <th>TTTGTTGGTTGTCATG-1-YSham_noGFP</th>\n",
       "      <td>YSham_noGFP</td>\n",
       "      <td>False</td>\n",
       "    </tr>\n",
       "    <tr>\n",
       "      <th>TTTGTTGTCAGAGTTC-1-YSham_noGFP</th>\n",
       "      <td>YSham_noGFP</td>\n",
       "      <td>False</td>\n",
       "    </tr>\n",
       "    <tr>\n",
       "      <th>TTTGTTGTCCGCACGA-1-YSham_noGFP</th>\n",
       "      <td>YSham_noGFP</td>\n",
       "      <td>False</td>\n",
       "    </tr>\n",
       "    <tr>\n",
       "      <th>TTTGTTGTCGACACTA-1-YSham_noGFP</th>\n",
       "      <td>YSham_noGFP</td>\n",
       "      <td>False</td>\n",
       "    </tr>\n",
       "  </tbody>\n",
       "</table>\n",
       "<p>8197 rows × 2 columns</p>\n",
       "</div>"
      ],
      "text/plain": [
       "                                      batch  doublet\n",
       "AAACCCAAGCTTCATG-1-YSham_noGFP  YSham_noGFP    False\n",
       "AAACCCACAGAGTCAG-1-YSham_noGFP  YSham_noGFP    False\n",
       "AAACCCAGTAAGATCA-1-YSham_noGFP  YSham_noGFP    False\n",
       "AAACCCAGTGGCTGCT-1-YSham_noGFP  YSham_noGFP    False\n",
       "AAACCCAGTTGGTAGG-1-YSham_noGFP  YSham_noGFP    False\n",
       "...                                     ...      ...\n",
       "TTTGTTGGTTCAAAGA-1-YSham_noGFP  YSham_noGFP    False\n",
       "TTTGTTGGTTGTCATG-1-YSham_noGFP  YSham_noGFP    False\n",
       "TTTGTTGTCAGAGTTC-1-YSham_noGFP  YSham_noGFP    False\n",
       "TTTGTTGTCCGCACGA-1-YSham_noGFP  YSham_noGFP    False\n",
       "TTTGTTGTCGACACTA-1-YSham_noGFP  YSham_noGFP    False\n",
       "\n",
       "[8197 rows x 2 columns]"
      ]
     },
     "execution_count": 38,
     "metadata": {},
     "output_type": "execute_result"
    }
   ],
   "source": [
    "adata2.obs"
   ]
  },
  {
   "cell_type": "code",
   "execution_count": 39,
   "id": "1e1dd93a-dcbc-4a17-9b52-3e54dcfef3e4",
   "metadata": {},
   "outputs": [
    {
     "data": {
      "text/plain": [
       "View of AnnData object with n_obs × n_vars = 7577 × 55402\n",
       "    obs: 'batch', 'doublet'\n",
       "    var: 'gene_ids', 'feature_types', 'genome'"
      ]
     },
     "execution_count": 39,
     "metadata": {},
     "output_type": "execute_result"
    }
   ],
   "source": [
    "adata2 = adata2[~adata2.obs.doublet]\n",
    "adata2"
   ]
  },
  {
   "cell_type": "code",
   "execution_count": 40,
   "id": "26d85cee-d2e4-4083-b362-b712c3befbf0",
   "metadata": {},
   "outputs": [
    {
     "data": {
      "text/plain": [
       "View of AnnData object with n_obs × n_vars = 7577 × 55402\n",
       "    obs: 'batch', 'doublet'\n",
       "    var: 'gene_ids', 'feature_types', 'genome'"
      ]
     },
     "execution_count": 40,
     "metadata": {},
     "output_type": "execute_result"
    }
   ],
   "source": [
    "# Save the filtered AnnData object\n",
    "adata2.write(\"YSham_noGFP_adata_filtered_with_SOLO.h5ad\")\n",
    "adata2"
   ]
  },
  {
   "cell_type": "code",
   "execution_count": 40,
   "id": "043280f7-f3fc-4556-bb83-95b9c76a0327",
   "metadata": {},
   "outputs": [],
   "source": [
    "#sample 3"
   ]
  },
  {
   "cell_type": "code",
   "execution_count": 41,
   "id": "c6ddf545-54e7-4de7-ad9c-5ba698f786c9",
   "metadata": {},
   "outputs": [
    {
     "data": {
      "text/plain": [
       "AnnData object with n_obs × n_vars = 5164 × 55402\n",
       "    obs: 'batch'\n",
       "    var: 'gene_ids', 'feature_types', 'genome'"
      ]
     },
     "execution_count": 41,
     "metadata": {},
     "output_type": "execute_result"
    }
   ],
   "source": [
    "adata3"
   ]
  },
  {
   "cell_type": "code",
   "execution_count": 42,
   "id": "5ea74be3-2940-4caa-9935-749fb54197bf",
   "metadata": {},
   "outputs": [
    {
     "data": {
      "text/plain": [
       "AnnData object with n_obs × n_vars = 5164 × 22949\n",
       "    obs: 'batch'\n",
       "    var: 'gene_ids', 'feature_types', 'genome', 'n_cells'"
      ]
     },
     "execution_count": 42,
     "metadata": {},
     "output_type": "execute_result"
    }
   ],
   "source": [
    "sc.pp.filter_genes(adata3, min_cells = 10)\n",
    "adata3"
   ]
  },
  {
   "cell_type": "code",
   "execution_count": 43,
   "id": "bfac1804-69e5-44f2-b716-fd1b1064b7a8",
   "metadata": {},
   "outputs": [],
   "source": [
    "sc.pp.highly_variable_genes(adata3, n_top_genes = 3000, subset = True, flavor = 'seurat_v3')"
   ]
  },
  {
   "cell_type": "code",
   "execution_count": 44,
   "id": "1db53e8f-dfad-41ff-9a77-ad19f5926a49",
   "metadata": {},
   "outputs": [
    {
     "name": "stderr",
     "output_type": "stream",
     "text": [
      "GPU available: False, used: False\n",
      "TPU available: False, using: 0 TPU cores\n",
      "HPU available: False, using: 0 HPUs\n"
     ]
    },
    {
     "name": "stdout",
     "output_type": "stream",
     "text": [
      "Epoch 400/400: 100%|█████| 400/400 [11:18<00:00,  1.69s/it, v_num=1, train_loss_step=1.05e+3, train_loss_epoch=1.07e+3]"
     ]
    },
    {
     "name": "stderr",
     "output_type": "stream",
     "text": [
      "`Trainer.fit` stopped: `max_epochs=400` reached.\n"
     ]
    },
    {
     "name": "stdout",
     "output_type": "stream",
     "text": [
      "Epoch 400/400: 100%|█████| 400/400 [11:18<00:00,  1.70s/it, v_num=1, train_loss_step=1.05e+3, train_loss_epoch=1.07e+3]\n"
     ]
    }
   ],
   "source": [
    "scvi.model.SCVI.setup_anndata(adata3)\n",
    "vae = scvi.model.SCVI(adata3)\n",
    "vae.train()\n"
   ]
  },
  {
   "cell_type": "code",
   "execution_count": 45,
   "id": "3bbfefe9-cadd-4482-ab3e-2d24c759e595",
   "metadata": {},
   "outputs": [
    {
     "name": "stdout",
     "output_type": "stream",
     "text": [
      "\u001b[34mINFO    \u001b[0m Creating doublets, preparing SOLO model.                                                                  \n"
     ]
    },
    {
     "name": "stderr",
     "output_type": "stream",
     "text": [
      "GPU available: False, used: False\n",
      "TPU available: False, using: 0 TPU cores\n",
      "HPU available: False, using: 0 HPUs\n"
     ]
    },
    {
     "name": "stdout",
     "output_type": "stream",
     "text": [
      "Epoch 252/400:  63%|█████▋   | 252/400 [04:03<02:22,  1.04it/s, v_num=1, train_loss_step=0.362, train_loss_epoch=0.332]\n",
      "Monitored metric validation_loss did not improve in the last 30 records. Best score: 0.320. Signaling Trainer to stop.\n"
     ]
    }
   ],
   "source": [
    "solo = scvi.external.SOLO.from_scvi_model(vae)\n",
    "solo.train()"
   ]
  },
  {
   "cell_type": "code",
   "execution_count": 46,
   "id": "6b334a5c-0d99-4f51-9223-fc54eb07e859",
   "metadata": {},
   "outputs": [
    {
     "data": {
      "text/html": [
       "<div>\n",
       "<style scoped>\n",
       "    .dataframe tbody tr th:only-of-type {\n",
       "        vertical-align: middle;\n",
       "    }\n",
       "\n",
       "    .dataframe tbody tr th {\n",
       "        vertical-align: top;\n",
       "    }\n",
       "\n",
       "    .dataframe thead th {\n",
       "        text-align: right;\n",
       "    }\n",
       "</style>\n",
       "<table border=\"1\" class=\"dataframe\">\n",
       "  <thead>\n",
       "    <tr style=\"text-align: right;\">\n",
       "      <th></th>\n",
       "      <th>doublet</th>\n",
       "      <th>singlet</th>\n",
       "    </tr>\n",
       "  </thead>\n",
       "  <tbody>\n",
       "    <tr>\n",
       "      <th>AAACCCAAGTACAGAT-1-YOV_GFP</th>\n",
       "      <td>0.372337</td>\n",
       "      <td>0.627663</td>\n",
       "    </tr>\n",
       "    <tr>\n",
       "      <th>AAACCCAAGTGGAATT-1-YOV_GFP</th>\n",
       "      <td>0.275313</td>\n",
       "      <td>0.724687</td>\n",
       "    </tr>\n",
       "    <tr>\n",
       "      <th>AAACCCACAAGAGGCT-1-YOV_GFP</th>\n",
       "      <td>0.874850</td>\n",
       "      <td>0.125150</td>\n",
       "    </tr>\n",
       "    <tr>\n",
       "      <th>AAACCCACAGGTACGA-1-YOV_GFP</th>\n",
       "      <td>0.021288</td>\n",
       "      <td>0.978712</td>\n",
       "    </tr>\n",
       "    <tr>\n",
       "      <th>AAACCCAGTTCGGCCA-1-YOV_GFP</th>\n",
       "      <td>0.352475</td>\n",
       "      <td>0.647525</td>\n",
       "    </tr>\n",
       "    <tr>\n",
       "      <th>...</th>\n",
       "      <td>...</td>\n",
       "      <td>...</td>\n",
       "    </tr>\n",
       "    <tr>\n",
       "      <th>TTTGGTTTCCCGGTAG-1-YOV_GFP</th>\n",
       "      <td>0.230435</td>\n",
       "      <td>0.769565</td>\n",
       "    </tr>\n",
       "    <tr>\n",
       "      <th>TTTGTTGAGATACAGT-1-YOV_GFP</th>\n",
       "      <td>0.151824</td>\n",
       "      <td>0.848176</td>\n",
       "    </tr>\n",
       "    <tr>\n",
       "      <th>TTTGTTGAGTCGAGGT-1-YOV_GFP</th>\n",
       "      <td>0.350064</td>\n",
       "      <td>0.649936</td>\n",
       "    </tr>\n",
       "    <tr>\n",
       "      <th>TTTGTTGTCAAACGTC-1-YOV_GFP</th>\n",
       "      <td>0.203525</td>\n",
       "      <td>0.796475</td>\n",
       "    </tr>\n",
       "    <tr>\n",
       "      <th>TTTGTTGTCCCGAAAT-1-YOV_GFP</th>\n",
       "      <td>0.089326</td>\n",
       "      <td>0.910674</td>\n",
       "    </tr>\n",
       "  </tbody>\n",
       "</table>\n",
       "<p>5164 rows × 2 columns</p>\n",
       "</div>"
      ],
      "text/plain": [
       "                             doublet   singlet\n",
       "AAACCCAAGTACAGAT-1-YOV_GFP  0.372337  0.627663\n",
       "AAACCCAAGTGGAATT-1-YOV_GFP  0.275313  0.724687\n",
       "AAACCCACAAGAGGCT-1-YOV_GFP  0.874850  0.125150\n",
       "AAACCCACAGGTACGA-1-YOV_GFP  0.021288  0.978712\n",
       "AAACCCAGTTCGGCCA-1-YOV_GFP  0.352475  0.647525\n",
       "...                              ...       ...\n",
       "TTTGGTTTCCCGGTAG-1-YOV_GFP  0.230435  0.769565\n",
       "TTTGTTGAGATACAGT-1-YOV_GFP  0.151824  0.848176\n",
       "TTTGTTGAGTCGAGGT-1-YOV_GFP  0.350064  0.649936\n",
       "TTTGTTGTCAAACGTC-1-YOV_GFP  0.203525  0.796475\n",
       "TTTGTTGTCCCGAAAT-1-YOV_GFP  0.089326  0.910674\n",
       "\n",
       "[5164 rows x 2 columns]"
      ]
     },
     "execution_count": 46,
     "metadata": {},
     "output_type": "execute_result"
    }
   ],
   "source": [
    "solo.predict()"
   ]
  },
  {
   "cell_type": "code",
   "execution_count": 47,
   "id": "c6d0dfad-a8f0-433a-8cfa-730ec354ceaf",
   "metadata": {},
   "outputs": [
    {
     "data": {
      "text/html": [
       "<div>\n",
       "<style scoped>\n",
       "    .dataframe tbody tr th:only-of-type {\n",
       "        vertical-align: middle;\n",
       "    }\n",
       "\n",
       "    .dataframe tbody tr th {\n",
       "        vertical-align: top;\n",
       "    }\n",
       "\n",
       "    .dataframe thead th {\n",
       "        text-align: right;\n",
       "    }\n",
       "</style>\n",
       "<table border=\"1\" class=\"dataframe\">\n",
       "  <thead>\n",
       "    <tr style=\"text-align: right;\">\n",
       "      <th></th>\n",
       "      <th>doublet</th>\n",
       "      <th>singlet</th>\n",
       "      <th>prediction</th>\n",
       "    </tr>\n",
       "  </thead>\n",
       "  <tbody>\n",
       "    <tr>\n",
       "      <th>AAACCCAAGTACAGAT-1-YOV_GFP</th>\n",
       "      <td>0.372337</td>\n",
       "      <td>0.627663</td>\n",
       "      <td>singlet</td>\n",
       "    </tr>\n",
       "    <tr>\n",
       "      <th>AAACCCAAGTGGAATT-1-YOV_GFP</th>\n",
       "      <td>0.275313</td>\n",
       "      <td>0.724687</td>\n",
       "      <td>singlet</td>\n",
       "    </tr>\n",
       "    <tr>\n",
       "      <th>AAACCCACAAGAGGCT-1-YOV_GFP</th>\n",
       "      <td>0.874850</td>\n",
       "      <td>0.125150</td>\n",
       "      <td>doublet</td>\n",
       "    </tr>\n",
       "    <tr>\n",
       "      <th>AAACCCACAGGTACGA-1-YOV_GFP</th>\n",
       "      <td>0.021288</td>\n",
       "      <td>0.978712</td>\n",
       "      <td>singlet</td>\n",
       "    </tr>\n",
       "    <tr>\n",
       "      <th>AAACCCAGTTCGGCCA-1-YOV_GFP</th>\n",
       "      <td>0.352475</td>\n",
       "      <td>0.647525</td>\n",
       "      <td>singlet</td>\n",
       "    </tr>\n",
       "    <tr>\n",
       "      <th>...</th>\n",
       "      <td>...</td>\n",
       "      <td>...</td>\n",
       "      <td>...</td>\n",
       "    </tr>\n",
       "    <tr>\n",
       "      <th>TTTGGTTTCCCGGTAG-1-YOV_GFP</th>\n",
       "      <td>0.230435</td>\n",
       "      <td>0.769565</td>\n",
       "      <td>singlet</td>\n",
       "    </tr>\n",
       "    <tr>\n",
       "      <th>TTTGTTGAGATACAGT-1-YOV_GFP</th>\n",
       "      <td>0.151824</td>\n",
       "      <td>0.848176</td>\n",
       "      <td>singlet</td>\n",
       "    </tr>\n",
       "    <tr>\n",
       "      <th>TTTGTTGAGTCGAGGT-1-YOV_GFP</th>\n",
       "      <td>0.350064</td>\n",
       "      <td>0.649936</td>\n",
       "      <td>singlet</td>\n",
       "    </tr>\n",
       "    <tr>\n",
       "      <th>TTTGTTGTCAAACGTC-1-YOV_GFP</th>\n",
       "      <td>0.203525</td>\n",
       "      <td>0.796475</td>\n",
       "      <td>singlet</td>\n",
       "    </tr>\n",
       "    <tr>\n",
       "      <th>TTTGTTGTCCCGAAAT-1-YOV_GFP</th>\n",
       "      <td>0.089326</td>\n",
       "      <td>0.910674</td>\n",
       "      <td>singlet</td>\n",
       "    </tr>\n",
       "  </tbody>\n",
       "</table>\n",
       "<p>5164 rows × 3 columns</p>\n",
       "</div>"
      ],
      "text/plain": [
       "                             doublet   singlet prediction\n",
       "AAACCCAAGTACAGAT-1-YOV_GFP  0.372337  0.627663    singlet\n",
       "AAACCCAAGTGGAATT-1-YOV_GFP  0.275313  0.724687    singlet\n",
       "AAACCCACAAGAGGCT-1-YOV_GFP  0.874850  0.125150    doublet\n",
       "AAACCCACAGGTACGA-1-YOV_GFP  0.021288  0.978712    singlet\n",
       "AAACCCAGTTCGGCCA-1-YOV_GFP  0.352475  0.647525    singlet\n",
       "...                              ...       ...        ...\n",
       "TTTGGTTTCCCGGTAG-1-YOV_GFP  0.230435  0.769565    singlet\n",
       "TTTGTTGAGATACAGT-1-YOV_GFP  0.151824  0.848176    singlet\n",
       "TTTGTTGAGTCGAGGT-1-YOV_GFP  0.350064  0.649936    singlet\n",
       "TTTGTTGTCAAACGTC-1-YOV_GFP  0.203525  0.796475    singlet\n",
       "TTTGTTGTCCCGAAAT-1-YOV_GFP  0.089326  0.910674    singlet\n",
       "\n",
       "[5164 rows x 3 columns]"
      ]
     },
     "execution_count": 47,
     "metadata": {},
     "output_type": "execute_result"
    }
   ],
   "source": [
    "df = solo.predict()\n",
    "df['prediction'] = solo.predict(soft = False)\n",
    "df"
   ]
  },
  {
   "cell_type": "code",
   "execution_count": 48,
   "id": "b2a36238-94cc-43ff-a4aa-e672539077b0",
   "metadata": {},
   "outputs": [
    {
     "data": {
      "text/html": [
       "<div>\n",
       "<style scoped>\n",
       "    .dataframe tbody tr th:only-of-type {\n",
       "        vertical-align: middle;\n",
       "    }\n",
       "\n",
       "    .dataframe tbody tr th {\n",
       "        vertical-align: top;\n",
       "    }\n",
       "\n",
       "    .dataframe thead th {\n",
       "        text-align: right;\n",
       "    }\n",
       "</style>\n",
       "<table border=\"1\" class=\"dataframe\">\n",
       "  <thead>\n",
       "    <tr style=\"text-align: right;\">\n",
       "      <th></th>\n",
       "      <th>doublet</th>\n",
       "      <th>singlet</th>\n",
       "    </tr>\n",
       "    <tr>\n",
       "      <th>prediction</th>\n",
       "      <th></th>\n",
       "      <th></th>\n",
       "    </tr>\n",
       "  </thead>\n",
       "  <tbody>\n",
       "    <tr>\n",
       "      <th>doublet</th>\n",
       "      <td>861</td>\n",
       "      <td>861</td>\n",
       "    </tr>\n",
       "    <tr>\n",
       "      <th>singlet</th>\n",
       "      <td>4303</td>\n",
       "      <td>4303</td>\n",
       "    </tr>\n",
       "  </tbody>\n",
       "</table>\n",
       "</div>"
      ],
      "text/plain": [
       "            doublet  singlet\n",
       "prediction                  \n",
       "doublet         861      861\n",
       "singlet        4303     4303"
      ]
     },
     "execution_count": 48,
     "metadata": {},
     "output_type": "execute_result"
    }
   ],
   "source": [
    "df.groupby('prediction').count()"
   ]
  },
  {
   "cell_type": "code",
   "execution_count": 49,
   "id": "c3cfeb10-162f-485a-9c57-eacbb760637d",
   "metadata": {},
   "outputs": [
    {
     "data": {
      "text/html": [
       "<div>\n",
       "<style scoped>\n",
       "    .dataframe tbody tr th:only-of-type {\n",
       "        vertical-align: middle;\n",
       "    }\n",
       "\n",
       "    .dataframe tbody tr th {\n",
       "        vertical-align: top;\n",
       "    }\n",
       "\n",
       "    .dataframe thead th {\n",
       "        text-align: right;\n",
       "    }\n",
       "</style>\n",
       "<table border=\"1\" class=\"dataframe\">\n",
       "  <thead>\n",
       "    <tr style=\"text-align: right;\">\n",
       "      <th></th>\n",
       "      <th>doublet</th>\n",
       "      <th>singlet</th>\n",
       "      <th>prediction</th>\n",
       "      <th>dif</th>\n",
       "    </tr>\n",
       "  </thead>\n",
       "  <tbody>\n",
       "    <tr>\n",
       "      <th>AAACCCAAGTACAGAT-1-YOV_GFP</th>\n",
       "      <td>0.372337</td>\n",
       "      <td>0.627663</td>\n",
       "      <td>singlet</td>\n",
       "      <td>-0.255325</td>\n",
       "    </tr>\n",
       "    <tr>\n",
       "      <th>AAACCCAAGTGGAATT-1-YOV_GFP</th>\n",
       "      <td>0.275313</td>\n",
       "      <td>0.724687</td>\n",
       "      <td>singlet</td>\n",
       "      <td>-0.449374</td>\n",
       "    </tr>\n",
       "    <tr>\n",
       "      <th>AAACCCACAAGAGGCT-1-YOV_GFP</th>\n",
       "      <td>0.874850</td>\n",
       "      <td>0.125150</td>\n",
       "      <td>doublet</td>\n",
       "      <td>0.749701</td>\n",
       "    </tr>\n",
       "    <tr>\n",
       "      <th>AAACCCACAGGTACGA-1-YOV_GFP</th>\n",
       "      <td>0.021288</td>\n",
       "      <td>0.978712</td>\n",
       "      <td>singlet</td>\n",
       "      <td>-0.957424</td>\n",
       "    </tr>\n",
       "    <tr>\n",
       "      <th>AAACCCAGTTCGGCCA-1-YOV_GFP</th>\n",
       "      <td>0.352475</td>\n",
       "      <td>0.647525</td>\n",
       "      <td>singlet</td>\n",
       "      <td>-0.295050</td>\n",
       "    </tr>\n",
       "    <tr>\n",
       "      <th>...</th>\n",
       "      <td>...</td>\n",
       "      <td>...</td>\n",
       "      <td>...</td>\n",
       "      <td>...</td>\n",
       "    </tr>\n",
       "    <tr>\n",
       "      <th>TTTGGTTTCCCGGTAG-1-YOV_GFP</th>\n",
       "      <td>0.230435</td>\n",
       "      <td>0.769565</td>\n",
       "      <td>singlet</td>\n",
       "      <td>-0.539129</td>\n",
       "    </tr>\n",
       "    <tr>\n",
       "      <th>TTTGTTGAGATACAGT-1-YOV_GFP</th>\n",
       "      <td>0.151824</td>\n",
       "      <td>0.848176</td>\n",
       "      <td>singlet</td>\n",
       "      <td>-0.696352</td>\n",
       "    </tr>\n",
       "    <tr>\n",
       "      <th>TTTGTTGAGTCGAGGT-1-YOV_GFP</th>\n",
       "      <td>0.350064</td>\n",
       "      <td>0.649936</td>\n",
       "      <td>singlet</td>\n",
       "      <td>-0.299872</td>\n",
       "    </tr>\n",
       "    <tr>\n",
       "      <th>TTTGTTGTCAAACGTC-1-YOV_GFP</th>\n",
       "      <td>0.203525</td>\n",
       "      <td>0.796475</td>\n",
       "      <td>singlet</td>\n",
       "      <td>-0.592951</td>\n",
       "    </tr>\n",
       "    <tr>\n",
       "      <th>TTTGTTGTCCCGAAAT-1-YOV_GFP</th>\n",
       "      <td>0.089326</td>\n",
       "      <td>0.910674</td>\n",
       "      <td>singlet</td>\n",
       "      <td>-0.821348</td>\n",
       "    </tr>\n",
       "  </tbody>\n",
       "</table>\n",
       "<p>5164 rows × 4 columns</p>\n",
       "</div>"
      ],
      "text/plain": [
       "                             doublet   singlet prediction       dif\n",
       "AAACCCAAGTACAGAT-1-YOV_GFP  0.372337  0.627663    singlet -0.255325\n",
       "AAACCCAAGTGGAATT-1-YOV_GFP  0.275313  0.724687    singlet -0.449374\n",
       "AAACCCACAAGAGGCT-1-YOV_GFP  0.874850  0.125150    doublet  0.749701\n",
       "AAACCCACAGGTACGA-1-YOV_GFP  0.021288  0.978712    singlet -0.957424\n",
       "AAACCCAGTTCGGCCA-1-YOV_GFP  0.352475  0.647525    singlet -0.295050\n",
       "...                              ...       ...        ...       ...\n",
       "TTTGGTTTCCCGGTAG-1-YOV_GFP  0.230435  0.769565    singlet -0.539129\n",
       "TTTGTTGAGATACAGT-1-YOV_GFP  0.151824  0.848176    singlet -0.696352\n",
       "TTTGTTGAGTCGAGGT-1-YOV_GFP  0.350064  0.649936    singlet -0.299872\n",
       "TTTGTTGTCAAACGTC-1-YOV_GFP  0.203525  0.796475    singlet -0.592951\n",
       "TTTGTTGTCCCGAAAT-1-YOV_GFP  0.089326  0.910674    singlet -0.821348\n",
       "\n",
       "[5164 rows x 4 columns]"
      ]
     },
     "execution_count": 49,
     "metadata": {},
     "output_type": "execute_result"
    }
   ],
   "source": [
    "df['dif'] = df.doublet - df.singlet\n",
    "df"
   ]
  },
  {
   "cell_type": "code",
   "execution_count": 50,
   "id": "cfdd17bc-452d-4d1d-8951-8c88fcb88043",
   "metadata": {},
   "outputs": [
    {
     "data": {
      "text/plain": [
       "<seaborn.axisgrid.FacetGrid at 0x216885b9eb0>"
      ]
     },
     "execution_count": 50,
     "metadata": {},
     "output_type": "execute_result"
    },
    {
     "data": {
      "image/png": "[encoded data removed]",
      "text/plain": [
       "<Figure size 500x500 with 1 Axes>"
      ]
     },
     "metadata": {
      "image/png": {
       "height": 477,
       "width": 477
      }
     },
     "output_type": "display_data"
    }
   ],
   "source": [
    "sns.displot(df[df.prediction == 'doublet'], x = 'dif')"
   ]
  },
  {
   "cell_type": "code",
   "execution_count": 51,
   "id": "f406d7dd-e924-4a15-9641-0e3b08fe5974",
   "metadata": {},
   "outputs": [
    {
     "data": {
      "text/html": [
       "<div>\n",
       "<style scoped>\n",
       "    .dataframe tbody tr th:only-of-type {\n",
       "        vertical-align: middle;\n",
       "    }\n",
       "\n",
       "    .dataframe tbody tr th {\n",
       "        vertical-align: top;\n",
       "    }\n",
       "\n",
       "    .dataframe thead th {\n",
       "        text-align: right;\n",
       "    }\n",
       "</style>\n",
       "<table border=\"1\" class=\"dataframe\">\n",
       "  <thead>\n",
       "    <tr style=\"text-align: right;\">\n",
       "      <th></th>\n",
       "      <th>doublet</th>\n",
       "      <th>singlet</th>\n",
       "      <th>prediction</th>\n",
       "      <th>dif</th>\n",
       "    </tr>\n",
       "  </thead>\n",
       "  <tbody>\n",
       "    <tr>\n",
       "      <th>AAACCCACAAGAGGCT-1-YOV_GFP</th>\n",
       "      <td>0.874850</td>\n",
       "      <td>0.125150</td>\n",
       "      <td>doublet</td>\n",
       "      <td>0.749701</td>\n",
       "    </tr>\n",
       "    <tr>\n",
       "      <th>AAAGAACCAAAGGAGA-1-YOV_GFP</th>\n",
       "      <td>0.633254</td>\n",
       "      <td>0.366746</td>\n",
       "      <td>doublet</td>\n",
       "      <td>0.266508</td>\n",
       "    </tr>\n",
       "    <tr>\n",
       "      <th>AACAAAGAGAGAGCAA-1-YOV_GFP</th>\n",
       "      <td>0.677397</td>\n",
       "      <td>0.322603</td>\n",
       "      <td>doublet</td>\n",
       "      <td>0.354795</td>\n",
       "    </tr>\n",
       "    <tr>\n",
       "      <th>AACAACCTCCCAATAG-1-YOV_GFP</th>\n",
       "      <td>0.783006</td>\n",
       "      <td>0.216994</td>\n",
       "      <td>doublet</td>\n",
       "      <td>0.566013</td>\n",
       "    </tr>\n",
       "    <tr>\n",
       "      <th>AACACACCAAATCGTC-1-YOV_GFP</th>\n",
       "      <td>0.897071</td>\n",
       "      <td>0.102929</td>\n",
       "      <td>doublet</td>\n",
       "      <td>0.794142</td>\n",
       "    </tr>\n",
       "    <tr>\n",
       "      <th>...</th>\n",
       "      <td>...</td>\n",
       "      <td>...</td>\n",
       "      <td>...</td>\n",
       "      <td>...</td>\n",
       "    </tr>\n",
       "    <tr>\n",
       "      <th>TTTACGTCATCAGCTA-1-YOV_GFP</th>\n",
       "      <td>0.622882</td>\n",
       "      <td>0.377118</td>\n",
       "      <td>doublet</td>\n",
       "      <td>0.245763</td>\n",
       "    </tr>\n",
       "    <tr>\n",
       "      <th>TTTACTGTCTAGACAC-1-YOV_GFP</th>\n",
       "      <td>0.988848</td>\n",
       "      <td>0.011152</td>\n",
       "      <td>doublet</td>\n",
       "      <td>0.977696</td>\n",
       "    </tr>\n",
       "    <tr>\n",
       "      <th>TTTCAGTCACAGTATC-1-YOV_GFP</th>\n",
       "      <td>0.619995</td>\n",
       "      <td>0.380005</td>\n",
       "      <td>doublet</td>\n",
       "      <td>0.239989</td>\n",
       "    </tr>\n",
       "    <tr>\n",
       "      <th>TTTCATGCATGAGGGT-1-YOV_GFP</th>\n",
       "      <td>0.854864</td>\n",
       "      <td>0.145136</td>\n",
       "      <td>doublet</td>\n",
       "      <td>0.709728</td>\n",
       "    </tr>\n",
       "    <tr>\n",
       "      <th>TTTCCTCGTCATTGCA-1-YOV_GFP</th>\n",
       "      <td>0.650013</td>\n",
       "      <td>0.349987</td>\n",
       "      <td>doublet</td>\n",
       "      <td>0.300026</td>\n",
       "    </tr>\n",
       "  </tbody>\n",
       "</table>\n",
       "<p>565 rows × 4 columns</p>\n",
       "</div>"
      ],
      "text/plain": [
       "                             doublet   singlet prediction       dif\n",
       "AAACCCACAAGAGGCT-1-YOV_GFP  0.874850  0.125150    doublet  0.749701\n",
       "AAAGAACCAAAGGAGA-1-YOV_GFP  0.633254  0.366746    doublet  0.266508\n",
       "AACAAAGAGAGAGCAA-1-YOV_GFP  0.677397  0.322603    doublet  0.354795\n",
       "AACAACCTCCCAATAG-1-YOV_GFP  0.783006  0.216994    doublet  0.566013\n",
       "AACACACCAAATCGTC-1-YOV_GFP  0.897071  0.102929    doublet  0.794142\n",
       "...                              ...       ...        ...       ...\n",
       "TTTACGTCATCAGCTA-1-YOV_GFP  0.622882  0.377118    doublet  0.245763\n",
       "TTTACTGTCTAGACAC-1-YOV_GFP  0.988848  0.011152    doublet  0.977696\n",
       "TTTCAGTCACAGTATC-1-YOV_GFP  0.619995  0.380005    doublet  0.239989\n",
       "TTTCATGCATGAGGGT-1-YOV_GFP  0.854864  0.145136    doublet  0.709728\n",
       "TTTCCTCGTCATTGCA-1-YOV_GFP  0.650013  0.349987    doublet  0.300026\n",
       "\n",
       "[565 rows x 4 columns]"
      ]
     },
     "execution_count": 51,
     "metadata": {},
     "output_type": "execute_result"
    }
   ],
   "source": [
    "doublets = df[(df.prediction == 'doublet') & (df.dif > 0.2)]\n",
    "doublets"
   ]
  },
  {
   "cell_type": "code",
   "execution_count": 52,
   "id": "c0f3f300-6165-4915-b88f-11bb544f982f",
   "metadata": {},
   "outputs": [
    {
     "data": {
      "text/plain": [
       "AnnData object with n_obs × n_vars = 5164 × 3000\n",
       "    obs: 'batch', '_scvi_batch', '_scvi_labels'\n",
       "    var: 'gene_ids', 'feature_types', 'genome', 'n_cells', 'highly_variable', 'highly_variable_rank', 'means', 'variances', 'variances_norm'\n",
       "    uns: 'hvg', '_scvi_uuid', '_scvi_manager_uuid'"
      ]
     },
     "execution_count": 52,
     "metadata": {},
     "output_type": "execute_result"
    }
   ],
   "source": [
    "adata3"
   ]
  },
  {
   "cell_type": "code",
   "execution_count": 53,
   "id": "5b6ca013-6814-4688-9adf-930b25a39266",
   "metadata": {},
   "outputs": [],
   "source": [
    "adata3 = sc.read_h5ad(\"YOV_GFP_adata.h5ad\")\n"
   ]
  },
  {
   "cell_type": "code",
   "execution_count": 54,
   "id": "0e442972-156f-43a1-b925-50d6758cb140",
   "metadata": {},
   "outputs": [
    {
     "data": {
      "text/html": [
       "<div>\n",
       "<style scoped>\n",
       "    .dataframe tbody tr th:only-of-type {\n",
       "        vertical-align: middle;\n",
       "    }\n",
       "\n",
       "    .dataframe tbody tr th {\n",
       "        vertical-align: top;\n",
       "    }\n",
       "\n",
       "    .dataframe thead th {\n",
       "        text-align: right;\n",
       "    }\n",
       "</style>\n",
       "<table border=\"1\" class=\"dataframe\">\n",
       "  <thead>\n",
       "    <tr style=\"text-align: right;\">\n",
       "      <th></th>\n",
       "      <th>batch</th>\n",
       "    </tr>\n",
       "  </thead>\n",
       "  <tbody>\n",
       "    <tr>\n",
       "      <th>AAACCCAAGTACAGAT-1-YOV_GFP</th>\n",
       "      <td>YOV_GFP</td>\n",
       "    </tr>\n",
       "    <tr>\n",
       "      <th>AAACCCAAGTGGAATT-1-YOV_GFP</th>\n",
       "      <td>YOV_GFP</td>\n",
       "    </tr>\n",
       "    <tr>\n",
       "      <th>AAACCCACAAGAGGCT-1-YOV_GFP</th>\n",
       "      <td>YOV_GFP</td>\n",
       "    </tr>\n",
       "    <tr>\n",
       "      <th>AAACCCACAGGTACGA-1-YOV_GFP</th>\n",
       "      <td>YOV_GFP</td>\n",
       "    </tr>\n",
       "    <tr>\n",
       "      <th>AAACCCAGTTCGGCCA-1-YOV_GFP</th>\n",
       "      <td>YOV_GFP</td>\n",
       "    </tr>\n",
       "    <tr>\n",
       "      <th>...</th>\n",
       "      <td>...</td>\n",
       "    </tr>\n",
       "    <tr>\n",
       "      <th>TTTGGTTTCCCGGTAG-1-YOV_GFP</th>\n",
       "      <td>YOV_GFP</td>\n",
       "    </tr>\n",
       "    <tr>\n",
       "      <th>TTTGTTGAGATACAGT-1-YOV_GFP</th>\n",
       "      <td>YOV_GFP</td>\n",
       "    </tr>\n",
       "    <tr>\n",
       "      <th>TTTGTTGAGTCGAGGT-1-YOV_GFP</th>\n",
       "      <td>YOV_GFP</td>\n",
       "    </tr>\n",
       "    <tr>\n",
       "      <th>TTTGTTGTCAAACGTC-1-YOV_GFP</th>\n",
       "      <td>YOV_GFP</td>\n",
       "    </tr>\n",
       "    <tr>\n",
       "      <th>TTTGTTGTCCCGAAAT-1-YOV_GFP</th>\n",
       "      <td>YOV_GFP</td>\n",
       "    </tr>\n",
       "  </tbody>\n",
       "</table>\n",
       "<p>5164 rows × 1 columns</p>\n",
       "</div>"
      ],
      "text/plain": [
       "                              batch\n",
       "AAACCCAAGTACAGAT-1-YOV_GFP  YOV_GFP\n",
       "AAACCCAAGTGGAATT-1-YOV_GFP  YOV_GFP\n",
       "AAACCCACAAGAGGCT-1-YOV_GFP  YOV_GFP\n",
       "AAACCCACAGGTACGA-1-YOV_GFP  YOV_GFP\n",
       "AAACCCAGTTCGGCCA-1-YOV_GFP  YOV_GFP\n",
       "...                             ...\n",
       "TTTGGTTTCCCGGTAG-1-YOV_GFP  YOV_GFP\n",
       "TTTGTTGAGATACAGT-1-YOV_GFP  YOV_GFP\n",
       "TTTGTTGAGTCGAGGT-1-YOV_GFP  YOV_GFP\n",
       "TTTGTTGTCAAACGTC-1-YOV_GFP  YOV_GFP\n",
       "TTTGTTGTCCCGAAAT-1-YOV_GFP  YOV_GFP\n",
       "\n",
       "[5164 rows x 1 columns]"
      ]
     },
     "execution_count": 54,
     "metadata": {},
     "output_type": "execute_result"
    }
   ],
   "source": [
    "adata3.obs"
   ]
  },
  {
   "cell_type": "code",
   "execution_count": 55,
   "id": "0199dc9e-d309-4095-a0b3-7d37bf2594c9",
   "metadata": {},
   "outputs": [],
   "source": [
    "adata3.obs['doublet'] = adata3.obs.index.isin(doublets.index) "
   ]
  },
  {
   "cell_type": "code",
   "execution_count": 56,
   "id": "8ca43998-782e-468f-9d9c-a4bedda90ee7",
   "metadata": {},
   "outputs": [
    {
     "data": {
      "text/html": [
       "<div>\n",
       "<style scoped>\n",
       "    .dataframe tbody tr th:only-of-type {\n",
       "        vertical-align: middle;\n",
       "    }\n",
       "\n",
       "    .dataframe tbody tr th {\n",
       "        vertical-align: top;\n",
       "    }\n",
       "\n",
       "    .dataframe thead th {\n",
       "        text-align: right;\n",
       "    }\n",
       "</style>\n",
       "<table border=\"1\" class=\"dataframe\">\n",
       "  <thead>\n",
       "    <tr style=\"text-align: right;\">\n",
       "      <th></th>\n",
       "      <th>batch</th>\n",
       "      <th>doublet</th>\n",
       "    </tr>\n",
       "  </thead>\n",
       "  <tbody>\n",
       "    <tr>\n",
       "      <th>AAACCCAAGTACAGAT-1-YOV_GFP</th>\n",
       "      <td>YOV_GFP</td>\n",
       "      <td>False</td>\n",
       "    </tr>\n",
       "    <tr>\n",
       "      <th>AAACCCAAGTGGAATT-1-YOV_GFP</th>\n",
       "      <td>YOV_GFP</td>\n",
       "      <td>False</td>\n",
       "    </tr>\n",
       "    <tr>\n",
       "      <th>AAACCCACAAGAGGCT-1-YOV_GFP</th>\n",
       "      <td>YOV_GFP</td>\n",
       "      <td>True</td>\n",
       "    </tr>\n",
       "    <tr>\n",
       "      <th>AAACCCACAGGTACGA-1-YOV_GFP</th>\n",
       "      <td>YOV_GFP</td>\n",
       "      <td>False</td>\n",
       "    </tr>\n",
       "    <tr>\n",
       "      <th>AAACCCAGTTCGGCCA-1-YOV_GFP</th>\n",
       "      <td>YOV_GFP</td>\n",
       "      <td>False</td>\n",
       "    </tr>\n",
       "    <tr>\n",
       "      <th>...</th>\n",
       "      <td>...</td>\n",
       "      <td>...</td>\n",
       "    </tr>\n",
       "    <tr>\n",
       "      <th>TTTGGTTTCCCGGTAG-1-YOV_GFP</th>\n",
       "      <td>YOV_GFP</td>\n",
       "      <td>False</td>\n",
       "    </tr>\n",
       "    <tr>\n",
       "      <th>TTTGTTGAGATACAGT-1-YOV_GFP</th>\n",
       "      <td>YOV_GFP</td>\n",
       "      <td>False</td>\n",
       "    </tr>\n",
       "    <tr>\n",
       "      <th>TTTGTTGAGTCGAGGT-1-YOV_GFP</th>\n",
       "      <td>YOV_GFP</td>\n",
       "      <td>False</td>\n",
       "    </tr>\n",
       "    <tr>\n",
       "      <th>TTTGTTGTCAAACGTC-1-YOV_GFP</th>\n",
       "      <td>YOV_GFP</td>\n",
       "      <td>False</td>\n",
       "    </tr>\n",
       "    <tr>\n",
       "      <th>TTTGTTGTCCCGAAAT-1-YOV_GFP</th>\n",
       "      <td>YOV_GFP</td>\n",
       "      <td>False</td>\n",
       "    </tr>\n",
       "  </tbody>\n",
       "</table>\n",
       "<p>5164 rows × 2 columns</p>\n",
       "</div>"
      ],
      "text/plain": [
       "                              batch  doublet\n",
       "AAACCCAAGTACAGAT-1-YOV_GFP  YOV_GFP    False\n",
       "AAACCCAAGTGGAATT-1-YOV_GFP  YOV_GFP    False\n",
       "AAACCCACAAGAGGCT-1-YOV_GFP  YOV_GFP     True\n",
       "AAACCCACAGGTACGA-1-YOV_GFP  YOV_GFP    False\n",
       "AAACCCAGTTCGGCCA-1-YOV_GFP  YOV_GFP    False\n",
       "...                             ...      ...\n",
       "TTTGGTTTCCCGGTAG-1-YOV_GFP  YOV_GFP    False\n",
       "TTTGTTGAGATACAGT-1-YOV_GFP  YOV_GFP    False\n",
       "TTTGTTGAGTCGAGGT-1-YOV_GFP  YOV_GFP    False\n",
       "TTTGTTGTCAAACGTC-1-YOV_GFP  YOV_GFP    False\n",
       "TTTGTTGTCCCGAAAT-1-YOV_GFP  YOV_GFP    False\n",
       "\n",
       "[5164 rows x 2 columns]"
      ]
     },
     "execution_count": 56,
     "metadata": {},
     "output_type": "execute_result"
    }
   ],
   "source": [
    "adata3.obs"
   ]
  },
  {
   "cell_type": "code",
   "execution_count": 57,
   "id": "d4edaab0-af37-4248-a0d0-63c2de03adb8",
   "metadata": {},
   "outputs": [
    {
     "data": {
      "text/plain": [
       "View of AnnData object with n_obs × n_vars = 4599 × 55402\n",
       "    obs: 'batch', 'doublet'\n",
       "    var: 'gene_ids', 'feature_types', 'genome'"
      ]
     },
     "execution_count": 57,
     "metadata": {},
     "output_type": "execute_result"
    }
   ],
   "source": [
    "adata3 = adata3[~adata3.obs.doublet]\n",
    "adata3"
   ]
  },
  {
   "cell_type": "code",
   "execution_count": 58,
   "id": "9dd9677a-047e-40c9-916f-09c35abca8d7",
   "metadata": {},
   "outputs": [
    {
     "data": {
      "text/plain": [
       "View of AnnData object with n_obs × n_vars = 4599 × 55402\n",
       "    obs: 'batch', 'doublet'\n",
       "    var: 'gene_ids', 'feature_types', 'genome'"
      ]
     },
     "execution_count": 58,
     "metadata": {},
     "output_type": "execute_result"
    }
   ],
   "source": [
    "# Save the filtered AnnData object\n",
    "adata3.write(\"YOV_GFP_adata_filtered_with_SOLO.h5ad\")\n",
    "adata3"
   ]
  },
  {
   "cell_type": "code",
   "execution_count": 58,
   "id": "5b758d97-5cb1-456d-9d59-89666c2aa45b",
   "metadata": {},
   "outputs": [],
   "source": [
    "#sample 4"
   ]
  },
  {
   "cell_type": "code",
   "execution_count": 59,
   "id": "733fd4c2-7e16-4acf-bb6b-58ff6eb74417",
   "metadata": {},
   "outputs": [
    {
     "data": {
      "text/plain": [
       "AnnData object with n_obs × n_vars = 8843 × 55402\n",
       "    obs: 'batch'\n",
       "    var: 'gene_ids', 'feature_types', 'genome'"
      ]
     },
     "execution_count": 59,
     "metadata": {},
     "output_type": "execute_result"
    }
   ],
   "source": [
    "adata4"
   ]
  },
  {
   "cell_type": "code",
   "execution_count": 60,
   "id": "a0c2df2c-3bd8-4190-980c-466ba080a927",
   "metadata": {},
   "outputs": [
    {
     "data": {
      "text/plain": [
       "AnnData object with n_obs × n_vars = 8843 × 25092\n",
       "    obs: 'batch'\n",
       "    var: 'gene_ids', 'feature_types', 'genome', 'n_cells'"
      ]
     },
     "execution_count": 60,
     "metadata": {},
     "output_type": "execute_result"
    }
   ],
   "source": [
    "sc.pp.filter_genes(adata4, min_cells = 10)\n",
    "adata4"
   ]
  },
  {
   "cell_type": "code",
   "execution_count": 61,
   "id": "4b69d841-fc5a-4446-8a3e-ae8aeb2665c9",
   "metadata": {},
   "outputs": [],
   "source": [
    "sc.pp.highly_variable_genes(adata4, n_top_genes = 3000, subset = True, flavor = 'seurat_v3')"
   ]
  },
  {
   "cell_type": "code",
   "execution_count": 62,
   "id": "eec7d640-1614-4031-a46b-10153467533a",
   "metadata": {},
   "outputs": [
    {
     "name": "stderr",
     "output_type": "stream",
     "text": [
      "GPU available: False, used: False\n",
      "TPU available: False, using: 0 TPU cores\n",
      "HPU available: False, using: 0 HPUs\n"
     ]
    },
    {
     "name": "stdout",
     "output_type": "stream",
     "text": [
      "Epoch 400/400: 100%|█████████████| 400/400 [18:25<00:00,  2.64s/it, v_num=1, train_loss_step=615, train_loss_epoch=909]"
     ]
    },
    {
     "name": "stderr",
     "output_type": "stream",
     "text": [
      "`Trainer.fit` stopped: `max_epochs=400` reached.\n"
     ]
    },
    {
     "name": "stdout",
     "output_type": "stream",
     "text": [
      "Epoch 400/400: 100%|█████████████| 400/400 [18:25<00:00,  2.76s/it, v_num=1, train_loss_step=615, train_loss_epoch=909]\n"
     ]
    }
   ],
   "source": [
    "scvi.model.SCVI.setup_anndata(adata4)\n",
    "vae = scvi.model.SCVI(adata4)\n",
    "vae.train()\n"
   ]
  },
  {
   "cell_type": "code",
   "execution_count": 63,
   "id": "e6726dd3-27af-4136-aad4-a4f61ba895ae",
   "metadata": {},
   "outputs": [
    {
     "name": "stdout",
     "output_type": "stream",
     "text": [
      "\u001b[34mINFO    \u001b[0m Creating doublets, preparing SOLO model.                                                                  \n"
     ]
    },
    {
     "name": "stderr",
     "output_type": "stream",
     "text": [
      "GPU available: False, used: False\n",
      "TPU available: False, using: 0 TPU cores\n",
      "HPU available: False, using: 0 HPUs\n"
     ]
    },
    {
     "name": "stdout",
     "output_type": "stream",
     "text": [
      "Epoch 187/400:  47%|████▏    | 187/400 [05:00<05:42,  1.61s/it, v_num=1, train_loss_step=0.339, train_loss_epoch=0.305]\n",
      "Monitored metric validation_loss did not improve in the last 30 records. Best score: 0.297. Signaling Trainer to stop.\n"
     ]
    }
   ],
   "source": [
    "solo = scvi.external.SOLO.from_scvi_model(vae)\n",
    "solo.train()"
   ]
  },
  {
   "cell_type": "code",
   "execution_count": 64,
   "id": "7d795c7f-6df4-46d8-a227-da90a4071a34",
   "metadata": {},
   "outputs": [
    {
     "data": {
      "text/html": [
       "<div>\n",
       "<style scoped>\n",
       "    .dataframe tbody tr th:only-of-type {\n",
       "        vertical-align: middle;\n",
       "    }\n",
       "\n",
       "    .dataframe tbody tr th {\n",
       "        vertical-align: top;\n",
       "    }\n",
       "\n",
       "    .dataframe thead th {\n",
       "        text-align: right;\n",
       "    }\n",
       "</style>\n",
       "<table border=\"1\" class=\"dataframe\">\n",
       "  <thead>\n",
       "    <tr style=\"text-align: right;\">\n",
       "      <th></th>\n",
       "      <th>doublet</th>\n",
       "      <th>singlet</th>\n",
       "    </tr>\n",
       "  </thead>\n",
       "  <tbody>\n",
       "    <tr>\n",
       "      <th>AAACCCAAGATGGTAT-1-YOV_noGFP</th>\n",
       "      <td>0.372940</td>\n",
       "      <td>0.627060</td>\n",
       "    </tr>\n",
       "    <tr>\n",
       "      <th>AAACCCAAGGATGCGT-1-YOV_noGFP</th>\n",
       "      <td>0.044754</td>\n",
       "      <td>0.955246</td>\n",
       "    </tr>\n",
       "    <tr>\n",
       "      <th>AAACCCACACCGCTAG-1-YOV_noGFP</th>\n",
       "      <td>0.168486</td>\n",
       "      <td>0.831514</td>\n",
       "    </tr>\n",
       "    <tr>\n",
       "      <th>AAACCCACATGACGGA-1-YOV_noGFP</th>\n",
       "      <td>0.178421</td>\n",
       "      <td>0.821579</td>\n",
       "    </tr>\n",
       "    <tr>\n",
       "      <th>AAACCCATCATCACCC-1-YOV_noGFP</th>\n",
       "      <td>0.006598</td>\n",
       "      <td>0.993402</td>\n",
       "    </tr>\n",
       "    <tr>\n",
       "      <th>...</th>\n",
       "      <td>...</td>\n",
       "      <td>...</td>\n",
       "    </tr>\n",
       "    <tr>\n",
       "      <th>TTTGTTGAGTGTAGTA-1-YOV_noGFP</th>\n",
       "      <td>0.031320</td>\n",
       "      <td>0.968680</td>\n",
       "    </tr>\n",
       "    <tr>\n",
       "      <th>TTTGTTGCACCGAATT-1-YOV_noGFP</th>\n",
       "      <td>0.295311</td>\n",
       "      <td>0.704689</td>\n",
       "    </tr>\n",
       "    <tr>\n",
       "      <th>TTTGTTGCATCCTTCG-1-YOV_noGFP</th>\n",
       "      <td>0.095347</td>\n",
       "      <td>0.904653</td>\n",
       "    </tr>\n",
       "    <tr>\n",
       "      <th>TTTGTTGGTCAGGAGT-1-YOV_noGFP</th>\n",
       "      <td>0.118938</td>\n",
       "      <td>0.881062</td>\n",
       "    </tr>\n",
       "    <tr>\n",
       "      <th>TTTGTTGGTTGTGCAT-1-YOV_noGFP</th>\n",
       "      <td>0.412083</td>\n",
       "      <td>0.587917</td>\n",
       "    </tr>\n",
       "  </tbody>\n",
       "</table>\n",
       "<p>8843 rows × 2 columns</p>\n",
       "</div>"
      ],
      "text/plain": [
       "                               doublet   singlet\n",
       "AAACCCAAGATGGTAT-1-YOV_noGFP  0.372940  0.627060\n",
       "AAACCCAAGGATGCGT-1-YOV_noGFP  0.044754  0.955246\n",
       "AAACCCACACCGCTAG-1-YOV_noGFP  0.168486  0.831514\n",
       "AAACCCACATGACGGA-1-YOV_noGFP  0.178421  0.821579\n",
       "AAACCCATCATCACCC-1-YOV_noGFP  0.006598  0.993402\n",
       "...                                ...       ...\n",
       "TTTGTTGAGTGTAGTA-1-YOV_noGFP  0.031320  0.968680\n",
       "TTTGTTGCACCGAATT-1-YOV_noGFP  0.295311  0.704689\n",
       "TTTGTTGCATCCTTCG-1-YOV_noGFP  0.095347  0.904653\n",
       "TTTGTTGGTCAGGAGT-1-YOV_noGFP  0.118938  0.881062\n",
       "TTTGTTGGTTGTGCAT-1-YOV_noGFP  0.412083  0.587917\n",
       "\n",
       "[8843 rows x 2 columns]"
      ]
     },
     "execution_count": 64,
     "metadata": {},
     "output_type": "execute_result"
    }
   ],
   "source": [
    "solo.predict()"
   ]
  },
  {
   "cell_type": "code",
   "execution_count": 65,
   "id": "0493733d-3a0f-4c6e-8782-0c05a81769b7",
   "metadata": {},
   "outputs": [
    {
     "data": {
      "text/html": [
       "<div>\n",
       "<style scoped>\n",
       "    .dataframe tbody tr th:only-of-type {\n",
       "        vertical-align: middle;\n",
       "    }\n",
       "\n",
       "    .dataframe tbody tr th {\n",
       "        vertical-align: top;\n",
       "    }\n",
       "\n",
       "    .dataframe thead th {\n",
       "        text-align: right;\n",
       "    }\n",
       "</style>\n",
       "<table border=\"1\" class=\"dataframe\">\n",
       "  <thead>\n",
       "    <tr style=\"text-align: right;\">\n",
       "      <th></th>\n",
       "      <th>doublet</th>\n",
       "      <th>singlet</th>\n",
       "      <th>prediction</th>\n",
       "    </tr>\n",
       "  </thead>\n",
       "  <tbody>\n",
       "    <tr>\n",
       "      <th>AAACCCAAGATGGTAT-1-YOV_noGFP</th>\n",
       "      <td>0.372940</td>\n",
       "      <td>0.627060</td>\n",
       "      <td>singlet</td>\n",
       "    </tr>\n",
       "    <tr>\n",
       "      <th>AAACCCAAGGATGCGT-1-YOV_noGFP</th>\n",
       "      <td>0.044754</td>\n",
       "      <td>0.955246</td>\n",
       "      <td>singlet</td>\n",
       "    </tr>\n",
       "    <tr>\n",
       "      <th>AAACCCACACCGCTAG-1-YOV_noGFP</th>\n",
       "      <td>0.168486</td>\n",
       "      <td>0.831514</td>\n",
       "      <td>singlet</td>\n",
       "    </tr>\n",
       "    <tr>\n",
       "      <th>AAACCCACATGACGGA-1-YOV_noGFP</th>\n",
       "      <td>0.178421</td>\n",
       "      <td>0.821579</td>\n",
       "      <td>singlet</td>\n",
       "    </tr>\n",
       "    <tr>\n",
       "      <th>AAACCCATCATCACCC-1-YOV_noGFP</th>\n",
       "      <td>0.006598</td>\n",
       "      <td>0.993402</td>\n",
       "      <td>singlet</td>\n",
       "    </tr>\n",
       "    <tr>\n",
       "      <th>...</th>\n",
       "      <td>...</td>\n",
       "      <td>...</td>\n",
       "      <td>...</td>\n",
       "    </tr>\n",
       "    <tr>\n",
       "      <th>TTTGTTGAGTGTAGTA-1-YOV_noGFP</th>\n",
       "      <td>0.031320</td>\n",
       "      <td>0.968680</td>\n",
       "      <td>singlet</td>\n",
       "    </tr>\n",
       "    <tr>\n",
       "      <th>TTTGTTGCACCGAATT-1-YOV_noGFP</th>\n",
       "      <td>0.295311</td>\n",
       "      <td>0.704689</td>\n",
       "      <td>singlet</td>\n",
       "    </tr>\n",
       "    <tr>\n",
       "      <th>TTTGTTGCATCCTTCG-1-YOV_noGFP</th>\n",
       "      <td>0.095347</td>\n",
       "      <td>0.904653</td>\n",
       "      <td>singlet</td>\n",
       "    </tr>\n",
       "    <tr>\n",
       "      <th>TTTGTTGGTCAGGAGT-1-YOV_noGFP</th>\n",
       "      <td>0.118938</td>\n",
       "      <td>0.881062</td>\n",
       "      <td>singlet</td>\n",
       "    </tr>\n",
       "    <tr>\n",
       "      <th>TTTGTTGGTTGTGCAT-1-YOV_noGFP</th>\n",
       "      <td>0.412083</td>\n",
       "      <td>0.587917</td>\n",
       "      <td>singlet</td>\n",
       "    </tr>\n",
       "  </tbody>\n",
       "</table>\n",
       "<p>8843 rows × 3 columns</p>\n",
       "</div>"
      ],
      "text/plain": [
       "                               doublet   singlet prediction\n",
       "AAACCCAAGATGGTAT-1-YOV_noGFP  0.372940  0.627060    singlet\n",
       "AAACCCAAGGATGCGT-1-YOV_noGFP  0.044754  0.955246    singlet\n",
       "AAACCCACACCGCTAG-1-YOV_noGFP  0.168486  0.831514    singlet\n",
       "AAACCCACATGACGGA-1-YOV_noGFP  0.178421  0.821579    singlet\n",
       "AAACCCATCATCACCC-1-YOV_noGFP  0.006598  0.993402    singlet\n",
       "...                                ...       ...        ...\n",
       "TTTGTTGAGTGTAGTA-1-YOV_noGFP  0.031320  0.968680    singlet\n",
       "TTTGTTGCACCGAATT-1-YOV_noGFP  0.295311  0.704689    singlet\n",
       "TTTGTTGCATCCTTCG-1-YOV_noGFP  0.095347  0.904653    singlet\n",
       "TTTGTTGGTCAGGAGT-1-YOV_noGFP  0.118938  0.881062    singlet\n",
       "TTTGTTGGTTGTGCAT-1-YOV_noGFP  0.412083  0.587917    singlet\n",
       "\n",
       "[8843 rows x 3 columns]"
      ]
     },
     "execution_count": 65,
     "metadata": {},
     "output_type": "execute_result"
    }
   ],
   "source": [
    "df = solo.predict()\n",
    "df['prediction'] = solo.predict(soft = False)\n",
    "df"
   ]
  },
  {
   "cell_type": "code",
   "execution_count": 66,
   "id": "52f52c23-fc12-462c-b36f-0963ed6c314a",
   "metadata": {},
   "outputs": [
    {
     "data": {
      "text/html": [
       "<div>\n",
       "<style scoped>\n",
       "    .dataframe tbody tr th:only-of-type {\n",
       "        vertical-align: middle;\n",
       "    }\n",
       "\n",
       "    .dataframe tbody tr th {\n",
       "        vertical-align: top;\n",
       "    }\n",
       "\n",
       "    .dataframe thead th {\n",
       "        text-align: right;\n",
       "    }\n",
       "</style>\n",
       "<table border=\"1\" class=\"dataframe\">\n",
       "  <thead>\n",
       "    <tr style=\"text-align: right;\">\n",
       "      <th></th>\n",
       "      <th>doublet</th>\n",
       "      <th>singlet</th>\n",
       "    </tr>\n",
       "    <tr>\n",
       "      <th>prediction</th>\n",
       "      <th></th>\n",
       "      <th></th>\n",
       "    </tr>\n",
       "  </thead>\n",
       "  <tbody>\n",
       "    <tr>\n",
       "      <th>doublet</th>\n",
       "      <td>1912</td>\n",
       "      <td>1912</td>\n",
       "    </tr>\n",
       "    <tr>\n",
       "      <th>singlet</th>\n",
       "      <td>6931</td>\n",
       "      <td>6931</td>\n",
       "    </tr>\n",
       "  </tbody>\n",
       "</table>\n",
       "</div>"
      ],
      "text/plain": [
       "            doublet  singlet\n",
       "prediction                  \n",
       "doublet        1912     1912\n",
       "singlet        6931     6931"
      ]
     },
     "execution_count": 66,
     "metadata": {},
     "output_type": "execute_result"
    }
   ],
   "source": [
    "df.groupby('prediction').count()"
   ]
  },
  {
   "cell_type": "code",
   "execution_count": 67,
   "id": "cda623b7-8745-4e3c-814f-1db2023516e4",
   "metadata": {},
   "outputs": [
    {
     "data": {
      "text/html": [
       "<div>\n",
       "<style scoped>\n",
       "    .dataframe tbody tr th:only-of-type {\n",
       "        vertical-align: middle;\n",
       "    }\n",
       "\n",
       "    .dataframe tbody tr th {\n",
       "        vertical-align: top;\n",
       "    }\n",
       "\n",
       "    .dataframe thead th {\n",
       "        text-align: right;\n",
       "    }\n",
       "</style>\n",
       "<table border=\"1\" class=\"dataframe\">\n",
       "  <thead>\n",
       "    <tr style=\"text-align: right;\">\n",
       "      <th></th>\n",
       "      <th>doublet</th>\n",
       "      <th>singlet</th>\n",
       "      <th>prediction</th>\n",
       "      <th>dif</th>\n",
       "    </tr>\n",
       "  </thead>\n",
       "  <tbody>\n",
       "    <tr>\n",
       "      <th>AAACCCAAGATGGTAT-1-YOV_noGFP</th>\n",
       "      <td>0.372940</td>\n",
       "      <td>0.627060</td>\n",
       "      <td>singlet</td>\n",
       "      <td>-0.254119</td>\n",
       "    </tr>\n",
       "    <tr>\n",
       "      <th>AAACCCAAGGATGCGT-1-YOV_noGFP</th>\n",
       "      <td>0.044754</td>\n",
       "      <td>0.955246</td>\n",
       "      <td>singlet</td>\n",
       "      <td>-0.910491</td>\n",
       "    </tr>\n",
       "    <tr>\n",
       "      <th>AAACCCACACCGCTAG-1-YOV_noGFP</th>\n",
       "      <td>0.168486</td>\n",
       "      <td>0.831514</td>\n",
       "      <td>singlet</td>\n",
       "      <td>-0.663027</td>\n",
       "    </tr>\n",
       "    <tr>\n",
       "      <th>AAACCCACATGACGGA-1-YOV_noGFP</th>\n",
       "      <td>0.178421</td>\n",
       "      <td>0.821579</td>\n",
       "      <td>singlet</td>\n",
       "      <td>-0.643158</td>\n",
       "    </tr>\n",
       "    <tr>\n",
       "      <th>AAACCCATCATCACCC-1-YOV_noGFP</th>\n",
       "      <td>0.006598</td>\n",
       "      <td>0.993402</td>\n",
       "      <td>singlet</td>\n",
       "      <td>-0.986804</td>\n",
       "    </tr>\n",
       "    <tr>\n",
       "      <th>...</th>\n",
       "      <td>...</td>\n",
       "      <td>...</td>\n",
       "      <td>...</td>\n",
       "      <td>...</td>\n",
       "    </tr>\n",
       "    <tr>\n",
       "      <th>TTTGTTGAGTGTAGTA-1-YOV_noGFP</th>\n",
       "      <td>0.031320</td>\n",
       "      <td>0.968680</td>\n",
       "      <td>singlet</td>\n",
       "      <td>-0.937360</td>\n",
       "    </tr>\n",
       "    <tr>\n",
       "      <th>TTTGTTGCACCGAATT-1-YOV_noGFP</th>\n",
       "      <td>0.295311</td>\n",
       "      <td>0.704689</td>\n",
       "      <td>singlet</td>\n",
       "      <td>-0.409378</td>\n",
       "    </tr>\n",
       "    <tr>\n",
       "      <th>TTTGTTGCATCCTTCG-1-YOV_noGFP</th>\n",
       "      <td>0.095347</td>\n",
       "      <td>0.904653</td>\n",
       "      <td>singlet</td>\n",
       "      <td>-0.809306</td>\n",
       "    </tr>\n",
       "    <tr>\n",
       "      <th>TTTGTTGGTCAGGAGT-1-YOV_noGFP</th>\n",
       "      <td>0.118938</td>\n",
       "      <td>0.881062</td>\n",
       "      <td>singlet</td>\n",
       "      <td>-0.762124</td>\n",
       "    </tr>\n",
       "    <tr>\n",
       "      <th>TTTGTTGGTTGTGCAT-1-YOV_noGFP</th>\n",
       "      <td>0.412083</td>\n",
       "      <td>0.587917</td>\n",
       "      <td>singlet</td>\n",
       "      <td>-0.175834</td>\n",
       "    </tr>\n",
       "  </tbody>\n",
       "</table>\n",
       "<p>8843 rows × 4 columns</p>\n",
       "</div>"
      ],
      "text/plain": [
       "                               doublet   singlet prediction       dif\n",
       "AAACCCAAGATGGTAT-1-YOV_noGFP  0.372940  0.627060    singlet -0.254119\n",
       "AAACCCAAGGATGCGT-1-YOV_noGFP  0.044754  0.955246    singlet -0.910491\n",
       "AAACCCACACCGCTAG-1-YOV_noGFP  0.168486  0.831514    singlet -0.663027\n",
       "AAACCCACATGACGGA-1-YOV_noGFP  0.178421  0.821579    singlet -0.643158\n",
       "AAACCCATCATCACCC-1-YOV_noGFP  0.006598  0.993402    singlet -0.986804\n",
       "...                                ...       ...        ...       ...\n",
       "TTTGTTGAGTGTAGTA-1-YOV_noGFP  0.031320  0.968680    singlet -0.937360\n",
       "TTTGTTGCACCGAATT-1-YOV_noGFP  0.295311  0.704689    singlet -0.409378\n",
       "TTTGTTGCATCCTTCG-1-YOV_noGFP  0.095347  0.904653    singlet -0.809306\n",
       "TTTGTTGGTCAGGAGT-1-YOV_noGFP  0.118938  0.881062    singlet -0.762124\n",
       "TTTGTTGGTTGTGCAT-1-YOV_noGFP  0.412083  0.587917    singlet -0.175834\n",
       "\n",
       "[8843 rows x 4 columns]"
      ]
     },
     "execution_count": 67,
     "metadata": {},
     "output_type": "execute_result"
    }
   ],
   "source": [
    "df['dif'] = df.doublet - df.singlet\n",
    "df"
   ]
  },
  {
   "cell_type": "code",
   "execution_count": 68,
   "id": "7491ce97-8ab9-4143-926e-f0b60fab86e9",
   "metadata": {},
   "outputs": [
    {
     "data": {
      "text/plain": [
       "<seaborn.axisgrid.FacetGrid at 0x2168e608d90>"
      ]
     },
     "execution_count": 68,
     "metadata": {},
     "output_type": "execute_result"
    },
    {
     "data": {
      "image/png": "[encoded data removed]",
      "text/plain": [
       "<Figure size 500x500 with 1 Axes>"
      ]
     },
     "metadata": {
      "image/png": {
       "height": 477,
       "width": 477
      }
     },
     "output_type": "display_data"
    }
   ],
   "source": [
    "sns.displot(df[df.prediction == 'doublet'], x = 'dif')"
   ]
  },
  {
   "cell_type": "code",
   "execution_count": 69,
   "id": "6a095239-206b-491a-a898-455a7c15da58",
   "metadata": {},
   "outputs": [
    {
     "data": {
      "text/html": [
       "<div>\n",
       "<style scoped>\n",
       "    .dataframe tbody tr th:only-of-type {\n",
       "        vertical-align: middle;\n",
       "    }\n",
       "\n",
       "    .dataframe tbody tr th {\n",
       "        vertical-align: top;\n",
       "    }\n",
       "\n",
       "    .dataframe thead th {\n",
       "        text-align: right;\n",
       "    }\n",
       "</style>\n",
       "<table border=\"1\" class=\"dataframe\">\n",
       "  <thead>\n",
       "    <tr style=\"text-align: right;\">\n",
       "      <th></th>\n",
       "      <th>doublet</th>\n",
       "      <th>singlet</th>\n",
       "      <th>prediction</th>\n",
       "      <th>dif</th>\n",
       "    </tr>\n",
       "  </thead>\n",
       "  <tbody>\n",
       "    <tr>\n",
       "      <th>AAACGCTAGAGTATAC-1-YOV_noGFP</th>\n",
       "      <td>0.661143</td>\n",
       "      <td>0.338857</td>\n",
       "      <td>doublet</td>\n",
       "      <td>0.322286</td>\n",
       "    </tr>\n",
       "    <tr>\n",
       "      <th>AAAGGATCAAACCATC-1-YOV_noGFP</th>\n",
       "      <td>0.624158</td>\n",
       "      <td>0.375842</td>\n",
       "      <td>doublet</td>\n",
       "      <td>0.248316</td>\n",
       "    </tr>\n",
       "    <tr>\n",
       "      <th>AAAGGATCAAGTCCCG-1-YOV_noGFP</th>\n",
       "      <td>0.927769</td>\n",
       "      <td>0.072231</td>\n",
       "      <td>doublet</td>\n",
       "      <td>0.855538</td>\n",
       "    </tr>\n",
       "    <tr>\n",
       "      <th>AAAGGGCGTAGCGAGT-1-YOV_noGFP</th>\n",
       "      <td>0.767688</td>\n",
       "      <td>0.232312</td>\n",
       "      <td>doublet</td>\n",
       "      <td>0.535376</td>\n",
       "    </tr>\n",
       "    <tr>\n",
       "      <th>AAAGGGCGTCCCACGA-1-YOV_noGFP</th>\n",
       "      <td>0.701741</td>\n",
       "      <td>0.298259</td>\n",
       "      <td>doublet</td>\n",
       "      <td>0.403481</td>\n",
       "    </tr>\n",
       "    <tr>\n",
       "      <th>...</th>\n",
       "      <td>...</td>\n",
       "      <td>...</td>\n",
       "      <td>...</td>\n",
       "      <td>...</td>\n",
       "    </tr>\n",
       "    <tr>\n",
       "      <th>TTTGACTGTGGAAATT-1-YOV_noGFP</th>\n",
       "      <td>0.662872</td>\n",
       "      <td>0.337128</td>\n",
       "      <td>doublet</td>\n",
       "      <td>0.325745</td>\n",
       "    </tr>\n",
       "    <tr>\n",
       "      <th>TTTGATCCATCGATGT-1-YOV_noGFP</th>\n",
       "      <td>0.741234</td>\n",
       "      <td>0.258766</td>\n",
       "      <td>doublet</td>\n",
       "      <td>0.482467</td>\n",
       "    </tr>\n",
       "    <tr>\n",
       "      <th>TTTGATCGTCAGATTC-1-YOV_noGFP</th>\n",
       "      <td>0.677374</td>\n",
       "      <td>0.322626</td>\n",
       "      <td>doublet</td>\n",
       "      <td>0.354749</td>\n",
       "    </tr>\n",
       "    <tr>\n",
       "      <th>TTTGGTTGTCCAGCAC-1-YOV_noGFP</th>\n",
       "      <td>0.603425</td>\n",
       "      <td>0.396575</td>\n",
       "      <td>doublet</td>\n",
       "      <td>0.206850</td>\n",
       "    </tr>\n",
       "    <tr>\n",
       "      <th>TTTGGTTGTCTCGGGT-1-YOV_noGFP</th>\n",
       "      <td>0.707021</td>\n",
       "      <td>0.292979</td>\n",
       "      <td>doublet</td>\n",
       "      <td>0.414043</td>\n",
       "    </tr>\n",
       "  </tbody>\n",
       "</table>\n",
       "<p>1394 rows × 4 columns</p>\n",
       "</div>"
      ],
      "text/plain": [
       "                               doublet   singlet prediction       dif\n",
       "AAACGCTAGAGTATAC-1-YOV_noGFP  0.661143  0.338857    doublet  0.322286\n",
       "AAAGGATCAAACCATC-1-YOV_noGFP  0.624158  0.375842    doublet  0.248316\n",
       "AAAGGATCAAGTCCCG-1-YOV_noGFP  0.927769  0.072231    doublet  0.855538\n",
       "AAAGGGCGTAGCGAGT-1-YOV_noGFP  0.767688  0.232312    doublet  0.535376\n",
       "AAAGGGCGTCCCACGA-1-YOV_noGFP  0.701741  0.298259    doublet  0.403481\n",
       "...                                ...       ...        ...       ...\n",
       "TTTGACTGTGGAAATT-1-YOV_noGFP  0.662872  0.337128    doublet  0.325745\n",
       "TTTGATCCATCGATGT-1-YOV_noGFP  0.741234  0.258766    doublet  0.482467\n",
       "TTTGATCGTCAGATTC-1-YOV_noGFP  0.677374  0.322626    doublet  0.354749\n",
       "TTTGGTTGTCCAGCAC-1-YOV_noGFP  0.603425  0.396575    doublet  0.206850\n",
       "TTTGGTTGTCTCGGGT-1-YOV_noGFP  0.707021  0.292979    doublet  0.414043\n",
       "\n",
       "[1394 rows x 4 columns]"
      ]
     },
     "execution_count": 69,
     "metadata": {},
     "output_type": "execute_result"
    }
   ],
   "source": [
    "doublets = df[(df.prediction == 'doublet') & (df.dif > 0.2)]\n",
    "doublets"
   ]
  },
  {
   "cell_type": "code",
   "execution_count": 70,
   "id": "f27b9f62-24e4-4ad4-8c03-ad581608f026",
   "metadata": {},
   "outputs": [
    {
     "data": {
      "text/plain": [
       "AnnData object with n_obs × n_vars = 8843 × 3000\n",
       "    obs: 'batch', '_scvi_batch', '_scvi_labels'\n",
       "    var: 'gene_ids', 'feature_types', 'genome', 'n_cells', 'highly_variable', 'highly_variable_rank', 'means', 'variances', 'variances_norm'\n",
       "    uns: 'hvg', '_scvi_uuid', '_scvi_manager_uuid'"
      ]
     },
     "execution_count": 70,
     "metadata": {},
     "output_type": "execute_result"
    }
   ],
   "source": [
    "adata4"
   ]
  },
  {
   "cell_type": "code",
   "execution_count": 71,
   "id": "919d8ed1-9528-48b3-808e-8239475f1f23",
   "metadata": {},
   "outputs": [],
   "source": [
    "\n",
    "adata4 = sc.read_h5ad(\"YOV_noGFP_adata.h5ad\")"
   ]
  },
  {
   "cell_type": "code",
   "execution_count": 72,
   "id": "46a86224-115d-4b79-a776-2cb9b25b7364",
   "metadata": {},
   "outputs": [
    {
     "data": {
      "text/html": [
       "<div>\n",
       "<style scoped>\n",
       "    .dataframe tbody tr th:only-of-type {\n",
       "        vertical-align: middle;\n",
       "    }\n",
       "\n",
       "    .dataframe tbody tr th {\n",
       "        vertical-align: top;\n",
       "    }\n",
       "\n",
       "    .dataframe thead th {\n",
       "        text-align: right;\n",
       "    }\n",
       "</style>\n",
       "<table border=\"1\" class=\"dataframe\">\n",
       "  <thead>\n",
       "    <tr style=\"text-align: right;\">\n",
       "      <th></th>\n",
       "      <th>batch</th>\n",
       "    </tr>\n",
       "  </thead>\n",
       "  <tbody>\n",
       "    <tr>\n",
       "      <th>AAACCCAAGATGGTAT-1-YOV_noGFP</th>\n",
       "      <td>YOV_noGFP</td>\n",
       "    </tr>\n",
       "    <tr>\n",
       "      <th>AAACCCAAGGATGCGT-1-YOV_noGFP</th>\n",
       "      <td>YOV_noGFP</td>\n",
       "    </tr>\n",
       "    <tr>\n",
       "      <th>AAACCCACACCGCTAG-1-YOV_noGFP</th>\n",
       "      <td>YOV_noGFP</td>\n",
       "    </tr>\n",
       "    <tr>\n",
       "      <th>AAACCCACATGACGGA-1-YOV_noGFP</th>\n",
       "      <td>YOV_noGFP</td>\n",
       "    </tr>\n",
       "    <tr>\n",
       "      <th>AAACCCATCATCACCC-1-YOV_noGFP</th>\n",
       "      <td>YOV_noGFP</td>\n",
       "    </tr>\n",
       "    <tr>\n",
       "      <th>...</th>\n",
       "      <td>...</td>\n",
       "    </tr>\n",
       "    <tr>\n",
       "      <th>TTTGTTGAGTGTAGTA-1-YOV_noGFP</th>\n",
       "      <td>YOV_noGFP</td>\n",
       "    </tr>\n",
       "    <tr>\n",
       "      <th>TTTGTTGCACCGAATT-1-YOV_noGFP</th>\n",
       "      <td>YOV_noGFP</td>\n",
       "    </tr>\n",
       "    <tr>\n",
       "      <th>TTTGTTGCATCCTTCG-1-YOV_noGFP</th>\n",
       "      <td>YOV_noGFP</td>\n",
       "    </tr>\n",
       "    <tr>\n",
       "      <th>TTTGTTGGTCAGGAGT-1-YOV_noGFP</th>\n",
       "      <td>YOV_noGFP</td>\n",
       "    </tr>\n",
       "    <tr>\n",
       "      <th>TTTGTTGGTTGTGCAT-1-YOV_noGFP</th>\n",
       "      <td>YOV_noGFP</td>\n",
       "    </tr>\n",
       "  </tbody>\n",
       "</table>\n",
       "<p>8843 rows × 1 columns</p>\n",
       "</div>"
      ],
      "text/plain": [
       "                                  batch\n",
       "AAACCCAAGATGGTAT-1-YOV_noGFP  YOV_noGFP\n",
       "AAACCCAAGGATGCGT-1-YOV_noGFP  YOV_noGFP\n",
       "AAACCCACACCGCTAG-1-YOV_noGFP  YOV_noGFP\n",
       "AAACCCACATGACGGA-1-YOV_noGFP  YOV_noGFP\n",
       "AAACCCATCATCACCC-1-YOV_noGFP  YOV_noGFP\n",
       "...                                 ...\n",
       "TTTGTTGAGTGTAGTA-1-YOV_noGFP  YOV_noGFP\n",
       "TTTGTTGCACCGAATT-1-YOV_noGFP  YOV_noGFP\n",
       "TTTGTTGCATCCTTCG-1-YOV_noGFP  YOV_noGFP\n",
       "TTTGTTGGTCAGGAGT-1-YOV_noGFP  YOV_noGFP\n",
       "TTTGTTGGTTGTGCAT-1-YOV_noGFP  YOV_noGFP\n",
       "\n",
       "[8843 rows x 1 columns]"
      ]
     },
     "execution_count": 72,
     "metadata": {},
     "output_type": "execute_result"
    }
   ],
   "source": [
    "adata4.obs"
   ]
  },
  {
   "cell_type": "code",
   "execution_count": 73,
   "id": "25030bc1-7cae-4ca2-bc95-79fef7b263bd",
   "metadata": {},
   "outputs": [],
   "source": [
    "adata4.obs['doublet'] = adata4.obs.index.isin(doublets.index) "
   ]
  },
  {
   "cell_type": "code",
   "execution_count": 74,
   "id": "af20e574-8dc3-4e67-9174-246819c661f5",
   "metadata": {},
   "outputs": [
    {
     "data": {
      "text/html": [
       "<div>\n",
       "<style scoped>\n",
       "    .dataframe tbody tr th:only-of-type {\n",
       "        vertical-align: middle;\n",
       "    }\n",
       "\n",
       "    .dataframe tbody tr th {\n",
       "        vertical-align: top;\n",
       "    }\n",
       "\n",
       "    .dataframe thead th {\n",
       "        text-align: right;\n",
       "    }\n",
       "</style>\n",
       "<table border=\"1\" class=\"dataframe\">\n",
       "  <thead>\n",
       "    <tr style=\"text-align: right;\">\n",
       "      <th></th>\n",
       "      <th>batch</th>\n",
       "      <th>doublet</th>\n",
       "    </tr>\n",
       "  </thead>\n",
       "  <tbody>\n",
       "    <tr>\n",
       "      <th>AAACCCAAGATGGTAT-1-YOV_noGFP</th>\n",
       "      <td>YOV_noGFP</td>\n",
       "      <td>False</td>\n",
       "    </tr>\n",
       "    <tr>\n",
       "      <th>AAACCCAAGGATGCGT-1-YOV_noGFP</th>\n",
       "      <td>YOV_noGFP</td>\n",
       "      <td>False</td>\n",
       "    </tr>\n",
       "    <tr>\n",
       "      <th>AAACCCACACCGCTAG-1-YOV_noGFP</th>\n",
       "      <td>YOV_noGFP</td>\n",
       "      <td>False</td>\n",
       "    </tr>\n",
       "    <tr>\n",
       "      <th>AAACCCACATGACGGA-1-YOV_noGFP</th>\n",
       "      <td>YOV_noGFP</td>\n",
       "      <td>False</td>\n",
       "    </tr>\n",
       "    <tr>\n",
       "      <th>AAACCCATCATCACCC-1-YOV_noGFP</th>\n",
       "      <td>YOV_noGFP</td>\n",
       "      <td>False</td>\n",
       "    </tr>\n",
       "    <tr>\n",
       "      <th>...</th>\n",
       "      <td>...</td>\n",
       "      <td>...</td>\n",
       "    </tr>\n",
       "    <tr>\n",
       "      <th>TTTGTTGAGTGTAGTA-1-YOV_noGFP</th>\n",
       "      <td>YOV_noGFP</td>\n",
       "      <td>False</td>\n",
       "    </tr>\n",
       "    <tr>\n",
       "      <th>TTTGTTGCACCGAATT-1-YOV_noGFP</th>\n",
       "      <td>YOV_noGFP</td>\n",
       "      <td>False</td>\n",
       "    </tr>\n",
       "    <tr>\n",
       "      <th>TTTGTTGCATCCTTCG-1-YOV_noGFP</th>\n",
       "      <td>YOV_noGFP</td>\n",
       "      <td>False</td>\n",
       "    </tr>\n",
       "    <tr>\n",
       "      <th>TTTGTTGGTCAGGAGT-1-YOV_noGFP</th>\n",
       "      <td>YOV_noGFP</td>\n",
       "      <td>False</td>\n",
       "    </tr>\n",
       "    <tr>\n",
       "      <th>TTTGTTGGTTGTGCAT-1-YOV_noGFP</th>\n",
       "      <td>YOV_noGFP</td>\n",
       "      <td>False</td>\n",
       "    </tr>\n",
       "  </tbody>\n",
       "</table>\n",
       "<p>8843 rows × 2 columns</p>\n",
       "</div>"
      ],
      "text/plain": [
       "                                  batch  doublet\n",
       "AAACCCAAGATGGTAT-1-YOV_noGFP  YOV_noGFP    False\n",
       "AAACCCAAGGATGCGT-1-YOV_noGFP  YOV_noGFP    False\n",
       "AAACCCACACCGCTAG-1-YOV_noGFP  YOV_noGFP    False\n",
       "AAACCCACATGACGGA-1-YOV_noGFP  YOV_noGFP    False\n",
       "AAACCCATCATCACCC-1-YOV_noGFP  YOV_noGFP    False\n",
       "...                                 ...      ...\n",
       "TTTGTTGAGTGTAGTA-1-YOV_noGFP  YOV_noGFP    False\n",
       "TTTGTTGCACCGAATT-1-YOV_noGFP  YOV_noGFP    False\n",
       "TTTGTTGCATCCTTCG-1-YOV_noGFP  YOV_noGFP    False\n",
       "TTTGTTGGTCAGGAGT-1-YOV_noGFP  YOV_noGFP    False\n",
       "TTTGTTGGTTGTGCAT-1-YOV_noGFP  YOV_noGFP    False\n",
       "\n",
       "[8843 rows x 2 columns]"
      ]
     },
     "execution_count": 74,
     "metadata": {},
     "output_type": "execute_result"
    }
   ],
   "source": [
    "adata4.obs"
   ]
  },
  {
   "cell_type": "code",
   "execution_count": 75,
   "id": "0665da12-d994-4318-8f95-cfb9625f1f96",
   "metadata": {},
   "outputs": [
    {
     "data": {
      "text/plain": [
       "View of AnnData object with n_obs × n_vars = 7449 × 55402\n",
       "    obs: 'batch', 'doublet'\n",
       "    var: 'gene_ids', 'feature_types', 'genome'"
      ]
     },
     "execution_count": 75,
     "metadata": {},
     "output_type": "execute_result"
    }
   ],
   "source": [
    "adata4 = adata4[~adata4.obs.doublet]\n",
    "adata4"
   ]
  },
  {
   "cell_type": "code",
   "execution_count": 76,
   "id": "96dc36a9-a9f0-4320-ab73-fb4bdfd0cad9",
   "metadata": {},
   "outputs": [
    {
     "data": {
      "text/plain": [
       "View of AnnData object with n_obs × n_vars = 7449 × 55402\n",
       "    obs: 'batch', 'doublet'\n",
       "    var: 'gene_ids', 'feature_types', 'genome'"
      ]
     },
     "execution_count": 76,
     "metadata": {},
     "output_type": "execute_result"
    }
   ],
   "source": [
    "# Save the filtered AnnData object\n",
    "adata4.write(\"YOV_noGFP_adata_filtered_with_SOLO.h5ad\")\n",
    "adata4"
   ]
  },
  {
   "cell_type": "code",
   "execution_count": 76,
   "id": "792d78c7-0f97-4799-8660-963c034fbb66",
   "metadata": {},
   "outputs": [],
   "source": [
    "#SAMPLE5"
   ]
  },
  {
   "cell_type": "code",
   "execution_count": 77,
   "id": "b210fefd-b81f-4040-b33d-6cbac3bb014b",
   "metadata": {},
   "outputs": [
    {
     "data": {
      "text/plain": [
       "AnnData object with n_obs × n_vars = 2369 × 55402\n",
       "    obs: 'batch'\n",
       "    var: 'gene_ids', 'feature_types', 'genome'"
      ]
     },
     "execution_count": 77,
     "metadata": {},
     "output_type": "execute_result"
    }
   ],
   "source": [
    "adata5"
   ]
  },
  {
   "cell_type": "code",
   "execution_count": 78,
   "id": "ad3f50b7-b972-4130-b51b-d9023d076969",
   "metadata": {},
   "outputs": [],
   "source": [
    "sc.pp.filter_genes(adata5, min_cells = 10)\n",
    "sc.pp.highly_variable_genes(adata5, n_top_genes = 3000, subset = True, flavor = 'seurat_v3')"
   ]
  },
  {
   "cell_type": "code",
   "execution_count": 79,
   "id": "d2fa41cc-cf9e-4f0e-91c7-9125173330b7",
   "metadata": {},
   "outputs": [
    {
     "name": "stderr",
     "output_type": "stream",
     "text": [
      "GPU available: False, used: False\n",
      "TPU available: False, using: 0 TPU cores\n",
      "HPU available: False, using: 0 HPUs\n"
     ]
    },
    {
     "name": "stdout",
     "output_type": "stream",
     "text": [
      "Epoch 400/400: 100%|█████████████| 400/400 [04:36<00:00,  1.49it/s, v_num=1, train_loss_step=928, train_loss_epoch=914]"
     ]
    },
    {
     "name": "stderr",
     "output_type": "stream",
     "text": [
      "`Trainer.fit` stopped: `max_epochs=400` reached.\n"
     ]
    },
    {
     "name": "stdout",
     "output_type": "stream",
     "text": [
      "Epoch 400/400: 100%|█████████████| 400/400 [04:36<00:00,  1.45it/s, v_num=1, train_loss_step=928, train_loss_epoch=914]\n"
     ]
    }
   ],
   "source": [
    "scvi.model.SCVI.setup_anndata(adata5)\n",
    "vae = scvi.model.SCVI(adata5)\n",
    "vae.train()\n"
   ]
  },
  {
   "cell_type": "code",
   "execution_count": 80,
   "id": "18d66ff4-67ca-4788-907b-12ed1fc5ea4f",
   "metadata": {},
   "outputs": [
    {
     "name": "stdout",
     "output_type": "stream",
     "text": [
      "\u001b[34mINFO    \u001b[0m Creating doublets, preparing SOLO model.                                                                  \n"
     ]
    },
    {
     "name": "stderr",
     "output_type": "stream",
     "text": [
      "GPU available: False, used: False\n",
      "TPU available: False, using: 0 TPU cores\n",
      "HPU available: False, using: 0 HPUs\n"
     ]
    },
    {
     "name": "stdout",
     "output_type": "stream",
     "text": [
      "Epoch 400/400: 100%|█████████| 400/400 [02:46<00:00,  2.08it/s, v_num=1, train_loss_step=0.398, train_loss_epoch=0.283]"
     ]
    },
    {
     "name": "stderr",
     "output_type": "stream",
     "text": [
      "`Trainer.fit` stopped: `max_epochs=400` reached.\n"
     ]
    },
    {
     "name": "stdout",
     "output_type": "stream",
     "text": [
      "Epoch 400/400: 100%|█████████| 400/400 [02:46<00:00,  2.41it/s, v_num=1, train_loss_step=0.398, train_loss_epoch=0.283]\n"
     ]
    }
   ],
   "source": [
    "solo = scvi.external.SOLO.from_scvi_model(vae)\n",
    "solo.train()"
   ]
  },
  {
   "cell_type": "code",
   "execution_count": 81,
   "id": "bf6e8eff-4838-4531-ab3d-73064bd2b6a3",
   "metadata": {},
   "outputs": [
    {
     "data": {
      "text/html": [
       "<div>\n",
       "<style scoped>\n",
       "    .dataframe tbody tr th:only-of-type {\n",
       "        vertical-align: middle;\n",
       "    }\n",
       "\n",
       "    .dataframe tbody tr th {\n",
       "        vertical-align: top;\n",
       "    }\n",
       "\n",
       "    .dataframe thead th {\n",
       "        text-align: right;\n",
       "    }\n",
       "</style>\n",
       "<table border=\"1\" class=\"dataframe\">\n",
       "  <thead>\n",
       "    <tr style=\"text-align: right;\">\n",
       "      <th></th>\n",
       "      <th>doublet</th>\n",
       "      <th>singlet</th>\n",
       "    </tr>\n",
       "  </thead>\n",
       "  <tbody>\n",
       "    <tr>\n",
       "      <th>AAACCCACAACTCGTA-1-ASham_GFP</th>\n",
       "      <td>0.605827</td>\n",
       "      <td>0.394173</td>\n",
       "    </tr>\n",
       "    <tr>\n",
       "      <th>AAACCCAGTAGATGTA-1-ASham_GFP</th>\n",
       "      <td>0.001632</td>\n",
       "      <td>0.998368</td>\n",
       "    </tr>\n",
       "    <tr>\n",
       "      <th>AAACCCATCACCATGA-1-ASham_GFP</th>\n",
       "      <td>0.660724</td>\n",
       "      <td>0.339276</td>\n",
       "    </tr>\n",
       "    <tr>\n",
       "      <th>AAACGAAAGAATCCCT-1-ASham_GFP</th>\n",
       "      <td>0.199236</td>\n",
       "      <td>0.800765</td>\n",
       "    </tr>\n",
       "    <tr>\n",
       "      <th>AAACGAAAGGGACTGT-1-ASham_GFP</th>\n",
       "      <td>0.193139</td>\n",
       "      <td>0.806861</td>\n",
       "    </tr>\n",
       "    <tr>\n",
       "      <th>...</th>\n",
       "      <td>...</td>\n",
       "      <td>...</td>\n",
       "    </tr>\n",
       "    <tr>\n",
       "      <th>TTTGATCCATAACAGA-1-ASham_GFP</th>\n",
       "      <td>0.012282</td>\n",
       "      <td>0.987718</td>\n",
       "    </tr>\n",
       "    <tr>\n",
       "      <th>TTTGATCGTGTATACC-1-ASham_GFP</th>\n",
       "      <td>0.231828</td>\n",
       "      <td>0.768172</td>\n",
       "    </tr>\n",
       "    <tr>\n",
       "      <th>TTTGTTGAGACGCCCT-1-ASham_GFP</th>\n",
       "      <td>0.497970</td>\n",
       "      <td>0.502030</td>\n",
       "    </tr>\n",
       "    <tr>\n",
       "      <th>TTTGTTGAGGCCTAGA-1-ASham_GFP</th>\n",
       "      <td>0.953781</td>\n",
       "      <td>0.046219</td>\n",
       "    </tr>\n",
       "    <tr>\n",
       "      <th>TTTGTTGAGTTGAATG-1-ASham_GFP</th>\n",
       "      <td>0.470421</td>\n",
       "      <td>0.529579</td>\n",
       "    </tr>\n",
       "  </tbody>\n",
       "</table>\n",
       "<p>2369 rows × 2 columns</p>\n",
       "</div>"
      ],
      "text/plain": [
       "                               doublet   singlet\n",
       "AAACCCACAACTCGTA-1-ASham_GFP  0.605827  0.394173\n",
       "AAACCCAGTAGATGTA-1-ASham_GFP  0.001632  0.998368\n",
       "AAACCCATCACCATGA-1-ASham_GFP  0.660724  0.339276\n",
       "AAACGAAAGAATCCCT-1-ASham_GFP  0.199236  0.800765\n",
       "AAACGAAAGGGACTGT-1-ASham_GFP  0.193139  0.806861\n",
       "...                                ...       ...\n",
       "TTTGATCCATAACAGA-1-ASham_GFP  0.012282  0.987718\n",
       "TTTGATCGTGTATACC-1-ASham_GFP  0.231828  0.768172\n",
       "TTTGTTGAGACGCCCT-1-ASham_GFP  0.497970  0.502030\n",
       "TTTGTTGAGGCCTAGA-1-ASham_GFP  0.953781  0.046219\n",
       "TTTGTTGAGTTGAATG-1-ASham_GFP  0.470421  0.529579\n",
       "\n",
       "[2369 rows x 2 columns]"
      ]
     },
     "execution_count": 81,
     "metadata": {},
     "output_type": "execute_result"
    }
   ],
   "source": [
    "solo.predict()"
   ]
  },
  {
   "cell_type": "code",
   "execution_count": 82,
   "id": "204d5086-0d2e-4397-a67c-e45b68b66b0d",
   "metadata": {},
   "outputs": [
    {
     "data": {
      "text/html": [
       "<div>\n",
       "<style scoped>\n",
       "    .dataframe tbody tr th:only-of-type {\n",
       "        vertical-align: middle;\n",
       "    }\n",
       "\n",
       "    .dataframe tbody tr th {\n",
       "        vertical-align: top;\n",
       "    }\n",
       "\n",
       "    .dataframe thead th {\n",
       "        text-align: right;\n",
       "    }\n",
       "</style>\n",
       "<table border=\"1\" class=\"dataframe\">\n",
       "  <thead>\n",
       "    <tr style=\"text-align: right;\">\n",
       "      <th></th>\n",
       "      <th>doublet</th>\n",
       "      <th>singlet</th>\n",
       "      <th>prediction</th>\n",
       "    </tr>\n",
       "  </thead>\n",
       "  <tbody>\n",
       "    <tr>\n",
       "      <th>AAACCCACAACTCGTA-1-ASham_GFP</th>\n",
       "      <td>0.605827</td>\n",
       "      <td>0.394173</td>\n",
       "      <td>doublet</td>\n",
       "    </tr>\n",
       "    <tr>\n",
       "      <th>AAACCCAGTAGATGTA-1-ASham_GFP</th>\n",
       "      <td>0.001632</td>\n",
       "      <td>0.998368</td>\n",
       "      <td>singlet</td>\n",
       "    </tr>\n",
       "    <tr>\n",
       "      <th>AAACCCATCACCATGA-1-ASham_GFP</th>\n",
       "      <td>0.660724</td>\n",
       "      <td>0.339276</td>\n",
       "      <td>doublet</td>\n",
       "    </tr>\n",
       "    <tr>\n",
       "      <th>AAACGAAAGAATCCCT-1-ASham_GFP</th>\n",
       "      <td>0.199236</td>\n",
       "      <td>0.800765</td>\n",
       "      <td>singlet</td>\n",
       "    </tr>\n",
       "    <tr>\n",
       "      <th>AAACGAAAGGGACTGT-1-ASham_GFP</th>\n",
       "      <td>0.193139</td>\n",
       "      <td>0.806861</td>\n",
       "      <td>singlet</td>\n",
       "    </tr>\n",
       "    <tr>\n",
       "      <th>...</th>\n",
       "      <td>...</td>\n",
       "      <td>...</td>\n",
       "      <td>...</td>\n",
       "    </tr>\n",
       "    <tr>\n",
       "      <th>TTTGATCCATAACAGA-1-ASham_GFP</th>\n",
       "      <td>0.012282</td>\n",
       "      <td>0.987718</td>\n",
       "      <td>singlet</td>\n",
       "    </tr>\n",
       "    <tr>\n",
       "      <th>TTTGATCGTGTATACC-1-ASham_GFP</th>\n",
       "      <td>0.231828</td>\n",
       "      <td>0.768172</td>\n",
       "      <td>singlet</td>\n",
       "    </tr>\n",
       "    <tr>\n",
       "      <th>TTTGTTGAGACGCCCT-1-ASham_GFP</th>\n",
       "      <td>0.497970</td>\n",
       "      <td>0.502030</td>\n",
       "      <td>singlet</td>\n",
       "    </tr>\n",
       "    <tr>\n",
       "      <th>TTTGTTGAGGCCTAGA-1-ASham_GFP</th>\n",
       "      <td>0.953781</td>\n",
       "      <td>0.046219</td>\n",
       "      <td>doublet</td>\n",
       "    </tr>\n",
       "    <tr>\n",
       "      <th>TTTGTTGAGTTGAATG-1-ASham_GFP</th>\n",
       "      <td>0.470421</td>\n",
       "      <td>0.529579</td>\n",
       "      <td>singlet</td>\n",
       "    </tr>\n",
       "  </tbody>\n",
       "</table>\n",
       "<p>2369 rows × 3 columns</p>\n",
       "</div>"
      ],
      "text/plain": [
       "                               doublet   singlet prediction\n",
       "AAACCCACAACTCGTA-1-ASham_GFP  0.605827  0.394173    doublet\n",
       "AAACCCAGTAGATGTA-1-ASham_GFP  0.001632  0.998368    singlet\n",
       "AAACCCATCACCATGA-1-ASham_GFP  0.660724  0.339276    doublet\n",
       "AAACGAAAGAATCCCT-1-ASham_GFP  0.199236  0.800765    singlet\n",
       "AAACGAAAGGGACTGT-1-ASham_GFP  0.193139  0.806861    singlet\n",
       "...                                ...       ...        ...\n",
       "TTTGATCCATAACAGA-1-ASham_GFP  0.012282  0.987718    singlet\n",
       "TTTGATCGTGTATACC-1-ASham_GFP  0.231828  0.768172    singlet\n",
       "TTTGTTGAGACGCCCT-1-ASham_GFP  0.497970  0.502030    singlet\n",
       "TTTGTTGAGGCCTAGA-1-ASham_GFP  0.953781  0.046219    doublet\n",
       "TTTGTTGAGTTGAATG-1-ASham_GFP  0.470421  0.529579    singlet\n",
       "\n",
       "[2369 rows x 3 columns]"
      ]
     },
     "execution_count": 82,
     "metadata": {},
     "output_type": "execute_result"
    }
   ],
   "source": [
    "df = solo.predict()\n",
    "df['prediction'] = solo.predict(soft = False)\n",
    "\n",
    "df"
   ]
  },
  {
   "cell_type": "code",
   "execution_count": 83,
   "id": "5ae9c1fb-0368-410d-88a1-56d5cffbcb5e",
   "metadata": {},
   "outputs": [
    {
     "data": {
      "text/html": [
       "<div>\n",
       "<style scoped>\n",
       "    .dataframe tbody tr th:only-of-type {\n",
       "        vertical-align: middle;\n",
       "    }\n",
       "\n",
       "    .dataframe tbody tr th {\n",
       "        vertical-align: top;\n",
       "    }\n",
       "\n",
       "    .dataframe thead th {\n",
       "        text-align: right;\n",
       "    }\n",
       "</style>\n",
       "<table border=\"1\" class=\"dataframe\">\n",
       "  <thead>\n",
       "    <tr style=\"text-align: right;\">\n",
       "      <th></th>\n",
       "      <th>doublet</th>\n",
       "      <th>singlet</th>\n",
       "    </tr>\n",
       "    <tr>\n",
       "      <th>prediction</th>\n",
       "      <th></th>\n",
       "      <th></th>\n",
       "    </tr>\n",
       "  </thead>\n",
       "  <tbody>\n",
       "    <tr>\n",
       "      <th>doublet</th>\n",
       "      <td>370</td>\n",
       "      <td>370</td>\n",
       "    </tr>\n",
       "    <tr>\n",
       "      <th>singlet</th>\n",
       "      <td>1999</td>\n",
       "      <td>1999</td>\n",
       "    </tr>\n",
       "  </tbody>\n",
       "</table>\n",
       "</div>"
      ],
      "text/plain": [
       "            doublet  singlet\n",
       "prediction                  \n",
       "doublet         370      370\n",
       "singlet        1999     1999"
      ]
     },
     "execution_count": 83,
     "metadata": {},
     "output_type": "execute_result"
    }
   ],
   "source": [
    "df.groupby('prediction').count()"
   ]
  },
  {
   "cell_type": "code",
   "execution_count": 84,
   "id": "4cab0e57-d4f5-47ba-9a1d-367dec1895ad",
   "metadata": {},
   "outputs": [
    {
     "data": {
      "text/html": [
       "<div>\n",
       "<style scoped>\n",
       "    .dataframe tbody tr th:only-of-type {\n",
       "        vertical-align: middle;\n",
       "    }\n",
       "\n",
       "    .dataframe tbody tr th {\n",
       "        vertical-align: top;\n",
       "    }\n",
       "\n",
       "    .dataframe thead th {\n",
       "        text-align: right;\n",
       "    }\n",
       "</style>\n",
       "<table border=\"1\" class=\"dataframe\">\n",
       "  <thead>\n",
       "    <tr style=\"text-align: right;\">\n",
       "      <th></th>\n",
       "      <th>doublet</th>\n",
       "      <th>singlet</th>\n",
       "      <th>prediction</th>\n",
       "      <th>dif</th>\n",
       "    </tr>\n",
       "  </thead>\n",
       "  <tbody>\n",
       "    <tr>\n",
       "      <th>AAACCCACAACTCGTA-1-ASham_GFP</th>\n",
       "      <td>0.605827</td>\n",
       "      <td>0.394173</td>\n",
       "      <td>doublet</td>\n",
       "      <td>0.211654</td>\n",
       "    </tr>\n",
       "    <tr>\n",
       "      <th>AAACCCAGTAGATGTA-1-ASham_GFP</th>\n",
       "      <td>0.001632</td>\n",
       "      <td>0.998368</td>\n",
       "      <td>singlet</td>\n",
       "      <td>-0.996736</td>\n",
       "    </tr>\n",
       "    <tr>\n",
       "      <th>AAACCCATCACCATGA-1-ASham_GFP</th>\n",
       "      <td>0.660724</td>\n",
       "      <td>0.339276</td>\n",
       "      <td>doublet</td>\n",
       "      <td>0.321448</td>\n",
       "    </tr>\n",
       "    <tr>\n",
       "      <th>AAACGAAAGAATCCCT-1-ASham_GFP</th>\n",
       "      <td>0.199236</td>\n",
       "      <td>0.800765</td>\n",
       "      <td>singlet</td>\n",
       "      <td>-0.601529</td>\n",
       "    </tr>\n",
       "    <tr>\n",
       "      <th>AAACGAAAGGGACTGT-1-ASham_GFP</th>\n",
       "      <td>0.193139</td>\n",
       "      <td>0.806861</td>\n",
       "      <td>singlet</td>\n",
       "      <td>-0.613722</td>\n",
       "    </tr>\n",
       "    <tr>\n",
       "      <th>...</th>\n",
       "      <td>...</td>\n",
       "      <td>...</td>\n",
       "      <td>...</td>\n",
       "      <td>...</td>\n",
       "    </tr>\n",
       "    <tr>\n",
       "      <th>TTTGATCCATAACAGA-1-ASham_GFP</th>\n",
       "      <td>0.012282</td>\n",
       "      <td>0.987718</td>\n",
       "      <td>singlet</td>\n",
       "      <td>-0.975435</td>\n",
       "    </tr>\n",
       "    <tr>\n",
       "      <th>TTTGATCGTGTATACC-1-ASham_GFP</th>\n",
       "      <td>0.231828</td>\n",
       "      <td>0.768172</td>\n",
       "      <td>singlet</td>\n",
       "      <td>-0.536345</td>\n",
       "    </tr>\n",
       "    <tr>\n",
       "      <th>TTTGTTGAGACGCCCT-1-ASham_GFP</th>\n",
       "      <td>0.497970</td>\n",
       "      <td>0.502030</td>\n",
       "      <td>singlet</td>\n",
       "      <td>-0.004061</td>\n",
       "    </tr>\n",
       "    <tr>\n",
       "      <th>TTTGTTGAGGCCTAGA-1-ASham_GFP</th>\n",
       "      <td>0.953781</td>\n",
       "      <td>0.046219</td>\n",
       "      <td>doublet</td>\n",
       "      <td>0.907562</td>\n",
       "    </tr>\n",
       "    <tr>\n",
       "      <th>TTTGTTGAGTTGAATG-1-ASham_GFP</th>\n",
       "      <td>0.470421</td>\n",
       "      <td>0.529579</td>\n",
       "      <td>singlet</td>\n",
       "      <td>-0.059157</td>\n",
       "    </tr>\n",
       "  </tbody>\n",
       "</table>\n",
       "<p>2369 rows × 4 columns</p>\n",
       "</div>"
      ],
      "text/plain": [
       "                               doublet   singlet prediction       dif\n",
       "AAACCCACAACTCGTA-1-ASham_GFP  0.605827  0.394173    doublet  0.211654\n",
       "AAACCCAGTAGATGTA-1-ASham_GFP  0.001632  0.998368    singlet -0.996736\n",
       "AAACCCATCACCATGA-1-ASham_GFP  0.660724  0.339276    doublet  0.321448\n",
       "AAACGAAAGAATCCCT-1-ASham_GFP  0.199236  0.800765    singlet -0.601529\n",
       "AAACGAAAGGGACTGT-1-ASham_GFP  0.193139  0.806861    singlet -0.613722\n",
       "...                                ...       ...        ...       ...\n",
       "TTTGATCCATAACAGA-1-ASham_GFP  0.012282  0.987718    singlet -0.975435\n",
       "TTTGATCGTGTATACC-1-ASham_GFP  0.231828  0.768172    singlet -0.536345\n",
       "TTTGTTGAGACGCCCT-1-ASham_GFP  0.497970  0.502030    singlet -0.004061\n",
       "TTTGTTGAGGCCTAGA-1-ASham_GFP  0.953781  0.046219    doublet  0.907562\n",
       "TTTGTTGAGTTGAATG-1-ASham_GFP  0.470421  0.529579    singlet -0.059157\n",
       "\n",
       "[2369 rows x 4 columns]"
      ]
     },
     "execution_count": 84,
     "metadata": {},
     "output_type": "execute_result"
    }
   ],
   "source": [
    "df['dif'] = df.doublet - df.singlet\n",
    "df"
   ]
  },
  {
   "cell_type": "code",
   "execution_count": 85,
   "id": "54d98b62-5f11-461c-9cb6-e9e919007b55",
   "metadata": {},
   "outputs": [
    {
     "data": {
      "text/plain": [
       "<seaborn.axisgrid.FacetGrid at 0x21690b0fc10>"
      ]
     },
     "execution_count": 85,
     "metadata": {},
     "output_type": "execute_result"
    },
    {
     "data": {
      "image/png": "[encoded data removed]",
      "text/plain": [
       "<Figure size 500x500 with 1 Axes>"
      ]
     },
     "metadata": {
      "image/png": {
       "height": 477,
       "width": 478
      }
     },
     "output_type": "display_data"
    }
   ],
   "source": [
    "sns.displot(df[df.prediction == 'doublet'], x = 'dif')"
   ]
  },
  {
   "cell_type": "code",
   "execution_count": 86,
   "id": "3fd70e2a-d4a3-49df-b888-7dccc9b09d30",
   "metadata": {},
   "outputs": [
    {
     "data": {
      "text/html": [
       "<div>\n",
       "<style scoped>\n",
       "    .dataframe tbody tr th:only-of-type {\n",
       "        vertical-align: middle;\n",
       "    }\n",
       "\n",
       "    .dataframe tbody tr th {\n",
       "        vertical-align: top;\n",
       "    }\n",
       "\n",
       "    .dataframe thead th {\n",
       "        text-align: right;\n",
       "    }\n",
       "</style>\n",
       "<table border=\"1\" class=\"dataframe\">\n",
       "  <thead>\n",
       "    <tr style=\"text-align: right;\">\n",
       "      <th></th>\n",
       "      <th>doublet</th>\n",
       "      <th>singlet</th>\n",
       "      <th>prediction</th>\n",
       "      <th>dif</th>\n",
       "    </tr>\n",
       "  </thead>\n",
       "  <tbody>\n",
       "    <tr>\n",
       "      <th>AAACCCACAACTCGTA-1-ASham_GFP</th>\n",
       "      <td>0.605827</td>\n",
       "      <td>0.394173</td>\n",
       "      <td>doublet</td>\n",
       "      <td>0.211654</td>\n",
       "    </tr>\n",
       "    <tr>\n",
       "      <th>AAACCCATCACCATGA-1-ASham_GFP</th>\n",
       "      <td>0.660724</td>\n",
       "      <td>0.339276</td>\n",
       "      <td>doublet</td>\n",
       "      <td>0.321448</td>\n",
       "    </tr>\n",
       "    <tr>\n",
       "      <th>AAACGCTTCATCACTT-1-ASham_GFP</th>\n",
       "      <td>0.660155</td>\n",
       "      <td>0.339845</td>\n",
       "      <td>doublet</td>\n",
       "      <td>0.320310</td>\n",
       "    </tr>\n",
       "    <tr>\n",
       "      <th>AAAGGTATCTTGTTAC-1-ASham_GFP</th>\n",
       "      <td>0.706003</td>\n",
       "      <td>0.293997</td>\n",
       "      <td>doublet</td>\n",
       "      <td>0.412005</td>\n",
       "    </tr>\n",
       "    <tr>\n",
       "      <th>AAAGTCCAGGCTTAAA-1-ASham_GFP</th>\n",
       "      <td>0.638439</td>\n",
       "      <td>0.361561</td>\n",
       "      <td>doublet</td>\n",
       "      <td>0.276879</td>\n",
       "    </tr>\n",
       "    <tr>\n",
       "      <th>...</th>\n",
       "      <td>...</td>\n",
       "      <td>...</td>\n",
       "      <td>...</td>\n",
       "      <td>...</td>\n",
       "    </tr>\n",
       "    <tr>\n",
       "      <th>TTGGGCGGTAGCGATG-1-ASham_GFP</th>\n",
       "      <td>0.619404</td>\n",
       "      <td>0.380596</td>\n",
       "      <td>doublet</td>\n",
       "      <td>0.238808</td>\n",
       "    </tr>\n",
       "    <tr>\n",
       "      <th>TTTCACACAGTCTACA-1-ASham_GFP</th>\n",
       "      <td>0.646186</td>\n",
       "      <td>0.353814</td>\n",
       "      <td>doublet</td>\n",
       "      <td>0.292373</td>\n",
       "    </tr>\n",
       "    <tr>\n",
       "      <th>TTTCACATCGCTGTCT-1-ASham_GFP</th>\n",
       "      <td>0.670914</td>\n",
       "      <td>0.329086</td>\n",
       "      <td>doublet</td>\n",
       "      <td>0.341828</td>\n",
       "    </tr>\n",
       "    <tr>\n",
       "      <th>TTTCGATTCACTACGA-1-ASham_GFP</th>\n",
       "      <td>0.694670</td>\n",
       "      <td>0.305330</td>\n",
       "      <td>doublet</td>\n",
       "      <td>0.389341</td>\n",
       "    </tr>\n",
       "    <tr>\n",
       "      <th>TTTGTTGAGGCCTAGA-1-ASham_GFP</th>\n",
       "      <td>0.953781</td>\n",
       "      <td>0.046219</td>\n",
       "      <td>doublet</td>\n",
       "      <td>0.907562</td>\n",
       "    </tr>\n",
       "  </tbody>\n",
       "</table>\n",
       "<p>255 rows × 4 columns</p>\n",
       "</div>"
      ],
      "text/plain": [
       "                               doublet   singlet prediction       dif\n",
       "AAACCCACAACTCGTA-1-ASham_GFP  0.605827  0.394173    doublet  0.211654\n",
       "AAACCCATCACCATGA-1-ASham_GFP  0.660724  0.339276    doublet  0.321448\n",
       "AAACGCTTCATCACTT-1-ASham_GFP  0.660155  0.339845    doublet  0.320310\n",
       "AAAGGTATCTTGTTAC-1-ASham_GFP  0.706003  0.293997    doublet  0.412005\n",
       "AAAGTCCAGGCTTAAA-1-ASham_GFP  0.638439  0.361561    doublet  0.276879\n",
       "...                                ...       ...        ...       ...\n",
       "TTGGGCGGTAGCGATG-1-ASham_GFP  0.619404  0.380596    doublet  0.238808\n",
       "TTTCACACAGTCTACA-1-ASham_GFP  0.646186  0.353814    doublet  0.292373\n",
       "TTTCACATCGCTGTCT-1-ASham_GFP  0.670914  0.329086    doublet  0.341828\n",
       "TTTCGATTCACTACGA-1-ASham_GFP  0.694670  0.305330    doublet  0.389341\n",
       "TTTGTTGAGGCCTAGA-1-ASham_GFP  0.953781  0.046219    doublet  0.907562\n",
       "\n",
       "[255 rows x 4 columns]"
      ]
     },
     "execution_count": 86,
     "metadata": {},
     "output_type": "execute_result"
    }
   ],
   "source": [
    "doublets = df[(df.prediction == 'doublet') & (df.dif > 0.2)]\n",
    "doublets"
   ]
  },
  {
   "cell_type": "code",
   "execution_count": 87,
   "id": "8724b678-91e8-4ab6-b260-8895906b4bc4",
   "metadata": {},
   "outputs": [
    {
     "data": {
      "text/plain": [
       "AnnData object with n_obs × n_vars = 2369 × 3000\n",
       "    obs: 'batch', '_scvi_batch', '_scvi_labels'\n",
       "    var: 'gene_ids', 'feature_types', 'genome', 'n_cells', 'highly_variable', 'highly_variable_rank', 'means', 'variances', 'variances_norm'\n",
       "    uns: 'hvg', '_scvi_uuid', '_scvi_manager_uuid'"
      ]
     },
     "execution_count": 87,
     "metadata": {},
     "output_type": "execute_result"
    }
   ],
   "source": [
    "adata5"
   ]
  },
  {
   "cell_type": "code",
   "execution_count": 88,
   "id": "e7ee581c-7f9b-4bd2-9ca5-0aef99adfa68",
   "metadata": {},
   "outputs": [],
   "source": [
    "adata5 = sc.read_h5ad(\"ASham_GFP_adata.h5ad\")\n"
   ]
  },
  {
   "cell_type": "code",
   "execution_count": 89,
   "id": "d14f483c-869c-4849-bf45-716f7fdb8206",
   "metadata": {},
   "outputs": [
    {
     "data": {
      "text/html": [
       "<div>\n",
       "<style scoped>\n",
       "    .dataframe tbody tr th:only-of-type {\n",
       "        vertical-align: middle;\n",
       "    }\n",
       "\n",
       "    .dataframe tbody tr th {\n",
       "        vertical-align: top;\n",
       "    }\n",
       "\n",
       "    .dataframe thead th {\n",
       "        text-align: right;\n",
       "    }\n",
       "</style>\n",
       "<table border=\"1\" class=\"dataframe\">\n",
       "  <thead>\n",
       "    <tr style=\"text-align: right;\">\n",
       "      <th></th>\n",
       "      <th>batch</th>\n",
       "    </tr>\n",
       "  </thead>\n",
       "  <tbody>\n",
       "    <tr>\n",
       "      <th>AAACCCACAACTCGTA-1-ASham_GFP</th>\n",
       "      <td>ASham_GFP</td>\n",
       "    </tr>\n",
       "    <tr>\n",
       "      <th>AAACCCAGTAGATGTA-1-ASham_GFP</th>\n",
       "      <td>ASham_GFP</td>\n",
       "    </tr>\n",
       "    <tr>\n",
       "      <th>AAACCCATCACCATGA-1-ASham_GFP</th>\n",
       "      <td>ASham_GFP</td>\n",
       "    </tr>\n",
       "    <tr>\n",
       "      <th>AAACGAAAGAATCCCT-1-ASham_GFP</th>\n",
       "      <td>ASham_GFP</td>\n",
       "    </tr>\n",
       "    <tr>\n",
       "      <th>AAACGAAAGGGACTGT-1-ASham_GFP</th>\n",
       "      <td>ASham_GFP</td>\n",
       "    </tr>\n",
       "    <tr>\n",
       "      <th>...</th>\n",
       "      <td>...</td>\n",
       "    </tr>\n",
       "    <tr>\n",
       "      <th>TTTGATCCATAACAGA-1-ASham_GFP</th>\n",
       "      <td>ASham_GFP</td>\n",
       "    </tr>\n",
       "    <tr>\n",
       "      <th>TTTGATCGTGTATACC-1-ASham_GFP</th>\n",
       "      <td>ASham_GFP</td>\n",
       "    </tr>\n",
       "    <tr>\n",
       "      <th>TTTGTTGAGACGCCCT-1-ASham_GFP</th>\n",
       "      <td>ASham_GFP</td>\n",
       "    </tr>\n",
       "    <tr>\n",
       "      <th>TTTGTTGAGGCCTAGA-1-ASham_GFP</th>\n",
       "      <td>ASham_GFP</td>\n",
       "    </tr>\n",
       "    <tr>\n",
       "      <th>TTTGTTGAGTTGAATG-1-ASham_GFP</th>\n",
       "      <td>ASham_GFP</td>\n",
       "    </tr>\n",
       "  </tbody>\n",
       "</table>\n",
       "<p>2369 rows × 1 columns</p>\n",
       "</div>"
      ],
      "text/plain": [
       "                                  batch\n",
       "AAACCCACAACTCGTA-1-ASham_GFP  ASham_GFP\n",
       "AAACCCAGTAGATGTA-1-ASham_GFP  ASham_GFP\n",
       "AAACCCATCACCATGA-1-ASham_GFP  ASham_GFP\n",
       "AAACGAAAGAATCCCT-1-ASham_GFP  ASham_GFP\n",
       "AAACGAAAGGGACTGT-1-ASham_GFP  ASham_GFP\n",
       "...                                 ...\n",
       "TTTGATCCATAACAGA-1-ASham_GFP  ASham_GFP\n",
       "TTTGATCGTGTATACC-1-ASham_GFP  ASham_GFP\n",
       "TTTGTTGAGACGCCCT-1-ASham_GFP  ASham_GFP\n",
       "TTTGTTGAGGCCTAGA-1-ASham_GFP  ASham_GFP\n",
       "TTTGTTGAGTTGAATG-1-ASham_GFP  ASham_GFP\n",
       "\n",
       "[2369 rows x 1 columns]"
      ]
     },
     "execution_count": 89,
     "metadata": {},
     "output_type": "execute_result"
    }
   ],
   "source": [
    "adata5.obs"
   ]
  },
  {
   "cell_type": "code",
   "execution_count": 90,
   "id": "3f8787cb-007c-4255-883c-6f70e96edced",
   "metadata": {},
   "outputs": [],
   "source": [
    "adata5.obs['doublet'] = adata5.obs.index.isin(doublets.index) "
   ]
  },
  {
   "cell_type": "code",
   "execution_count": 91,
   "id": "f8cbed30-662a-40cd-8ae2-1b793854235c",
   "metadata": {},
   "outputs": [
    {
     "data": {
      "text/html": [
       "<div>\n",
       "<style scoped>\n",
       "    .dataframe tbody tr th:only-of-type {\n",
       "        vertical-align: middle;\n",
       "    }\n",
       "\n",
       "    .dataframe tbody tr th {\n",
       "        vertical-align: top;\n",
       "    }\n",
       "\n",
       "    .dataframe thead th {\n",
       "        text-align: right;\n",
       "    }\n",
       "</style>\n",
       "<table border=\"1\" class=\"dataframe\">\n",
       "  <thead>\n",
       "    <tr style=\"text-align: right;\">\n",
       "      <th></th>\n",
       "      <th>batch</th>\n",
       "      <th>doublet</th>\n",
       "    </tr>\n",
       "  </thead>\n",
       "  <tbody>\n",
       "    <tr>\n",
       "      <th>AAACCCACAACTCGTA-1-ASham_GFP</th>\n",
       "      <td>ASham_GFP</td>\n",
       "      <td>True</td>\n",
       "    </tr>\n",
       "    <tr>\n",
       "      <th>AAACCCAGTAGATGTA-1-ASham_GFP</th>\n",
       "      <td>ASham_GFP</td>\n",
       "      <td>False</td>\n",
       "    </tr>\n",
       "    <tr>\n",
       "      <th>AAACCCATCACCATGA-1-ASham_GFP</th>\n",
       "      <td>ASham_GFP</td>\n",
       "      <td>True</td>\n",
       "    </tr>\n",
       "    <tr>\n",
       "      <th>AAACGAAAGAATCCCT-1-ASham_GFP</th>\n",
       "      <td>ASham_GFP</td>\n",
       "      <td>False</td>\n",
       "    </tr>\n",
       "    <tr>\n",
       "      <th>AAACGAAAGGGACTGT-1-ASham_GFP</th>\n",
       "      <td>ASham_GFP</td>\n",
       "      <td>False</td>\n",
       "    </tr>\n",
       "    <tr>\n",
       "      <th>...</th>\n",
       "      <td>...</td>\n",
       "      <td>...</td>\n",
       "    </tr>\n",
       "    <tr>\n",
       "      <th>TTTGATCCATAACAGA-1-ASham_GFP</th>\n",
       "      <td>ASham_GFP</td>\n",
       "      <td>False</td>\n",
       "    </tr>\n",
       "    <tr>\n",
       "      <th>TTTGATCGTGTATACC-1-ASham_GFP</th>\n",
       "      <td>ASham_GFP</td>\n",
       "      <td>False</td>\n",
       "    </tr>\n",
       "    <tr>\n",
       "      <th>TTTGTTGAGACGCCCT-1-ASham_GFP</th>\n",
       "      <td>ASham_GFP</td>\n",
       "      <td>False</td>\n",
       "    </tr>\n",
       "    <tr>\n",
       "      <th>TTTGTTGAGGCCTAGA-1-ASham_GFP</th>\n",
       "      <td>ASham_GFP</td>\n",
       "      <td>True</td>\n",
       "    </tr>\n",
       "    <tr>\n",
       "      <th>TTTGTTGAGTTGAATG-1-ASham_GFP</th>\n",
       "      <td>ASham_GFP</td>\n",
       "      <td>False</td>\n",
       "    </tr>\n",
       "  </tbody>\n",
       "</table>\n",
       "<p>2369 rows × 2 columns</p>\n",
       "</div>"
      ],
      "text/plain": [
       "                                  batch  doublet\n",
       "AAACCCACAACTCGTA-1-ASham_GFP  ASham_GFP     True\n",
       "AAACCCAGTAGATGTA-1-ASham_GFP  ASham_GFP    False\n",
       "AAACCCATCACCATGA-1-ASham_GFP  ASham_GFP     True\n",
       "AAACGAAAGAATCCCT-1-ASham_GFP  ASham_GFP    False\n",
       "AAACGAAAGGGACTGT-1-ASham_GFP  ASham_GFP    False\n",
       "...                                 ...      ...\n",
       "TTTGATCCATAACAGA-1-ASham_GFP  ASham_GFP    False\n",
       "TTTGATCGTGTATACC-1-ASham_GFP  ASham_GFP    False\n",
       "TTTGTTGAGACGCCCT-1-ASham_GFP  ASham_GFP    False\n",
       "TTTGTTGAGGCCTAGA-1-ASham_GFP  ASham_GFP     True\n",
       "TTTGTTGAGTTGAATG-1-ASham_GFP  ASham_GFP    False\n",
       "\n",
       "[2369 rows x 2 columns]"
      ]
     },
     "execution_count": 91,
     "metadata": {},
     "output_type": "execute_result"
    }
   ],
   "source": [
    "adata5.obs"
   ]
  },
  {
   "cell_type": "code",
   "execution_count": 92,
   "id": "d52af306-7959-49b2-8fed-3a26bdcf8fe8",
   "metadata": {},
   "outputs": [
    {
     "data": {
      "text/plain": [
       "View of AnnData object with n_obs × n_vars = 2114 × 55402\n",
       "    obs: 'batch', 'doublet'\n",
       "    var: 'gene_ids', 'feature_types', 'genome'"
      ]
     },
     "execution_count": 92,
     "metadata": {},
     "output_type": "execute_result"
    }
   ],
   "source": [
    "adata5 = adata5[~adata5.obs.doublet]\n",
    "adata5"
   ]
  },
  {
   "cell_type": "code",
   "execution_count": 93,
   "id": "8a65bb42-0ad5-4450-ac69-8d188ef6b51d",
   "metadata": {},
   "outputs": [
    {
     "data": {
      "text/plain": [
       "View of AnnData object with n_obs × n_vars = 2114 × 55402\n",
       "    obs: 'batch', 'doublet'\n",
       "    var: 'gene_ids', 'feature_types', 'genome'"
      ]
     },
     "execution_count": 93,
     "metadata": {},
     "output_type": "execute_result"
    }
   ],
   "source": [
    "# Save the filtered AnnData object\n",
    "adata5.write(\"ASham_GFP_adata_filtered_with_SOLO.h5ad\")\n",
    "adata5"
   ]
  },
  {
   "cell_type": "code",
   "execution_count": 93,
   "id": "39161b67-63c1-475b-835c-0f827427e476",
   "metadata": {},
   "outputs": [],
   "source": [
    "#sample 6"
   ]
  },
  {
   "cell_type": "code",
   "execution_count": 94,
   "id": "f6816112-6239-4166-91ba-923692d81a2d",
   "metadata": {},
   "outputs": [
    {
     "data": {
      "text/plain": [
       "AnnData object with n_obs × n_vars = 17202 × 55402\n",
       "    obs: 'batch'\n",
       "    var: 'gene_ids', 'feature_types', 'genome'"
      ]
     },
     "execution_count": 94,
     "metadata": {},
     "output_type": "execute_result"
    }
   ],
   "source": [
    "adata6"
   ]
  },
  {
   "cell_type": "code",
   "execution_count": 95,
   "id": "17d456b5-02dd-461f-818c-58a343fe2a5e",
   "metadata": {},
   "outputs": [],
   "source": [
    "sc.pp.filter_genes(adata6, min_cells = 10)\n",
    "sc.pp.highly_variable_genes(adata6, n_top_genes = 3000, subset = True, flavor = 'seurat_v3')"
   ]
  },
  {
   "cell_type": "code",
   "execution_count": 96,
   "id": "3d29050d-d5b0-4ab6-bbbb-6accb42dc38c",
   "metadata": {},
   "outputs": [
    {
     "name": "stderr",
     "output_type": "stream",
     "text": [
      "GPU available: False, used: False\n",
      "TPU available: False, using: 0 TPU cores\n",
      "HPU available: False, using: 0 HPUs\n"
     ]
    },
    {
     "name": "stdout",
     "output_type": "stream",
     "text": [
      "Epoch 400/400: 100%|█████████████| 400/400 [33:02<00:00,  4.84s/it, v_num=1, train_loss_step=807, train_loss_epoch=772]"
     ]
    },
    {
     "name": "stderr",
     "output_type": "stream",
     "text": [
      "`Trainer.fit` stopped: `max_epochs=400` reached.\n"
     ]
    },
    {
     "name": "stdout",
     "output_type": "stream",
     "text": [
      "Epoch 400/400: 100%|█████████████| 400/400 [33:02<00:00,  4.96s/it, v_num=1, train_loss_step=807, train_loss_epoch=772]\n"
     ]
    }
   ],
   "source": [
    "scvi.model.SCVI.setup_anndata(adata6)\n",
    "vae = scvi.model.SCVI(adata6)\n",
    "vae.train()\n"
   ]
  },
  {
   "cell_type": "code",
   "execution_count": 97,
   "id": "b5abc51f-2f80-4ff2-bab2-4b4b1a61f225",
   "metadata": {},
   "outputs": [
    {
     "name": "stdout",
     "output_type": "stream",
     "text": [
      "\u001b[34mINFO    \u001b[0m Creating doublets, preparing SOLO model.                                                                  \n"
     ]
    },
    {
     "name": "stderr",
     "output_type": "stream",
     "text": [
      "GPU available: False, used: False\n",
      "TPU available: False, using: 0 TPU cores\n",
      "HPU available: False, using: 0 HPUs\n"
     ]
    },
    {
     "name": "stdout",
     "output_type": "stream",
     "text": [
      "Epoch 267/400:  67%|██████   | 267/400 [13:22<06:39,  3.01s/it, v_num=1, train_loss_step=0.262, train_loss_epoch=0.294]\n",
      "Monitored metric validation_loss did not improve in the last 30 records. Best score: 0.276. Signaling Trainer to stop.\n"
     ]
    }
   ],
   "source": [
    "solo = scvi.external.SOLO.from_scvi_model(vae)\n",
    "solo.train()"
   ]
  },
  {
   "cell_type": "code",
   "execution_count": 98,
   "id": "26f206ab-a846-472f-91ee-9d4157f66601",
   "metadata": {},
   "outputs": [
    {
     "data": {
      "text/html": [
       "<div>\n",
       "<style scoped>\n",
       "    .dataframe tbody tr th:only-of-type {\n",
       "        vertical-align: middle;\n",
       "    }\n",
       "\n",
       "    .dataframe tbody tr th {\n",
       "        vertical-align: top;\n",
       "    }\n",
       "\n",
       "    .dataframe thead th {\n",
       "        text-align: right;\n",
       "    }\n",
       "</style>\n",
       "<table border=\"1\" class=\"dataframe\">\n",
       "  <thead>\n",
       "    <tr style=\"text-align: right;\">\n",
       "      <th></th>\n",
       "      <th>doublet</th>\n",
       "      <th>singlet</th>\n",
       "    </tr>\n",
       "  </thead>\n",
       "  <tbody>\n",
       "    <tr>\n",
       "      <th>AAACCCAAGAAATTCG-1-ASham_noGFP</th>\n",
       "      <td>0.067479</td>\n",
       "      <td>0.932521</td>\n",
       "    </tr>\n",
       "    <tr>\n",
       "      <th>AAACCCAAGACTGAGC-1-ASham_noGFP</th>\n",
       "      <td>0.640072</td>\n",
       "      <td>0.359928</td>\n",
       "    </tr>\n",
       "    <tr>\n",
       "      <th>AAACCCAAGGATTACA-1-ASham_noGFP</th>\n",
       "      <td>0.114155</td>\n",
       "      <td>0.885845</td>\n",
       "    </tr>\n",
       "    <tr>\n",
       "      <th>AAACCCAAGGGAGTGG-1-ASham_noGFP</th>\n",
       "      <td>0.034306</td>\n",
       "      <td>0.965694</td>\n",
       "    </tr>\n",
       "    <tr>\n",
       "      <th>AAACCCAAGTCTTCCC-1-ASham_noGFP</th>\n",
       "      <td>0.359508</td>\n",
       "      <td>0.640491</td>\n",
       "    </tr>\n",
       "    <tr>\n",
       "      <th>...</th>\n",
       "      <td>...</td>\n",
       "      <td>...</td>\n",
       "    </tr>\n",
       "    <tr>\n",
       "      <th>TTTGTTGTCCGAAATC-1-ASham_noGFP</th>\n",
       "      <td>0.343880</td>\n",
       "      <td>0.656120</td>\n",
       "    </tr>\n",
       "    <tr>\n",
       "      <th>TTTGTTGTCCGGTAGC-1-ASham_noGFP</th>\n",
       "      <td>0.813742</td>\n",
       "      <td>0.186258</td>\n",
       "    </tr>\n",
       "    <tr>\n",
       "      <th>TTTGTTGTCGAATCCA-1-ASham_noGFP</th>\n",
       "      <td>0.061218</td>\n",
       "      <td>0.938782</td>\n",
       "    </tr>\n",
       "    <tr>\n",
       "      <th>TTTGTTGTCTAGACCA-1-ASham_noGFP</th>\n",
       "      <td>0.079768</td>\n",
       "      <td>0.920232</td>\n",
       "    </tr>\n",
       "    <tr>\n",
       "      <th>TTTGTTGTCTTAGGAC-1-ASham_noGFP</th>\n",
       "      <td>0.101289</td>\n",
       "      <td>0.898711</td>\n",
       "    </tr>\n",
       "  </tbody>\n",
       "</table>\n",
       "<p>17202 rows × 2 columns</p>\n",
       "</div>"
      ],
      "text/plain": [
       "                                 doublet   singlet\n",
       "AAACCCAAGAAATTCG-1-ASham_noGFP  0.067479  0.932521\n",
       "AAACCCAAGACTGAGC-1-ASham_noGFP  0.640072  0.359928\n",
       "AAACCCAAGGATTACA-1-ASham_noGFP  0.114155  0.885845\n",
       "AAACCCAAGGGAGTGG-1-ASham_noGFP  0.034306  0.965694\n",
       "AAACCCAAGTCTTCCC-1-ASham_noGFP  0.359508  0.640491\n",
       "...                                  ...       ...\n",
       "TTTGTTGTCCGAAATC-1-ASham_noGFP  0.343880  0.656120\n",
       "TTTGTTGTCCGGTAGC-1-ASham_noGFP  0.813742  0.186258\n",
       "TTTGTTGTCGAATCCA-1-ASham_noGFP  0.061218  0.938782\n",
       "TTTGTTGTCTAGACCA-1-ASham_noGFP  0.079768  0.920232\n",
       "TTTGTTGTCTTAGGAC-1-ASham_noGFP  0.101289  0.898711\n",
       "\n",
       "[17202 rows x 2 columns]"
      ]
     },
     "execution_count": 98,
     "metadata": {},
     "output_type": "execute_result"
    }
   ],
   "source": [
    "solo.predict()"
   ]
  },
  {
   "cell_type": "code",
   "execution_count": 99,
   "id": "b8aa6786-da11-4eef-bc7c-8b452ad3d3a6",
   "metadata": {},
   "outputs": [
    {
     "data": {
      "text/html": [
       "<div>\n",
       "<style scoped>\n",
       "    .dataframe tbody tr th:only-of-type {\n",
       "        vertical-align: middle;\n",
       "    }\n",
       "\n",
       "    .dataframe tbody tr th {\n",
       "        vertical-align: top;\n",
       "    }\n",
       "\n",
       "    .dataframe thead th {\n",
       "        text-align: right;\n",
       "    }\n",
       "</style>\n",
       "<table border=\"1\" class=\"dataframe\">\n",
       "  <thead>\n",
       "    <tr style=\"text-align: right;\">\n",
       "      <th></th>\n",
       "      <th>doublet</th>\n",
       "      <th>singlet</th>\n",
       "      <th>prediction</th>\n",
       "    </tr>\n",
       "  </thead>\n",
       "  <tbody>\n",
       "    <tr>\n",
       "      <th>AAACCCAAGAAATTCG-1-ASham_noGFP</th>\n",
       "      <td>0.067479</td>\n",
       "      <td>0.932521</td>\n",
       "      <td>singlet</td>\n",
       "    </tr>\n",
       "    <tr>\n",
       "      <th>AAACCCAAGACTGAGC-1-ASham_noGFP</th>\n",
       "      <td>0.640072</td>\n",
       "      <td>0.359928</td>\n",
       "      <td>doublet</td>\n",
       "    </tr>\n",
       "    <tr>\n",
       "      <th>AAACCCAAGGATTACA-1-ASham_noGFP</th>\n",
       "      <td>0.114155</td>\n",
       "      <td>0.885845</td>\n",
       "      <td>singlet</td>\n",
       "    </tr>\n",
       "    <tr>\n",
       "      <th>AAACCCAAGGGAGTGG-1-ASham_noGFP</th>\n",
       "      <td>0.034306</td>\n",
       "      <td>0.965694</td>\n",
       "      <td>singlet</td>\n",
       "    </tr>\n",
       "    <tr>\n",
       "      <th>AAACCCAAGTCTTCCC-1-ASham_noGFP</th>\n",
       "      <td>0.359508</td>\n",
       "      <td>0.640491</td>\n",
       "      <td>singlet</td>\n",
       "    </tr>\n",
       "    <tr>\n",
       "      <th>...</th>\n",
       "      <td>...</td>\n",
       "      <td>...</td>\n",
       "      <td>...</td>\n",
       "    </tr>\n",
       "    <tr>\n",
       "      <th>TTTGTTGTCCGAAATC-1-ASham_noGFP</th>\n",
       "      <td>0.343880</td>\n",
       "      <td>0.656120</td>\n",
       "      <td>singlet</td>\n",
       "    </tr>\n",
       "    <tr>\n",
       "      <th>TTTGTTGTCCGGTAGC-1-ASham_noGFP</th>\n",
       "      <td>0.813742</td>\n",
       "      <td>0.186258</td>\n",
       "      <td>doublet</td>\n",
       "    </tr>\n",
       "    <tr>\n",
       "      <th>TTTGTTGTCGAATCCA-1-ASham_noGFP</th>\n",
       "      <td>0.061218</td>\n",
       "      <td>0.938782</td>\n",
       "      <td>singlet</td>\n",
       "    </tr>\n",
       "    <tr>\n",
       "      <th>TTTGTTGTCTAGACCA-1-ASham_noGFP</th>\n",
       "      <td>0.079768</td>\n",
       "      <td>0.920232</td>\n",
       "      <td>singlet</td>\n",
       "    </tr>\n",
       "    <tr>\n",
       "      <th>TTTGTTGTCTTAGGAC-1-ASham_noGFP</th>\n",
       "      <td>0.101289</td>\n",
       "      <td>0.898711</td>\n",
       "      <td>singlet</td>\n",
       "    </tr>\n",
       "  </tbody>\n",
       "</table>\n",
       "<p>17202 rows × 3 columns</p>\n",
       "</div>"
      ],
      "text/plain": [
       "                                 doublet   singlet prediction\n",
       "AAACCCAAGAAATTCG-1-ASham_noGFP  0.067479  0.932521    singlet\n",
       "AAACCCAAGACTGAGC-1-ASham_noGFP  0.640072  0.359928    doublet\n",
       "AAACCCAAGGATTACA-1-ASham_noGFP  0.114155  0.885845    singlet\n",
       "AAACCCAAGGGAGTGG-1-ASham_noGFP  0.034306  0.965694    singlet\n",
       "AAACCCAAGTCTTCCC-1-ASham_noGFP  0.359508  0.640491    singlet\n",
       "...                                  ...       ...        ...\n",
       "TTTGTTGTCCGAAATC-1-ASham_noGFP  0.343880  0.656120    singlet\n",
       "TTTGTTGTCCGGTAGC-1-ASham_noGFP  0.813742  0.186258    doublet\n",
       "TTTGTTGTCGAATCCA-1-ASham_noGFP  0.061218  0.938782    singlet\n",
       "TTTGTTGTCTAGACCA-1-ASham_noGFP  0.079768  0.920232    singlet\n",
       "TTTGTTGTCTTAGGAC-1-ASham_noGFP  0.101289  0.898711    singlet\n",
       "\n",
       "[17202 rows x 3 columns]"
      ]
     },
     "execution_count": 99,
     "metadata": {},
     "output_type": "execute_result"
    }
   ],
   "source": [
    "df = solo.predict()\n",
    "df['prediction'] = solo.predict(soft = False)\n",
    "\n",
    "df"
   ]
  },
  {
   "cell_type": "code",
   "execution_count": 100,
   "id": "28b9ecaf-5362-4e41-a679-5493b3fc4515",
   "metadata": {},
   "outputs": [
    {
     "data": {
      "text/html": [
       "<div>\n",
       "<style scoped>\n",
       "    .dataframe tbody tr th:only-of-type {\n",
       "        vertical-align: middle;\n",
       "    }\n",
       "\n",
       "    .dataframe tbody tr th {\n",
       "        vertical-align: top;\n",
       "    }\n",
       "\n",
       "    .dataframe thead th {\n",
       "        text-align: right;\n",
       "    }\n",
       "</style>\n",
       "<table border=\"1\" class=\"dataframe\">\n",
       "  <thead>\n",
       "    <tr style=\"text-align: right;\">\n",
       "      <th></th>\n",
       "      <th>doublet</th>\n",
       "      <th>singlet</th>\n",
       "    </tr>\n",
       "    <tr>\n",
       "      <th>prediction</th>\n",
       "      <th></th>\n",
       "      <th></th>\n",
       "    </tr>\n",
       "  </thead>\n",
       "  <tbody>\n",
       "    <tr>\n",
       "      <th>doublet</th>\n",
       "      <td>3356</td>\n",
       "      <td>3356</td>\n",
       "    </tr>\n",
       "    <tr>\n",
       "      <th>singlet</th>\n",
       "      <td>13846</td>\n",
       "      <td>13846</td>\n",
       "    </tr>\n",
       "  </tbody>\n",
       "</table>\n",
       "</div>"
      ],
      "text/plain": [
       "            doublet  singlet\n",
       "prediction                  \n",
       "doublet        3356     3356\n",
       "singlet       13846    13846"
      ]
     },
     "execution_count": 100,
     "metadata": {},
     "output_type": "execute_result"
    }
   ],
   "source": [
    "df.groupby('prediction').count()"
   ]
  },
  {
   "cell_type": "code",
   "execution_count": 101,
   "id": "ae7b315d-2d89-4a9a-bd6f-431ec46f8e08",
   "metadata": {},
   "outputs": [
    {
     "data": {
      "text/html": [
       "<div>\n",
       "<style scoped>\n",
       "    .dataframe tbody tr th:only-of-type {\n",
       "        vertical-align: middle;\n",
       "    }\n",
       "\n",
       "    .dataframe tbody tr th {\n",
       "        vertical-align: top;\n",
       "    }\n",
       "\n",
       "    .dataframe thead th {\n",
       "        text-align: right;\n",
       "    }\n",
       "</style>\n",
       "<table border=\"1\" class=\"dataframe\">\n",
       "  <thead>\n",
       "    <tr style=\"text-align: right;\">\n",
       "      <th></th>\n",
       "      <th>doublet</th>\n",
       "      <th>singlet</th>\n",
       "      <th>prediction</th>\n",
       "      <th>dif</th>\n",
       "    </tr>\n",
       "  </thead>\n",
       "  <tbody>\n",
       "    <tr>\n",
       "      <th>AAACCCAAGAAATTCG-1-ASham_noGFP</th>\n",
       "      <td>0.067479</td>\n",
       "      <td>0.932521</td>\n",
       "      <td>singlet</td>\n",
       "      <td>-0.865041</td>\n",
       "    </tr>\n",
       "    <tr>\n",
       "      <th>AAACCCAAGACTGAGC-1-ASham_noGFP</th>\n",
       "      <td>0.640072</td>\n",
       "      <td>0.359928</td>\n",
       "      <td>doublet</td>\n",
       "      <td>0.280145</td>\n",
       "    </tr>\n",
       "    <tr>\n",
       "      <th>AAACCCAAGGATTACA-1-ASham_noGFP</th>\n",
       "      <td>0.114155</td>\n",
       "      <td>0.885845</td>\n",
       "      <td>singlet</td>\n",
       "      <td>-0.771690</td>\n",
       "    </tr>\n",
       "    <tr>\n",
       "      <th>AAACCCAAGGGAGTGG-1-ASham_noGFP</th>\n",
       "      <td>0.034306</td>\n",
       "      <td>0.965694</td>\n",
       "      <td>singlet</td>\n",
       "      <td>-0.931388</td>\n",
       "    </tr>\n",
       "    <tr>\n",
       "      <th>AAACCCAAGTCTTCCC-1-ASham_noGFP</th>\n",
       "      <td>0.359508</td>\n",
       "      <td>0.640491</td>\n",
       "      <td>singlet</td>\n",
       "      <td>-0.280983</td>\n",
       "    </tr>\n",
       "    <tr>\n",
       "      <th>...</th>\n",
       "      <td>...</td>\n",
       "      <td>...</td>\n",
       "      <td>...</td>\n",
       "      <td>...</td>\n",
       "    </tr>\n",
       "    <tr>\n",
       "      <th>TTTGTTGTCCGAAATC-1-ASham_noGFP</th>\n",
       "      <td>0.343880</td>\n",
       "      <td>0.656120</td>\n",
       "      <td>singlet</td>\n",
       "      <td>-0.312240</td>\n",
       "    </tr>\n",
       "    <tr>\n",
       "      <th>TTTGTTGTCCGGTAGC-1-ASham_noGFP</th>\n",
       "      <td>0.813742</td>\n",
       "      <td>0.186258</td>\n",
       "      <td>doublet</td>\n",
       "      <td>0.627484</td>\n",
       "    </tr>\n",
       "    <tr>\n",
       "      <th>TTTGTTGTCGAATCCA-1-ASham_noGFP</th>\n",
       "      <td>0.061218</td>\n",
       "      <td>0.938782</td>\n",
       "      <td>singlet</td>\n",
       "      <td>-0.877564</td>\n",
       "    </tr>\n",
       "    <tr>\n",
       "      <th>TTTGTTGTCTAGACCA-1-ASham_noGFP</th>\n",
       "      <td>0.079768</td>\n",
       "      <td>0.920232</td>\n",
       "      <td>singlet</td>\n",
       "      <td>-0.840465</td>\n",
       "    </tr>\n",
       "    <tr>\n",
       "      <th>TTTGTTGTCTTAGGAC-1-ASham_noGFP</th>\n",
       "      <td>0.101289</td>\n",
       "      <td>0.898711</td>\n",
       "      <td>singlet</td>\n",
       "      <td>-0.797421</td>\n",
       "    </tr>\n",
       "  </tbody>\n",
       "</table>\n",
       "<p>17202 rows × 4 columns</p>\n",
       "</div>"
      ],
      "text/plain": [
       "                                 doublet   singlet prediction       dif\n",
       "AAACCCAAGAAATTCG-1-ASham_noGFP  0.067479  0.932521    singlet -0.865041\n",
       "AAACCCAAGACTGAGC-1-ASham_noGFP  0.640072  0.359928    doublet  0.280145\n",
       "AAACCCAAGGATTACA-1-ASham_noGFP  0.114155  0.885845    singlet -0.771690\n",
       "AAACCCAAGGGAGTGG-1-ASham_noGFP  0.034306  0.965694    singlet -0.931388\n",
       "AAACCCAAGTCTTCCC-1-ASham_noGFP  0.359508  0.640491    singlet -0.280983\n",
       "...                                  ...       ...        ...       ...\n",
       "TTTGTTGTCCGAAATC-1-ASham_noGFP  0.343880  0.656120    singlet -0.312240\n",
       "TTTGTTGTCCGGTAGC-1-ASham_noGFP  0.813742  0.186258    doublet  0.627484\n",
       "TTTGTTGTCGAATCCA-1-ASham_noGFP  0.061218  0.938782    singlet -0.877564\n",
       "TTTGTTGTCTAGACCA-1-ASham_noGFP  0.079768  0.920232    singlet -0.840465\n",
       "TTTGTTGTCTTAGGAC-1-ASham_noGFP  0.101289  0.898711    singlet -0.797421\n",
       "\n",
       "[17202 rows x 4 columns]"
      ]
     },
     "execution_count": 101,
     "metadata": {},
     "output_type": "execute_result"
    }
   ],
   "source": [
    "df['dif'] = df.doublet - df.singlet\n",
    "df"
   ]
  },
  {
   "cell_type": "code",
   "execution_count": 102,
   "id": "959c4513-8b13-4db2-98ad-b7edc1c881cd",
   "metadata": {},
   "outputs": [
    {
     "data": {
      "text/plain": [
       "<seaborn.axisgrid.FacetGrid at 0x2169180cd60>"
      ]
     },
     "execution_count": 102,
     "metadata": {},
     "output_type": "execute_result"
    },
    {
     "data": {
      "image/png": "[encoded data removed]",
      "text/plain": [
       "<Figure size 500x500 with 1 Axes>"
      ]
     },
     "metadata": {
      "image/png": {
       "height": 477,
       "width": 478
      }
     },
     "output_type": "display_data"
    }
   ],
   "source": [
    "sns.displot(df[df.prediction == 'doublet'], x = 'dif')"
   ]
  },
  {
   "cell_type": "code",
   "execution_count": 103,
   "id": "9600e264-ce3d-4b56-94c5-382833922362",
   "metadata": {},
   "outputs": [
    {
     "data": {
      "text/html": [
       "<div>\n",
       "<style scoped>\n",
       "    .dataframe tbody tr th:only-of-type {\n",
       "        vertical-align: middle;\n",
       "    }\n",
       "\n",
       "    .dataframe tbody tr th {\n",
       "        vertical-align: top;\n",
       "    }\n",
       "\n",
       "    .dataframe thead th {\n",
       "        text-align: right;\n",
       "    }\n",
       "</style>\n",
       "<table border=\"1\" class=\"dataframe\">\n",
       "  <thead>\n",
       "    <tr style=\"text-align: right;\">\n",
       "      <th></th>\n",
       "      <th>doublet</th>\n",
       "      <th>singlet</th>\n",
       "      <th>prediction</th>\n",
       "      <th>dif</th>\n",
       "    </tr>\n",
       "  </thead>\n",
       "  <tbody>\n",
       "    <tr>\n",
       "      <th>AAACCCAAGACTGAGC-1-ASham_noGFP</th>\n",
       "      <td>0.640072</td>\n",
       "      <td>0.359928</td>\n",
       "      <td>doublet</td>\n",
       "      <td>0.280145</td>\n",
       "    </tr>\n",
       "    <tr>\n",
       "      <th>AAACCCAGTAGCGATG-1-ASham_noGFP</th>\n",
       "      <td>0.741868</td>\n",
       "      <td>0.258132</td>\n",
       "      <td>doublet</td>\n",
       "      <td>0.483737</td>\n",
       "    </tr>\n",
       "    <tr>\n",
       "      <th>AAACCCAGTCCTCCAT-1-ASham_noGFP</th>\n",
       "      <td>0.979006</td>\n",
       "      <td>0.020994</td>\n",
       "      <td>doublet</td>\n",
       "      <td>0.958012</td>\n",
       "    </tr>\n",
       "    <tr>\n",
       "      <th>AAACCCATCTGGCCTT-1-ASham_noGFP</th>\n",
       "      <td>0.935120</td>\n",
       "      <td>0.064880</td>\n",
       "      <td>doublet</td>\n",
       "      <td>0.870240</td>\n",
       "    </tr>\n",
       "    <tr>\n",
       "      <th>AAACGAAAGCTGACCC-1-ASham_noGFP</th>\n",
       "      <td>0.982519</td>\n",
       "      <td>0.017481</td>\n",
       "      <td>doublet</td>\n",
       "      <td>0.965038</td>\n",
       "    </tr>\n",
       "    <tr>\n",
       "      <th>...</th>\n",
       "      <td>...</td>\n",
       "      <td>...</td>\n",
       "      <td>...</td>\n",
       "      <td>...</td>\n",
       "    </tr>\n",
       "    <tr>\n",
       "      <th>TTTGTTGCATAGGTTC-1-ASham_noGFP</th>\n",
       "      <td>0.854360</td>\n",
       "      <td>0.145640</td>\n",
       "      <td>doublet</td>\n",
       "      <td>0.708721</td>\n",
       "    </tr>\n",
       "    <tr>\n",
       "      <th>TTTGTTGGTAACAGTA-1-ASham_noGFP</th>\n",
       "      <td>0.666038</td>\n",
       "      <td>0.333962</td>\n",
       "      <td>doublet</td>\n",
       "      <td>0.332077</td>\n",
       "    </tr>\n",
       "    <tr>\n",
       "      <th>TTTGTTGGTCCAGCAC-1-ASham_noGFP</th>\n",
       "      <td>0.648383</td>\n",
       "      <td>0.351617</td>\n",
       "      <td>doublet</td>\n",
       "      <td>0.296767</td>\n",
       "    </tr>\n",
       "    <tr>\n",
       "      <th>TTTGTTGGTCGAAACG-1-ASham_noGFP</th>\n",
       "      <td>0.934522</td>\n",
       "      <td>0.065478</td>\n",
       "      <td>doublet</td>\n",
       "      <td>0.869044</td>\n",
       "    </tr>\n",
       "    <tr>\n",
       "      <th>TTTGTTGTCCGGTAGC-1-ASham_noGFP</th>\n",
       "      <td>0.813742</td>\n",
       "      <td>0.186258</td>\n",
       "      <td>doublet</td>\n",
       "      <td>0.627484</td>\n",
       "    </tr>\n",
       "  </tbody>\n",
       "</table>\n",
       "<p>2675 rows × 4 columns</p>\n",
       "</div>"
      ],
      "text/plain": [
       "                                 doublet   singlet prediction       dif\n",
       "AAACCCAAGACTGAGC-1-ASham_noGFP  0.640072  0.359928    doublet  0.280145\n",
       "AAACCCAGTAGCGATG-1-ASham_noGFP  0.741868  0.258132    doublet  0.483737\n",
       "AAACCCAGTCCTCCAT-1-ASham_noGFP  0.979006  0.020994    doublet  0.958012\n",
       "AAACCCATCTGGCCTT-1-ASham_noGFP  0.935120  0.064880    doublet  0.870240\n",
       "AAACGAAAGCTGACCC-1-ASham_noGFP  0.982519  0.017481    doublet  0.965038\n",
       "...                                  ...       ...        ...       ...\n",
       "TTTGTTGCATAGGTTC-1-ASham_noGFP  0.854360  0.145640    doublet  0.708721\n",
       "TTTGTTGGTAACAGTA-1-ASham_noGFP  0.666038  0.333962    doublet  0.332077\n",
       "TTTGTTGGTCCAGCAC-1-ASham_noGFP  0.648383  0.351617    doublet  0.296767\n",
       "TTTGTTGGTCGAAACG-1-ASham_noGFP  0.934522  0.065478    doublet  0.869044\n",
       "TTTGTTGTCCGGTAGC-1-ASham_noGFP  0.813742  0.186258    doublet  0.627484\n",
       "\n",
       "[2675 rows x 4 columns]"
      ]
     },
     "execution_count": 103,
     "metadata": {},
     "output_type": "execute_result"
    }
   ],
   "source": [
    "doublets = df[(df.prediction == 'doublet') & (df.dif > 0.2)]\n",
    "doublets"
   ]
  },
  {
   "cell_type": "code",
   "execution_count": 104,
   "id": "213b3fdf-bf28-4ab7-ad3c-74d83bf3f8bf",
   "metadata": {},
   "outputs": [
    {
     "data": {
      "text/plain": [
       "AnnData object with n_obs × n_vars = 17202 × 3000\n",
       "    obs: 'batch', '_scvi_batch', '_scvi_labels'\n",
       "    var: 'gene_ids', 'feature_types', 'genome', 'n_cells', 'highly_variable', 'highly_variable_rank', 'means', 'variances', 'variances_norm'\n",
       "    uns: 'hvg', '_scvi_uuid', '_scvi_manager_uuid'"
      ]
     },
     "execution_count": 104,
     "metadata": {},
     "output_type": "execute_result"
    }
   ],
   "source": [
    "adata6"
   ]
  },
  {
   "cell_type": "code",
   "execution_count": 105,
   "id": "211725de-b42e-45e6-849e-c437f5fdc7a8",
   "metadata": {},
   "outputs": [],
   "source": [
    "adata6 = sc.read_h5ad(\"ASham_noGFP_adata.h5ad\")\n"
   ]
  },
  {
   "cell_type": "code",
   "execution_count": 106,
   "id": "b26851d1-bb37-4b0a-8f1c-25a21f29c815",
   "metadata": {},
   "outputs": [
    {
     "data": {
      "text/html": [
       "<div>\n",
       "<style scoped>\n",
       "    .dataframe tbody tr th:only-of-type {\n",
       "        vertical-align: middle;\n",
       "    }\n",
       "\n",
       "    .dataframe tbody tr th {\n",
       "        vertical-align: top;\n",
       "    }\n",
       "\n",
       "    .dataframe thead th {\n",
       "        text-align: right;\n",
       "    }\n",
       "</style>\n",
       "<table border=\"1\" class=\"dataframe\">\n",
       "  <thead>\n",
       "    <tr style=\"text-align: right;\">\n",
       "      <th></th>\n",
       "      <th>batch</th>\n",
       "    </tr>\n",
       "  </thead>\n",
       "  <tbody>\n",
       "    <tr>\n",
       "      <th>AAACCCAAGAAATTCG-1-ASham_noGFP</th>\n",
       "      <td>ASham_noGFP</td>\n",
       "    </tr>\n",
       "    <tr>\n",
       "      <th>AAACCCAAGACTGAGC-1-ASham_noGFP</th>\n",
       "      <td>ASham_noGFP</td>\n",
       "    </tr>\n",
       "    <tr>\n",
       "      <th>AAACCCAAGGATTACA-1-ASham_noGFP</th>\n",
       "      <td>ASham_noGFP</td>\n",
       "    </tr>\n",
       "    <tr>\n",
       "      <th>AAACCCAAGGGAGTGG-1-ASham_noGFP</th>\n",
       "      <td>ASham_noGFP</td>\n",
       "    </tr>\n",
       "    <tr>\n",
       "      <th>AAACCCAAGTCTTCCC-1-ASham_noGFP</th>\n",
       "      <td>ASham_noGFP</td>\n",
       "    </tr>\n",
       "    <tr>\n",
       "      <th>...</th>\n",
       "      <td>...</td>\n",
       "    </tr>\n",
       "    <tr>\n",
       "      <th>TTTGTTGTCCGAAATC-1-ASham_noGFP</th>\n",
       "      <td>ASham_noGFP</td>\n",
       "    </tr>\n",
       "    <tr>\n",
       "      <th>TTTGTTGTCCGGTAGC-1-ASham_noGFP</th>\n",
       "      <td>ASham_noGFP</td>\n",
       "    </tr>\n",
       "    <tr>\n",
       "      <th>TTTGTTGTCGAATCCA-1-ASham_noGFP</th>\n",
       "      <td>ASham_noGFP</td>\n",
       "    </tr>\n",
       "    <tr>\n",
       "      <th>TTTGTTGTCTAGACCA-1-ASham_noGFP</th>\n",
       "      <td>ASham_noGFP</td>\n",
       "    </tr>\n",
       "    <tr>\n",
       "      <th>TTTGTTGTCTTAGGAC-1-ASham_noGFP</th>\n",
       "      <td>ASham_noGFP</td>\n",
       "    </tr>\n",
       "  </tbody>\n",
       "</table>\n",
       "<p>17202 rows × 1 columns</p>\n",
       "</div>"
      ],
      "text/plain": [
       "                                      batch\n",
       "AAACCCAAGAAATTCG-1-ASham_noGFP  ASham_noGFP\n",
       "AAACCCAAGACTGAGC-1-ASham_noGFP  ASham_noGFP\n",
       "AAACCCAAGGATTACA-1-ASham_noGFP  ASham_noGFP\n",
       "AAACCCAAGGGAGTGG-1-ASham_noGFP  ASham_noGFP\n",
       "AAACCCAAGTCTTCCC-1-ASham_noGFP  ASham_noGFP\n",
       "...                                     ...\n",
       "TTTGTTGTCCGAAATC-1-ASham_noGFP  ASham_noGFP\n",
       "TTTGTTGTCCGGTAGC-1-ASham_noGFP  ASham_noGFP\n",
       "TTTGTTGTCGAATCCA-1-ASham_noGFP  ASham_noGFP\n",
       "TTTGTTGTCTAGACCA-1-ASham_noGFP  ASham_noGFP\n",
       "TTTGTTGTCTTAGGAC-1-ASham_noGFP  ASham_noGFP\n",
       "\n",
       "[17202 rows x 1 columns]"
      ]
     },
     "execution_count": 106,
     "metadata": {},
     "output_type": "execute_result"
    }
   ],
   "source": [
    "adata6.obs"
   ]
  },
  {
   "cell_type": "code",
   "execution_count": 107,
   "id": "310f2612-76f2-44e9-bfeb-d503c31b6704",
   "metadata": {},
   "outputs": [],
   "source": [
    "adata6.obs['doublet'] = adata6.obs.index.isin(doublets.index) "
   ]
  },
  {
   "cell_type": "code",
   "execution_count": 108,
   "id": "093f96a7-3041-4339-a2b2-b20e11f1d444",
   "metadata": {},
   "outputs": [
    {
     "data": {
      "text/html": [
       "<div>\n",
       "<style scoped>\n",
       "    .dataframe tbody tr th:only-of-type {\n",
       "        vertical-align: middle;\n",
       "    }\n",
       "\n",
       "    .dataframe tbody tr th {\n",
       "        vertical-align: top;\n",
       "    }\n",
       "\n",
       "    .dataframe thead th {\n",
       "        text-align: right;\n",
       "    }\n",
       "</style>\n",
       "<table border=\"1\" class=\"dataframe\">\n",
       "  <thead>\n",
       "    <tr style=\"text-align: right;\">\n",
       "      <th></th>\n",
       "      <th>batch</th>\n",
       "      <th>doublet</th>\n",
       "    </tr>\n",
       "  </thead>\n",
       "  <tbody>\n",
       "    <tr>\n",
       "      <th>AAACCCAAGAAATTCG-1-ASham_noGFP</th>\n",
       "      <td>ASham_noGFP</td>\n",
       "      <td>False</td>\n",
       "    </tr>\n",
       "    <tr>\n",
       "      <th>AAACCCAAGACTGAGC-1-ASham_noGFP</th>\n",
       "      <td>ASham_noGFP</td>\n",
       "      <td>True</td>\n",
       "    </tr>\n",
       "    <tr>\n",
       "      <th>AAACCCAAGGATTACA-1-ASham_noGFP</th>\n",
       "      <td>ASham_noGFP</td>\n",
       "      <td>False</td>\n",
       "    </tr>\n",
       "    <tr>\n",
       "      <th>AAACCCAAGGGAGTGG-1-ASham_noGFP</th>\n",
       "      <td>ASham_noGFP</td>\n",
       "      <td>False</td>\n",
       "    </tr>\n",
       "    <tr>\n",
       "      <th>AAACCCAAGTCTTCCC-1-ASham_noGFP</th>\n",
       "      <td>ASham_noGFP</td>\n",
       "      <td>False</td>\n",
       "    </tr>\n",
       "    <tr>\n",
       "      <th>...</th>\n",
       "      <td>...</td>\n",
       "      <td>...</td>\n",
       "    </tr>\n",
       "    <tr>\n",
       "      <th>TTTGTTGTCCGAAATC-1-ASham_noGFP</th>\n",
       "      <td>ASham_noGFP</td>\n",
       "      <td>False</td>\n",
       "    </tr>\n",
       "    <tr>\n",
       "      <th>TTTGTTGTCCGGTAGC-1-ASham_noGFP</th>\n",
       "      <td>ASham_noGFP</td>\n",
       "      <td>True</td>\n",
       "    </tr>\n",
       "    <tr>\n",
       "      <th>TTTGTTGTCGAATCCA-1-ASham_noGFP</th>\n",
       "      <td>ASham_noGFP</td>\n",
       "      <td>False</td>\n",
       "    </tr>\n",
       "    <tr>\n",
       "      <th>TTTGTTGTCTAGACCA-1-ASham_noGFP</th>\n",
       "      <td>ASham_noGFP</td>\n",
       "      <td>False</td>\n",
       "    </tr>\n",
       "    <tr>\n",
       "      <th>TTTGTTGTCTTAGGAC-1-ASham_noGFP</th>\n",
       "      <td>ASham_noGFP</td>\n",
       "      <td>False</td>\n",
       "    </tr>\n",
       "  </tbody>\n",
       "</table>\n",
       "<p>17202 rows × 2 columns</p>\n",
       "</div>"
      ],
      "text/plain": [
       "                                      batch  doublet\n",
       "AAACCCAAGAAATTCG-1-ASham_noGFP  ASham_noGFP    False\n",
       "AAACCCAAGACTGAGC-1-ASham_noGFP  ASham_noGFP     True\n",
       "AAACCCAAGGATTACA-1-ASham_noGFP  ASham_noGFP    False\n",
       "AAACCCAAGGGAGTGG-1-ASham_noGFP  ASham_noGFP    False\n",
       "AAACCCAAGTCTTCCC-1-ASham_noGFP  ASham_noGFP    False\n",
       "...                                     ...      ...\n",
       "TTTGTTGTCCGAAATC-1-ASham_noGFP  ASham_noGFP    False\n",
       "TTTGTTGTCCGGTAGC-1-ASham_noGFP  ASham_noGFP     True\n",
       "TTTGTTGTCGAATCCA-1-ASham_noGFP  ASham_noGFP    False\n",
       "TTTGTTGTCTAGACCA-1-ASham_noGFP  ASham_noGFP    False\n",
       "TTTGTTGTCTTAGGAC-1-ASham_noGFP  ASham_noGFP    False\n",
       "\n",
       "[17202 rows x 2 columns]"
      ]
     },
     "execution_count": 108,
     "metadata": {},
     "output_type": "execute_result"
    }
   ],
   "source": [
    "adata6.obs"
   ]
  },
  {
   "cell_type": "code",
   "execution_count": 109,
   "id": "270864fb-4df4-434c-a400-a2ec2395a7c3",
   "metadata": {},
   "outputs": [
    {
     "data": {
      "text/plain": [
       "View of AnnData object with n_obs × n_vars = 14527 × 55402\n",
       "    obs: 'batch', 'doublet'\n",
       "    var: 'gene_ids', 'feature_types', 'genome'"
      ]
     },
     "execution_count": 109,
     "metadata": {},
     "output_type": "execute_result"
    }
   ],
   "source": [
    "adata6 = adata6[~adata6.obs.doublet]\n",
    "adata6"
   ]
  },
  {
   "cell_type": "code",
   "execution_count": 110,
   "id": "1230366a-1d7b-41ac-94f8-595fe71c324d",
   "metadata": {},
   "outputs": [
    {
     "data": {
      "text/plain": [
       "View of AnnData object with n_obs × n_vars = 14527 × 55402\n",
       "    obs: 'batch', 'doublet'\n",
       "    var: 'gene_ids', 'feature_types', 'genome'"
      ]
     },
     "execution_count": 110,
     "metadata": {},
     "output_type": "execute_result"
    }
   ],
   "source": [
    "# Save the filtered AnnData object\n",
    "adata6.write(\"ASham_noGFP_adata_filtered_with_SOLO.h5ad\")\n",
    "adata6"
   ]
  },
  {
   "cell_type": "code",
   "execution_count": 110,
   "id": "4702209a-aa7a-43d1-ac34-5072d34fa0fe",
   "metadata": {},
   "outputs": [],
   "source": [
    "#sample 7"
   ]
  },
  {
   "cell_type": "code",
   "execution_count": 111,
   "id": "363d786a-dcf6-4689-bfab-4b6df358cbf1",
   "metadata": {},
   "outputs": [
    {
     "data": {
      "text/plain": [
       "AnnData object with n_obs × n_vars = 10595 × 55402\n",
       "    obs: 'batch'\n",
       "    var: 'gene_ids', 'feature_types', 'genome'"
      ]
     },
     "execution_count": 111,
     "metadata": {},
     "output_type": "execute_result"
    }
   ],
   "source": [
    "adata7"
   ]
  },
  {
   "cell_type": "code",
   "execution_count": 112,
   "id": "7a72e068-2b29-459f-8c6f-eeeae103a1ec",
   "metadata": {},
   "outputs": [],
   "source": [
    "sc.pp.filter_genes(adata7, min_cells = 10)\n",
    "sc.pp.highly_variable_genes(adata7, n_top_genes = 3000, subset = True, flavor = 'seurat_v3')"
   ]
  },
  {
   "cell_type": "code",
   "execution_count": 113,
   "id": "abc68124-bbab-44b1-9185-79640543eded",
   "metadata": {},
   "outputs": [
    {
     "name": "stderr",
     "output_type": "stream",
     "text": [
      "GPU available: False, used: False\n",
      "TPU available: False, using: 0 TPU cores\n",
      "HPU available: False, using: 0 HPUs\n"
     ]
    },
    {
     "name": "stdout",
     "output_type": "stream",
     "text": [
      "Epoch 400/400: 100%|█████████████| 400/400 [20:20<00:00,  3.19s/it, v_num=1, train_loss_step=852, train_loss_epoch=823]"
     ]
    },
    {
     "name": "stderr",
     "output_type": "stream",
     "text": [
      "`Trainer.fit` stopped: `max_epochs=400` reached.\n"
     ]
    },
    {
     "name": "stdout",
     "output_type": "stream",
     "text": [
      "Epoch 400/400: 100%|█████████████| 400/400 [20:20<00:00,  3.05s/it, v_num=1, train_loss_step=852, train_loss_epoch=823]\n"
     ]
    }
   ],
   "source": [
    "scvi.model.SCVI.setup_anndata(adata7)\n",
    "vae = scvi.model.SCVI(adata7)\n",
    "vae.train()\n"
   ]
  },
  {
   "cell_type": "code",
   "execution_count": 114,
   "id": "3e49e707-3941-4163-bdd6-879321d85ad2",
   "metadata": {},
   "outputs": [
    {
     "name": "stdout",
     "output_type": "stream",
     "text": [
      "\u001b[34mINFO    \u001b[0m Creating doublets, preparing SOLO model.                                                                  \n"
     ]
    },
    {
     "name": "stderr",
     "output_type": "stream",
     "text": [
      "GPU available: False, used: False\n",
      "TPU available: False, using: 0 TPU cores\n",
      "HPU available: False, using: 0 HPUs\n"
     ]
    },
    {
     "name": "stdout",
     "output_type": "stream",
     "text": [
      "Epoch 107/400:  27%|██▍      | 107/400 [03:18<09:04,  1.86s/it, v_num=1, train_loss_step=0.274, train_loss_epoch=0.322]\n",
      "Monitored metric validation_loss did not improve in the last 30 records. Best score: 0.330. Signaling Trainer to stop.\n"
     ]
    }
   ],
   "source": [
    "solo = scvi.external.SOLO.from_scvi_model(vae)\n",
    "solo.train()"
   ]
  },
  {
   "cell_type": "code",
   "execution_count": 115,
   "id": "67f83b81-7c22-41fc-bfe3-842f629a924b",
   "metadata": {},
   "outputs": [
    {
     "data": {
      "text/html": [
       "<div>\n",
       "<style scoped>\n",
       "    .dataframe tbody tr th:only-of-type {\n",
       "        vertical-align: middle;\n",
       "    }\n",
       "\n",
       "    .dataframe tbody tr th {\n",
       "        vertical-align: top;\n",
       "    }\n",
       "\n",
       "    .dataframe thead th {\n",
       "        text-align: right;\n",
       "    }\n",
       "</style>\n",
       "<table border=\"1\" class=\"dataframe\">\n",
       "  <thead>\n",
       "    <tr style=\"text-align: right;\">\n",
       "      <th></th>\n",
       "      <th>doublet</th>\n",
       "      <th>singlet</th>\n",
       "      <th>prediction</th>\n",
       "    </tr>\n",
       "  </thead>\n",
       "  <tbody>\n",
       "    <tr>\n",
       "      <th>AAACCCAAGTGCAGGT-1-AOV_GFP</th>\n",
       "      <td>0.151388</td>\n",
       "      <td>0.848612</td>\n",
       "      <td>singlet</td>\n",
       "    </tr>\n",
       "    <tr>\n",
       "      <th>AAACCCACAACAAGAT-1-AOV_GFP</th>\n",
       "      <td>0.028431</td>\n",
       "      <td>0.971569</td>\n",
       "      <td>singlet</td>\n",
       "    </tr>\n",
       "    <tr>\n",
       "      <th>AAACCCACAAGCTCTA-1-AOV_GFP</th>\n",
       "      <td>0.609399</td>\n",
       "      <td>0.390601</td>\n",
       "      <td>doublet</td>\n",
       "    </tr>\n",
       "    <tr>\n",
       "      <th>AAACCCACACAAGTGG-1-AOV_GFP</th>\n",
       "      <td>0.065306</td>\n",
       "      <td>0.934694</td>\n",
       "      <td>singlet</td>\n",
       "    </tr>\n",
       "    <tr>\n",
       "      <th>AAACCCACAGCCCACA-1-AOV_GFP</th>\n",
       "      <td>0.693689</td>\n",
       "      <td>0.306311</td>\n",
       "      <td>doublet</td>\n",
       "    </tr>\n",
       "    <tr>\n",
       "      <th>...</th>\n",
       "      <td>...</td>\n",
       "      <td>...</td>\n",
       "      <td>...</td>\n",
       "    </tr>\n",
       "    <tr>\n",
       "      <th>TTTGTTGCACCGCTGA-1-AOV_GFP</th>\n",
       "      <td>0.083901</td>\n",
       "      <td>0.916099</td>\n",
       "      <td>singlet</td>\n",
       "    </tr>\n",
       "    <tr>\n",
       "      <th>TTTGTTGCATCCGAAT-1-AOV_GFP</th>\n",
       "      <td>0.501580</td>\n",
       "      <td>0.498420</td>\n",
       "      <td>doublet</td>\n",
       "    </tr>\n",
       "    <tr>\n",
       "      <th>TTTGTTGGTACCGTCG-1-AOV_GFP</th>\n",
       "      <td>0.444086</td>\n",
       "      <td>0.555914</td>\n",
       "      <td>singlet</td>\n",
       "    </tr>\n",
       "    <tr>\n",
       "      <th>TTTGTTGGTGTCGATT-1-AOV_GFP</th>\n",
       "      <td>0.069491</td>\n",
       "      <td>0.930509</td>\n",
       "      <td>singlet</td>\n",
       "    </tr>\n",
       "    <tr>\n",
       "      <th>TTTGTTGGTTCTCTAT-1-AOV_GFP</th>\n",
       "      <td>0.568895</td>\n",
       "      <td>0.431105</td>\n",
       "      <td>doublet</td>\n",
       "    </tr>\n",
       "  </tbody>\n",
       "</table>\n",
       "<p>10595 rows × 3 columns</p>\n",
       "</div>"
      ],
      "text/plain": [
       "                             doublet   singlet prediction\n",
       "AAACCCAAGTGCAGGT-1-AOV_GFP  0.151388  0.848612    singlet\n",
       "AAACCCACAACAAGAT-1-AOV_GFP  0.028431  0.971569    singlet\n",
       "AAACCCACAAGCTCTA-1-AOV_GFP  0.609399  0.390601    doublet\n",
       "AAACCCACACAAGTGG-1-AOV_GFP  0.065306  0.934694    singlet\n",
       "AAACCCACAGCCCACA-1-AOV_GFP  0.693689  0.306311    doublet\n",
       "...                              ...       ...        ...\n",
       "TTTGTTGCACCGCTGA-1-AOV_GFP  0.083901  0.916099    singlet\n",
       "TTTGTTGCATCCGAAT-1-AOV_GFP  0.501580  0.498420    doublet\n",
       "TTTGTTGGTACCGTCG-1-AOV_GFP  0.444086  0.555914    singlet\n",
       "TTTGTTGGTGTCGATT-1-AOV_GFP  0.069491  0.930509    singlet\n",
       "TTTGTTGGTTCTCTAT-1-AOV_GFP  0.568895  0.431105    doublet\n",
       "\n",
       "[10595 rows x 3 columns]"
      ]
     },
     "execution_count": 115,
     "metadata": {},
     "output_type": "execute_result"
    }
   ],
   "source": [
    "df = solo.predict()\n",
    "df['prediction'] = solo.predict(soft = False)\n",
    "\n",
    "df"
   ]
  },
  {
   "cell_type": "code",
   "execution_count": 116,
   "id": "73433b57-affa-4008-ab80-e87e4ce2d70d",
   "metadata": {},
   "outputs": [
    {
     "data": {
      "text/html": [
       "<div>\n",
       "<style scoped>\n",
       "    .dataframe tbody tr th:only-of-type {\n",
       "        vertical-align: middle;\n",
       "    }\n",
       "\n",
       "    .dataframe tbody tr th {\n",
       "        vertical-align: top;\n",
       "    }\n",
       "\n",
       "    .dataframe thead th {\n",
       "        text-align: right;\n",
       "    }\n",
       "</style>\n",
       "<table border=\"1\" class=\"dataframe\">\n",
       "  <thead>\n",
       "    <tr style=\"text-align: right;\">\n",
       "      <th></th>\n",
       "      <th>doublet</th>\n",
       "      <th>singlet</th>\n",
       "    </tr>\n",
       "    <tr>\n",
       "      <th>prediction</th>\n",
       "      <th></th>\n",
       "      <th></th>\n",
       "    </tr>\n",
       "  </thead>\n",
       "  <tbody>\n",
       "    <tr>\n",
       "      <th>doublet</th>\n",
       "      <td>2238</td>\n",
       "      <td>2238</td>\n",
       "    </tr>\n",
       "    <tr>\n",
       "      <th>singlet</th>\n",
       "      <td>8357</td>\n",
       "      <td>8357</td>\n",
       "    </tr>\n",
       "  </tbody>\n",
       "</table>\n",
       "</div>"
      ],
      "text/plain": [
       "            doublet  singlet\n",
       "prediction                  \n",
       "doublet        2238     2238\n",
       "singlet        8357     8357"
      ]
     },
     "execution_count": 116,
     "metadata": {},
     "output_type": "execute_result"
    }
   ],
   "source": [
    "df.groupby('prediction').count()"
   ]
  },
  {
   "cell_type": "code",
   "execution_count": 117,
   "id": "00a3c708-ef96-48eb-bee9-0b4dd83f2056",
   "metadata": {},
   "outputs": [
    {
     "data": {
      "text/html": [
       "<div>\n",
       "<style scoped>\n",
       "    .dataframe tbody tr th:only-of-type {\n",
       "        vertical-align: middle;\n",
       "    }\n",
       "\n",
       "    .dataframe tbody tr th {\n",
       "        vertical-align: top;\n",
       "    }\n",
       "\n",
       "    .dataframe thead th {\n",
       "        text-align: right;\n",
       "    }\n",
       "</style>\n",
       "<table border=\"1\" class=\"dataframe\">\n",
       "  <thead>\n",
       "    <tr style=\"text-align: right;\">\n",
       "      <th></th>\n",
       "      <th>doublet</th>\n",
       "      <th>singlet</th>\n",
       "      <th>prediction</th>\n",
       "      <th>dif</th>\n",
       "    </tr>\n",
       "  </thead>\n",
       "  <tbody>\n",
       "    <tr>\n",
       "      <th>AAACCCAAGTGCAGGT-1-AOV_GFP</th>\n",
       "      <td>0.151388</td>\n",
       "      <td>0.848612</td>\n",
       "      <td>singlet</td>\n",
       "      <td>-0.697225</td>\n",
       "    </tr>\n",
       "    <tr>\n",
       "      <th>AAACCCACAACAAGAT-1-AOV_GFP</th>\n",
       "      <td>0.028431</td>\n",
       "      <td>0.971569</td>\n",
       "      <td>singlet</td>\n",
       "      <td>-0.943137</td>\n",
       "    </tr>\n",
       "    <tr>\n",
       "      <th>AAACCCACAAGCTCTA-1-AOV_GFP</th>\n",
       "      <td>0.609399</td>\n",
       "      <td>0.390601</td>\n",
       "      <td>doublet</td>\n",
       "      <td>0.218798</td>\n",
       "    </tr>\n",
       "    <tr>\n",
       "      <th>AAACCCACACAAGTGG-1-AOV_GFP</th>\n",
       "      <td>0.065306</td>\n",
       "      <td>0.934694</td>\n",
       "      <td>singlet</td>\n",
       "      <td>-0.869388</td>\n",
       "    </tr>\n",
       "    <tr>\n",
       "      <th>AAACCCACAGCCCACA-1-AOV_GFP</th>\n",
       "      <td>0.693689</td>\n",
       "      <td>0.306311</td>\n",
       "      <td>doublet</td>\n",
       "      <td>0.387379</td>\n",
       "    </tr>\n",
       "    <tr>\n",
       "      <th>...</th>\n",
       "      <td>...</td>\n",
       "      <td>...</td>\n",
       "      <td>...</td>\n",
       "      <td>...</td>\n",
       "    </tr>\n",
       "    <tr>\n",
       "      <th>TTTGTTGCACCGCTGA-1-AOV_GFP</th>\n",
       "      <td>0.083901</td>\n",
       "      <td>0.916099</td>\n",
       "      <td>singlet</td>\n",
       "      <td>-0.832199</td>\n",
       "    </tr>\n",
       "    <tr>\n",
       "      <th>TTTGTTGCATCCGAAT-1-AOV_GFP</th>\n",
       "      <td>0.501580</td>\n",
       "      <td>0.498420</td>\n",
       "      <td>doublet</td>\n",
       "      <td>0.003160</td>\n",
       "    </tr>\n",
       "    <tr>\n",
       "      <th>TTTGTTGGTACCGTCG-1-AOV_GFP</th>\n",
       "      <td>0.444086</td>\n",
       "      <td>0.555914</td>\n",
       "      <td>singlet</td>\n",
       "      <td>-0.111829</td>\n",
       "    </tr>\n",
       "    <tr>\n",
       "      <th>TTTGTTGGTGTCGATT-1-AOV_GFP</th>\n",
       "      <td>0.069491</td>\n",
       "      <td>0.930509</td>\n",
       "      <td>singlet</td>\n",
       "      <td>-0.861019</td>\n",
       "    </tr>\n",
       "    <tr>\n",
       "      <th>TTTGTTGGTTCTCTAT-1-AOV_GFP</th>\n",
       "      <td>0.568895</td>\n",
       "      <td>0.431105</td>\n",
       "      <td>doublet</td>\n",
       "      <td>0.137790</td>\n",
       "    </tr>\n",
       "  </tbody>\n",
       "</table>\n",
       "<p>10595 rows × 4 columns</p>\n",
       "</div>"
      ],
      "text/plain": [
       "                             doublet   singlet prediction       dif\n",
       "AAACCCAAGTGCAGGT-1-AOV_GFP  0.151388  0.848612    singlet -0.697225\n",
       "AAACCCACAACAAGAT-1-AOV_GFP  0.028431  0.971569    singlet -0.943137\n",
       "AAACCCACAAGCTCTA-1-AOV_GFP  0.609399  0.390601    doublet  0.218798\n",
       "AAACCCACACAAGTGG-1-AOV_GFP  0.065306  0.934694    singlet -0.869388\n",
       "AAACCCACAGCCCACA-1-AOV_GFP  0.693689  0.306311    doublet  0.387379\n",
       "...                              ...       ...        ...       ...\n",
       "TTTGTTGCACCGCTGA-1-AOV_GFP  0.083901  0.916099    singlet -0.832199\n",
       "TTTGTTGCATCCGAAT-1-AOV_GFP  0.501580  0.498420    doublet  0.003160\n",
       "TTTGTTGGTACCGTCG-1-AOV_GFP  0.444086  0.555914    singlet -0.111829\n",
       "TTTGTTGGTGTCGATT-1-AOV_GFP  0.069491  0.930509    singlet -0.861019\n",
       "TTTGTTGGTTCTCTAT-1-AOV_GFP  0.568895  0.431105    doublet  0.137790\n",
       "\n",
       "[10595 rows x 4 columns]"
      ]
     },
     "execution_count": 117,
     "metadata": {},
     "output_type": "execute_result"
    }
   ],
   "source": [
    "df['dif'] = df.doublet - df.singlet\n",
    "df"
   ]
  },
  {
   "cell_type": "code",
   "execution_count": 118,
   "id": "299f8281-df1d-448b-8c04-0a59ec7f7da1",
   "metadata": {},
   "outputs": [
    {
     "data": {
      "text/plain": [
       "<seaborn.axisgrid.FacetGrid at 0x216ffd48790>"
      ]
     },
     "execution_count": 118,
     "metadata": {},
     "output_type": "execute_result"
    },
    {
     "data": {
      "image/png": "[encoded data removed]",
      "text/plain": [
       "<Figure size 500x500 with 1 Axes>"
      ]
     },
     "metadata": {
      "image/png": {
       "height": 477,
       "width": 477
      }
     },
     "output_type": "display_data"
    }
   ],
   "source": [
    "sns.displot(df[df.prediction == 'doublet'], x = 'dif')"
   ]
  },
  {
   "cell_type": "code",
   "execution_count": 119,
   "id": "685ea5ce-211e-4923-b7a4-af7cf2c871e2",
   "metadata": {},
   "outputs": [
    {
     "data": {
      "text/html": [
       "<div>\n",
       "<style scoped>\n",
       "    .dataframe tbody tr th:only-of-type {\n",
       "        vertical-align: middle;\n",
       "    }\n",
       "\n",
       "    .dataframe tbody tr th {\n",
       "        vertical-align: top;\n",
       "    }\n",
       "\n",
       "    .dataframe thead th {\n",
       "        text-align: right;\n",
       "    }\n",
       "</style>\n",
       "<table border=\"1\" class=\"dataframe\">\n",
       "  <thead>\n",
       "    <tr style=\"text-align: right;\">\n",
       "      <th></th>\n",
       "      <th>doublet</th>\n",
       "      <th>singlet</th>\n",
       "      <th>prediction</th>\n",
       "      <th>dif</th>\n",
       "    </tr>\n",
       "  </thead>\n",
       "  <tbody>\n",
       "    <tr>\n",
       "      <th>AAACCCACAAGCTCTA-1-AOV_GFP</th>\n",
       "      <td>0.609399</td>\n",
       "      <td>0.390601</td>\n",
       "      <td>doublet</td>\n",
       "      <td>0.218798</td>\n",
       "    </tr>\n",
       "    <tr>\n",
       "      <th>AAACCCACAGCCCACA-1-AOV_GFP</th>\n",
       "      <td>0.693689</td>\n",
       "      <td>0.306311</td>\n",
       "      <td>doublet</td>\n",
       "      <td>0.387379</td>\n",
       "    </tr>\n",
       "    <tr>\n",
       "      <th>AAACGAACAGAAACCG-1-AOV_GFP</th>\n",
       "      <td>0.712893</td>\n",
       "      <td>0.287107</td>\n",
       "      <td>doublet</td>\n",
       "      <td>0.425787</td>\n",
       "    </tr>\n",
       "    <tr>\n",
       "      <th>AAACGAATCTCGCTCA-1-AOV_GFP</th>\n",
       "      <td>0.627046</td>\n",
       "      <td>0.372954</td>\n",
       "      <td>doublet</td>\n",
       "      <td>0.254092</td>\n",
       "    </tr>\n",
       "    <tr>\n",
       "      <th>AAACGCTAGATAGCTA-1-AOV_GFP</th>\n",
       "      <td>0.881229</td>\n",
       "      <td>0.118771</td>\n",
       "      <td>doublet</td>\n",
       "      <td>0.762458</td>\n",
       "    </tr>\n",
       "    <tr>\n",
       "      <th>...</th>\n",
       "      <td>...</td>\n",
       "      <td>...</td>\n",
       "      <td>...</td>\n",
       "      <td>...</td>\n",
       "    </tr>\n",
       "    <tr>\n",
       "      <th>TTTGACTAGTACCATC-1-AOV_GFP</th>\n",
       "      <td>0.620866</td>\n",
       "      <td>0.379134</td>\n",
       "      <td>doublet</td>\n",
       "      <td>0.241731</td>\n",
       "    </tr>\n",
       "    <tr>\n",
       "      <th>TTTGGAGAGCAGGCTA-1-AOV_GFP</th>\n",
       "      <td>0.732881</td>\n",
       "      <td>0.267119</td>\n",
       "      <td>doublet</td>\n",
       "      <td>0.465762</td>\n",
       "    </tr>\n",
       "    <tr>\n",
       "      <th>TTTGGAGTCTTGGTGA-1-AOV_GFP</th>\n",
       "      <td>0.901689</td>\n",
       "      <td>0.098311</td>\n",
       "      <td>doublet</td>\n",
       "      <td>0.803377</td>\n",
       "    </tr>\n",
       "    <tr>\n",
       "      <th>TTTGGTTAGCTTAGTC-1-AOV_GFP</th>\n",
       "      <td>0.762497</td>\n",
       "      <td>0.237502</td>\n",
       "      <td>doublet</td>\n",
       "      <td>0.524995</td>\n",
       "    </tr>\n",
       "    <tr>\n",
       "      <th>TTTGGTTGTGTTACTG-1-AOV_GFP</th>\n",
       "      <td>0.701635</td>\n",
       "      <td>0.298365</td>\n",
       "      <td>doublet</td>\n",
       "      <td>0.403270</td>\n",
       "    </tr>\n",
       "  </tbody>\n",
       "</table>\n",
       "<p>1711 rows × 4 columns</p>\n",
       "</div>"
      ],
      "text/plain": [
       "                             doublet   singlet prediction       dif\n",
       "AAACCCACAAGCTCTA-1-AOV_GFP  0.609399  0.390601    doublet  0.218798\n",
       "AAACCCACAGCCCACA-1-AOV_GFP  0.693689  0.306311    doublet  0.387379\n",
       "AAACGAACAGAAACCG-1-AOV_GFP  0.712893  0.287107    doublet  0.425787\n",
       "AAACGAATCTCGCTCA-1-AOV_GFP  0.627046  0.372954    doublet  0.254092\n",
       "AAACGCTAGATAGCTA-1-AOV_GFP  0.881229  0.118771    doublet  0.762458\n",
       "...                              ...       ...        ...       ...\n",
       "TTTGACTAGTACCATC-1-AOV_GFP  0.620866  0.379134    doublet  0.241731\n",
       "TTTGGAGAGCAGGCTA-1-AOV_GFP  0.732881  0.267119    doublet  0.465762\n",
       "TTTGGAGTCTTGGTGA-1-AOV_GFP  0.901689  0.098311    doublet  0.803377\n",
       "TTTGGTTAGCTTAGTC-1-AOV_GFP  0.762497  0.237502    doublet  0.524995\n",
       "TTTGGTTGTGTTACTG-1-AOV_GFP  0.701635  0.298365    doublet  0.403270\n",
       "\n",
       "[1711 rows x 4 columns]"
      ]
     },
     "execution_count": 119,
     "metadata": {},
     "output_type": "execute_result"
    }
   ],
   "source": [
    "doublets = df[(df.prediction == 'doublet') & (df.dif > 0.2)]\n",
    "doublets"
   ]
  },
  {
   "cell_type": "code",
   "execution_count": 120,
   "id": "9936b05f-dd22-49f4-a1e2-3981d77b3b9e",
   "metadata": {},
   "outputs": [
    {
     "data": {
      "text/plain": [
       "AnnData object with n_obs × n_vars = 10595 × 3000\n",
       "    obs: 'batch', '_scvi_batch', '_scvi_labels'\n",
       "    var: 'gene_ids', 'feature_types', 'genome', 'n_cells', 'highly_variable', 'highly_variable_rank', 'means', 'variances', 'variances_norm'\n",
       "    uns: 'hvg', '_scvi_uuid', '_scvi_manager_uuid'"
      ]
     },
     "execution_count": 120,
     "metadata": {},
     "output_type": "execute_result"
    }
   ],
   "source": [
    "adata7"
   ]
  },
  {
   "cell_type": "code",
   "execution_count": 121,
   "id": "5fed3608-e13a-42d1-956c-957f106c66ae",
   "metadata": {},
   "outputs": [],
   "source": [
    "adata7 = sc.read_h5ad(\"AOV_GFP_adata.h5ad\")\n"
   ]
  },
  {
   "cell_type": "code",
   "execution_count": 122,
   "id": "39187cf9-94a5-432c-b746-9971389005f7",
   "metadata": {},
   "outputs": [
    {
     "data": {
      "text/html": [
       "<div>\n",
       "<style scoped>\n",
       "    .dataframe tbody tr th:only-of-type {\n",
       "        vertical-align: middle;\n",
       "    }\n",
       "\n",
       "    .dataframe tbody tr th {\n",
       "        vertical-align: top;\n",
       "    }\n",
       "\n",
       "    .dataframe thead th {\n",
       "        text-align: right;\n",
       "    }\n",
       "</style>\n",
       "<table border=\"1\" class=\"dataframe\">\n",
       "  <thead>\n",
       "    <tr style=\"text-align: right;\">\n",
       "      <th></th>\n",
       "      <th>batch</th>\n",
       "    </tr>\n",
       "  </thead>\n",
       "  <tbody>\n",
       "    <tr>\n",
       "      <th>AAACCCAAGTGCAGGT-1-AOV_GFP</th>\n",
       "      <td>AOV_GFP</td>\n",
       "    </tr>\n",
       "    <tr>\n",
       "      <th>AAACCCACAACAAGAT-1-AOV_GFP</th>\n",
       "      <td>AOV_GFP</td>\n",
       "    </tr>\n",
       "    <tr>\n",
       "      <th>AAACCCACAAGCTCTA-1-AOV_GFP</th>\n",
       "      <td>AOV_GFP</td>\n",
       "    </tr>\n",
       "    <tr>\n",
       "      <th>AAACCCACACAAGTGG-1-AOV_GFP</th>\n",
       "      <td>AOV_GFP</td>\n",
       "    </tr>\n",
       "    <tr>\n",
       "      <th>AAACCCACAGCCCACA-1-AOV_GFP</th>\n",
       "      <td>AOV_GFP</td>\n",
       "    </tr>\n",
       "    <tr>\n",
       "      <th>...</th>\n",
       "      <td>...</td>\n",
       "    </tr>\n",
       "    <tr>\n",
       "      <th>TTTGTTGCACCGCTGA-1-AOV_GFP</th>\n",
       "      <td>AOV_GFP</td>\n",
       "    </tr>\n",
       "    <tr>\n",
       "      <th>TTTGTTGCATCCGAAT-1-AOV_GFP</th>\n",
       "      <td>AOV_GFP</td>\n",
       "    </tr>\n",
       "    <tr>\n",
       "      <th>TTTGTTGGTACCGTCG-1-AOV_GFP</th>\n",
       "      <td>AOV_GFP</td>\n",
       "    </tr>\n",
       "    <tr>\n",
       "      <th>TTTGTTGGTGTCGATT-1-AOV_GFP</th>\n",
       "      <td>AOV_GFP</td>\n",
       "    </tr>\n",
       "    <tr>\n",
       "      <th>TTTGTTGGTTCTCTAT-1-AOV_GFP</th>\n",
       "      <td>AOV_GFP</td>\n",
       "    </tr>\n",
       "  </tbody>\n",
       "</table>\n",
       "<p>10595 rows × 1 columns</p>\n",
       "</div>"
      ],
      "text/plain": [
       "                              batch\n",
       "AAACCCAAGTGCAGGT-1-AOV_GFP  AOV_GFP\n",
       "AAACCCACAACAAGAT-1-AOV_GFP  AOV_GFP\n",
       "AAACCCACAAGCTCTA-1-AOV_GFP  AOV_GFP\n",
       "AAACCCACACAAGTGG-1-AOV_GFP  AOV_GFP\n",
       "AAACCCACAGCCCACA-1-AOV_GFP  AOV_GFP\n",
       "...                             ...\n",
       "TTTGTTGCACCGCTGA-1-AOV_GFP  AOV_GFP\n",
       "TTTGTTGCATCCGAAT-1-AOV_GFP  AOV_GFP\n",
       "TTTGTTGGTACCGTCG-1-AOV_GFP  AOV_GFP\n",
       "TTTGTTGGTGTCGATT-1-AOV_GFP  AOV_GFP\n",
       "TTTGTTGGTTCTCTAT-1-AOV_GFP  AOV_GFP\n",
       "\n",
       "[10595 rows x 1 columns]"
      ]
     },
     "execution_count": 122,
     "metadata": {},
     "output_type": "execute_result"
    }
   ],
   "source": [
    "adata7.obs"
   ]
  },
  {
   "cell_type": "code",
   "execution_count": 123,
   "id": "a25a9909-3655-48ea-9d21-c5a785de5c2e",
   "metadata": {},
   "outputs": [],
   "source": [
    "adata7.obs['doublet'] = adata7.obs.index.isin(doublets.index) "
   ]
  },
  {
   "cell_type": "code",
   "execution_count": 124,
   "id": "b1b61f6b-ee64-445d-a723-ef75756924a0",
   "metadata": {},
   "outputs": [
    {
     "data": {
      "text/html": [
       "<div>\n",
       "<style scoped>\n",
       "    .dataframe tbody tr th:only-of-type {\n",
       "        vertical-align: middle;\n",
       "    }\n",
       "\n",
       "    .dataframe tbody tr th {\n",
       "        vertical-align: top;\n",
       "    }\n",
       "\n",
       "    .dataframe thead th {\n",
       "        text-align: right;\n",
       "    }\n",
       "</style>\n",
       "<table border=\"1\" class=\"dataframe\">\n",
       "  <thead>\n",
       "    <tr style=\"text-align: right;\">\n",
       "      <th></th>\n",
       "      <th>batch</th>\n",
       "      <th>doublet</th>\n",
       "    </tr>\n",
       "  </thead>\n",
       "  <tbody>\n",
       "    <tr>\n",
       "      <th>AAACCCAAGTGCAGGT-1-AOV_GFP</th>\n",
       "      <td>AOV_GFP</td>\n",
       "      <td>False</td>\n",
       "    </tr>\n",
       "    <tr>\n",
       "      <th>AAACCCACAACAAGAT-1-AOV_GFP</th>\n",
       "      <td>AOV_GFP</td>\n",
       "      <td>False</td>\n",
       "    </tr>\n",
       "    <tr>\n",
       "      <th>AAACCCACAAGCTCTA-1-AOV_GFP</th>\n",
       "      <td>AOV_GFP</td>\n",
       "      <td>True</td>\n",
       "    </tr>\n",
       "    <tr>\n",
       "      <th>AAACCCACACAAGTGG-1-AOV_GFP</th>\n",
       "      <td>AOV_GFP</td>\n",
       "      <td>False</td>\n",
       "    </tr>\n",
       "    <tr>\n",
       "      <th>AAACCCACAGCCCACA-1-AOV_GFP</th>\n",
       "      <td>AOV_GFP</td>\n",
       "      <td>True</td>\n",
       "    </tr>\n",
       "    <tr>\n",
       "      <th>...</th>\n",
       "      <td>...</td>\n",
       "      <td>...</td>\n",
       "    </tr>\n",
       "    <tr>\n",
       "      <th>TTTGTTGCACCGCTGA-1-AOV_GFP</th>\n",
       "      <td>AOV_GFP</td>\n",
       "      <td>False</td>\n",
       "    </tr>\n",
       "    <tr>\n",
       "      <th>TTTGTTGCATCCGAAT-1-AOV_GFP</th>\n",
       "      <td>AOV_GFP</td>\n",
       "      <td>False</td>\n",
       "    </tr>\n",
       "    <tr>\n",
       "      <th>TTTGTTGGTACCGTCG-1-AOV_GFP</th>\n",
       "      <td>AOV_GFP</td>\n",
       "      <td>False</td>\n",
       "    </tr>\n",
       "    <tr>\n",
       "      <th>TTTGTTGGTGTCGATT-1-AOV_GFP</th>\n",
       "      <td>AOV_GFP</td>\n",
       "      <td>False</td>\n",
       "    </tr>\n",
       "    <tr>\n",
       "      <th>TTTGTTGGTTCTCTAT-1-AOV_GFP</th>\n",
       "      <td>AOV_GFP</td>\n",
       "      <td>False</td>\n",
       "    </tr>\n",
       "  </tbody>\n",
       "</table>\n",
       "<p>10595 rows × 2 columns</p>\n",
       "</div>"
      ],
      "text/plain": [
       "                              batch  doublet\n",
       "AAACCCAAGTGCAGGT-1-AOV_GFP  AOV_GFP    False\n",
       "AAACCCACAACAAGAT-1-AOV_GFP  AOV_GFP    False\n",
       "AAACCCACAAGCTCTA-1-AOV_GFP  AOV_GFP     True\n",
       "AAACCCACACAAGTGG-1-AOV_GFP  AOV_GFP    False\n",
       "AAACCCACAGCCCACA-1-AOV_GFP  AOV_GFP     True\n",
       "...                             ...      ...\n",
       "TTTGTTGCACCGCTGA-1-AOV_GFP  AOV_GFP    False\n",
       "TTTGTTGCATCCGAAT-1-AOV_GFP  AOV_GFP    False\n",
       "TTTGTTGGTACCGTCG-1-AOV_GFP  AOV_GFP    False\n",
       "TTTGTTGGTGTCGATT-1-AOV_GFP  AOV_GFP    False\n",
       "TTTGTTGGTTCTCTAT-1-AOV_GFP  AOV_GFP    False\n",
       "\n",
       "[10595 rows x 2 columns]"
      ]
     },
     "execution_count": 124,
     "metadata": {},
     "output_type": "execute_result"
    }
   ],
   "source": [
    "adata7.obs"
   ]
  },
  {
   "cell_type": "code",
   "execution_count": 125,
   "id": "35746b9d-9efc-4bd4-8675-5bc68e7ceb11",
   "metadata": {},
   "outputs": [
    {
     "data": {
      "text/plain": [
       "View of AnnData object with n_obs × n_vars = 8884 × 55402\n",
       "    obs: 'batch', 'doublet'\n",
       "    var: 'gene_ids', 'feature_types', 'genome'"
      ]
     },
     "execution_count": 125,
     "metadata": {},
     "output_type": "execute_result"
    }
   ],
   "source": [
    "adata7 = adata7[~adata7.obs.doublet]\n",
    "adata7"
   ]
  },
  {
   "cell_type": "code",
   "execution_count": 126,
   "id": "30efcaed-fae5-4cda-9a02-3c156b6d5cdd",
   "metadata": {},
   "outputs": [
    {
     "data": {
      "text/plain": [
       "View of AnnData object with n_obs × n_vars = 8884 × 55402\n",
       "    obs: 'batch', 'doublet'\n",
       "    var: 'gene_ids', 'feature_types', 'genome'"
      ]
     },
     "execution_count": 126,
     "metadata": {},
     "output_type": "execute_result"
    }
   ],
   "source": [
    "# Save the filtered AnnData object\n",
    "adata7.write(\"AOV_GFP_adata_filtered_with_SOLO.h5ad\")\n",
    "adata7"
   ]
  },
  {
   "cell_type": "code",
   "execution_count": 126,
   "id": "e503cbbc-19d9-4977-8bf6-86a449afe3c1",
   "metadata": {},
   "outputs": [],
   "source": [
    "#sample8"
   ]
  },
  {
   "cell_type": "code",
   "execution_count": 127,
   "id": "171cba2a-a4ca-4ad1-9db2-82fb3c393c78",
   "metadata": {},
   "outputs": [
    {
     "data": {
      "text/plain": [
       "AnnData object with n_obs × n_vars = 13944 × 55402\n",
       "    obs: 'batch'\n",
       "    var: 'gene_ids', 'feature_types', 'genome'"
      ]
     },
     "execution_count": 127,
     "metadata": {},
     "output_type": "execute_result"
    }
   ],
   "source": [
    "adata8"
   ]
  },
  {
   "cell_type": "code",
   "execution_count": 128,
   "id": "1b9f9a3f-c7f2-4872-986d-edfd93d12a4e",
   "metadata": {},
   "outputs": [],
   "source": [
    "sc.pp.filter_genes(adata8, min_cells = 10)\n",
    "sc.pp.highly_variable_genes(adata8, n_top_genes = 3000, subset = True, flavor = 'seurat_v3')"
   ]
  },
  {
   "cell_type": "code",
   "execution_count": 129,
   "id": "7c0fc102-ead5-4985-a495-26031a5c5775",
   "metadata": {},
   "outputs": [
    {
     "name": "stderr",
     "output_type": "stream",
     "text": [
      "GPU available: False, used: False\n",
      "TPU available: False, using: 0 TPU cores\n",
      "HPU available: False, using: 0 HPUs\n"
     ]
    },
    {
     "name": "stdout",
     "output_type": "stream",
     "text": [
      "Epoch 400/400: 100%|█████████| 400/400 [26:45<00:00,  3.91s/it, v_num=1, train_loss_step=1.35e+3, train_loss_epoch=710]"
     ]
    },
    {
     "name": "stderr",
     "output_type": "stream",
     "text": [
      "`Trainer.fit` stopped: `max_epochs=400` reached.\n"
     ]
    },
    {
     "name": "stdout",
     "output_type": "stream",
     "text": [
      "Epoch 400/400: 100%|█████████| 400/400 [26:45<00:00,  4.01s/it, v_num=1, train_loss_step=1.35e+3, train_loss_epoch=710]\n"
     ]
    }
   ],
   "source": [
    "scvi.model.SCVI.setup_anndata(adata8)\n",
    "vae = scvi.model.SCVI(adata8)\n",
    "vae.train()\n"
   ]
  },
  {
   "cell_type": "code",
   "execution_count": 130,
   "id": "8f212637-172b-4030-9cbf-4cdc9558712d",
   "metadata": {},
   "outputs": [
    {
     "name": "stdout",
     "output_type": "stream",
     "text": [
      "\u001b[34mINFO    \u001b[0m Creating doublets, preparing SOLO model.                                                                  \n"
     ]
    },
    {
     "name": "stderr",
     "output_type": "stream",
     "text": [
      "GPU available: False, used: False\n",
      "TPU available: False, using: 0 TPU cores\n",
      "HPU available: False, using: 0 HPUs\n"
     ]
    },
    {
     "name": "stdout",
     "output_type": "stream",
     "text": [
      "Epoch 214/400:  54%|████▊    | 214/400 [09:00<07:49,  2.52s/it, v_num=1, train_loss_step=0.181, train_loss_epoch=0.305]\n",
      "Monitored metric validation_loss did not improve in the last 30 records. Best score: 0.288. Signaling Trainer to stop.\n"
     ]
    }
   ],
   "source": [
    "solo = scvi.external.SOLO.from_scvi_model(vae)\n",
    "solo.train()"
   ]
  },
  {
   "cell_type": "code",
   "execution_count": 131,
   "id": "eeb279e1-6cde-4166-be07-9ff6c9f766b8",
   "metadata": {},
   "outputs": [
    {
     "data": {
      "text/html": [
       "<div>\n",
       "<style scoped>\n",
       "    .dataframe tbody tr th:only-of-type {\n",
       "        vertical-align: middle;\n",
       "    }\n",
       "\n",
       "    .dataframe tbody tr th {\n",
       "        vertical-align: top;\n",
       "    }\n",
       "\n",
       "    .dataframe thead th {\n",
       "        text-align: right;\n",
       "    }\n",
       "</style>\n",
       "<table border=\"1\" class=\"dataframe\">\n",
       "  <thead>\n",
       "    <tr style=\"text-align: right;\">\n",
       "      <th></th>\n",
       "      <th>doublet</th>\n",
       "      <th>singlet</th>\n",
       "      <th>prediction</th>\n",
       "    </tr>\n",
       "  </thead>\n",
       "  <tbody>\n",
       "    <tr>\n",
       "      <th>AAACCCAAGGCGAACT-1-AOV_noGFP</th>\n",
       "      <td>0.953182</td>\n",
       "      <td>0.046818</td>\n",
       "      <td>doublet</td>\n",
       "    </tr>\n",
       "    <tr>\n",
       "      <th>AAACCCAAGGGAGGCA-1-AOV_noGFP</th>\n",
       "      <td>0.058063</td>\n",
       "      <td>0.941937</td>\n",
       "      <td>singlet</td>\n",
       "    </tr>\n",
       "    <tr>\n",
       "      <th>AAACCCACAGGCACAA-1-AOV_noGFP</th>\n",
       "      <td>0.561249</td>\n",
       "      <td>0.438751</td>\n",
       "      <td>doublet</td>\n",
       "    </tr>\n",
       "    <tr>\n",
       "      <th>AAACCCACATGAGGGT-1-AOV_noGFP</th>\n",
       "      <td>0.074057</td>\n",
       "      <td>0.925943</td>\n",
       "      <td>singlet</td>\n",
       "    </tr>\n",
       "    <tr>\n",
       "      <th>AAACCCAGTGCCCTTT-1-AOV_noGFP</th>\n",
       "      <td>0.746136</td>\n",
       "      <td>0.253864</td>\n",
       "      <td>doublet</td>\n",
       "    </tr>\n",
       "    <tr>\n",
       "      <th>...</th>\n",
       "      <td>...</td>\n",
       "      <td>...</td>\n",
       "      <td>...</td>\n",
       "    </tr>\n",
       "    <tr>\n",
       "      <th>TTTGTTGGTATTGCCA-1-AOV_noGFP</th>\n",
       "      <td>0.000635</td>\n",
       "      <td>0.999365</td>\n",
       "      <td>singlet</td>\n",
       "    </tr>\n",
       "    <tr>\n",
       "      <th>TTTGTTGGTGCAACAG-1-AOV_noGFP</th>\n",
       "      <td>0.000418</td>\n",
       "      <td>0.999582</td>\n",
       "      <td>singlet</td>\n",
       "    </tr>\n",
       "    <tr>\n",
       "      <th>TTTGTTGGTTAGGGAC-1-AOV_noGFP</th>\n",
       "      <td>0.197876</td>\n",
       "      <td>0.802124</td>\n",
       "      <td>singlet</td>\n",
       "    </tr>\n",
       "    <tr>\n",
       "      <th>TTTGTTGTCAGCCTTC-1-AOV_noGFP</th>\n",
       "      <td>0.031299</td>\n",
       "      <td>0.968701</td>\n",
       "      <td>singlet</td>\n",
       "    </tr>\n",
       "    <tr>\n",
       "      <th>TTTGTTGTCTGCTCTG-1-AOV_noGFP</th>\n",
       "      <td>0.912448</td>\n",
       "      <td>0.087552</td>\n",
       "      <td>doublet</td>\n",
       "    </tr>\n",
       "  </tbody>\n",
       "</table>\n",
       "<p>13944 rows × 3 columns</p>\n",
       "</div>"
      ],
      "text/plain": [
       "                               doublet   singlet prediction\n",
       "AAACCCAAGGCGAACT-1-AOV_noGFP  0.953182  0.046818    doublet\n",
       "AAACCCAAGGGAGGCA-1-AOV_noGFP  0.058063  0.941937    singlet\n",
       "AAACCCACAGGCACAA-1-AOV_noGFP  0.561249  0.438751    doublet\n",
       "AAACCCACATGAGGGT-1-AOV_noGFP  0.074057  0.925943    singlet\n",
       "AAACCCAGTGCCCTTT-1-AOV_noGFP  0.746136  0.253864    doublet\n",
       "...                                ...       ...        ...\n",
       "TTTGTTGGTATTGCCA-1-AOV_noGFP  0.000635  0.999365    singlet\n",
       "TTTGTTGGTGCAACAG-1-AOV_noGFP  0.000418  0.999582    singlet\n",
       "TTTGTTGGTTAGGGAC-1-AOV_noGFP  0.197876  0.802124    singlet\n",
       "TTTGTTGTCAGCCTTC-1-AOV_noGFP  0.031299  0.968701    singlet\n",
       "TTTGTTGTCTGCTCTG-1-AOV_noGFP  0.912448  0.087552    doublet\n",
       "\n",
       "[13944 rows x 3 columns]"
      ]
     },
     "execution_count": 131,
     "metadata": {},
     "output_type": "execute_result"
    }
   ],
   "source": [
    "df = solo.predict()\n",
    "df['prediction'] = solo.predict(soft = False)\n",
    "\n",
    "df"
   ]
  },
  {
   "cell_type": "code",
   "execution_count": 132,
   "id": "a6dbf7fc-0215-4582-b66b-4ce664940b67",
   "metadata": {},
   "outputs": [
    {
     "data": {
      "text/html": [
       "<div>\n",
       "<style scoped>\n",
       "    .dataframe tbody tr th:only-of-type {\n",
       "        vertical-align: middle;\n",
       "    }\n",
       "\n",
       "    .dataframe tbody tr th {\n",
       "        vertical-align: top;\n",
       "    }\n",
       "\n",
       "    .dataframe thead th {\n",
       "        text-align: right;\n",
       "    }\n",
       "</style>\n",
       "<table border=\"1\" class=\"dataframe\">\n",
       "  <thead>\n",
       "    <tr style=\"text-align: right;\">\n",
       "      <th></th>\n",
       "      <th>doublet</th>\n",
       "      <th>singlet</th>\n",
       "    </tr>\n",
       "    <tr>\n",
       "      <th>prediction</th>\n",
       "      <th></th>\n",
       "      <th></th>\n",
       "    </tr>\n",
       "  </thead>\n",
       "  <tbody>\n",
       "    <tr>\n",
       "      <th>doublet</th>\n",
       "      <td>2760</td>\n",
       "      <td>2760</td>\n",
       "    </tr>\n",
       "    <tr>\n",
       "      <th>singlet</th>\n",
       "      <td>11184</td>\n",
       "      <td>11184</td>\n",
       "    </tr>\n",
       "  </tbody>\n",
       "</table>\n",
       "</div>"
      ],
      "text/plain": [
       "            doublet  singlet\n",
       "prediction                  \n",
       "doublet        2760     2760\n",
       "singlet       11184    11184"
      ]
     },
     "execution_count": 132,
     "metadata": {},
     "output_type": "execute_result"
    }
   ],
   "source": [
    "df.groupby('prediction').count()"
   ]
  },
  {
   "cell_type": "code",
   "execution_count": 133,
   "id": "c0737073-4810-4b24-9c72-3ade95cebcc9",
   "metadata": {},
   "outputs": [
    {
     "data": {
      "text/html": [
       "<div>\n",
       "<style scoped>\n",
       "    .dataframe tbody tr th:only-of-type {\n",
       "        vertical-align: middle;\n",
       "    }\n",
       "\n",
       "    .dataframe tbody tr th {\n",
       "        vertical-align: top;\n",
       "    }\n",
       "\n",
       "    .dataframe thead th {\n",
       "        text-align: right;\n",
       "    }\n",
       "</style>\n",
       "<table border=\"1\" class=\"dataframe\">\n",
       "  <thead>\n",
       "    <tr style=\"text-align: right;\">\n",
       "      <th></th>\n",
       "      <th>doublet</th>\n",
       "      <th>singlet</th>\n",
       "      <th>prediction</th>\n",
       "      <th>dif</th>\n",
       "    </tr>\n",
       "  </thead>\n",
       "  <tbody>\n",
       "    <tr>\n",
       "      <th>AAACCCAAGGCGAACT-1-AOV_noGFP</th>\n",
       "      <td>0.953182</td>\n",
       "      <td>0.046818</td>\n",
       "      <td>doublet</td>\n",
       "      <td>0.906363</td>\n",
       "    </tr>\n",
       "    <tr>\n",
       "      <th>AAACCCAAGGGAGGCA-1-AOV_noGFP</th>\n",
       "      <td>0.058063</td>\n",
       "      <td>0.941937</td>\n",
       "      <td>singlet</td>\n",
       "      <td>-0.883874</td>\n",
       "    </tr>\n",
       "    <tr>\n",
       "      <th>AAACCCACAGGCACAA-1-AOV_noGFP</th>\n",
       "      <td>0.561249</td>\n",
       "      <td>0.438751</td>\n",
       "      <td>doublet</td>\n",
       "      <td>0.122499</td>\n",
       "    </tr>\n",
       "    <tr>\n",
       "      <th>AAACCCACATGAGGGT-1-AOV_noGFP</th>\n",
       "      <td>0.074057</td>\n",
       "      <td>0.925943</td>\n",
       "      <td>singlet</td>\n",
       "      <td>-0.851885</td>\n",
       "    </tr>\n",
       "    <tr>\n",
       "      <th>AAACCCAGTGCCCTTT-1-AOV_noGFP</th>\n",
       "      <td>0.746136</td>\n",
       "      <td>0.253864</td>\n",
       "      <td>doublet</td>\n",
       "      <td>0.492272</td>\n",
       "    </tr>\n",
       "    <tr>\n",
       "      <th>...</th>\n",
       "      <td>...</td>\n",
       "      <td>...</td>\n",
       "      <td>...</td>\n",
       "      <td>...</td>\n",
       "    </tr>\n",
       "    <tr>\n",
       "      <th>TTTGTTGGTATTGCCA-1-AOV_noGFP</th>\n",
       "      <td>0.000635</td>\n",
       "      <td>0.999365</td>\n",
       "      <td>singlet</td>\n",
       "      <td>-0.998730</td>\n",
       "    </tr>\n",
       "    <tr>\n",
       "      <th>TTTGTTGGTGCAACAG-1-AOV_noGFP</th>\n",
       "      <td>0.000418</td>\n",
       "      <td>0.999582</td>\n",
       "      <td>singlet</td>\n",
       "      <td>-0.999165</td>\n",
       "    </tr>\n",
       "    <tr>\n",
       "      <th>TTTGTTGGTTAGGGAC-1-AOV_noGFP</th>\n",
       "      <td>0.197876</td>\n",
       "      <td>0.802124</td>\n",
       "      <td>singlet</td>\n",
       "      <td>-0.604248</td>\n",
       "    </tr>\n",
       "    <tr>\n",
       "      <th>TTTGTTGTCAGCCTTC-1-AOV_noGFP</th>\n",
       "      <td>0.031299</td>\n",
       "      <td>0.968701</td>\n",
       "      <td>singlet</td>\n",
       "      <td>-0.937403</td>\n",
       "    </tr>\n",
       "    <tr>\n",
       "      <th>TTTGTTGTCTGCTCTG-1-AOV_noGFP</th>\n",
       "      <td>0.912448</td>\n",
       "      <td>0.087552</td>\n",
       "      <td>doublet</td>\n",
       "      <td>0.824895</td>\n",
       "    </tr>\n",
       "  </tbody>\n",
       "</table>\n",
       "<p>13944 rows × 4 columns</p>\n",
       "</div>"
      ],
      "text/plain": [
       "                               doublet   singlet prediction       dif\n",
       "AAACCCAAGGCGAACT-1-AOV_noGFP  0.953182  0.046818    doublet  0.906363\n",
       "AAACCCAAGGGAGGCA-1-AOV_noGFP  0.058063  0.941937    singlet -0.883874\n",
       "AAACCCACAGGCACAA-1-AOV_noGFP  0.561249  0.438751    doublet  0.122499\n",
       "AAACCCACATGAGGGT-1-AOV_noGFP  0.074057  0.925943    singlet -0.851885\n",
       "AAACCCAGTGCCCTTT-1-AOV_noGFP  0.746136  0.253864    doublet  0.492272\n",
       "...                                ...       ...        ...       ...\n",
       "TTTGTTGGTATTGCCA-1-AOV_noGFP  0.000635  0.999365    singlet -0.998730\n",
       "TTTGTTGGTGCAACAG-1-AOV_noGFP  0.000418  0.999582    singlet -0.999165\n",
       "TTTGTTGGTTAGGGAC-1-AOV_noGFP  0.197876  0.802124    singlet -0.604248\n",
       "TTTGTTGTCAGCCTTC-1-AOV_noGFP  0.031299  0.968701    singlet -0.937403\n",
       "TTTGTTGTCTGCTCTG-1-AOV_noGFP  0.912448  0.087552    doublet  0.824895\n",
       "\n",
       "[13944 rows x 4 columns]"
      ]
     },
     "execution_count": 133,
     "metadata": {},
     "output_type": "execute_result"
    }
   ],
   "source": [
    "df['dif'] = df.doublet - df.singlet\n",
    "df"
   ]
  },
  {
   "cell_type": "code",
   "execution_count": 134,
   "id": "4f3a0414-519a-4b6d-b44e-05a289fae8cf",
   "metadata": {},
   "outputs": [
    {
     "data": {
      "text/plain": [
       "<seaborn.axisgrid.FacetGrid at 0x216930f3640>"
      ]
     },
     "execution_count": 134,
     "metadata": {},
     "output_type": "execute_result"
    },
    {
     "data": {
      "image/png": "[encoded data removed]",
      "text/plain": [
       "<Figure size 500x500 with 1 Axes>"
      ]
     },
     "metadata": {
      "image/png": {
       "height": 477,
       "width": 477
      }
     },
     "output_type": "display_data"
    }
   ],
   "source": [
    "sns.displot(df[df.prediction == 'doublet'], x = 'dif')"
   ]
  },
  {
   "cell_type": "code",
   "execution_count": 135,
   "id": "ad3c1ed7-74c8-46d2-8b58-64649589ceae",
   "metadata": {},
   "outputs": [
    {
     "data": {
      "text/html": [
       "<div>\n",
       "<style scoped>\n",
       "    .dataframe tbody tr th:only-of-type {\n",
       "        vertical-align: middle;\n",
       "    }\n",
       "\n",
       "    .dataframe tbody tr th {\n",
       "        vertical-align: top;\n",
       "    }\n",
       "\n",
       "    .dataframe thead th {\n",
       "        text-align: right;\n",
       "    }\n",
       "</style>\n",
       "<table border=\"1\" class=\"dataframe\">\n",
       "  <thead>\n",
       "    <tr style=\"text-align: right;\">\n",
       "      <th></th>\n",
       "      <th>doublet</th>\n",
       "      <th>singlet</th>\n",
       "      <th>prediction</th>\n",
       "      <th>dif</th>\n",
       "    </tr>\n",
       "  </thead>\n",
       "  <tbody>\n",
       "    <tr>\n",
       "      <th>AAACCCAAGGCGAACT-1-AOV_noGFP</th>\n",
       "      <td>0.953182</td>\n",
       "      <td>0.046818</td>\n",
       "      <td>doublet</td>\n",
       "      <td>0.906363</td>\n",
       "    </tr>\n",
       "    <tr>\n",
       "      <th>AAACCCAGTGCCCTTT-1-AOV_noGFP</th>\n",
       "      <td>0.746136</td>\n",
       "      <td>0.253864</td>\n",
       "      <td>doublet</td>\n",
       "      <td>0.492272</td>\n",
       "    </tr>\n",
       "    <tr>\n",
       "      <th>AAACCCAGTTCCACGG-1-AOV_noGFP</th>\n",
       "      <td>0.629875</td>\n",
       "      <td>0.370125</td>\n",
       "      <td>doublet</td>\n",
       "      <td>0.259750</td>\n",
       "    </tr>\n",
       "    <tr>\n",
       "      <th>AAACGAAAGTCATCGT-1-AOV_noGFP</th>\n",
       "      <td>0.917385</td>\n",
       "      <td>0.082615</td>\n",
       "      <td>doublet</td>\n",
       "      <td>0.834770</td>\n",
       "    </tr>\n",
       "    <tr>\n",
       "      <th>AAACGAAAGTCATGAA-1-AOV_noGFP</th>\n",
       "      <td>0.787103</td>\n",
       "      <td>0.212897</td>\n",
       "      <td>doublet</td>\n",
       "      <td>0.574206</td>\n",
       "    </tr>\n",
       "    <tr>\n",
       "      <th>...</th>\n",
       "      <td>...</td>\n",
       "      <td>...</td>\n",
       "      <td>...</td>\n",
       "      <td>...</td>\n",
       "    </tr>\n",
       "    <tr>\n",
       "      <th>TTTGGTTCACCCATAA-1-AOV_noGFP</th>\n",
       "      <td>0.743552</td>\n",
       "      <td>0.256448</td>\n",
       "      <td>doublet</td>\n",
       "      <td>0.487105</td>\n",
       "    </tr>\n",
       "    <tr>\n",
       "      <th>TTTGGTTTCTGCATGA-1-AOV_noGFP</th>\n",
       "      <td>0.716025</td>\n",
       "      <td>0.283975</td>\n",
       "      <td>doublet</td>\n",
       "      <td>0.432050</td>\n",
       "    </tr>\n",
       "    <tr>\n",
       "      <th>TTTGTTGAGCACCGAA-1-AOV_noGFP</th>\n",
       "      <td>0.847773</td>\n",
       "      <td>0.152227</td>\n",
       "      <td>doublet</td>\n",
       "      <td>0.695546</td>\n",
       "    </tr>\n",
       "    <tr>\n",
       "      <th>TTTGTTGCACCAATTG-1-AOV_noGFP</th>\n",
       "      <td>0.950769</td>\n",
       "      <td>0.049231</td>\n",
       "      <td>doublet</td>\n",
       "      <td>0.901539</td>\n",
       "    </tr>\n",
       "    <tr>\n",
       "      <th>TTTGTTGTCTGCTCTG-1-AOV_noGFP</th>\n",
       "      <td>0.912448</td>\n",
       "      <td>0.087552</td>\n",
       "      <td>doublet</td>\n",
       "      <td>0.824895</td>\n",
       "    </tr>\n",
       "  </tbody>\n",
       "</table>\n",
       "<p>2144 rows × 4 columns</p>\n",
       "</div>"
      ],
      "text/plain": [
       "                               doublet   singlet prediction       dif\n",
       "AAACCCAAGGCGAACT-1-AOV_noGFP  0.953182  0.046818    doublet  0.906363\n",
       "AAACCCAGTGCCCTTT-1-AOV_noGFP  0.746136  0.253864    doublet  0.492272\n",
       "AAACCCAGTTCCACGG-1-AOV_noGFP  0.629875  0.370125    doublet  0.259750\n",
       "AAACGAAAGTCATCGT-1-AOV_noGFP  0.917385  0.082615    doublet  0.834770\n",
       "AAACGAAAGTCATGAA-1-AOV_noGFP  0.787103  0.212897    doublet  0.574206\n",
       "...                                ...       ...        ...       ...\n",
       "TTTGGTTCACCCATAA-1-AOV_noGFP  0.743552  0.256448    doublet  0.487105\n",
       "TTTGGTTTCTGCATGA-1-AOV_noGFP  0.716025  0.283975    doublet  0.432050\n",
       "TTTGTTGAGCACCGAA-1-AOV_noGFP  0.847773  0.152227    doublet  0.695546\n",
       "TTTGTTGCACCAATTG-1-AOV_noGFP  0.950769  0.049231    doublet  0.901539\n",
       "TTTGTTGTCTGCTCTG-1-AOV_noGFP  0.912448  0.087552    doublet  0.824895\n",
       "\n",
       "[2144 rows x 4 columns]"
      ]
     },
     "execution_count": 135,
     "metadata": {},
     "output_type": "execute_result"
    }
   ],
   "source": [
    "doublets = df[(df.prediction == 'doublet') & (df.dif > 0.2)]\n",
    "doublets"
   ]
  },
  {
   "cell_type": "code",
   "execution_count": 136,
   "id": "d716b75e-68de-40ab-b32d-0e83f3e214bd",
   "metadata": {},
   "outputs": [
    {
     "data": {
      "text/plain": [
       "AnnData object with n_obs × n_vars = 13944 × 3000\n",
       "    obs: 'batch', '_scvi_batch', '_scvi_labels'\n",
       "    var: 'gene_ids', 'feature_types', 'genome', 'n_cells', 'highly_variable', 'highly_variable_rank', 'means', 'variances', 'variances_norm'\n",
       "    uns: 'hvg', '_scvi_uuid', '_scvi_manager_uuid'"
      ]
     },
     "execution_count": 136,
     "metadata": {},
     "output_type": "execute_result"
    }
   ],
   "source": [
    "adata8"
   ]
  },
  {
   "cell_type": "code",
   "execution_count": 137,
   "id": "4a17677f-1516-4dcb-a8af-5a967766f48b",
   "metadata": {},
   "outputs": [],
   "source": [
    "adata8 = sc.read_h5ad(\"AOV_noGFP_adata.h5ad\")"
   ]
  },
  {
   "cell_type": "code",
   "execution_count": 138,
   "id": "1684a2e3-9a72-4530-b83f-81a4032b776d",
   "metadata": {},
   "outputs": [
    {
     "data": {
      "text/html": [
       "<div>\n",
       "<style scoped>\n",
       "    .dataframe tbody tr th:only-of-type {\n",
       "        vertical-align: middle;\n",
       "    }\n",
       "\n",
       "    .dataframe tbody tr th {\n",
       "        vertical-align: top;\n",
       "    }\n",
       "\n",
       "    .dataframe thead th {\n",
       "        text-align: right;\n",
       "    }\n",
       "</style>\n",
       "<table border=\"1\" class=\"dataframe\">\n",
       "  <thead>\n",
       "    <tr style=\"text-align: right;\">\n",
       "      <th></th>\n",
       "      <th>batch</th>\n",
       "    </tr>\n",
       "  </thead>\n",
       "  <tbody>\n",
       "    <tr>\n",
       "      <th>AAACCCAAGGCGAACT-1-AOV_noGFP</th>\n",
       "      <td>AOV_noGFP</td>\n",
       "    </tr>\n",
       "    <tr>\n",
       "      <th>AAACCCAAGGGAGGCA-1-AOV_noGFP</th>\n",
       "      <td>AOV_noGFP</td>\n",
       "    </tr>\n",
       "    <tr>\n",
       "      <th>AAACCCACAGGCACAA-1-AOV_noGFP</th>\n",
       "      <td>AOV_noGFP</td>\n",
       "    </tr>\n",
       "    <tr>\n",
       "      <th>AAACCCACATGAGGGT-1-AOV_noGFP</th>\n",
       "      <td>AOV_noGFP</td>\n",
       "    </tr>\n",
       "    <tr>\n",
       "      <th>AAACCCAGTGCCCTTT-1-AOV_noGFP</th>\n",
       "      <td>AOV_noGFP</td>\n",
       "    </tr>\n",
       "    <tr>\n",
       "      <th>...</th>\n",
       "      <td>...</td>\n",
       "    </tr>\n",
       "    <tr>\n",
       "      <th>TTTGTTGGTATTGCCA-1-AOV_noGFP</th>\n",
       "      <td>AOV_noGFP</td>\n",
       "    </tr>\n",
       "    <tr>\n",
       "      <th>TTTGTTGGTGCAACAG-1-AOV_noGFP</th>\n",
       "      <td>AOV_noGFP</td>\n",
       "    </tr>\n",
       "    <tr>\n",
       "      <th>TTTGTTGGTTAGGGAC-1-AOV_noGFP</th>\n",
       "      <td>AOV_noGFP</td>\n",
       "    </tr>\n",
       "    <tr>\n",
       "      <th>TTTGTTGTCAGCCTTC-1-AOV_noGFP</th>\n",
       "      <td>AOV_noGFP</td>\n",
       "    </tr>\n",
       "    <tr>\n",
       "      <th>TTTGTTGTCTGCTCTG-1-AOV_noGFP</th>\n",
       "      <td>AOV_noGFP</td>\n",
       "    </tr>\n",
       "  </tbody>\n",
       "</table>\n",
       "<p>13944 rows × 1 columns</p>\n",
       "</div>"
      ],
      "text/plain": [
       "                                  batch\n",
       "AAACCCAAGGCGAACT-1-AOV_noGFP  AOV_noGFP\n",
       "AAACCCAAGGGAGGCA-1-AOV_noGFP  AOV_noGFP\n",
       "AAACCCACAGGCACAA-1-AOV_noGFP  AOV_noGFP\n",
       "AAACCCACATGAGGGT-1-AOV_noGFP  AOV_noGFP\n",
       "AAACCCAGTGCCCTTT-1-AOV_noGFP  AOV_noGFP\n",
       "...                                 ...\n",
       "TTTGTTGGTATTGCCA-1-AOV_noGFP  AOV_noGFP\n",
       "TTTGTTGGTGCAACAG-1-AOV_noGFP  AOV_noGFP\n",
       "TTTGTTGGTTAGGGAC-1-AOV_noGFP  AOV_noGFP\n",
       "TTTGTTGTCAGCCTTC-1-AOV_noGFP  AOV_noGFP\n",
       "TTTGTTGTCTGCTCTG-1-AOV_noGFP  AOV_noGFP\n",
       "\n",
       "[13944 rows x 1 columns]"
      ]
     },
     "execution_count": 138,
     "metadata": {},
     "output_type": "execute_result"
    }
   ],
   "source": [
    "adata8.obs"
   ]
  },
  {
   "cell_type": "code",
   "execution_count": 139,
   "id": "71c54e8e-6365-4e7b-b300-662926bf92ed",
   "metadata": {},
   "outputs": [],
   "source": [
    "adata8.obs['doublet'] = adata8.obs.index.isin(doublets.index) "
   ]
  },
  {
   "cell_type": "code",
   "execution_count": 140,
   "id": "f549f46b-1e47-4244-b833-12a3ffa2dd9c",
   "metadata": {},
   "outputs": [
    {
     "data": {
      "text/html": [
       "<div>\n",
       "<style scoped>\n",
       "    .dataframe tbody tr th:only-of-type {\n",
       "        vertical-align: middle;\n",
       "    }\n",
       "\n",
       "    .dataframe tbody tr th {\n",
       "        vertical-align: top;\n",
       "    }\n",
       "\n",
       "    .dataframe thead th {\n",
       "        text-align: right;\n",
       "    }\n",
       "</style>\n",
       "<table border=\"1\" class=\"dataframe\">\n",
       "  <thead>\n",
       "    <tr style=\"text-align: right;\">\n",
       "      <th></th>\n",
       "      <th>batch</th>\n",
       "      <th>doublet</th>\n",
       "    </tr>\n",
       "  </thead>\n",
       "  <tbody>\n",
       "    <tr>\n",
       "      <th>AAACCCAAGGCGAACT-1-AOV_noGFP</th>\n",
       "      <td>AOV_noGFP</td>\n",
       "      <td>True</td>\n",
       "    </tr>\n",
       "    <tr>\n",
       "      <th>AAACCCAAGGGAGGCA-1-AOV_noGFP</th>\n",
       "      <td>AOV_noGFP</td>\n",
       "      <td>False</td>\n",
       "    </tr>\n",
       "    <tr>\n",
       "      <th>AAACCCACAGGCACAA-1-AOV_noGFP</th>\n",
       "      <td>AOV_noGFP</td>\n",
       "      <td>False</td>\n",
       "    </tr>\n",
       "    <tr>\n",
       "      <th>AAACCCACATGAGGGT-1-AOV_noGFP</th>\n",
       "      <td>AOV_noGFP</td>\n",
       "      <td>False</td>\n",
       "    </tr>\n",
       "    <tr>\n",
       "      <th>AAACCCAGTGCCCTTT-1-AOV_noGFP</th>\n",
       "      <td>AOV_noGFP</td>\n",
       "      <td>True</td>\n",
       "    </tr>\n",
       "    <tr>\n",
       "      <th>...</th>\n",
       "      <td>...</td>\n",
       "      <td>...</td>\n",
       "    </tr>\n",
       "    <tr>\n",
       "      <th>TTTGTTGGTATTGCCA-1-AOV_noGFP</th>\n",
       "      <td>AOV_noGFP</td>\n",
       "      <td>False</td>\n",
       "    </tr>\n",
       "    <tr>\n",
       "      <th>TTTGTTGGTGCAACAG-1-AOV_noGFP</th>\n",
       "      <td>AOV_noGFP</td>\n",
       "      <td>False</td>\n",
       "    </tr>\n",
       "    <tr>\n",
       "      <th>TTTGTTGGTTAGGGAC-1-AOV_noGFP</th>\n",
       "      <td>AOV_noGFP</td>\n",
       "      <td>False</td>\n",
       "    </tr>\n",
       "    <tr>\n",
       "      <th>TTTGTTGTCAGCCTTC-1-AOV_noGFP</th>\n",
       "      <td>AOV_noGFP</td>\n",
       "      <td>False</td>\n",
       "    </tr>\n",
       "    <tr>\n",
       "      <th>TTTGTTGTCTGCTCTG-1-AOV_noGFP</th>\n",
       "      <td>AOV_noGFP</td>\n",
       "      <td>True</td>\n",
       "    </tr>\n",
       "  </tbody>\n",
       "</table>\n",
       "<p>13944 rows × 2 columns</p>\n",
       "</div>"
      ],
      "text/plain": [
       "                                  batch  doublet\n",
       "AAACCCAAGGCGAACT-1-AOV_noGFP  AOV_noGFP     True\n",
       "AAACCCAAGGGAGGCA-1-AOV_noGFP  AOV_noGFP    False\n",
       "AAACCCACAGGCACAA-1-AOV_noGFP  AOV_noGFP    False\n",
       "AAACCCACATGAGGGT-1-AOV_noGFP  AOV_noGFP    False\n",
       "AAACCCAGTGCCCTTT-1-AOV_noGFP  AOV_noGFP     True\n",
       "...                                 ...      ...\n",
       "TTTGTTGGTATTGCCA-1-AOV_noGFP  AOV_noGFP    False\n",
       "TTTGTTGGTGCAACAG-1-AOV_noGFP  AOV_noGFP    False\n",
       "TTTGTTGGTTAGGGAC-1-AOV_noGFP  AOV_noGFP    False\n",
       "TTTGTTGTCAGCCTTC-1-AOV_noGFP  AOV_noGFP    False\n",
       "TTTGTTGTCTGCTCTG-1-AOV_noGFP  AOV_noGFP     True\n",
       "\n",
       "[13944 rows x 2 columns]"
      ]
     },
     "execution_count": 140,
     "metadata": {},
     "output_type": "execute_result"
    }
   ],
   "source": [
    "adata8.obs"
   ]
  },
  {
   "cell_type": "code",
   "execution_count": 141,
   "id": "5586a4c1-2583-4523-b668-2e996b6284fe",
   "metadata": {},
   "outputs": [
    {
     "data": {
      "text/plain": [
       "View of AnnData object with n_obs × n_vars = 11800 × 55402\n",
       "    obs: 'batch', 'doublet'\n",
       "    var: 'gene_ids', 'feature_types', 'genome'"
      ]
     },
     "execution_count": 141,
     "metadata": {},
     "output_type": "execute_result"
    }
   ],
   "source": [
    "adata8 = adata8[~adata8.obs.doublet]\n",
    "adata8"
   ]
  },
  {
   "cell_type": "code",
   "execution_count": 142,
   "id": "f04371aa-182c-4c9a-b0ca-0272e139c429",
   "metadata": {},
   "outputs": [
    {
     "data": {
      "text/plain": [
       "View of AnnData object with n_obs × n_vars = 11800 × 55402\n",
       "    obs: 'batch', 'doublet'\n",
       "    var: 'gene_ids', 'feature_types', 'genome'"
      ]
     },
     "execution_count": 142,
     "metadata": {},
     "output_type": "execute_result"
    }
   ],
   "source": [
    "# Save the filtered AnnData object\n",
    "adata8.write(\"AOV_noGFP_adata_filtered_with_SOLO.h5ad\")\n",
    "adata8"
   ]
  },
  {
   "cell_type": "code",
   "execution_count": null,
   "id": "e4e44705-0bef-4b66-a045-2363092c7cc3",
   "metadata": {},
   "outputs": [],
   "source": []
  },
  {
   "cell_type": "code",
   "execution_count": null,
   "id": "2ddcaa0c-820e-4ec5-92ea-5a380d279ac8",
   "metadata": {},
   "outputs": [],
   "source": []
  },
  {
   "cell_type": "code",
   "execution_count": null,
   "id": "6aeab09f-6b68-44b2-8822-277036cd2158",
   "metadata": {},
   "outputs": [],
   "source": []
  }
 ],
 "metadata": {
  "kernelspec": {
   "display_name": "Python 3 (ipykernel)",
   "language": "python",
   "name": "python3"
  },
  "language_info": {
   "codemirror_mode": {
    "name": "ipython",
    "version": 3
   },
   "file_extension": ".py",
   "mimetype": "text/x-python",
   "name": "python",
   "nbconvert_exporter": "python",
   "pygments_lexer": "ipython3",
   "version": "3.9.21"
  }
 },
 "nbformat": 4,
 "nbformat_minor": 5
}
