{
 "cells": [
  {
   "cell_type": "code",
   "execution_count": null,
   "id": "18db8e21-cd5c-4fac-b0d7-c0e366bf8879",
   "metadata": {},
   "outputs": [],
   "source": [
    "import os\n",
    "import numpy as np\n",
    "import scanpy as sc\n",
    "import pandas as pd\n",
    "import seaborn as sns\n",
    "import seaborn as sns\n",
    "# Set working directory\n",
    "os.chdir(\"P:/Tolulope/Manuscript/Yuan Analysis\")"
   ]
  },
  {
   "cell_type": "code",
   "execution_count": null,
   "id": "3599a2ab-61b1-4dc3-842c-18cf0890c52c",
   "metadata": {},
   "outputs": [],
   "source": [
    "# Load each sample's data one by one\n",
    "adata1 = sc.read_h5ad(\"YSham_GFP_adata.h5ad\")\n",
    "adata2 = sc.read_h5ad(\"YSham_noGFP_adata.h5ad\")\n",
    "adata3 = sc.read_h5ad(\"YOV_GFP_adata.h5ad\")\n",
    "adata4 = sc.read_h5ad(\"YOV_noGFP_adata.h5ad\")\n",
    "adata5 = sc.read_h5ad(\"ASham_GFP_adata.h5ad\")\n",
    "adata6 = sc.read_h5ad(\"ASham_noGFP_adata.h5ad\")\n",
    "adata7 = sc.read_h5ad(\"AOV_GFP_adata.h5ad\")\n",
    "adata8 = sc.read_h5ad(\"AOV_noGFP_adata.h5ad\")"
   ]
  },
  {
   "cell_type": "code",
   "execution_count": null,
   "id": "c451d8cc-865c-48b0-84d9-a5f110ed4548",
   "metadata": {},
   "outputs": [],
   "source": [
    "import scvi\n",
    "import scanpy as sc\n",
    "\n",
    "from matplotlib.pyplot import rc_context\n",
    "sc.set_figure_params(dpi=100)\n",
    "\n",
    "import warnings\n",
    "warnings.simplefilter(\"ignore\", FutureWarning)\n",
    "warnings.simplefilter(\"ignore\", UserWarning)\n",
    "warnings.simplefilter(\"ignore\", RuntimeWarning)"
   ]
  },
  {
   "cell_type": "code",
   "execution_count": null,
   "id": "0bbb823a-de38-4bbf-b5e2-6674ea59ab4b",
   "metadata": {},
   "outputs": [],
   "source": [
    "sc.pp.filter_genes(adata1, min_cells = 10)\n",
    "sc.pp.highly_variable_genes(adata1, n_top_genes = 3000, subset = True, flavor = 'seurat_v3')"
   ]
  },
  {
   "cell_type": "code",
   "execution_count": null,
   "id": "c399895b-078c-4f3f-8555-c5f2057e0298",
   "metadata": {},
   "outputs": [],
   "source": [
    "scvi.model.SCVI.setup_anndata(adata1)\n",
    "vae = scvi.model.SCVI(adata1)\n",
    "vae.train()\n",
    "\n",
    "solo = scvi.external.SOLO.from_scvi_model(vae)\n",
    "solo.train()\n",
    "solo.predict()\n",
    "df = solo.predict()\n",
    "df['prediction'] = solo.predict(soft = False)\n",
    "\n",
    "df.groupby('prediction').count()\n",
    "df['dif'] = df.doublet - df.singlet\n",
    "df"
   ]
  },
  {
   "cell_type": "code",
   "execution_count": null,
   "id": "58b966ce-0852-4de4-8ec0-2fc8ba2dfff8",
   "metadata": {},
   "outputs": [],
   "source": [
    "sns.displot(df[df.prediction == 'doublet'], x = 'dif')"
   ]
  },
  {
   "cell_type": "code",
   "execution_count": null,
   "id": "85d29d74-cfae-41a2-a580-614f7cfa680a",
   "metadata": {},
   "outputs": [],
   "source": [
    "doublets = df[(df.prediction == 'doublet') & (df.dif > 0.2)]\n",
    "doublets\n",
    "adata1 = sc.read_h5ad(\"YSham_GFP_adata.h5ad\")\n",
    "adata1.obs\n",
    "adata1.obs['doublet'] = adata1.obs.index.isin(doublets.index) \n",
    "adata1.obs\n",
    "adata1 = adata1[~adata1.obs.doublet]\n",
    "# Save the filtered AnnData object\n",
    "adata1.write(\"YSham_GFP_adata_filtered_with_SOLO.h5ad\")"
   ]
  },
  {
   "cell_type": "code",
   "execution_count": 22,
   "id": "0be96a70-81ae-4ee5-a53e-a1e3437ecf1b",
   "metadata": {},
   "outputs": [],
   "source": [
    "#sample 2"
   ]
  },
  {
   "cell_type": "code",
   "execution_count": null,
   "id": "2743c364-fa7a-4491-9abd-a9ba76ba2847",
   "metadata": {},
   "outputs": [],
   "source": [
    "sc.pp.filter_genes(adata2, min_cells = 10)\n",
    "sc.pp.highly_variable_genes(adata2, n_top_genes = 3000, subset = True, flavor = 'seurat_v3')"
   ]
  },
  {
   "cell_type": "code",
   "execution_count": null,
   "id": "b3ed1308-0a93-4473-a4c4-6749977f9812",
   "metadata": {},
   "outputs": [],
   "source": [
    "scvi.model.SCVI.setup_anndata(adata2)\n",
    "vae = scvi.model.SCVI(adata2)\n",
    "vae.train()\n",
    "\n",
    "solo = scvi.external.SOLO.from_scvi_model(vae)\n",
    "solo.train()\n",
    "solo.predict()\n",
    "df = solo.predict()\n",
    "df['prediction'] = solo.predict(soft = False)\n",
    "df\n",
    "df.groupby('prediction').count()\n",
    "df['dif'] = df.doublet - df.singlet\n",
    "df"
   ]
  },
  {
   "cell_type": "code",
   "execution_count": null,
   "id": "cbc1094f-a13e-4347-b355-ce2b95debf77",
   "metadata": {},
   "outputs": [],
   "source": [
    "sns.displot(df[df.prediction == 'doublet'], x = 'dif')"
   ]
  },
  {
   "cell_type": "code",
   "execution_count": null,
   "id": "88a83e2a-742e-4168-83eb-58125d64d706",
   "metadata": {},
   "outputs": [],
   "source": [
    "doublets = df[(df.prediction == 'doublet') & (df.dif > 0.2)]\n",
    "doublets\n",
    "adata2 = sc.read_h5ad(\"YSham_noGFP_adata.h5ad\")\n",
    "adata2.obs\n",
    "adata2.obs['doublet'] = adata2.obs.index.isin(doublets.index) \n",
    "adata2.obs\n",
    "adata2 = adata2[~adata2.obs.doublet]\n",
    "# Save the filtered AnnData object\n",
    "adata2.write(\"YSham_noGFP_adata_filtered_with_SOLO.h5ad\")\n",
    "adata2"
   ]
  },
  {
   "cell_type": "code",
   "execution_count": null,
   "id": "053bbd66-435e-4bf2-b784-4aa0cc251b39",
   "metadata": {},
   "outputs": [],
   "source": [
    "#sample 3"
   ]
  },
  {
   "cell_type": "code",
   "execution_count": null,
   "id": "8a313840-a995-4bea-85f5-b9cbf029fbdf",
   "metadata": {},
   "outputs": [],
   "source": [
    "sc.pp.filter_genes(adata3, min_cells = 10)\n",
    "sc.pp.highly_variable_genes(adata3, n_top_genes = 3000, subset = True, flavor = 'seurat_v3')"
   ]
  },
  {
   "cell_type": "code",
   "execution_count": null,
   "id": "c9a7cbec-575e-4cea-91fb-b1bff1f1e58c",
   "metadata": {},
   "outputs": [],
   "source": [
    "scvi.model.SCVI.setup_anndata(adata3)\n",
    "vae = scvi.model.SCVI(adata3)\n",
    "vae.train()\n",
    "solo = scvi.external.SOLO.from_scvi_model(vae)\n",
    "solo.train()\n",
    "solo.predict()\n",
    "df = solo.predict()\n",
    "df['prediction'] = solo.predict(soft = False)\n",
    "df.groupby('prediction').count()\n",
    "df['dif'] = df.doublet - df.singlet\n",
    "df"
   ]
  },
  {
   "cell_type": "code",
   "execution_count": null,
   "id": "f0e5102d-7a38-479e-9dca-9000f0d38af4",
   "metadata": {},
   "outputs": [],
   "source": [
    "sns.displot(df[df.prediction == 'doublet'], x = 'dif')"
   ]
  },
  {
   "cell_type": "code",
   "execution_count": null,
   "id": "35880957-6ae4-4c59-b2dd-9c2eda71fc57",
   "metadata": {},
   "outputs": [],
   "source": [
    "doublets = df[(df.prediction == 'doublet') & (df.dif > 0.2)]\n",
    "doublets\n",
    "adata3 = sc.read_h5ad(\"YOV_GFP_adata.h5ad\")\n",
    "adata3.obs\n",
    "adata3.obs['doublet'] = adata3.obs.index.isin(doublets.index) \n",
    "adata3.obs\n",
    "adata3 = adata3[~adata3.obs.doublet]\n",
    "# Save the filtered AnnData object\n",
    "adata3.write(\"YOV_GFP_adata_filtered_with_SOLO.h5ad\")\n",
    "adata3"
   ]
  },
  {
   "cell_type": "code",
   "execution_count": null,
   "id": "9866f5a3-35a5-4b01-b4e1-d911e184776a",
   "metadata": {},
   "outputs": [],
   "source": [
    "#sample 4"
   ]
  },
  {
   "cell_type": "code",
   "execution_count": null,
   "id": "4bc942d4-95e4-4569-b1ab-875507c8f524",
   "metadata": {},
   "outputs": [],
   "source": [
    "sc.pp.filter_genes(adata4, min_cells = 10)\n",
    "sc.pp.highly_variable_genes(adata4, n_top_genes = 3000, subset = True, flavor = 'seurat_v3')"
   ]
  },
  {
   "cell_type": "code",
   "execution_count": null,
   "id": "9768b58f-b5cf-4147-9462-556815426504",
   "metadata": {},
   "outputs": [],
   "source": [
    "scvi.model.SCVI.setup_anndata(adata4)\n",
    "vae = scvi.model.SCVI(adata4)\n",
    "vae.train()\n",
    "solo = scvi.external.SOLO.from_scvi_model(vae)\n",
    "solo.train()\n",
    "solo.predict()\n",
    "df = solo.predict()\n",
    "df['prediction'] = solo.predict(soft = False)\n",
    "df.groupby('prediction').count()\n",
    "df['dif'] = df.doublet - df.singlet\n",
    "df"
   ]
  },
  {
   "cell_type": "code",
   "execution_count": null,
   "id": "4dcaf208-c8a5-4b60-a1d0-a15122b0435f",
   "metadata": {},
   "outputs": [],
   "source": [
    "sns.displot(df[df.prediction == 'doublet'], x = 'dif')"
   ]
  },
  {
   "cell_type": "code",
   "execution_count": null,
   "id": "11326820-d03a-431e-a8fe-2d38bb4b21f3",
   "metadata": {},
   "outputs": [],
   "source": [
    "doublets = df[(df.prediction == 'doublet') & (df.dif > 0.2)]\n",
    "doublets\n",
    "adata4 = sc.read_h5ad(\"YOV_noGFP_adata.h5ad\")\n",
    "adata4.obs\n",
    "adata4.obs['doublet'] = adata4.obs.index.isin(doublets.index) \n",
    "adata4.obs\n",
    "adata4 = adata4[~adata4.obs.doublet]\n",
    "adata4\n",
    "# Save the filtered AnnData object\n",
    "adata4.write(\"YOV_noGFP_adata_filtered_with_SOLO.h5ad\")\n",
    "adata4"
   ]
  },
  {
   "cell_type": "code",
   "execution_count": null,
   "id": "9ca3bf71-6e0a-4d19-9698-f96b8821db48",
   "metadata": {},
   "outputs": [],
   "source": [
    "#SAMPLE5"
   ]
  },
  {
   "cell_type": "code",
   "execution_count": null,
   "id": "09ced86d-cb96-4f62-9ac9-ba692960eefe",
   "metadata": {},
   "outputs": [],
   "source": [
    "sc.pp.filter_genes(adata5, min_cells = 10)\n",
    "sc.pp.highly_variable_genes(adata5, n_top_genes = 3000, subset = True, flavor = 'seurat_v3')"
   ]
  },
  {
   "cell_type": "code",
   "execution_count": null,
   "id": "1dbb2a16-fc86-4caf-b15f-b9ccfb3a8627",
   "metadata": {},
   "outputs": [],
   "source": [
    "scvi.model.SCVI.setup_anndata(adata5)\n",
    "vae = scvi.model.SCVI(adata5)\n",
    "vae.train()\n",
    "solo = scvi.external.SOLO.from_scvi_model(vae)\n",
    "solo.train()\n",
    "solo.predict()\n",
    "df = solo.predict()\n",
    "df['prediction'] = solo.predict(soft = False)\n",
    "df.groupby('prediction').count()\n",
    "df['dif'] = df.doublet - df.singlet\n",
    "df"
   ]
  },
  {
   "cell_type": "code",
   "execution_count": null,
   "id": "269ff3e1-739c-4654-91bc-49f032fdc3c9",
   "metadata": {},
   "outputs": [],
   "source": [
    "sns.displot(df[df.prediction == 'doublet'], x = 'dif')"
   ]
  },
  {
   "cell_type": "code",
   "execution_count": null,
   "id": "db772b74-c7b8-46e3-8f9d-0bbe9a882b11",
   "metadata": {},
   "outputs": [],
   "source": [
    "doublets = df[(df.prediction == 'doublet') & (df.dif > 0.2)]\n",
    "doublets\n",
    "adata5 = sc.read_h5ad(\"ASham_GFP_adata.h5ad\")\n",
    "adata5.obs\n",
    "adata5.obs['doublet'] = adata5.obs.index.isin(doublets.index) \n",
    "adata5.obs\n",
    "adata5 = adata5[~adata5.obs.doublet]\n",
    "adata5\n",
    "# Save the filtered AnnData object\n",
    "adata5.write(\"ASham_GFP_adata_filtered_with_SOLO.h5ad\")\n",
    "adata5"
   ]
  },
  {
   "cell_type": "code",
   "execution_count": null,
   "id": "b9ad9b35-d662-4165-941f-71fc599a88f2",
   "metadata": {},
   "outputs": [],
   "source": [
    "#sample 6"
   ]
  },
  {
   "cell_type": "code",
   "execution_count": null,
   "id": "a08a7c58-377b-4980-94a9-db3b3fb1c732",
   "metadata": {},
   "outputs": [],
   "source": [
    "sc.pp.filter_genes(adata6, min_cells = 10)\n",
    "sc.pp.highly_variable_genes(adata6, n_top_genes = 3000, subset = True, flavor = 'seurat_v3')"
   ]
  },
  {
   "cell_type": "code",
   "execution_count": null,
   "id": "9dfa2d6c-c86d-4ebc-9cf7-69a07eb1d390",
   "metadata": {},
   "outputs": [],
   "source": [
    "scvi.model.SCVI.setup_anndata(adata6)\n",
    "vae = scvi.model.SCVI(adata6)\n",
    "vae.train()\n",
    "solo = scvi.external.SOLO.from_scvi_model(vae)\n",
    "solo.train()\n",
    "solo.predict()\n",
    "df = solo.predict()\n",
    "df['prediction'] = solo.predict(soft = False)\n",
    "df.groupby('prediction').count()\n",
    "df['dif'] = df.doublet - df.singlet\n",
    "df"
   ]
  },
  {
   "cell_type": "code",
   "execution_count": null,
   "id": "17fe391d-8bb9-43c4-aa30-1a037faee020",
   "metadata": {},
   "outputs": [],
   "source": [
    "sns.displot(df[df.prediction == 'doublet'], x = 'dif')"
   ]
  },
  {
   "cell_type": "code",
   "execution_count": null,
   "id": "e3cc2002-61bd-451d-928d-267706926c63",
   "metadata": {},
   "outputs": [],
   "source": [
    "doublets = df[(df.prediction == 'doublet') & (df.dif > 0.2)]\n",
    "doublets\n",
    "adata6 = sc.read_h5ad(\"ASham_noGFP_adata.h5ad\")\n",
    "adata6.obs\n",
    "adata6.obs['doublet'] = adata6.obs.index.isin(doublets.index) \n",
    "adata6.obs\n",
    "adata6 = adata6[~adata6.obs.doublet]\n",
    "adata6\n",
    "# Save the filtered AnnData object\n",
    "adata6.write(\"ASham_noGFP_adata_filtered_with_SOLO.h5ad\")\n",
    "adata6"
   ]
  },
  {
   "cell_type": "code",
   "execution_count": null,
   "id": "203846de-63a4-498a-b6c1-82e0368efc28",
   "metadata": {},
   "outputs": [],
   "source": [
    "#sample 7"
   ]
  },
  {
   "cell_type": "code",
   "execution_count": null,
   "id": "81d20d75-d7ec-4c01-b851-3b0ee1714f0b",
   "metadata": {},
   "outputs": [],
   "source": [
    "sc.pp.filter_genes(adata7, min_cells = 10)\n",
    "sc.pp.highly_variable_genes(adata7, n_top_genes = 3000, subset = True, flavor = 'seurat_v3')\n",
    "scvi.model.SCVI.setup_anndata(adata7)\n",
    "vae = scvi.model.SCVI(adata7)\n",
    "vae.train()\n",
    "solo = scvi.external.SOLO.from_scvi_model(vae)\n",
    "solo.train()\n",
    "df = solo.predict()\n",
    "df['prediction'] = solo.predict(soft = False)\n",
    "df.groupby('prediction').count()\n",
    "df['dif'] = df.doublet - df.singlet\n",
    "df"
   ]
  },
  {
   "cell_type": "code",
   "execution_count": null,
   "id": "2240d113-3f16-462a-bfe7-6849857a0c61",
   "metadata": {},
   "outputs": [],
   "source": [
    "sns.displot(df[df.prediction == 'doublet'], x = 'dif')"
   ]
  },
  {
   "cell_type": "code",
   "execution_count": null,
   "id": "d99eef3e-2860-483d-b775-83c89de733e7",
   "metadata": {},
   "outputs": [],
   "source": [
    "doublets = df[(df.prediction == 'doublet') & (df.dif > 0.2)]\n",
    "doublets\n",
    "adata7 = sc.read_h5ad(\"AOV_GFP_adata.h5ad\")\n",
    "adata7.obs\n",
    "adata7.obs['doublet'] = adata7.obs.index.isin(doublets.index) \n",
    "adata7.obs\n",
    "adata7 = adata7[~adata7.obs.doublet]\n",
    "# Save the filtered AnnData object\n",
    "adata7.write(\"AOV_GFP_adata_filtered_with_SOLO.h5ad\")\n",
    "adata7"
   ]
  },
  {
   "cell_type": "code",
   "execution_count": null,
   "id": "5e50c1db-c3e6-4a1e-bd44-46d7f463258b",
   "metadata": {},
   "outputs": [],
   "source": [
    "#sample8"
   ]
  },
  {
   "cell_type": "code",
   "execution_count": null,
   "id": "b3873a48-3e00-4aea-b2a4-3aa050e89f7a",
   "metadata": {},
   "outputs": [],
   "source": [
    "sc.pp.filter_genes(adata8, min_cells = 10)\n",
    "sc.pp.highly_variable_genes(adata8, n_top_genes = 3000, subset = True, flavor = 'seurat_v3')"
   ]
  },
  {
   "cell_type": "code",
   "execution_count": null,
   "id": "477f8e4e-43e7-40ca-b48f-27d1fd8a247f",
   "metadata": {},
   "outputs": [],
   "source": [
    "scvi.model.SCVI.setup_anndata(adata8)\n",
    "vae = scvi.model.SCVI(adata8)\n",
    "vae.train()\n",
    "solo = scvi.external.SOLO.from_scvi_model(vae)\n",
    "solo.train()\n",
    "df = solo.predict()\n",
    "df['prediction'] = solo.predict(soft = False)\n",
    "df.groupby('prediction').count()\n",
    "df['dif'] = df.doublet - df.singlet\n",
    "df"
   ]
  },
  {
   "cell_type": "code",
   "execution_count": null,
   "id": "14d30cc3-d820-4b22-ac77-226b71801b20",
   "metadata": {},
   "outputs": [],
   "source": [
    "sns.displot(df[df.prediction == 'doublet'], x = 'dif')"
   ]
  },
  {
   "cell_type": "code",
   "execution_count": null,
   "id": "bbb91da8-b763-4a18-a8ca-fad3f9e28eae",
   "metadata": {},
   "outputs": [],
   "source": [
    "doublets = df[(df.prediction == 'doublet') & (df.dif > 0.2)]\n",
    "doublets\n",
    "adata8 = sc.read_h5ad(\"AOV_noGFP_adata.h5ad\")\n",
    "adata8.obs\n",
    "adata8.obs['doublet'] = adata8.obs.index.isin(doublets.index) \n",
    "adata8.obs\n",
    "adata8 = adata8[~adata8.obs.doublet]\n",
    "# Save the filtered AnnData object\n",
    "adata8.write(\"AOV_noGFP_adata_filtered_with_SOLO.h5ad\")\n",
    "adata8"
   ]
  },
  {
   "cell_type": "code",
   "execution_count": null,
   "id": "e4e44705-0bef-4b66-a045-2363092c7cc3",
   "metadata": {},
   "outputs": [],
   "source": [
    "# Load each sample's data one by one\n",
    "adata1 = sc.read_h5ad(\"YSham_GFP_adata_filtered_with_SOLO.h5ad\")\n",
    "adata2 = sc.read_h5ad(\"YSham_noGFP_adata_filtered_with_SOLO.h5ad\")\n",
    "adata3 = sc.read_h5ad(\"YOV_GFP_adata_filtered_with_SOLO.h5ad\")\n",
    "adata4 = sc.read_h5ad(\"YOV_noGFP_adata_filtered_with_SOLO.h5ad\")\n",
    "adata5 = sc.read_h5ad(\"ASham_GFP_adata_filtered_with_SOLO.h5ad\")\n",
    "adata6 = sc.read_h5ad(\"ASham_noGFP_adata_filtered_with_SOLO.h5ad\")\n",
    "adata7 = sc.read_h5ad(\"AOV_GFP_adata_filtered_with_SOLO.h5ad\")\n",
    "adata8 = sc.read_h5ad(\"AOV_noGFP_adata_filtered_with_SOLO.h5ad\")"
   ]
  },
  {
   "cell_type": "code",
   "execution_count": null,
   "id": "2ddcaa0c-820e-4ec5-92ea-5a380d279ac8",
   "metadata": {},
   "outputs": [],
   "source": [
    "# Make variable names unique\n",
    "for adata in [adata1, adata2, adata3, adata4, adata5, adata6, adata7, adata8]:\n",
    "    adata.var_names_make_unique()\n",
    "    adata.raw = adata\n",
    "# Quality Control (QC)\n",
    "for adata in [adata1, adata2, adata3, adata4, adata5, adata6, adata7, adata8]:\n",
    "    sc.pp.filter_cells(adata, min_genes=200)#get rid of cells with fewer than 200 genes\n",
    "# Annotate mitochondrial genes\n",
    "for adata in [adata1, adata2, adata3, adata4, adata5, adata6, adata7, adata8]:\n",
    "    adata.var['mt'] = adata.var_names.str.startswith('mt-')  # Assuming mitochondrial genes start with 'MT-'\n",
    "adata4.var[adata4.var.mt == True]\n",
    "# Annotate ribosomal genes\n",
    "for adata in [adata1, adata2, adata3, adata4, adata5, adata6, adata7, adata8]:\n",
    "    adata.var['hb'] = adata.var_names.str.contains('^Hb[^(P)]', regex=True)\n",
    "adata4.var[adata4.var['hb']]"
   ]
  },
  {
   "cell_type": "code",
   "execution_count": null,
   "id": "56b68e7c-716d-4f71-90f4-82de20048789",
   "metadata": {},
   "outputs": [],
   "source": [
    "sc.pp.calculate_qc_metrics(adata1, qc_vars=['mt',  'hb'], percent_top=None, log1p=False, inplace=True)\n",
    "sc.pl.violin(adata1, ['n_genes_by_counts', 'total_counts', 'pct_counts_mt', 'pct_counts_hb'],\n",
    "             jitter=0.4, multi_panel=True)\n",
    "#instead of picking subjectively, you can use quanitle\n",
    "upper_lim = np.quantile(adata1.obs.n_genes_by_counts.values, .98)\n",
    "lower_lim = np.quantile(adata1.obs.n_genes_by_counts.values, .02)\n",
    "print(f'{lower_lim} to {upper_lim}')\n",
    "adata1 = adata1[(adata1.obs.n_genes_by_counts < upper_lim) & (adata1.obs.n_genes_by_counts > lower_lim) ]\n",
    "adata1 = adata1[adata1.obs.pct_counts_mt < 10]\n",
    "adata1 = adata1[adata1.obs['pct_counts_hb'] < 0.1].copy()\n",
    "\n",
    "sc.pl.violin(adata1, ['n_genes_by_counts', 'total_counts', 'pct_counts_mt', 'pct_counts_hb'],\n",
    "             jitter=0.4, multi_panel=True)\n",
    "\n",
    "\n",
    "sc.pp.calculate_qc_metrics(adata2, qc_vars=['mt',  'hb'], percent_top=None, log1p=False, inplace=True)\n",
    "sc.pl.violin(adata2, ['n_genes_by_counts', 'total_counts', 'pct_counts_mt', 'pct_counts_hb'],\n",
    "             jitter=0.4, multi_panel=True)\n",
    "#instead of picking subjectively, you can use quanitle\n",
    "upper_lim = np.quantile(adata2.obs.n_genes_by_counts.values, .98)\n",
    "lower_lim = np.quantile(adata2.obs.n_genes_by_counts.values, .02)\n",
    "print(f'{lower_lim} to {upper_lim}')\n",
    "adata2 = adata2[(adata2.obs.n_genes_by_counts < upper_lim)  & (adata2.obs.n_genes_by_counts > lower_lim)]\n",
    "adata2 = adata2[adata2.obs.pct_counts_mt < 5]\n",
    "adata2 = adata2[adata2.obs['pct_counts_hb'] < 0.1].copy()\n",
    "\n",
    "sc.pl.violin(adata2, ['n_genes_by_counts', 'total_counts', 'pct_counts_mt', 'pct_counts_hb'],\n",
    "             jitter=0.4, multi_panel=True)\n",
    "sc.pp.calculate_qc_metrics(adata3, qc_vars=['mt', 'hb'], percent_top=None, log1p=False, inplace=True)\n",
    "sc.pl.violin(adata3, ['n_genes_by_counts', 'total_counts', 'pct_counts_mt', 'pct_counts_hb'],\n",
    "             jitter=0.4, multi_panel=True)\n",
    "#instead of picking subjectively, you can use quanitle\n",
    "upper_lim = np.quantile(adata3.obs.n_genes_by_counts.values, .98)\n",
    "lower_lim = np.quantile(adata3.obs.n_genes_by_counts.values, .02)\n",
    "print(f'{lower_lim} to {upper_lim}')\n",
    "adata3 = adata3[(adata3.obs.n_genes_by_counts < upper_lim) & (adata3.obs.n_genes_by_counts > lower_lim)]\n",
    "adata3 = adata3[adata3.obs.pct_counts_mt < 10]\n",
    "adata3 = adata3[adata3.obs['pct_counts_hb'] < 0.1].copy()\n",
    "\n",
    "sc.pl.violin(adata3, ['n_genes_by_counts', 'total_counts', 'pct_counts_mt', 'pct_counts_hb'],\n",
    "             jitter=0.4, multi_panel=True)\n",
    "\n",
    "sc.pp.calculate_qc_metrics(adata4, qc_vars=['mt', 'hb'], percent_top=None, log1p=False, inplace=True)\n",
    "sc.pl.violin(adata4, ['n_genes_by_counts', 'total_counts', 'pct_counts_mt', 'pct_counts_hb'],\n",
    "             jitter=0.4, multi_panel=True)\n",
    "#instead of picking subjectively, you can use quanitle\n",
    "upper_lim = np.quantile(adata4.obs.n_genes_by_counts.values, .98)\n",
    "lower_lim = np.quantile(adata4.obs.n_genes_by_counts.values, .02)\n",
    "print(f'{lower_lim} to {upper_lim}')\n",
    "adata4 = adata4[(adata4.obs.n_genes_by_counts < upper_lim) & (adata4.obs.n_genes_by_counts > lower_lim)]\n",
    "adata4 = adata4[adata4.obs.pct_counts_mt < 5]\n",
    "adata4 = adata4[adata4.obs['pct_counts_hb'] < 0.1].copy()\n",
    "sc.pl.violin(adata4, ['n_genes_by_counts', 'total_counts', 'pct_counts_mt', 'pct_counts_hb'],\n",
    "             jitter=0.4, multi_panel=True)\n",
    "\n",
    "sc.pp.calculate_qc_metrics(adata5, qc_vars=['mt',  'hb'], percent_top=None, log1p=False, inplace=True)\n",
    "sc.pl.violin(adata5, ['n_genes_by_counts', 'total_counts', 'pct_counts_mt', 'pct_counts_hb'],\n",
    "             jitter=0.4, multi_panel=True)\n",
    "#instead of picking subjectively, you can use quanitle\n",
    "upper_lim = np.quantile(adata5.obs.n_genes_by_counts.values, .98)\n",
    "lower_lim = np.quantile(adata5.obs.n_genes_by_counts.values, .02)\n",
    "print(f'{lower_lim} to {upper_lim}')\n",
    "adata5 = adata5[(adata5.obs.n_genes_by_counts < upper_lim)  & (adata5.obs.n_genes_by_counts > lower_lim)]\n",
    "adata5 = adata5[adata5.obs.pct_counts_mt < 10]\n",
    "adata5 = adata5[adata5.obs['pct_counts_hb'] < 0.1].copy()\n",
    "sc.pl.violin(adata5, ['n_genes_by_counts', 'total_counts', 'pct_counts_mt', 'pct_counts_hb'],\n",
    "             jitter=0.4, multi_panel=True)\n",
    "\n",
    "sc.pp.calculate_qc_metrics(adata6, qc_vars=['mt',  'hb'], percent_top=None, log1p=False, inplace=True)\n",
    "sc.pl.violin(adata6, ['n_genes_by_counts', 'total_counts', 'pct_counts_mt', 'pct_counts_hb'],\n",
    "             jitter=0.4, multi_panel=True)\n",
    "#instead of picking subjectively, you can use quanitle\n",
    "upper_lim = np.quantile(adata6.obs.n_genes_by_counts.values, .98)\n",
    "lower_lim = np.quantile(adata6.obs.n_genes_by_counts.values, .02)\n",
    "print(f'{lower_lim} to {upper_lim}')\n",
    "adata6 = adata6[(adata6.obs.n_genes_by_counts < upper_lim)  & (adata6.obs.n_genes_by_counts > lower_lim)]\n",
    "adata6 = adata6[adata6.obs.pct_counts_mt < 5]\n",
    "adata6 = adata6[adata6.obs['pct_counts_hb'] < 0.1].copy()\n",
    "sc.pl.violin(adata6, ['n_genes_by_counts', 'total_counts', 'pct_counts_mt', 'pct_counts_hb'],\n",
    "             jitter=0.4, multi_panel=True)\n",
    "\n",
    "sc.pp.calculate_qc_metrics(adata7, qc_vars=['mt', 'hb'], percent_top=None, log1p=False, inplace=True)\n",
    "sc.pl.violin(adata7, ['n_genes_by_counts', 'total_counts', 'pct_counts_mt', 'pct_counts_hb'],\n",
    "             jitter=0.4, multi_panel=True)\n",
    "#instead of picking subjectively, you can use quanitle\n",
    "upper_lim = np.quantile(adata7.obs.n_genes_by_counts.values, .98)\n",
    "lower_lim = np.quantile(adata7.obs.n_genes_by_counts.values, .02)\n",
    "print(f'{lower_lim} to {upper_lim}')\n",
    "adata7 = adata7[(adata7.obs.n_genes_by_counts < upper_lim) & (adata7.obs.n_genes_by_counts > lower_lim)]\n",
    "adata7 = adata7[adata7.obs.pct_counts_mt < 10]\n",
    "adata7 = adata7[adata7.obs['pct_counts_hb'] < 0.1].copy()\n",
    "sc.pl.violin(adata7, ['n_genes_by_counts', 'total_counts', 'pct_counts_mt','pct_counts_hb'],\n",
    "             jitter=0.4, multi_panel=True)\n",
    "\n",
    "sc.pp.calculate_qc_metrics(adata8, qc_vars=['mt',  'hb'], percent_top=None, log1p=False, inplace=True)\n",
    "sc.pl.violin(adata8, ['n_genes_by_counts', 'total_counts', 'pct_counts_mt', 'pct_counts_hb'],\n",
    "             jitter=0.4, multi_panel=True)\n",
    "#instead of picking subjectively, you can use quanitle\n",
    "upper_lim = np.quantile(adata8.obs.n_genes_by_counts.values, .98)\n",
    "lower_lim = np.quantile(adata8.obs.n_genes_by_counts.values, .02)\n",
    "print(f'{lower_lim} to {upper_lim}')\n",
    "adata8 = adata8[(adata8.obs.n_genes_by_counts < upper_lim)  & (adata8.obs.n_genes_by_counts > lower_lim)]\n",
    "adata8 = adata8[adata8.obs.pct_counts_mt < 5]\n",
    "adata8 = adata8[adata8.obs['pct_counts_hb'] < 0.1].copy()\n",
    "sc.pl.violin(adata8, ['n_genes_by_counts', 'total_counts', 'pct_counts_mt', 'pct_counts_hb'],\n",
    "             jitter=0.4, multi_panel=True)"
   ]
  },
  {
   "cell_type": "code",
   "execution_count": null,
   "id": "dd7e4795-7b3d-4997-9079-7171e6e94869",
   "metadata": {},
   "outputs": [],
   "source": [
    "import scanpy as sc\n",
    "\n",
    "# Assuming adatas is a list containing your individual AnnData objects: [adata1, adata2, adata3, adata4]\n",
    "adatas = [adata1, adata2, adata3, adata4, adata5, adata6, adata7, adata8]\n",
    "\n",
    "# Define sample names\n",
    "sample_names = ['YSham_GFP', 'YSham_noGFP', 'YOV_GFP', 'YOV_noGFP', 'ASham_GFP', 'ASham_noGFP', 'AOV_GFP', 'AOV_noGFP']\n",
    "\n",
    "\n",
    "# Concatenate the list of AnnData objects into a single AnnData object\n",
    "adata = sc.concat(adatas, join='outer', label='Sample', keys=sample_names)\n",
    "\n",
    "sc.pp.filter_genes(adata, min_cells = 10)\n",
    "adata\n",
    "adata.X\n",
    "adata.write_h5ad('combined.h5ad')"
   ]
  }
 ],
 "metadata": {
  "kernelspec": {
   "display_name": "Python 3 (ipykernel)",
   "language": "python",
   "name": "python3"
  },
  "language_info": {
   "codemirror_mode": {
    "name": "ipython",
    "version": 3
   },
   "file_extension": ".py",
   "mimetype": "text/x-python",
   "name": "python",
   "nbconvert_exporter": "python",
   "pygments_lexer": "ipython3",
   "version": "3.9.21"
  }
 },
 "nbformat": 4,
 "nbformat_minor": 5
}
