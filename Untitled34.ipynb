{
 "cells": [
  {
   "cell_type": "code",
   "execution_count": 1,
   "id": "298e83d1-6249-47ef-8362-d90a10d31bff",
   "metadata": {},
   "outputs": [],
   "source": [
    "import scanpy as sc\n",
    "import scvi\n",
    "import seaborn as sns\n",
    "import numpy as np\n",
    "import pandas as pd\n",
    "import os"
   ]
  },
  {
   "cell_type": "code",
   "execution_count": 2,
   "id": "c51f0259-0464-40f4-bf45-9e64a1b102b8",
   "metadata": {},
   "outputs": [],
   "source": [
    "# Set working directory\n",
    "os.chdir(\"P:/Tolulope/Manuscript/Yuan Analysis\")"
   ]
  },
  {
   "cell_type": "code",
   "execution_count": 3,
   "id": "2e7a3894-6dc2-423d-8578-94327c79cec2",
   "metadata": {},
   "outputs": [],
   "source": [
    "adata = sc.read(\"integratedssssss.h5ad\")"
   ]
  },
  {
   "cell_type": "code",
   "execution_count": 4,
   "id": "d9db71a0-4ab0-46d9-a8db-7327df39b241",
   "metadata": {},
   "outputs": [],
   "source": [
    "adata_concat=adata.copy()"
   ]
  },
  {
   "cell_type": "code",
   "execution_count": 5,
   "id": "d1a562ed-de37-4d07-a522-027f306e51be",
   "metadata": {},
   "outputs": [
    {
     "name": "stdout",
     "output_type": "stream",
     "text": [
      "Raw AnnData with n_obs × n_vars = 45833 × 37912\n",
      "    var: 'n_cells'\n",
      "(37912, 1)\n"
     ]
    }
   ],
   "source": [
    "# Now, check the raw attribute of the concatenated data\n",
    "print(adata_concat.raw)  # Print the raw object\n",
    "print(adata_concat.raw.var.shape)  # Print the shape of raw gene data\n"
   ]
  },
  {
   "cell_type": "code",
   "execution_count": 6,
   "id": "e98ec46b-7b06-4b72-ba53-f16503f580dd",
   "metadata": {},
   "outputs": [
    {
     "name": "stdout",
     "output_type": "stream",
     "text": [
      "AnnData object with n_obs × n_vars = 43257 × 37912\n",
      "    obs: 'batch', 'doublet', 'n_genes', 'n_genes_by_counts', 'total_counts', 'total_counts_mt', 'pct_counts_mt', 'Sample', '_scvi_batch', '_scvi_labels', 'leiden', '_scvi_raw_norm_scaling', 'cell type', 'condition'\n",
      "    var: 'n_cells'\n",
      "    uns: 'Sample_colors', '_scvi_manager_uuid', '_scvi_uuid', 'cell type_colors', 'leiden', 'leiden_colors', 'log1p', 'markers', 'neighbors', 'rank_genes_groups', 'scvi_markers', 'umap'\n",
      "    obsm: 'X_scVI', 'X_umap', '_scvi_extra_categorical_covs', '_scvi_extra_continuous_covs'\n",
      "    layers: 'counts', 'scvi_normalized'\n",
      "    obsp: 'connectivities', 'distances'\n"
     ]
    }
   ],
   "source": [
    "ad_filtered = adata_concat[((adata_concat.raw[: , \"Gfp\"].X.toarray().flatten() ==0) & (adata_concat.raw[: , \"Pax7\"].X.toarray().flatten() ==0)), :].copy()\n",
    "#ad_filtered = adata_concat[(adata_concat.raw[: , \"Gfp\"].X.toarray().flatten() ==0) , :].copy()\n",
    "print(ad_filtered)"
   ]
  },
  {
   "cell_type": "code",
   "execution_count": 7,
   "id": "30c066f7-1aee-4435-b81e-dcac60126f8b",
   "metadata": {},
   "outputs": [],
   "source": [
    "sc.tl.embedding_density(ad_filtered, groupby='Sample')"
   ]
  },
  {
   "cell_type": "code",
   "execution_count": 8,
   "id": "630959d4-0eac-42b2-bf54-b95c938865ab",
   "metadata": {},
   "outputs": [],
   "source": [
    "ad_filtered.obs[['umap_density_Sample','leiden','Sample']].to_csv('density_by_cluster_filteredscvitools1.csv')"
   ]
  },
  {
   "cell_type": "code",
   "execution_count": 9,
   "id": "8ddc0c6a-4718-4d68-857f-3d048e72cc00",
   "metadata": {},
   "outputs": [
    {
     "name": "stderr",
     "output_type": "stream",
     "text": [
      "C:\\Users\\tpsa222\\AppData\\Local\\Temp\\ipykernel_6656\\3578966802.py:9: FutureWarning: The default of observed=False is deprecated and will be changed to True in a future version of pandas. Pass observed=False to retain current behavior or observed=True to adopt the future default and silence this warning.\n",
      "  cell_counts = df.groupby(['Sample', 'cell type'])['count'].count().unstack(fill_value=0)\n",
      "C:\\Users\\tpsa222\\AppData\\Local\\Temp\\ipykernel_6656\\3578966802.py:12: FutureWarning: The default of observed=False is deprecated and will be changed to True in a future version of pandas. Pass observed=False to retain current behavior or observed=True to adopt the future default and silence this warning.\n",
      "  density = df.groupby(['Sample', 'cell type'])['umap_density_Sample'].mean().unstack(fill_value=0)\n"
     ]
    }
   ],
   "source": [
    "import pandas as pd\n",
    "import numpy as np\n",
    "\n",
    "# STEP 1: Create DataFrame with relevant columns\n",
    "df = ad_filtered.obs[['Sample', 'cell type', 'umap_density_Sample']].copy()\n",
    "df['count'] = 1\n",
    "\n",
    "# STEP 2: Count cells per (Sample, cell type)\n",
    "cell_counts = df.groupby(['Sample', 'cell type'])['count'].count().unstack(fill_value=0)\n",
    "\n",
    "# STEP 3: Get average density per (Sample, cell type)\n",
    "density = df.groupby(['Sample', 'cell type'])['umap_density_Sample'].mean().unstack(fill_value=0)\n",
    "\n",
    "# STEP 4: Define GFP-positive samples\n",
    "gfp_positive_samples = ['YSham_GFP', 'ASham_GFP', 'YOV_GFP', 'AOV_GFP']\n",
    "\n",
    "# STEP 5: Define safe ratio computation with GFP threshold only\n",
    "def compute_ratio_with_gfp_filter(gfp_sample, no_gfp_sample, min_cells=20):\n",
    "    numerator = density.loc[gfp_sample]\n",
    "    denominator = density.loc[no_gfp_sample]\n",
    "    gfp_counts = cell_counts.loc[gfp_sample]\n",
    "\n",
    "    # Mask cell types where GFP+ sample has < 20 cells\n",
    "    mask = gfp_counts < min_cells\n",
    "\n",
    "    ratio = numerator / denominator\n",
    "    ratio[mask] = 0  # Set to 0 for low GFP+ cell types\n",
    "\n",
    "    return ratio\n",
    "\n",
    "# STEP 6: Compute ratios for desired comparisons\n",
    "ratios = pd.DataFrame({\n",
    "    'YSham': compute_ratio_with_gfp_filter('YSham_GFP', 'YSham_noGFP'),\n",
    "    'ASham': compute_ratio_with_gfp_filter('ASham_GFP', 'ASham_noGFP'),\n",
    "    'YOV': compute_ratio_with_gfp_filter('YOV_GFP', 'YOV_noGFP'),\n",
    "    'AOV': compute_ratio_with_gfp_filter('AOV_GFP', 'AOV_noGFP')\n",
    "})\n",
    "\n",
    "# STEP 7: Save to CSV\n",
    "ratios.to_csv('GFP_communication_ratios_thresholded.csv')\n"
   ]
  },
  {
   "cell_type": "code",
   "execution_count": null,
   "id": "1dc0270d-14ab-4665-8f03-d21f5ee69969",
   "metadata": {},
   "outputs": [],
   "source": []
  },
  {
   "cell_type": "code",
   "execution_count": 17,
   "id": "0cfbee11-f6a4-407a-a1ea-2e7b9caec34b",
   "metadata": {},
   "outputs": [
    {
     "name": "stdout",
     "output_type": "stream",
     "text": [
      "Minimum non-zero density in dataset: 0.000584\n"
     ]
    },
    {
     "name": "stderr",
     "output_type": "stream",
     "text": [
      "C:\\Users\\tpsa222\\AppData\\Local\\Temp\\ipykernel_14788\\4240172685.py:9: FutureWarning: The default of observed=False is deprecated and will be changed to True in a future version of pandas. Pass observed=False to retain current behavior or observed=True to adopt the future default and silence this warning.\n",
      "  cell_counts = df.groupby(['Sample', 'cell type'])['count'].count().unstack(fill_value=0)\n",
      "C:\\Users\\tpsa222\\AppData\\Local\\Temp\\ipykernel_14788\\4240172685.py:12: FutureWarning: The default of observed=False is deprecated and will be changed to True in a future version of pandas. Pass observed=False to retain current behavior or observed=True to adopt the future default and silence this warning.\n",
      "  density = df.groupby(['Sample', 'cell type'])['umap_density_Sample'].mean().unstack(fill_value=0)\n"
     ]
    }
   ],
   "source": [
    "import pandas as pd\n",
    "import numpy as np\n",
    "\n",
    "# STEP 1: Extract relevant columns and count per cell\n",
    "df = ad_filtered.obs[['Sample', 'cell type', 'umap_density_Sample']].copy()\n",
    "df['count'] = 1\n",
    "\n",
    "# STEP 2: Count cells per (Sample, cell type)\n",
    "cell_counts = df.groupby(['Sample', 'cell type'])['count'].count().unstack(fill_value=0)\n",
    "\n",
    "# STEP 3: Compute mean UMAP density per (Sample, cell type)\n",
    "density = df.groupby(['Sample', 'cell type'])['umap_density_Sample'].mean().unstack(fill_value=0)\n",
    "\n",
    "# STEP 4: Identify the minimum non-zero density value from entire dataset\n",
    "min_nonzero_density = density[density > 0].min().min()\n",
    "print(f\"Minimum non-zero density in dataset: {min_nonzero_density:.6f}\")\n",
    "\n",
    "# STEP 5: Ratio calculation function with logging\n",
    "def compute_ratio_with_logging(gfp_sample, no_gfp_sample, min_cells=1):\n",
    "    numerator = density.loc[gfp_sample]\n",
    "    denominator = density.loc[no_gfp_sample]\n",
    "    gfp_counts = cell_counts.loc[gfp_sample]\n",
    "\n",
    "    # Replace 0 or NaN in denominator with the minimum non-zero density\n",
    "    denominator_safe = denominator.replace(0, np.nan).fillna(min_nonzero_density)\n",
    "\n",
    "    # Compute ratio\n",
    "    ratio = numerator / denominator_safe\n",
    "\n",
    "    # Mask ratios where GFP+ count is below threshold\n",
    "    low_gfp_mask = gfp_counts < min_cells\n",
    "    ratio[low_gfp_mask] = np.nan\n",
    "\n",
    "    # Log exclusions\n",
    "    excluded = pd.DataFrame({\n",
    "        'GFP_count': gfp_counts,\n",
    "        'noGFP_density': denominator,\n",
    "        'Reason': np.where(\n",
    "            low_gfp_mask, 'Low GFP+ cell count',\n",
    "            np.where(denominator == 0, 'No cells in noGFP', 'OK')\n",
    "        )\n",
    "    })\n",
    "\n",
    "    return ratio, excluded\n",
    "\n",
    "# STEP 6: Compute ratios and logs for all conditions\n",
    "ratios = {}\n",
    "logs = {}\n",
    "\n",
    "for condition in ['YSham', 'ASham', 'YOV', 'AOV']:\n",
    "    gfp_sample = f'{condition}_GFP'\n",
    "    no_gfp_sample = f'{condition}_noGFP'\n",
    "    ratio, log = compute_ratio_with_logging(gfp_sample, no_gfp_sample)\n",
    "    ratios[condition] = ratio\n",
    "    logs[condition] = log\n",
    "    log.to_csv(f'{condition}_excluded_celltypes_log.csv')\n",
    "\n",
    "# STEP 7: Combine ratios into single DataFrame and save\n",
    "ratios_df = pd.DataFrame(ratios)\n",
    "ratios_df.to_csv('GFP_communication_ratios_minDensityFill_minCells1.csv')\n",
    "\n",
    "# Optional: Export long-form version for visualization\n",
    "ratios_long = ratios_df.reset_index().melt(id_vars='cell type', var_name='Condition', value_name='Density Ratio')\n",
    "ratios_long.to_csv('GFP_communication_ratios_longform.csv', index=False)\n"
   ]
  },
  {
   "cell_type": "code",
   "execution_count": null,
   "id": "f3164fbf-3a64-415b-96f7-210b96d2d27e",
   "metadata": {},
   "outputs": [],
   "source": []
  },
  {
   "cell_type": "code",
   "execution_count": null,
   "id": "93b136a7-27d3-4057-b471-06756f354da5",
   "metadata": {},
   "outputs": [],
   "source": []
  },
  {
   "cell_type": "code",
   "execution_count": null,
   "id": "1f163c74-2e76-4123-9f2a-1482e5d522fb",
   "metadata": {},
   "outputs": [],
   "source": []
  },
  {
   "cell_type": "code",
   "execution_count": null,
   "id": "108ecdbb-b15f-43d8-8f10-670a13f79cff",
   "metadata": {},
   "outputs": [],
   "source": [
    "import numpy as np\n",
    "import pandas as pd\n",
    "import seaborn as sns\n",
    "import matplotlib.pyplot as plt\n",
    "import os\n",
    "\n",
    "# Set working directory\n",
    "os.chdir(\"P:/Tolulope/Manuscript/Yuan Analysis\")\n",
    "\n",
    "# Define the updated data\n",
    "data_dict = {\n",
    "    \"cell type\": [\n",
    "        \"FAPs I\", \"Residence Macrophages/APCs I\", \"Neutrophils\", \"Monocyte/Macrophages\",\n",
    "        \"M2-like macrophages\", \"Satellite cells\", \"Mature skeletal muscle I\", \"Endothelial cells I\",\n",
    "        \"Myo-Fibroblasts\", \"FAPs II\", \"Endothelial cells II\", \"Lipid-Laden Macrophages\",\n",
    "        \"Mature skeletal muscle II\", \"Dendritic cells\", \"Residence Macrophages/APCs II\",\n",
    "        \"T cells/NKCs\", \"Fusion-Competent Myoblasts\", \"Proliferation\", \"B cells\",\n",
    "        \" Migratory immune cells\", \"Vascular APCs\"\n",
    "    ],\n",
    "    \"YSham\": [\n",
    "        0.1262, 0.0, 0.0, 0.0, 0.3049, 11.4398, 0.1171, 0.2834, 0.0, 0.0, 0.0, np.nan, 0.0,\n",
    "        0.0, 0.0, 0.0, 0.0, np.nan, 0.0, 0.0, np.nan\n",
    "    ],\n",
    "    \"ASham\": [\n",
    "        0.0800, 2.5341, 0.0, 1.4463, 7.9571, 16.3412, 0.1683, 0.3710, 0.0, 0.0, 0.5686,\n",
    "        0.0, 0.0, 0.0, 0.0, 0.0, 0.0, 0.0, 0.0, 0.0, 0.0\n",
    "    ],\n",
    "    \"YOV\": [\n",
    "        0.0, 0.9414, 0.0664, 0.6971, 0.9417, 282.9240, 0.0, 0.2062, 0.1060, 0.0, 0.0,\n",
    "        1.1610, 0.0722, 0.4215, 0.0, 0.0, 7.5575, 0.0, 0.0, 0.0, 0.0\n",
    "    ],\n",
    "    \"AOV\": [\n",
    "        0.0, 1.1401, 0.0877, 1.2615, 2.0054, 25.7731, 0.0, 0.2012, 0.0932, 0.0, 0.0,\n",
    "        2.2648, 0.0, 0.5427, 0.2085, 0.0, np.nan, 0.6779, 0.0, 0.0, 0.0\n",
    "    ]\n",
    "}\n",
    "\n",
    "df = pd.DataFrame(data_dict).set_index(\"cell type\")\n",
    "\n",
    "# Cap data at a threshold to avoid skewing heatmap color range\n",
    "cap_threshold = 1\n",
    "df_capped = df.clip(upper=cap_threshold)\n",
    "\n",
    "# Plot\n",
    "fig, ax = plt.subplots(figsize=(6, 8))\n",
    "heatmap = sns.heatmap(\n",
    "    df_capped,\n",
    "    cmap=\"coolwarm\",\n",
    "    annot=df.round(2),\n",
    "    fmt=\"\",\n",
    "    linewidths=0.5,\n",
    "    cbar=True,\n",
    "    vmin=0, vmax=cap_threshold,\n",
    "    ax=ax\n",
    ")\n",
    "\n",
    "# Highlight the MuSCs row with white\n",
    "musc_idx = df.index.get_loc(\"Satellite cells\")\n",
    "for j in range(df.shape[1]):\n",
    "    ax.add_patch(plt.Rectangle((j, musc_idx), 1, 1, color=\"white\", zorder=2))\n",
    "\n",
    "# Re-annotate MuSCs values\n",
    "for j, col in enumerate(df.columns):\n",
    "    value = df.iloc[musc_idx, j]\n",
    "    if not pd.isna(value):\n",
    "        ax.text(j + 0.5, musc_idx + 0.5, f\"{value:.2f}\",\n",
    "                ha='center', va='center', color='black', fontsize=10)\n",
    "\n",
    "# Formatting\n",
    "plt.xlabel(\"Condition\", fontsize=12)\n",
    "plt.ylabel(\"Cell Type Cluster\", fontsize=12)\n",
    "#plt.title(\"Cell Type Abundance Across Conditions (Capped at 1)\", fontsize=14)\n",
    "plt.xticks(fontsize=10)\n",
    "plt.yticks(fontsize=10, rotation=0)\n",
    "\n",
    "plt.tight_layout()\n",
    "plt.savefig(\"cell_type_abundance_heatmap_updated.png\", dpi=300, bbox_inches='tight')\n",
    "plt.show()\n"
   ]
  },
  {
   "cell_type": "code",
   "execution_count": null,
   "id": "0671b99b-bb98-4648-9ebb-4354cfde532f",
   "metadata": {},
   "outputs": [],
   "source": []
  },
  {
   "cell_type": "code",
   "execution_count": null,
   "id": "714ca52b-65d9-4a00-8215-e4ea7c67bd18",
   "metadata": {},
   "outputs": [],
   "source": []
  },
  {
   "cell_type": "code",
   "execution_count": null,
   "id": "7736bb48-d6e7-4bfd-b7aa-7f73761d5cd7",
   "metadata": {},
   "outputs": [],
   "source": []
  },
  {
   "cell_type": "code",
   "execution_count": null,
   "id": "e27549dc-ac2e-49bb-91d2-f1fbf8d7ebe3",
   "metadata": {},
   "outputs": [],
   "source": []
  },
  {
   "cell_type": "code",
   "execution_count": null,
   "id": "fbebcad4-41af-4ecd-89c9-ff6f9a01b67f",
   "metadata": {},
   "outputs": [],
   "source": []
  },
  {
   "cell_type": "code",
   "execution_count": null,
   "id": "9cffabba-b60a-429a-816f-91464e338d39",
   "metadata": {},
   "outputs": [],
   "source": []
  },
  {
   "cell_type": "code",
   "execution_count": null,
   "id": "a01ddd98-e9ee-4589-a158-1acc32b296ea",
   "metadata": {},
   "outputs": [],
   "source": []
  },
  {
   "cell_type": "code",
   "execution_count": null,
   "id": "3f5a82dc-790a-4f4a-96f0-4b47409a58d8",
   "metadata": {},
   "outputs": [],
   "source": []
  },
  {
   "cell_type": "code",
   "execution_count": null,
   "id": "3778bd99-faf4-4620-9921-0d967c0477d9",
   "metadata": {},
   "outputs": [],
   "source": []
  }
 ],
 "metadata": {
  "kernelspec": {
   "display_name": "Python 3 (ipykernel)",
   "language": "python",
   "name": "python3"
  },
  "language_info": {
   "codemirror_mode": {
    "name": "ipython",
    "version": 3
   },
   "file_extension": ".py",
   "mimetype": "text/x-python",
   "name": "python",
   "nbconvert_exporter": "python",
   "pygments_lexer": "ipython3",
   "version": "3.9.21"
  }
 },
 "nbformat": 4,
 "nbformat_minor": 5
}
