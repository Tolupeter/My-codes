{
 "cells": [
  {
   "cell_type": "code",
   "execution_count": 1,
   "id": "1129c543-c7d3-4ac3-a35d-8cb1eeeaef16",
   "metadata": {},
   "outputs": [],
   "source": [
    "#Filtering Low-Quality Cells and Doublet Detection"
   ]
  },
  {
   "cell_type": "code",
   "execution_count": null,
   "id": "139a1a44-8c1b-4d2f-8f0c-cc7b55182659",
   "metadata": {},
   "outputs": [],
   "source": [
    "import os\n",
    "import numpy as np\n",
    "import scanpy as sc\n",
    "import pandas as pd\n",
    "import seaborn as sns\n",
    "\n",
    "# Set working directory\n",
    "os.chdir(\"P:/Tolulope/Cellranger Results/ALL\")"
   ]
  },
  {
   "cell_type": "code",
   "execution_count": null,
   "id": "a8ff744e-fd8d-4637-878a-23916d61ee43",
   "metadata": {},
   "outputs": [],
   "source": [
    "import scvi\n",
    "import scanpy as sc\n",
    "\n",
    "from matplotlib.pyplot import rc_context\n",
    "sc.set_figure_params(dpi=100)\n",
    "\n",
    "import warnings\n",
    "warnings.simplefilter(\"ignore\", FutureWarning)\n",
    "warnings.simplefilter(\"ignore\", UserWarning)\n",
    "warnings.simplefilter(\"ignore\", RuntimeWarning)"
   ]
  },
  {
   "cell_type": "code",
   "execution_count": null,
   "id": "78eee82e-e034-45e0-9191-c2def6497512",
   "metadata": {},
   "outputs": [],
   "source": [
    "# Define sample paths\n",
    "sample_paths = {\n",
    "    # Young and old data (Sham and Overload)\n",
    "    'YSham_GFP': 'P:/Tolulope/Cellranger Results/ALL/YM_Sham_GFP/filtered_feature_bc_matrix',\n",
    "    'YSham_noGFP': 'P:/Tolulope/Cellranger Results/ALL/YM_Sham_noGFP/filtered_feature_bc_matrix',\n",
    "    'YOV_GFP': 'P:/Tolulope/Cellranger Results/ALL/YM_OV_GFP/filtered_feature_bc_matrix',\n",
    "    'YOV_noGFP': 'P:/Tolulope/Cellranger Results/ALL/YM_OV_noGFP/filtered_feature_bc_matrix',\n",
    "    'ASham_GFP': 'P:/Tolulope/Cellranger Results/ALL/AM_Sham_GFP/filtered_feature_bc_matrix',\n",
    "    'ASham_noGFP': 'P:/Tolulope/Cellranger Results/ALL/AM_Sham_noGFP/filtered_feature_bc_matrix',\n",
    "    'AOV_GFP': 'P:/Tolulope/Cellranger Results/ALL/AM_OV_GFP/filtered_feature_bc_matrix',\n",
    "    'AOV_noGFP': 'P:/Tolulope/Cellranger Results/ALL/AM_OV_noGFP/filtered_feature_bc_matrix',\n",
    "    \n",
    "    # Satellite cell depleted data and control    \n",
    "    'V1': 'P:/Tolulope/Cellranger Results/ALL/v1/outs/filtered_feature_bc_matrix',\n",
    "    'V2': 'P:/Tolulope/Cellranger Results/ALL/v2/outs/filtered_feature_bc_matrix',\n",
    "    'T1': 'P:/Tolulope/Cellranger Results/ALL/t1/outs/filtered_feature_bc_matrix',\n",
    "    'T2': 'P:/Tolulope/Cellranger Results/ALL/t2/outs/filtered_feature_bc_matrix'\n",
    "}\n",
    "\n",
    "\n",
    "# Load AnnData objects\n",
    "adata1 = sc.read_10x_mtx(sample_paths['YSham_GFP'])\n",
    "adata2 = sc.read_10x_mtx(sample_paths['YSham_noGFP'])\n",
    "adata3 = sc.read_10x_mtx(sample_paths['YOV_GFP'])\n",
    "adata4 = sc.read_10x_mtx(sample_paths['YOV_noGFP'])\n",
    "adata5 = sc.read_10x_mtx(sample_paths['ASham_GFP'])\n",
    "adata6 = sc.read_10x_mtx(sample_paths['ASham_noGFP'])\n",
    "adata7 = sc.read_10x_mtx(sample_paths['AOV_GFP'])\n",
    "adata8 = sc.read_10x_mtx(sample_paths['AOV_noGFP'])\n",
    "adata9 = sc.read_10x_mtx(sample_paths['V1'])\n",
    "adata10 = sc.read_10x_mtx(sample_paths['V2'])\n",
    "adata11 = sc.read_10x_mtx(sample_paths['T1'])\n",
    "adata12 = sc.read_10x_mtx(sample_paths['T2'])"
   ]
  },
  {
   "cell_type": "code",
   "execution_count": null,
   "id": "e01fb71c-438c-4d09-8138-4769518cae56",
   "metadata": {},
   "outputs": [],
   "source": [
    "sc.pp.filter_genes(adata1, min_cells = 10)\n",
    "sc.pp.highly_variable_genes(adata1, n_top_genes = 3000, subset = True, flavor = 'seurat_v3')"
   ]
  },
  {
   "cell_type": "code",
   "execution_count": null,
   "id": "823b0adb-d5e5-47a0-b42b-16dd7c06bd93",
   "metadata": {},
   "outputs": [],
   "source": [
    "scvi.model.SCVI.setup_anndata(adata1)\n",
    "vae = scvi.model.SCVI(adata1)\n",
    "vae.train()"
   ]
  },
  {
   "cell_type": "code",
   "execution_count": null,
   "id": "a65c50ce-45a5-4b62-b99b-282a37e332dd",
   "metadata": {},
   "outputs": [],
   "source": [
    "solo = scvi.external.SOLO.from_scvi_model(vae)\n",
    "solo.train()\n",
    "solo.predict()"
   ]
  },
  {
   "cell_type": "code",
   "execution_count": null,
   "id": "14a1499b-be23-4093-ac30-5c87b2fc1cdc",
   "metadata": {},
   "outputs": [],
   "source": [
    "df = solo.predict()\n",
    "df['prediction'] = solo.predict(soft = False)\n",
    "\n",
    "df"
   ]
  },
  {
   "cell_type": "code",
   "execution_count": null,
   "id": "d86c980b-895f-42d2-9653-9c4faf9ae36c",
   "metadata": {},
   "outputs": [],
   "source": [
    "df.groupby('prediction').count()"
   ]
  },
  {
   "cell_type": "code",
   "execution_count": null,
   "id": "c94525c8-6bc4-4180-a2c4-54b391a16d5b",
   "metadata": {},
   "outputs": [],
   "source": [
    "df['dif'] = df.doublet - df.singlet\n",
    "df"
   ]
  },
  {
   "cell_type": "code",
   "execution_count": null,
   "id": "e18f92f4-2d37-44d2-ad14-5e8f818e2819",
   "metadata": {},
   "outputs": [],
   "source": [
    "sns.displot(df[df.prediction == 'doublet'], x = 'dif')"
   ]
  },
  {
   "cell_type": "code",
   "execution_count": null,
   "id": "a2fbc9bc-0a15-4bd1-b0d4-0c55027ddbcd",
   "metadata": {},
   "outputs": [],
   "source": [
    "doublets = df[(df.prediction == 'doublet') & (df.dif > 1)]\n",
    "doublets"
   ]
  },
  {
   "cell_type": "code",
   "execution_count": null,
   "id": "ce757d61-5b16-4653-a880-6542dfe36a3a",
   "metadata": {},
   "outputs": [],
   "source": [
    "# Define sample paths\n",
    "sample_paths = {\n",
    "    'YSham_GFP': 'Y:/Tolulope/Cellranger Results/ALL/YM_Sham_GFP/filtered_feature_bc_matrix',\n",
    "    \n",
    "}\n",
    "\n",
    "# Load AnnData objects\n",
    "adata1 = sc.read_10x_mtx(sample_paths['YSham_GFP'])\n",
    "adata1.obs"
   ]
  },
  {
   "cell_type": "code",
   "execution_count": null,
   "id": "eea644af-a545-418d-a35f-8ac8fa4b4163",
   "metadata": {},
   "outputs": [],
   "source": [
    "adata1.obs['doublet'] = adata1.obs.index.isin(doublets.index) \n",
    "adata1.obs"
   ]
  },
  {
   "cell_type": "code",
   "execution_count": null,
   "id": "3c8c9992-c9f7-4037-acac-e3275f2ff7bb",
   "metadata": {},
   "outputs": [],
   "source": [
    "adata1 = adata1[~adata1.obs.doublet]\n",
    "adata1"
   ]
  },
  {
   "cell_type": "code",
   "execution_count": null,
   "id": "8e6d4edd-c605-438a-bf5c-cddd1bb48915",
   "metadata": {},
   "outputs": [],
   "source": [
    "#sample 2\n",
    "sc.pp.filter_genes(adata2, min_cells = 10)\n",
    "adata2"
   ]
  },
  {
   "cell_type": "code",
   "execution_count": null,
   "id": "b6c38dd5-28ff-4091-8d16-b9e80df39775",
   "metadata": {},
   "outputs": [],
   "source": [
    "sc.pp.highly_variable_genes(adata2, n_top_genes = 3000, subset = True, flavor = 'seurat_v3')"
   ]
  },
  {
   "cell_type": "code",
   "execution_count": null,
   "id": "6a87a0d8-3e8d-4f99-a433-eb73ba7495c8",
   "metadata": {},
   "outputs": [],
   "source": [
    "scvi.model.SCVI.setup_anndata(adata2)\n",
    "vae = scvi.model.SCVI(adata2)\n",
    "vae.train()"
   ]
  },
  {
   "cell_type": "code",
   "execution_count": null,
   "id": "6225a983-cb8d-45f7-8d53-787c0a5ae7a5",
   "metadata": {},
   "outputs": [],
   "source": [
    "solo = scvi.external.SOLO.from_scvi_model(vae)\n",
    "solo.train()\n",
    "solo.predict()"
   ]
  },
  {
   "cell_type": "code",
   "execution_count": null,
   "id": "a50fc522-b521-420e-bef7-1dc4a80884d0",
   "metadata": {},
   "outputs": [],
   "source": [
    "df = solo.predict()\n",
    "df['prediction'] = solo.predict(soft = False)\n",
    "df"
   ]
  },
  {
   "cell_type": "code",
   "execution_count": null,
   "id": "775c8080-a213-448e-b73e-bdf8a5b0dd32",
   "metadata": {},
   "outputs": [],
   "source": [
    "df.groupby('prediction').count()"
   ]
  },
  {
   "cell_type": "code",
   "execution_count": null,
   "id": "10b5645e-e78d-4ba9-800b-bd08a0ca6ef5",
   "metadata": {},
   "outputs": [],
   "source": [
    "df['dif'] = df.doublet - df.singlet\n",
    "df"
   ]
  },
  {
   "cell_type": "code",
   "execution_count": null,
   "id": "6ca7e159-137c-4201-84f2-f4436ebc8ea6",
   "metadata": {},
   "outputs": [],
   "source": [
    "sns.displot(df[df.prediction == 'doublet'], x = 'dif')"
   ]
  },
  {
   "cell_type": "code",
   "execution_count": null,
   "id": "937c244c-a926-401b-9b53-5a8acb1396d1",
   "metadata": {},
   "outputs": [],
   "source": [
    "doublets = df[(df.prediction == 'doublet') & (df.dif > 0.8)]\n",
    "doublets"
   ]
  },
  {
   "cell_type": "code",
   "execution_count": null,
   "id": "9125add6-26a9-4a7a-875b-da6aa33f6bf3",
   "metadata": {},
   "outputs": [],
   "source": [
    "# Define sample paths\n",
    "sample_paths = {\n",
    "    'YSham_noGFP':'Y:/Tolulope/Cellranger Results/ALL/YM_Sham_noGFP/filtered_feature_bc_matrix',\n",
    "    \n",
    "}\n",
    "\n",
    "# Load AnnData objects\n",
    "\n",
    "adata2 = sc.read_10x_mtx(sample_paths['YSham_noGFP'])\n",
    "adata2.obs"
   ]
  },
  {
   "cell_type": "code",
   "execution_count": null,
   "id": "393cdbe6-8bed-4a09-990c-e6b7344c3136",
   "metadata": {},
   "outputs": [],
   "source": [
    "adata2.obs['doublet'] = adata2.obs.index.isin(doublets.index) \n",
    "adata2.obs"
   ]
  },
  {
   "cell_type": "code",
   "execution_count": null,
   "id": "a8c6300c-7bff-456d-ab04-7d5480c16493",
   "metadata": {},
   "outputs": [],
   "source": [
    "adata2 = adata2[~adata2.obs.doublet]\n",
    "adata2"
   ]
  },
  {
   "cell_type": "code",
   "execution_count": null,
   "id": "4a236ceb-a8a8-4c56-85f1-3452fbb20722",
   "metadata": {},
   "outputs": [],
   "source": [
    "#sample 3\n",
    "sc.pp.filter_genes(adata3, min_cells = 10)\n",
    "adata3"
   ]
  },
  {
   "cell_type": "code",
   "execution_count": null,
   "id": "587e8528-6283-4465-9b7a-671c49c91181",
   "metadata": {},
   "outputs": [],
   "source": [
    "sc.pp.highly_variable_genes(adata3, n_top_genes = 3000, subset = True, flavor = 'seurat_v3')"
   ]
  },
  {
   "cell_type": "code",
   "execution_count": null,
   "id": "7a04d399-8f4a-4183-86f0-b304cdeb0a3a",
   "metadata": {},
   "outputs": [],
   "source": [
    "scvi.model.SCVI.setup_anndata(adata3)\n",
    "vae = scvi.model.SCVI(adata3)\n",
    "vae.train()\n"
   ]
  },
  {
   "cell_type": "code",
   "execution_count": null,
   "id": "dbedc667-6a2a-4b57-9fb9-3524a56df885",
   "metadata": {},
   "outputs": [],
   "source": [
    "solo = scvi.external.SOLO.from_scvi_model(vae)\n",
    "solo.train()\n",
    "solo.predict()"
   ]
  },
  {
   "cell_type": "code",
   "execution_count": null,
   "id": "536749c6-70f8-454a-94b1-d7dbfc156e13",
   "metadata": {},
   "outputs": [],
   "source": [
    "df = solo.predict()\n",
    "df['prediction'] = solo.predict(soft = False)\n",
    "df"
   ]
  },
  {
   "cell_type": "code",
   "execution_count": null,
   "id": "b5b3cfd6-7a9b-4601-a24b-c4c4975d8b7a",
   "metadata": {},
   "outputs": [],
   "source": [
    "df.groupby('prediction').count()"
   ]
  },
  {
   "cell_type": "code",
   "execution_count": null,
   "id": "17d8a741-9680-4266-b3e0-b50226b58b73",
   "metadata": {},
   "outputs": [],
   "source": [
    "df['dif'] = df.doublet - df.singlet\n",
    "df"
   ]
  },
  {
   "cell_type": "code",
   "execution_count": null,
   "id": "c816e407-c9c3-45b3-8e16-7ac4032e3d99",
   "metadata": {},
   "outputs": [],
   "source": [
    "sns.displot(df[df.prediction == 'doublet'], x = 'dif')"
   ]
  },
  {
   "cell_type": "code",
   "execution_count": null,
   "id": "a668140b-17f2-447c-8a2e-125211714fe9",
   "metadata": {},
   "outputs": [],
   "source": [
    "doublets = df[(df.prediction == 'doublet') & (df.dif > 1)]\n",
    "doublets"
   ]
  },
  {
   "cell_type": "code",
   "execution_count": null,
   "id": "227f23a7-7139-4851-bee4-b7166c7f24fb",
   "metadata": {},
   "outputs": [],
   "source": [
    "# Define sample paths\n",
    "sample_paths = {\n",
    "    'YOV_GFP': 'Y:/Tolulope/Cellranger Results/ALL/YM_OV_GFP/filtered_feature_bc_matrix',\n",
    "    \n",
    "}\n",
    "\n",
    "# Load AnnData objects\n",
    "\n",
    "adata3 = sc.read_10x_mtx(sample_paths['YOV_GFP'])\n",
    "adata3.obs"
   ]
  },
  {
   "cell_type": "code",
   "execution_count": null,
   "id": "bed1f874-e618-4b07-929b-0b10a074c7e6",
   "metadata": {},
   "outputs": [],
   "source": [
    "adata3.obs['doublet'] = adata3.obs.index.isin(doublets.index) \n",
    "adata3.obs"
   ]
  },
  {
   "cell_type": "code",
   "execution_count": null,
   "id": "8126cb41-421a-4a75-bd84-7d339c2bc376",
   "metadata": {},
   "outputs": [],
   "source": [
    "adata3 = adata3[~adata3.obs.doublet]\n",
    "adata3"
   ]
  },
  {
   "cell_type": "code",
   "execution_count": null,
   "id": "ab8fab49-eba6-41c7-a18d-910f5e57c20e",
   "metadata": {},
   "outputs": [],
   "source": [
    "#sample 4\n",
    "sc.pp.filter_genes(adata4, min_cells = 10)\n",
    "adata4"
   ]
  },
  {
   "cell_type": "code",
   "execution_count": null,
   "id": "e9fae126-905b-4e30-bebc-44d13c5a8fb1",
   "metadata": {},
   "outputs": [],
   "source": [
    "sc.pp.highly_variable_genes(adata4, n_top_genes = 3000, subset = True, flavor = 'seurat_v3')"
   ]
  },
  {
   "cell_type": "code",
   "execution_count": null,
   "id": "717cac8a-964e-4c29-8434-cecc58a6b77e",
   "metadata": {},
   "outputs": [],
   "source": [
    "scvi.model.SCVI.setup_anndata(adata4)\n",
    "vae = scvi.model.SCVI(adata4)\n",
    "vae.train()"
   ]
  },
  {
   "cell_type": "code",
   "execution_count": null,
   "id": "3848ce66-4fb4-4594-9baf-edd548c1e8e5",
   "metadata": {},
   "outputs": [],
   "source": [
    "solo = scvi.external.SOLO.from_scvi_model(vae)\n",
    "solo.train()\n",
    "solo.predict()"
   ]
  },
  {
   "cell_type": "code",
   "execution_count": null,
   "id": "51e3de79-9d80-4e9b-9458-9d74a40e35e5",
   "metadata": {},
   "outputs": [],
   "source": [
    "df = solo.predict()\n",
    "df['prediction'] = solo.predict(soft = False)\n",
    "df"
   ]
  },
  {
   "cell_type": "code",
   "execution_count": null,
   "id": "2da73e03-00c1-43eb-af51-91031709f166",
   "metadata": {},
   "outputs": [],
   "source": [
    "df.groupby('prediction').count()"
   ]
  },
  {
   "cell_type": "code",
   "execution_count": null,
   "id": "d66a4bcc-4081-489e-8e29-48b98b8dabe0",
   "metadata": {},
   "outputs": [],
   "source": [
    "df['dif'] = df.doublet - df.singlet\n",
    "df"
   ]
  },
  {
   "cell_type": "code",
   "execution_count": null,
   "id": "39126b4e-b993-473f-bd56-81ba31e969f0",
   "metadata": {},
   "outputs": [],
   "source": [
    "sns.displot(df[df.prediction == 'doublet'], x = 'dif')"
   ]
  },
  {
   "cell_type": "code",
   "execution_count": null,
   "id": "85226601-b6df-4b5a-9c63-3e5bcf37743a",
   "metadata": {},
   "outputs": [],
   "source": [
    "doublets = df[(df.prediction == 'doublet') & (df.dif > 1)]\n",
    "doublets"
   ]
  },
  {
   "cell_type": "code",
   "execution_count": null,
   "id": "3e4293ac-6dae-4aac-9c16-2d613802e2e5",
   "metadata": {},
   "outputs": [],
   "source": [
    "# Define sample paths\n",
    "sample_paths = {\n",
    "    'YOV_noGFP': 'Y:/Tolulope/Cellranger Results/ALL/YM_OV_noGFP/filtered_feature_bc_matrix',\n",
    "    \n",
    "}\n",
    "\n",
    "# Load AnnData objects\n",
    "\n",
    "adata4 = sc.read_10x_mtx(sample_paths['YOV_noGFP'])\n",
    "adata4.obs"
   ]
  },
  {
   "cell_type": "code",
   "execution_count": null,
   "id": "e6f0664e-5b59-4fb7-95fe-13191fb517a9",
   "metadata": {},
   "outputs": [],
   "source": [
    "adata4.obs['doublet'] = adata4.obs.index.isin(doublets.index) \n",
    "adata4.obs"
   ]
  },
  {
   "cell_type": "code",
   "execution_count": null,
   "id": "ebb7c758-ab1f-4d4f-bce8-0c6b0b5d4ac4",
   "metadata": {},
   "outputs": [],
   "source": [
    "adata4 = adata4[~adata4.obs.doublet]\n",
    "adata4"
   ]
  },
  {
   "cell_type": "code",
   "execution_count": null,
   "id": "f1d1f107-a7f0-4245-a183-c91ee3dd659f",
   "metadata": {},
   "outputs": [],
   "source": [
    "#SAMPLE5\n",
    "sc.pp.filter_genes(adata5, min_cells = 10)\n",
    "sc.pp.highly_variable_genes(adata5, n_top_genes = 3000, subset = True, flavor = 'seurat_v3')"
   ]
  },
  {
   "cell_type": "code",
   "execution_count": null,
   "id": "5f656014-335b-4df4-9f8f-c6fa5217ffb8",
   "metadata": {},
   "outputs": [],
   "source": [
    "scvi.model.SCVI.setup_anndata(adata5)\n",
    "vae = scvi.model.SCVI(adata5)\n",
    "vae.train()\n"
   ]
  },
  {
   "cell_type": "code",
   "execution_count": null,
   "id": "d25bcc69-c8d6-4713-b926-7b27d67d9e66",
   "metadata": {},
   "outputs": [],
   "source": [
    "solo = scvi.external.SOLO.from_scvi_model(vae)\n",
    "solo.train()\n",
    "solo.predict()"
   ]
  },
  {
   "cell_type": "code",
   "execution_count": null,
   "id": "092005b5-a3f9-4ad4-ada3-956e8d530368",
   "metadata": {},
   "outputs": [],
   "source": [
    "df = solo.predict()\n",
    "df['prediction'] = solo.predict(soft = False)\n",
    "\n",
    "df"
   ]
  },
  {
   "cell_type": "code",
   "execution_count": null,
   "id": "d278adc1-7d06-4195-8423-0bd9f257fc77",
   "metadata": {},
   "outputs": [],
   "source": [
    "df.groupby('prediction').count()"
   ]
  },
  {
   "cell_type": "code",
   "execution_count": null,
   "id": "16ce6c74-5f27-4b9f-8cbb-142f69a5b1a4",
   "metadata": {},
   "outputs": [],
   "source": [
    "df['dif'] = df.doublet - df.singlet\n",
    "df"
   ]
  },
  {
   "cell_type": "code",
   "execution_count": null,
   "id": "31461daa-e55c-411e-a223-6bbb72bfa34f",
   "metadata": {},
   "outputs": [],
   "source": [
    "sns.displot(df[df.prediction == 'doublet'], x = 'dif')"
   ]
  },
  {
   "cell_type": "code",
   "execution_count": null,
   "id": "78e6538a-9a89-4311-9e79-1196a4ace87c",
   "metadata": {},
   "outputs": [],
   "source": [
    "doublets = df[(df.prediction == 'doublet') & (df.dif > 0.8)]\n",
    "doublets"
   ]
  },
  {
   "cell_type": "code",
   "execution_count": null,
   "id": "545305ab-86e9-4f38-846b-3c2cf890999d",
   "metadata": {},
   "outputs": [],
   "source": [
    "# Define sample paths\n",
    "sample_paths = {\n",
    "    'ASham_GFP': 'Y:/Tolulope/Cellranger Results/ALL/AM_Sham_GFP/filtered_feature_bc_matrix',\n",
    "    \n",
    "}\n",
    "\n",
    "# Load AnnData objects\n",
    "\n",
    "adata5 = sc.read_10x_mtx(sample_paths['ASham_GFP'])\n",
    "adata5.obs"
   ]
  },
  {
   "cell_type": "code",
   "execution_count": null,
   "id": "34968340-3f68-47ee-959b-fc942a352fc7",
   "metadata": {},
   "outputs": [],
   "source": [
    "adata5.obs['doublet'] = adata5.obs.index.isin(doublets.index) \n",
    "adata5.obs"
   ]
  },
  {
   "cell_type": "code",
   "execution_count": null,
   "id": "c63c6132-fc93-4c56-8c6b-6373009b295a",
   "metadata": {},
   "outputs": [],
   "source": [
    "adata5 = adata5[~adata5.obs.doublet]\n",
    "adata5"
   ]
  },
  {
   "cell_type": "code",
   "execution_count": null,
   "id": "0be3def2-236f-43ce-ac30-87d56754d4f2",
   "metadata": {},
   "outputs": [],
   "source": [
    "#sample 6\n",
    "sc.pp.filter_genes(adata6, min_cells = 10)\n",
    "sc.pp.highly_variable_genes(adata6, n_top_genes = 3000, subset = True, flavor = 'seurat_v3')"
   ]
  },
  {
   "cell_type": "code",
   "execution_count": null,
   "id": "e04a35c8-57a7-44ac-b37a-2919b456b59e",
   "metadata": {},
   "outputs": [],
   "source": [
    "scvi.model.SCVI.setup_anndata(adata6)\n",
    "vae = scvi.model.SCVI(adata6)\n",
    "vae.train()\n"
   ]
  },
  {
   "cell_type": "code",
   "execution_count": null,
   "id": "20dee70a-956c-4d1c-81b8-32eea94af168",
   "metadata": {},
   "outputs": [],
   "source": [
    "solo = scvi.external.SOLO.from_scvi_model(vae)\n",
    "solo.train()\n",
    "solo.predict()"
   ]
  },
  {
   "cell_type": "code",
   "execution_count": null,
   "id": "2238d924-4521-4829-b0e4-e59fb3a3f883",
   "metadata": {},
   "outputs": [],
   "source": [
    "df = solo.predict()\n",
    "df['prediction'] = solo.predict(soft = False)\n",
    "\n",
    "df"
   ]
  },
  {
   "cell_type": "code",
   "execution_count": null,
   "id": "7071640a-0c27-4906-acab-d98bae0250e5",
   "metadata": {},
   "outputs": [],
   "source": [
    "df.groupby('prediction').count()"
   ]
  },
  {
   "cell_type": "code",
   "execution_count": null,
   "id": "ac64e1ac-73b6-4000-80e2-44aa3388584d",
   "metadata": {},
   "outputs": [],
   "source": [
    "df['dif'] = df.doublet - df.singlet\n",
    "df"
   ]
  },
  {
   "cell_type": "code",
   "execution_count": null,
   "id": "0b5f6b69-8279-4528-b38a-d39128145b73",
   "metadata": {},
   "outputs": [],
   "source": [
    "sns.displot(df[df.prediction == 'doublet'], x = 'dif')"
   ]
  },
  {
   "cell_type": "code",
   "execution_count": null,
   "id": "660a40bd-8bbe-4607-b0fc-f4797a48a872",
   "metadata": {},
   "outputs": [],
   "source": [
    "doublets = df[(df.prediction == 'doublet') & (df.dif > 1.2)]\n",
    "doublets"
   ]
  },
  {
   "cell_type": "code",
   "execution_count": null,
   "id": "1f142556-93ac-4e30-a4d0-0041d73b7b67",
   "metadata": {},
   "outputs": [],
   "source": [
    "# Define sample paths\n",
    "sample_paths = {\n",
    "    \n",
    "    'ASham_noGFP':'Y:/Tolulope/Cellranger Results/ALL/AM_Sham_noGFP/filtered_feature_bc_matrix',\n",
    "    \n",
    "}\n",
    "\n",
    "# Load AnnData objects\n",
    "\n",
    "adata6 = sc.read_10x_mtx(sample_paths['ASham_noGFP'])\n",
    "adata6.obs"
   ]
  },
  {
   "cell_type": "code",
   "execution_count": null,
   "id": "02a6e4f0-f95e-4eef-9ed9-7b6e3fe35160",
   "metadata": {},
   "outputs": [],
   "source": [
    "adata6.obs['doublet'] = adata6.obs.index.isin(doublets.index) \n",
    "adata6.obs"
   ]
  },
  {
   "cell_type": "code",
   "execution_count": null,
   "id": "2e5926e6-d06e-4545-a722-b89afb1a3df4",
   "metadata": {},
   "outputs": [],
   "source": [
    "adata6 = adata6[~adata6.obs.doublet]\n",
    "adata6"
   ]
  },
  {
   "cell_type": "code",
   "execution_count": null,
   "id": "7f627e17-8bc0-42b2-a7cc-59c6763053d9",
   "metadata": {},
   "outputs": [],
   "source": [
    "#sample 7\n",
    "sc.pp.filter_genes(adata7, min_cells = 10)\n",
    "sc.pp.highly_variable_genes(adata7, n_top_genes = 3000, subset = True, flavor = 'seurat_v3')"
   ]
  },
  {
   "cell_type": "code",
   "execution_count": null,
   "id": "ead946a1-057d-41f1-abc7-1983916e917b",
   "metadata": {},
   "outputs": [],
   "source": [
    "scvi.model.SCVI.setup_anndata(adata7)\n",
    "vae = scvi.model.SCVI(adata7)\n",
    "vae.train()\n"
   ]
  },
  {
   "cell_type": "code",
   "execution_count": null,
   "id": "9f88020f-2a24-4d8c-a2f8-7a8fcb4283c4",
   "metadata": {},
   "outputs": [],
   "source": [
    "solo = scvi.external.SOLO.from_scvi_model(vae)\n",
    "solo.train()\n",
    "solo.predict()"
   ]
  },
  {
   "cell_type": "code",
   "execution_count": null,
   "id": "3d103c3f-2a61-4068-aae4-506460172382",
   "metadata": {},
   "outputs": [],
   "source": [
    "df = solo.predict()\n",
    "df['prediction'] = solo.predict(soft = False)\n",
    "\n",
    "df"
   ]
  },
  {
   "cell_type": "code",
   "execution_count": null,
   "id": "e4028f96-eef2-4a24-a66e-40920534128e",
   "metadata": {},
   "outputs": [],
   "source": [
    "df.groupby('prediction').count()"
   ]
  },
  {
   "cell_type": "code",
   "execution_count": null,
   "id": "a954c60e-26e1-4f7a-96b0-6028843859c1",
   "metadata": {},
   "outputs": [],
   "source": [
    "df['dif'] = df.doublet - df.singlet\n",
    "df"
   ]
  },
  {
   "cell_type": "code",
   "execution_count": null,
   "id": "6101b40d-f4ff-4a22-b01a-61b719defb9e",
   "metadata": {},
   "outputs": [],
   "source": [
    "sns.displot(df[df.prediction == 'doublet'], x = 'dif')"
   ]
  },
  {
   "cell_type": "code",
   "execution_count": null,
   "id": "878a6440-9050-4484-9d6e-6487e58001d6",
   "metadata": {},
   "outputs": [],
   "source": [
    "doublets = df[(df.prediction == 'doublet') & (df.dif > 1)]\n",
    "doublets"
   ]
  },
  {
   "cell_type": "code",
   "execution_count": null,
   "id": "f589ea7d-947a-4b36-95c4-367485cdfa61",
   "metadata": {},
   "outputs": [],
   "source": [
    "# Define sample paths\n",
    "sample_paths = {\n",
    "    'AOV_GFP': 'Y:/Tolulope/Cellranger Results/ALL/AM_OV_GFP/filtered_feature_bc_matrix',\n",
    "    \n",
    "}\n",
    "\n",
    "# Load AnnData objects\n",
    "\n",
    "adata7 = sc.read_10x_mtx(sample_paths['AOV_GFP'])\n",
    "adata7.obs"
   ]
  },
  {
   "cell_type": "code",
   "execution_count": null,
   "id": "5714cc7b-2280-4bca-a232-10023f14ca44",
   "metadata": {},
   "outputs": [],
   "source": [
    "adata7.obs['doublet'] = adata7.obs.index.isin(doublets.index) \n",
    "adata7.obs"
   ]
  },
  {
   "cell_type": "code",
   "execution_count": null,
   "id": "a2e6020d-e410-4720-a73a-ecaa585dc05d",
   "metadata": {},
   "outputs": [],
   "source": [
    "adata7 = adata7[~adata7.obs.doublet]\n",
    "adata7"
   ]
  },
  {
   "cell_type": "code",
   "execution_count": null,
   "id": "73265f7a-2294-493a-9890-67216d07138c",
   "metadata": {},
   "outputs": [],
   "source": [
    "#sample8\n",
    "sc.pp.filter_genes(adata8, min_cells = 10)\n",
    "sc.pp.highly_variable_genes(adata8, n_top_genes = 3000, subset = True, flavor = 'seurat_v3')"
   ]
  },
  {
   "cell_type": "code",
   "execution_count": null,
   "id": "f2efdbb7-46a0-4b78-b792-d961f1a5d1f0",
   "metadata": {},
   "outputs": [],
   "source": [
    "scvi.model.SCVI.setup_anndata(adata8)\n",
    "vae = scvi.model.SCVI(adata8)\n",
    "vae.train()\n"
   ]
  },
  {
   "cell_type": "code",
   "execution_count": null,
   "id": "28682ac6-1abb-48d6-8ac9-011258892457",
   "metadata": {},
   "outputs": [],
   "source": [
    "solo = scvi.external.SOLO.from_scvi_model(vae)\n",
    "solo.train()\n",
    "solo.predict()"
   ]
  },
  {
   "cell_type": "code",
   "execution_count": null,
   "id": "6afda2f9-6c07-49ab-b7b8-8eefe2792088",
   "metadata": {},
   "outputs": [],
   "source": [
    "df = solo.predict()\n",
    "df['prediction'] = solo.predict(soft = False)\n",
    "\n",
    "df"
   ]
  },
  {
   "cell_type": "code",
   "execution_count": null,
   "id": "a2c06d20-9f1d-4073-8b43-fbbe48571634",
   "metadata": {},
   "outputs": [],
   "source": [
    "df.groupby('prediction').count()"
   ]
  },
  {
   "cell_type": "code",
   "execution_count": null,
   "id": "c568315d-d3da-4065-9566-b8b5e49351fb",
   "metadata": {},
   "outputs": [],
   "source": [
    "df['dif'] = df.doublet - df.singlet\n",
    "df"
   ]
  },
  {
   "cell_type": "code",
   "execution_count": null,
   "id": "3b0ccbc9-64c1-40ae-9f32-fb4e9d474960",
   "metadata": {},
   "outputs": [],
   "source": [
    "sns.displot(df[df.prediction == 'doublet'], x = 'dif')"
   ]
  },
  {
   "cell_type": "code",
   "execution_count": null,
   "id": "bc55ade0-2395-4ae3-b0c0-e29d9a77e76e",
   "metadata": {},
   "outputs": [],
   "source": [
    "doublets = df[(df.prediction == 'doublet') & (df.dif > 1)]\n",
    "doublets"
   ]
  },
  {
   "cell_type": "code",
   "execution_count": null,
   "id": "0a7834f1-0ce0-4e5d-9aed-1d0898aa343c",
   "metadata": {},
   "outputs": [],
   "source": [
    "# Define sample paths\n",
    "sample_paths = {\n",
    "    'AOV_noGFP': 'Y:/Tolulope/Cellranger Results/ALL/AM_OV_noGFP/filtered_feature_bc_matrix',\n",
    "    \n",
    "}\n",
    "\n",
    "# Load AnnData objects\n",
    "\n",
    "adata8 = sc.read_10x_mtx(sample_paths['AOV_noGFP'])\n",
    "adata8.obs"
   ]
  },
  {
   "cell_type": "code",
   "execution_count": null,
   "id": "79a496ec-d4a1-486a-b639-893cabbc373e",
   "metadata": {},
   "outputs": [],
   "source": [
    "adata8.obs['doublet'] = adata8.obs.index.isin(doublets.index) \n",
    "adata8.obs"
   ]
  },
  {
   "cell_type": "code",
   "execution_count": null,
   "id": "da111699-834c-4c41-9dc1-fe8578e9a2c6",
   "metadata": {},
   "outputs": [],
   "source": [
    "adata8 = adata8[~adata8.obs.doublet]\n",
    "adata8"
   ]
  },
  {
   "cell_type": "code",
   "execution_count": null,
   "id": "4948d339-1a34-4f41-9d68-0fa290af2f2b",
   "metadata": {},
   "outputs": [],
   "source": [
    "#sample 9\n",
    "sc.pp.filter_genes(adata9, min_cells = 10)\n",
    "sc.pp.highly_variable_genes(adata9, n_top_genes = 3000, subset = True, flavor = 'seurat_v3')"
   ]
  },
  {
   "cell_type": "code",
   "execution_count": null,
   "id": "2a772270-0af1-4d9a-84f0-a6ff420110c8",
   "metadata": {},
   "outputs": [],
   "source": [
    "scvi.model.SCVI.setup_anndata(adata9)\n",
    "vae = scvi.model.SCVI(adata9)\n",
    "vae.train()\n"
   ]
  },
  {
   "cell_type": "code",
   "execution_count": null,
   "id": "6e9c6b6e-9986-4f42-92e0-a5fffb5d3f8c",
   "metadata": {},
   "outputs": [],
   "source": [
    "solo = scvi.external.SOLO.from_scvi_model(vae)\n",
    "solo.train()\n",
    "solo.predict()"
   ]
  },
  {
   "cell_type": "code",
   "execution_count": null,
   "id": "d9fdbdc2-f34a-4f32-a2f1-fce29bb95db2",
   "metadata": {},
   "outputs": [],
   "source": [
    "df = solo.predict()\n",
    "df['prediction'] = solo.predict(soft = False)\n",
    "df"
   ]
  },
  {
   "cell_type": "code",
   "execution_count": null,
   "id": "afde8347-077f-45bb-96f2-6609c49b5cb1",
   "metadata": {},
   "outputs": [],
   "source": [
    "df.groupby('prediction').count()"
   ]
  },
  {
   "cell_type": "code",
   "execution_count": null,
   "id": "1e1a3bbd-ead4-4e00-8b9a-c419836df57d",
   "metadata": {},
   "outputs": [],
   "source": [
    "df['dif'] = df.doublet - df.singlet\n",
    "df"
   ]
  },
  {
   "cell_type": "code",
   "execution_count": null,
   "id": "115772ab-3fb8-483c-b491-f87917e48a8e",
   "metadata": {},
   "outputs": [],
   "source": [
    "sns.displot(df[df.prediction == 'doublet'], x = 'dif')"
   ]
  },
  {
   "cell_type": "code",
   "execution_count": null,
   "id": "0cd1ba97-0ffd-4bf3-8eb8-cd4c8f4ce71c",
   "metadata": {},
   "outputs": [],
   "source": [
    "doublets = df[(df.prediction == 'doublet') & (df.dif > 1)]\n",
    "doublets"
   ]
  },
  {
   "cell_type": "code",
   "execution_count": null,
   "id": "9f187b89-f8b3-487a-b171-9dc3fe376072",
   "metadata": {},
   "outputs": [],
   "source": [
    "# Define sample paths\n",
    "sample_paths = {\n",
    "    'V1': 'Y:/Tolulope/Cellranger Results/ALL/v1/outs/filtered_feature_bc_matrix',\n",
    "    \n",
    "}\n",
    "\n",
    "# Load AnnData objects\n",
    "\n",
    "adata9 = sc.read_10x_mtx(sample_paths['V1'])\n",
    "adata9.obs"
   ]
  },
  {
   "cell_type": "code",
   "execution_count": null,
   "id": "16d27bde-1b2a-4997-b835-5466a16e8f96",
   "metadata": {},
   "outputs": [],
   "source": [
    "adata9.obs['doublet'] = adata9.obs.index.isin(doublets.index) \n",
    "adata9.obs"
   ]
  },
  {
   "cell_type": "code",
   "execution_count": null,
   "id": "e2b83876-c2bb-4f95-8d12-8858d9dcb9bd",
   "metadata": {},
   "outputs": [],
   "source": [
    "adata9 = adata9[~adata9.obs.doublet]\n",
    "adata9"
   ]
  },
  {
   "cell_type": "code",
   "execution_count": null,
   "id": "a29d61e5-e984-4e9b-899d-6a45ea297a3e",
   "metadata": {},
   "outputs": [],
   "source": [
    "#sample10\n",
    "sc.pp.filter_genes(adata10, min_cells = 10)\n",
    "sc.pp.highly_variable_genes(adata10, n_top_genes = 3000, subset = True, flavor = 'seurat_v3')"
   ]
  },
  {
   "cell_type": "code",
   "execution_count": null,
   "id": "5b33ea9d-bd94-481c-8d25-a77bcf7a24b7",
   "metadata": {},
   "outputs": [],
   "source": [
    "scvi.model.SCVI.setup_anndata(adata10)\n",
    "vae = scvi.model.SCVI(adata10)\n",
    "vae.train()"
   ]
  },
  {
   "cell_type": "code",
   "execution_count": null,
   "id": "6d62117d-dcf4-4021-b76c-e20d08405871",
   "metadata": {},
   "outputs": [],
   "source": [
    "solo = scvi.external.SOLO.from_scvi_model(vae)\n",
    "solo.train()\n",
    "solo.predict()"
   ]
  },
  {
   "cell_type": "code",
   "execution_count": null,
   "id": "80b32600-d7b6-4483-8e6b-1dbfa863e3e3",
   "metadata": {},
   "outputs": [],
   "source": [
    "df = solo.predict()\n",
    "df['prediction'] = solo.predict(soft = False)\n",
    "df"
   ]
  },
  {
   "cell_type": "code",
   "execution_count": null,
   "id": "6f2e5363-5a74-42c9-9184-80a2ec2bb009",
   "metadata": {},
   "outputs": [],
   "source": [
    "df.groupby('prediction').count()"
   ]
  },
  {
   "cell_type": "code",
   "execution_count": null,
   "id": "17387082-38b0-4272-a690-4f6717f9e0b6",
   "metadata": {},
   "outputs": [],
   "source": [
    "df['dif'] = df.doublet - df.singlet\n",
    "df"
   ]
  },
  {
   "cell_type": "code",
   "execution_count": null,
   "id": "588c49da-cb0a-49a4-967f-26450c0575a4",
   "metadata": {},
   "outputs": [],
   "source": [
    "sns.displot(df[df.prediction == 'doublet'], x = 'dif')"
   ]
  },
  {
   "cell_type": "code",
   "execution_count": null,
   "id": "03b3da9a-c039-401e-b318-2c77fec3f767",
   "metadata": {},
   "outputs": [],
   "source": [
    "doublets = df[(df.prediction == 'doublet') & (df.dif > 1)]\n",
    "doublets"
   ]
  },
  {
   "cell_type": "code",
   "execution_count": null,
   "id": "b6e9abf0-9562-4678-b247-32d3f2513aa2",
   "metadata": {},
   "outputs": [],
   "source": [
    "# Define sample paths\n",
    "sample_paths = {\n",
    "    'V2': 'Y:/Tolulope/Cellranger Results/ALL/v2/outs/filtered_feature_bc_matrix',\n",
    "    \n",
    "}\n",
    "\n",
    "# Load AnnData objects\n",
    "\n",
    "adata10 = sc.read_10x_mtx(sample_paths['V2'])\n",
    "adata10.obs"
   ]
  },
  {
   "cell_type": "code",
   "execution_count": null,
   "id": "09e9488b-88d6-4b5f-a64d-5a3019e32447",
   "metadata": {},
   "outputs": [],
   "source": [
    "adata10.obs['doublet'] = adata10.obs.index.isin(doublets.index) \n",
    "adata10.obs"
   ]
  },
  {
   "cell_type": "code",
   "execution_count": null,
   "id": "8d0cf901-4f50-4e39-910b-ed71efe2f4a0",
   "metadata": {},
   "outputs": [],
   "source": [
    "adata10 = adata10[~adata10.obs.doublet]\n",
    "adata10"
   ]
  },
  {
   "cell_type": "code",
   "execution_count": null,
   "id": "509bda7e-5bb1-4840-a2ea-b510312f50d4",
   "metadata": {},
   "outputs": [],
   "source": [
    "#sample11\n",
    "sc.pp.filter_genes(adata11, min_cells = 10)\n",
    "sc.pp.highly_variable_genes(adata11, n_top_genes = 3000, subset = True, flavor = 'seurat_v3')"
   ]
  },
  {
   "cell_type": "code",
   "execution_count": null,
   "id": "989e7774-c850-42ef-85d5-2a287f5ec35b",
   "metadata": {},
   "outputs": [],
   "source": [
    "scvi.model.SCVI.setup_anndata(adata11)\n",
    "vae = scvi.model.SCVI(adata11)\n",
    "vae.train()"
   ]
  },
  {
   "cell_type": "code",
   "execution_count": null,
   "id": "bd21f325-49b5-4993-8698-f15501ad94b3",
   "metadata": {},
   "outputs": [],
   "source": [
    "solo = scvi.external.SOLO.from_scvi_model(vae)\n",
    "solo.train()\n",
    "solo.predict()"
   ]
  },
  {
   "cell_type": "code",
   "execution_count": null,
   "id": "e00bc382-810d-4d99-bd5e-25505918055b",
   "metadata": {},
   "outputs": [],
   "source": [
    "df = solo.predict()\n",
    "df['prediction'] = solo.predict(soft = False)\n",
    "df"
   ]
  },
  {
   "cell_type": "code",
   "execution_count": null,
   "id": "e700bc36-7990-4a99-8689-3e681cd3a01c",
   "metadata": {},
   "outputs": [],
   "source": [
    "df.groupby('prediction').count()"
   ]
  },
  {
   "cell_type": "code",
   "execution_count": null,
   "id": "ada43b43-853a-42b6-9f66-5f25680c7827",
   "metadata": {},
   "outputs": [],
   "source": [
    "df['dif'] = df.doublet - df.singlet\n",
    "df"
   ]
  },
  {
   "cell_type": "code",
   "execution_count": null,
   "id": "e31d7e31-646a-4bc1-80c5-8e0cae9ee55a",
   "metadata": {},
   "outputs": [],
   "source": [
    "sns.displot(df[df.prediction == 'doublet'], x = 'dif')"
   ]
  },
  {
   "cell_type": "code",
   "execution_count": null,
   "id": "fad5b8ba-cccb-4e1b-99ef-0e8fcd066830",
   "metadata": {},
   "outputs": [],
   "source": [
    "doublets = df[(df.prediction == 'doublet') & (df.dif > 1)]\n",
    "doublets"
   ]
  },
  {
   "cell_type": "code",
   "execution_count": null,
   "id": "1d20bb83-30d4-4d43-8ae5-7e3db1161002",
   "metadata": {},
   "outputs": [],
   "source": [
    "# Define sample paths\n",
    "sample_paths = {\n",
    "    'T1': 'Y:/Tolulope/Cellranger Results/ALL/t1/outs/filtered_feature_bc_matrix',\n",
    "   \n",
    "}\n",
    "\n",
    "# Load AnnData objects\n",
    "\n",
    "adata11 = sc.read_10x_mtx(sample_paths['T1'])\n",
    "adata11.obs"
   ]
  },
  {
   "cell_type": "code",
   "execution_count": null,
   "id": "7d8d5b7b-d0da-4b8a-9150-6858324c984d",
   "metadata": {},
   "outputs": [],
   "source": [
    "adata11.obs['doublet'] = adata11.obs.index.isin(doublets.index) \n",
    "adata11.obs"
   ]
  },
  {
   "cell_type": "code",
   "execution_count": null,
   "id": "71575cb8-cb88-4924-8dc0-2bb9daa7dfdc",
   "metadata": {},
   "outputs": [],
   "source": [
    "adata11 = adata11[~adata11.obs.doublet]\n",
    "adata11"
   ]
  },
  {
   "cell_type": "code",
   "execution_count": null,
   "id": "fb96d085-55de-47b6-b822-047cd97da784",
   "metadata": {},
   "outputs": [],
   "source": [
    "#sample 12\n",
    "sc.pp.filter_genes(adata12, min_cells = 10)\n",
    "sc.pp.highly_variable_genes(adata12, n_top_genes = 3000, subset = True, flavor = 'seurat_v3')"
   ]
  },
  {
   "cell_type": "code",
   "execution_count": null,
   "id": "916c1c6f-fe23-4030-b6d1-a14ebef7d4bc",
   "metadata": {},
   "outputs": [],
   "source": [
    "scvi.model.SCVI.setup_anndata(adata12)\n",
    "vae = scvi.model.SCVI(adata12)\n",
    "vae.train()"
   ]
  },
  {
   "cell_type": "code",
   "execution_count": null,
   "id": "591dd2ee-04e7-472a-a1ed-0d3b8dc2d8ba",
   "metadata": {},
   "outputs": [],
   "source": [
    "solo = scvi.external.SOLO.from_scvi_model(vae)\n",
    "solo.train()\n",
    "solo.predict()"
   ]
  },
  {
   "cell_type": "code",
   "execution_count": null,
   "id": "85a1240c-972e-4320-83c3-58efafa6e805",
   "metadata": {},
   "outputs": [],
   "source": [
    "df = solo.predict()\n",
    "df['prediction'] = solo.predict(soft = False)\n",
    "df"
   ]
  },
  {
   "cell_type": "code",
   "execution_count": null,
   "id": "6e1f42e9-db89-4379-97a2-2f058cde2baf",
   "metadata": {},
   "outputs": [],
   "source": [
    "df.groupby('prediction').count()"
   ]
  },
  {
   "cell_type": "code",
   "execution_count": null,
   "id": "e18b9ad6-2628-42fd-8f77-2946e91e8e53",
   "metadata": {},
   "outputs": [],
   "source": [
    "df['dif'] = df.doublet - df.singlet\n",
    "df"
   ]
  },
  {
   "cell_type": "code",
   "execution_count": null,
   "id": "28edd341-9643-4846-8af4-a0a02544f373",
   "metadata": {},
   "outputs": [],
   "source": [
    "sns.displot(df[df.prediction == 'doublet'], x = 'dif')"
   ]
  },
  {
   "cell_type": "code",
   "execution_count": null,
   "id": "378293f9-b886-4755-b16f-60f1577907d5",
   "metadata": {},
   "outputs": [],
   "source": [
    "doublets = df[(df.prediction == 'doublet') & (df.dif > 0.8)]\n",
    "doublets"
   ]
  },
  {
   "cell_type": "code",
   "execution_count": null,
   "id": "4772f668-93d5-4111-9c85-346c233475c3",
   "metadata": {},
   "outputs": [],
   "source": [
    "# Define sample paths\n",
    "sample_paths = {\n",
    "    'T2': 'Y:/Tolulope/Cellranger Results/ALL/t2/outs/filtered_feature_bc_matrix'\n",
    "}\n",
    "\n",
    "# Load AnnData objects\n",
    "\n",
    "adata12 = sc.read_10x_mtx(sample_paths['T2'])\n",
    "adata12.obs"
   ]
  },
  {
   "cell_type": "code",
   "execution_count": null,
   "id": "b22ce10a-0d1f-446f-9ce6-9195e87d52f5",
   "metadata": {},
   "outputs": [],
   "source": [
    "adata12.obs['doublet'] = adata12.obs.index.isin(doublets.index) \n",
    "adata12.obs"
   ]
  },
  {
   "cell_type": "code",
   "execution_count": null,
   "id": "0e7c553a-e3e5-422b-b03e-32e67bbf4a77",
   "metadata": {},
   "outputs": [],
   "source": [
    "adata12 = adata12[~adata12.obs.doublet]\n",
    "adata12"
   ]
  },
  {
   "cell_type": "code",
   "execution_count": null,
   "id": "fec0a267-c62d-461f-8e59-595ff412a349",
   "metadata": {},
   "outputs": [],
   "source": []
  },
  {
   "cell_type": "code",
   "execution_count": null,
   "id": "93b61654-b89f-4e37-8014-ada105e846c2",
   "metadata": {},
   "outputs": [],
   "source": []
  },
  {
   "cell_type": "code",
   "execution_count": null,
   "id": "98c3e754-3845-477b-bf52-980f43da55e9",
   "metadata": {},
   "outputs": [],
   "source": [
    "# Make variable names unique\n",
    "for adata in [adata1, adata2, adata3, adata4, adata5, adata6, adata7, adata8, adata9, adata10, adata11, adata12]:\n",
    "    adata.var_names_make_unique()\n",
    "    adata.raw = adata"
   ]
  },
  {
   "cell_type": "code",
   "execution_count": null,
   "id": "4f63ff40-85a3-45fc-8d49-f5858e73e32e",
   "metadata": {},
   "outputs": [],
   "source": [
    "# Quality Control (QC)\n",
    "for adata in [adata1, adata2, adata3, adata4, adata5, adata6, adata7, adata8, adata9, adata10, adata11, adata12]:\n",
    "    sc.pp.filter_cells(adata, min_genes=200)#get rid of cells with fewer than 200 genes"
   ]
  },
  {
   "cell_type": "code",
   "execution_count": null,
   "id": "27eae565-bd5d-4c28-9610-695ccabb5a85",
   "metadata": {},
   "outputs": [],
   "source": [
    "# Annotate mitochondrial genes\n",
    "for adata in [adata1, adata2, adata3, adata4, adata5, adata6, adata7, adata8, adata9, adata10, adata11, adata12]:\n",
    "    adata.var['mt'] = adata.var_names.str.startswith('mt-')  # Assuming mitochondrial genes start with 'MT-'\n",
    "adata1.var[adata4.var.mt == True]"
   ]
  },
  {
   "cell_type": "code",
   "execution_count": null,
   "id": "f710ec7b-0dd4-413a-9e7d-8823f765bc05",
   "metadata": {},
   "outputs": [],
   "source": [
    "# Annotate ribosomal genes\n",
    "for adata in [adata1, adata2, adata3, adata4, adata5, adata6, adata7, adata8, adata9, adata10, adata11, adata12]:\n",
    "    adata.var['ribo'] = adata.var_names.str.startswith(('Rps', 'Rpl'))\n",
    "adata1.var[adata4.var['ribo']]  "
   ]
  },
  {
   "cell_type": "code",
   "execution_count": null,
   "id": "8b0597d5-091a-4159-b149-d5506ee5757f",
   "metadata": {},
   "outputs": [],
   "source": [
    "# Annotate ribosomal genes\n",
    "for adata in [adata1, adata2, adata3, adata4, adata5, adata6, adata7, adata8, adata9, adata10, adata11, adata12]:\n",
    "    adata.var['hb'] = adata.var_names.str.contains('^Hb[^(P)]', regex=True)\n",
    "adata4.var[adata4.var['hb']]"
   ]
  },
  {
   "cell_type": "code",
   "execution_count": null,
   "id": "1e6eeeb9-bf93-4167-9f56-8832f3209acd",
   "metadata": {},
   "outputs": [],
   "source": [
    "#SAMPLE1\n",
    "sc.pp.calculate_qc_metrics(adata1, qc_vars=['mt', 'ribo', 'hb'], percent_top=None, log1p=False, inplace=True)\n",
    "sc.pl.violin(adata1, ['n_genes_by_counts', 'total_counts', 'pct_counts_mt', 'pct_counts_ribo','pct_counts_hb'],\n",
    "             jitter=0.4, multi_panel=True)"
   ]
  },
  {
   "cell_type": "code",
   "execution_count": null,
   "id": "c4446e05-4cc6-4ce4-9b8a-77b221b91f95",
   "metadata": {},
   "outputs": [],
   "source": [
    "#instead of picking subjectively, you can use quanitle\n",
    "upper_lim = np.quantile(adata1.obs.n_genes_by_counts.values, .98)\n",
    "lower_lim = np.quantile(adata1.obs.n_genes_by_counts.values, .02)\n",
    "print(f'{lower_lim} to {upper_lim}')"
   ]
  },
  {
   "cell_type": "code",
   "execution_count": null,
   "id": "8176a37f-0c89-4447-9b31-f3d4b793bd21",
   "metadata": {},
   "outputs": [],
   "source": [
    "adata1 = adata1[(adata1.obs.n_genes_by_counts < upper_lim) & (adata1.obs.n_genes_by_counts > lower_lim)]\n",
    "adata1 = adata1[adata1.obs.pct_counts_mt < 15]\n",
    "adata1 = adata1[adata1.obs.pct_counts_ribo < 40]\n",
    "adata1 = adata1[adata1.obs['pct_counts_hb'] < 0.1].copy()\n",
    "\n",
    "sc.pl.violin(adata1, ['n_genes_by_counts', 'total_counts', 'pct_counts_mt','pct_counts_ribo', 'pct_counts_hb'],\n",
    "             jitter=0.4, multi_panel=True)\n",
    "adata1"
   ]
  },
  {
   "cell_type": "code",
   "execution_count": null,
   "id": "ca872458-31ca-4964-a6d8-cf31ce670cd0",
   "metadata": {},
   "outputs": [],
   "source": [
    "#SAMPLE2\n",
    "sc.pp.calculate_qc_metrics(adata2, qc_vars=['mt', 'ribo', 'hb'], percent_top=None, log1p=False, inplace=True)\n",
    "sc.pl.violin(adata2, ['n_genes_by_counts', 'total_counts', 'pct_counts_mt', 'pct_counts_ribo','pct_counts_hb'],\n",
    "             jitter=0.4, multi_panel=True)"
   ]
  },
  {
   "cell_type": "code",
   "execution_count": null,
   "id": "065deece-ea9a-46ef-a8d9-c15b8117a585",
   "metadata": {},
   "outputs": [],
   "source": [
    "#instead of picking subjectively, you can use quanitle\n",
    "upper_lim = np.quantile(adata2.obs.n_genes_by_counts.values, .98)\n",
    "lower_lim = np.quantile(adata2.obs.n_genes_by_counts.values, .02)\n",
    "print(f'{lower_lim} to {upper_lim}')"
   ]
  },
  {
   "cell_type": "code",
   "execution_count": null,
   "id": "ef460908-154c-46f5-9833-9a10b33dc823",
   "metadata": {},
   "outputs": [],
   "source": [
    "adata2 = adata2[(adata2.obs.n_genes_by_counts < upper_lim) & (adata2.obs.n_genes_by_counts > lower_lim)]\n",
    "adata2 = adata2[adata2.obs.pct_counts_mt < 10]\n",
    "adata2 = adata2[adata2.obs.pct_counts_ribo < 25]\n",
    "adata2 = adata2[adata2.obs['pct_counts_hb'] < 0.1].copy()\n",
    "\n",
    "sc.pl.violin(adata2, ['n_genes_by_counts', 'total_counts', 'pct_counts_mt','pct_counts_ribo', 'pct_counts_hb'],\n",
    "             jitter=0.4, multi_panel=True)\n",
    "adata2"
   ]
  },
  {
   "cell_type": "code",
   "execution_count": null,
   "id": "0af0561c-3fe7-4c07-97ab-48888961891a",
   "metadata": {},
   "outputs": [],
   "source": [
    "#SAMPLE3\n",
    "sc.pp.calculate_qc_metrics(adata3, qc_vars=['mt', 'ribo', 'hb'], percent_top=None, log1p=False, inplace=True)\n",
    "sc.pl.violin(adata3, ['n_genes_by_counts', 'total_counts', 'pct_counts_mt', 'pct_counts_ribo','pct_counts_hb'],\n",
    "             jitter=0.4, multi_panel=True)"
   ]
  },
  {
   "cell_type": "code",
   "execution_count": null,
   "id": "49a32d88-9487-4946-860d-6461c2522056",
   "metadata": {},
   "outputs": [],
   "source": [
    "#instead of picking subjectively, you can use quanitle\n",
    "upper_lim = np.quantile(adata3.obs.n_genes_by_counts.values, .98)\n",
    "lower_lim = np.quantile(adata3.obs.n_genes_by_counts.values, .02)\n",
    "print(f'{lower_lim} to {upper_lim}')"
   ]
  },
  {
   "cell_type": "code",
   "execution_count": null,
   "id": "7db51fd5-8643-4c30-b464-5ebe9286a761",
   "metadata": {},
   "outputs": [],
   "source": [
    "adata3 = adata3[(adata3.obs.n_genes_by_counts < upper_lim) & (adata3.obs.n_genes_by_counts > lower_lim)]\n",
    "adata3 = adata3[adata3.obs.pct_counts_mt < 20]\n",
    "adata3 = adata3[adata3.obs.pct_counts_ribo < 40]\n",
    "adata3 = adata3[adata3.obs['pct_counts_hb'] < 0.1].copy()\n",
    "\n",
    "sc.pl.violin(adata3, ['n_genes_by_counts', 'total_counts', 'pct_counts_mt','pct_counts_ribo', 'pct_counts_hb'],\n",
    "             jitter=0.4, multi_panel=True)\n",
    "adata3"
   ]
  },
  {
   "cell_type": "code",
   "execution_count": null,
   "id": "dac8ec65-0f5f-4749-8c32-3b9360ae81a4",
   "metadata": {},
   "outputs": [],
   "source": [
    "#SAMPLE4\n",
    "sc.pp.calculate_qc_metrics(adata4, qc_vars=['mt', 'ribo', 'hb'], percent_top=None, log1p=False, inplace=True)\n",
    "sc.pl.violin(adata4, ['n_genes_by_counts', 'total_counts', 'pct_counts_mt', 'pct_counts_ribo','pct_counts_hb'],\n",
    "             jitter=0.4, multi_panel=True)"
   ]
  },
  {
   "cell_type": "code",
   "execution_count": null,
   "id": "2f272831-4f9c-40f8-bc98-d4a82e906e17",
   "metadata": {},
   "outputs": [],
   "source": [
    "#instead of picking subjectively, you can use quanitle\n",
    "upper_lim = np.quantile(adata4.obs.n_genes_by_counts.values, .98)\n",
    "lower_lim = np.quantile(adata4.obs.n_genes_by_counts.values, .02)\n",
    "print(f'{lower_lim} to {upper_lim}')"
   ]
  },
  {
   "cell_type": "code",
   "execution_count": null,
   "id": "b0ac54cd-38dc-46a4-ab0a-d38e9e7fc347",
   "metadata": {},
   "outputs": [],
   "source": [
    "adata4 = adata4[(adata4.obs.n_genes_by_counts < upper_lim) & (adata4.obs.n_genes_by_counts > lower_lim)]\n",
    "adata4 = adata4[adata4.obs.pct_counts_mt < 15]\n",
    "adata4 = adata4[adata4.obs.pct_counts_ribo < 30]\n",
    "adata4 = adata4[adata4.obs['pct_counts_hb'] < 0.1].copy()\n",
    "\n",
    "sc.pl.violin(adata4, ['n_genes_by_counts', 'total_counts', 'pct_counts_mt','pct_counts_ribo', 'pct_counts_hb'],\n",
    "             jitter=0.4, multi_panel=True)\n",
    "adata4"
   ]
  },
  {
   "cell_type": "code",
   "execution_count": null,
   "id": "9b6333ec-d51f-459f-b543-f4f0486c1244",
   "metadata": {},
   "outputs": [],
   "source": [
    "#SAMPLE5\n",
    "sc.pp.calculate_qc_metrics(adata5, qc_vars=['mt', 'ribo', 'hb'], percent_top=None, log1p=False, inplace=True)\n",
    "sc.pl.violin(adata5, ['n_genes_by_counts', 'total_counts', 'pct_counts_mt', 'pct_counts_ribo','pct_counts_hb'],\n",
    "             jitter=0.4, multi_panel=True)"
   ]
  },
  {
   "cell_type": "code",
   "execution_count": null,
   "id": "9d50d3e8-0e82-475c-9c8b-92ebcccb9af8",
   "metadata": {},
   "outputs": [],
   "source": [
    "#instead of picking subjectively, you can use quanitle\n",
    "upper_lim = np.quantile(adata5.obs.n_genes_by_counts.values, .98)\n",
    "lower_lim = np.quantile(adata5.obs.n_genes_by_counts.values, .02)\n",
    "print(f'{lower_lim} to {upper_lim}')"
   ]
  },
  {
   "cell_type": "code",
   "execution_count": null,
   "id": "13168b8d-ccc4-44cd-98b8-2e1e23718022",
   "metadata": {},
   "outputs": [],
   "source": [
    "adata5 = adata5[(adata5.obs.n_genes_by_counts < upper_lim) & (adata5.obs.n_genes_by_counts > lower_lim)]\n",
    "adata5 = adata5[adata5.obs.pct_counts_mt < 20]\n",
    "adata5= adata5[adata5.obs.pct_counts_ribo < 40]\n",
    "adata5 = adata5[adata5.obs['pct_counts_hb'] < 0.1].copy()\n",
    "\n",
    "sc.pl.violin(adata5, ['n_genes_by_counts', 'total_counts', 'pct_counts_mt','pct_counts_ribo', 'pct_counts_hb'],\n",
    "             jitter=0.4, multi_panel=True)\n",
    "adata5"
   ]
  },
  {
   "cell_type": "code",
   "execution_count": null,
   "id": "0395ded7-5964-49c1-9a0a-211a737f1023",
   "metadata": {},
   "outputs": [],
   "source": [
    "#SAMPLE6\n",
    "sc.pp.calculate_qc_metrics(adata6, qc_vars=['mt', 'ribo', 'hb'], percent_top=None, log1p=False, inplace=True)\n",
    "sc.pl.violin(adata6, ['n_genes_by_counts', 'total_counts', 'pct_counts_mt', 'pct_counts_ribo','pct_counts_hb'],\n",
    "             jitter=0.4, multi_panel=True)"
   ]
  },
  {
   "cell_type": "code",
   "execution_count": null,
   "id": "895ed572-1090-4079-b728-8527636e8c2a",
   "metadata": {},
   "outputs": [],
   "source": [
    "#instead of picking subjectively, you can use quanitle\n",
    "upper_lim = np.quantile(adata6.obs.n_genes_by_counts.values, .98)\n",
    "lower_lim = np.quantile(adata6.obs.n_genes_by_counts.values, .02)\n",
    "print(f'{lower_lim} to {upper_lim}')"
   ]
  },
  {
   "cell_type": "code",
   "execution_count": null,
   "id": "1db9b43d-f324-4373-81d8-745b6668d70e",
   "metadata": {},
   "outputs": [],
   "source": [
    "adata6 = adata6[(adata6.obs.n_genes_by_counts < upper_lim) & (adata6.obs.n_genes_by_counts > lower_lim)]\n",
    "adata6 = adata6[adata6.obs.pct_counts_mt < 20]\n",
    "adata6 = adata6[adata6.obs.pct_counts_ribo < 28]\n",
    "adata6 = adata6[adata6.obs['pct_counts_hb'] < 0.1].copy()\n",
    "\n",
    "sc.pl.violin(adata6, ['n_genes_by_counts', 'total_counts', 'pct_counts_mt','pct_counts_ribo', 'pct_counts_hb'],\n",
    "             jitter=0.4, multi_panel=True)\n",
    "adata6"
   ]
  },
  {
   "cell_type": "code",
   "execution_count": null,
   "id": "c8b9fbcb-06a0-4cb0-aa61-b7bfa7300a19",
   "metadata": {},
   "outputs": [],
   "source": [
    "#SAMPLE7\n",
    "sc.pp.calculate_qc_metrics(adata7, qc_vars=['mt', 'ribo', 'hb'], percent_top=None, log1p=False, inplace=True)\n",
    "sc.pl.violin(adata7, ['n_genes_by_counts', 'total_counts', 'pct_counts_mt', 'pct_counts_ribo','pct_counts_hb'],\n",
    "             jitter=0.4, multi_panel=True)"
   ]
  },
  {
   "cell_type": "code",
   "execution_count": null,
   "id": "32911d84-2e0e-4745-96c3-235de909721f",
   "metadata": {},
   "outputs": [],
   "source": [
    "#instead of picking subjectively, you can use quanitle\n",
    "upper_lim = np.quantile(adata7.obs.n_genes_by_counts.values, .98)\n",
    "lower_lim = np.quantile(adata7.obs.n_genes_by_counts.values, .02)\n",
    "print(f'{lower_lim} to {upper_lim}')"
   ]
  },
  {
   "cell_type": "code",
   "execution_count": null,
   "id": "dbb51512-2458-4d2a-bd70-cdfbba4e3c27",
   "metadata": {},
   "outputs": [],
   "source": [
    "adata7 = adata7[(adata7.obs.n_genes_by_counts < upper_lim) & (adata7.obs.n_genes_by_counts > lower_lim)]\n",
    "adata7 = adata7[adata7.obs.pct_counts_mt < 20]\n",
    "adata7 = adata7[adata7.obs.pct_counts_ribo < 25]\n",
    "adata7 = adata7[adata7.obs['pct_counts_hb'] < 0.1].copy()\n",
    "\n",
    "sc.pl.violin(adata7, ['n_genes_by_counts', 'total_counts', 'pct_counts_mt','pct_counts_ribo', 'pct_counts_hb'],\n",
    "             jitter=0.4, multi_panel=True)\n",
    "adata7"
   ]
  },
  {
   "cell_type": "code",
   "execution_count": null,
   "id": "94d4133e-d72b-4727-a262-7c69bcfaac15",
   "metadata": {},
   "outputs": [],
   "source": [
    "#SAMPLE8\n",
    "sc.pp.calculate_qc_metrics(adata8, qc_vars=['mt', 'ribo', 'hb'], percent_top=None, log1p=False, inplace=True)\n",
    "sc.pl.violin(adata8, ['n_genes_by_counts', 'total_counts', 'pct_counts_mt', 'pct_counts_ribo','pct_counts_hb'],\n",
    "             jitter=0.4, multi_panel=True)"
   ]
  },
  {
   "cell_type": "code",
   "execution_count": null,
   "id": "dfea4ae8-629b-44b5-8853-944be8e6b2e0",
   "metadata": {},
   "outputs": [],
   "source": [
    "#instead of picking subjectively, you can use quanitle\n",
    "upper_lim = np.quantile(adata8.obs.n_genes_by_counts.values, .98)\n",
    "lower_lim = np.quantile(adata8.obs.n_genes_by_counts.values, .02)\n",
    "print(f'{lower_lim} to {upper_lim}')"
   ]
  },
  {
   "cell_type": "code",
   "execution_count": null,
   "id": "a11096ca-d01f-46a7-af05-3b53f46391dd",
   "metadata": {},
   "outputs": [],
   "source": [
    "adata8 = adata8[(adata8.obs.n_genes_by_counts < upper_lim) & (adata8.obs.n_genes_by_counts > lower_lim)]\n",
    "adata8 = adata8[adata8.obs.pct_counts_mt < 20]\n",
    "adata8 = adata8[adata8.obs.pct_counts_ribo < 25]\n",
    "adata8 = adata8[adata8.obs['pct_counts_hb'] < 0.1].copy()\n",
    "\n",
    "sc.pl.violin(adata8, ['n_genes_by_counts', 'total_counts', 'pct_counts_mt','pct_counts_ribo', 'pct_counts_hb'],\n",
    "             jitter=0.4, multi_panel=True)\n",
    "adata8"
   ]
  },
  {
   "cell_type": "code",
   "execution_count": null,
   "id": "17b72c4c-1998-427c-ae6a-1df407371ac9",
   "metadata": {},
   "outputs": [],
   "source": [
    "#SAMPLE9\n",
    "sc.pp.calculate_qc_metrics(adata9, qc_vars=['mt', 'ribo', 'hb'], percent_top=None, log1p=False, inplace=True)\n",
    "sc.pl.violin(adata9, ['n_genes_by_counts', 'total_counts', 'pct_counts_mt', 'pct_counts_ribo','pct_counts_hb'],\n",
    "             jitter=0.4, multi_panel=True)"
   ]
  },
  {
   "cell_type": "code",
   "execution_count": null,
   "id": "b3e157a1-70db-4939-9fd1-e20f122091c7",
   "metadata": {},
   "outputs": [],
   "source": [
    "#instead of picking subjectively, you can use quanitle\n",
    "upper_lim = np.quantile(adata9.obs.n_genes_by_counts.values, .98)\n",
    "lower_lim = np.quantile(adata9.obs.n_genes_by_counts.values, .02)\n",
    "print(f'{lower_lim} to {upper_lim}')"
   ]
  },
  {
   "cell_type": "code",
   "execution_count": null,
   "id": "21f159ee-47ac-4273-9558-034d5136696c",
   "metadata": {},
   "outputs": [],
   "source": [
    "adata9 = adata9[(adata9.obs.n_genes_by_counts < upper_lim) & (adata9.obs.n_genes_by_counts > lower_lim)]\n",
    "adata9 = adata9[adata9.obs.pct_counts_mt < 10]\n",
    "adata9 = adata9[adata9.obs.pct_counts_ribo < 40]\n",
    "adata9 = adata9[adata9.obs['pct_counts_hb'] < 0.1].copy()\n",
    "\n",
    "sc.pl.violin(adata9, ['n_genes_by_counts', 'total_counts', 'pct_counts_mt','pct_counts_ribo', 'pct_counts_hb'],\n",
    "             jitter=0.4, multi_panel=True)\n",
    "adata9"
   ]
  },
  {
   "cell_type": "code",
   "execution_count": null,
   "id": "dd193555-b14f-433b-83da-6256bd52f6d7",
   "metadata": {},
   "outputs": [],
   "source": [
    "#SAMPLE10\n",
    "sc.pp.calculate_qc_metrics(adata10, qc_vars=['mt', 'ribo', 'hb'], percent_top=None, log1p=False, inplace=True)\n",
    "sc.pl.violin(adata10, ['n_genes_by_counts', 'total_counts', 'pct_counts_mt', 'pct_counts_ribo','pct_counts_hb'],\n",
    "             jitter=0.4, multi_panel=True)"
   ]
  },
  {
   "cell_type": "code",
   "execution_count": null,
   "id": "ec367ed7-bbc2-4feb-99c3-89bbc27f1bf2",
   "metadata": {},
   "outputs": [],
   "source": [
    "#instead of picking subjectively, you can use quanitle\n",
    "upper_lim = np.quantile(adata10.obs.n_genes_by_counts.values, .98)\n",
    "lower_lim = np.quantile(adata10.obs.n_genes_by_counts.values, .02)\n",
    "print(f'{lower_lim} to {upper_lim}')"
   ]
  },
  {
   "cell_type": "code",
   "execution_count": null,
   "id": "4cf4379f-3020-4b59-9f1a-68caefe3e6da",
   "metadata": {},
   "outputs": [],
   "source": [
    "adata10 = adata10[(adata10.obs.n_genes_by_counts < upper_lim) & (adata10.obs.n_genes_by_counts > lower_lim)]\n",
    "adata10 = adata10[adata10.obs.pct_counts_mt < 10]\n",
    "adata10 = adata10[adata10.obs.pct_counts_ribo < 40]\n",
    "adata10 = adata10[adata10.obs['pct_counts_hb'] < 0.1].copy()\n",
    "\n",
    "sc.pl.violin(adata10, ['n_genes_by_counts', 'total_counts', 'pct_counts_mt','pct_counts_ribo', 'pct_counts_hb'],\n",
    "             jitter=0.4, multi_panel=True)\n",
    "adata10"
   ]
  },
  {
   "cell_type": "code",
   "execution_count": null,
   "id": "0e8b74db-edf4-4a9a-b294-7332c28a3d11",
   "metadata": {},
   "outputs": [],
   "source": [
    "#SAMPLE11\n",
    "sc.pp.calculate_qc_metrics(adata11, qc_vars=['mt', 'ribo', 'hb'], percent_top=None, log1p=False, inplace=True)\n",
    "sc.pl.violin(adata11, ['n_genes_by_counts', 'total_counts', 'pct_counts_mt', 'pct_counts_ribo','pct_counts_hb'],\n",
    "             jitter=0.4, multi_panel=True)"
   ]
  },
  {
   "cell_type": "code",
   "execution_count": null,
   "id": "475f18c8-0fd9-40ec-80d7-486d6385b60d",
   "metadata": {},
   "outputs": [],
   "source": [
    "#instead of picking subjectively, you can use quanitle\n",
    "upper_lim = np.quantile(adata11.obs.n_genes_by_counts.values, .98)\n",
    "lower_lim = np.quantile(adata11.obs.n_genes_by_counts.values, .02)\n",
    "print(f'{lower_lim} to {upper_lim}')"
   ]
  },
  {
   "cell_type": "code",
   "execution_count": null,
   "id": "c09c2532-1d6b-4759-870b-3b6741d1073a",
   "metadata": {},
   "outputs": [],
   "source": [
    "adata11 = adata11[(adata11.obs.n_genes_by_counts < upper_lim) & (adata11.obs.n_genes_by_counts > lower_lim)]\n",
    "adata11 = adata11[adata11.obs.pct_counts_mt < 10]\n",
    "adata11 = adata11[adata11.obs.pct_counts_ribo < 40]\n",
    "adata11 = adata11[adata11.obs['pct_counts_hb'] < 0.1].copy()\n",
    "\n",
    "sc.pl.violin(adata11, ['n_genes_by_counts', 'total_counts', 'pct_counts_mt','pct_counts_ribo', 'pct_counts_hb'],\n",
    "             jitter=0.4, multi_panel=True)\n",
    "adata11"
   ]
  },
  {
   "cell_type": "code",
   "execution_count": null,
   "id": "ee61f5a1-736c-40fc-970c-6175dab0609f",
   "metadata": {},
   "outputs": [],
   "source": [
    "#SAMPLE12\n",
    "sc.pp.calculate_qc_metrics(adata12, qc_vars=['mt', 'ribo', 'hb'], percent_top=None, log1p=False, inplace=True)\n",
    "sc.pl.violin(adata12, ['n_genes_by_counts', 'total_counts', 'pct_counts_mt', 'pct_counts_ribo','pct_counts_hb'],\n",
    "             jitter=0.4, multi_panel=True)"
   ]
  },
  {
   "cell_type": "code",
   "execution_count": null,
   "id": "1a4326d5-7e64-4c1c-8623-329065dd3e35",
   "metadata": {},
   "outputs": [],
   "source": [
    "#instead of picking subjectively, you can use quanitle\n",
    "upper_lim = np.quantile(adata12.obs.n_genes_by_counts.values, .98)\n",
    "lower_lim = np.quantile(adata12.obs.n_genes_by_counts.values, .02)\n",
    "print(f'{lower_lim} to {upper_lim}')"
   ]
  },
  {
   "cell_type": "code",
   "execution_count": null,
   "id": "b9e7b9d8-76b5-4436-8dd5-0fbd669fce63",
   "metadata": {},
   "outputs": [],
   "source": [
    "adata12 = adata12[(adata12.obs.n_genes_by_counts < upper_lim) & (adata12.obs.n_genes_by_counts > lower_lim)]\n",
    "adata12 = adata12[adata12.obs.pct_counts_mt < 10]\n",
    "adata12 = adata12[adata12.obs.pct_counts_ribo < 35]\n",
    "adata12 = adata12[adata12.obs['pct_counts_hb'] < 0.1].copy()\n",
    "\n",
    "sc.pl.violin(adata12, ['n_genes_by_counts', 'total_counts', 'pct_counts_mt','pct_counts_ribo', 'pct_counts_hb'],\n",
    "             jitter=0.4, multi_panel=True)\n",
    "adata12"
   ]
  },
  {
   "cell_type": "code",
   "execution_count": null,
   "id": "99f8e839-a80d-4c4f-9531-ca106ece7a8d",
   "metadata": {},
   "outputs": [],
   "source": [
    "#combine young and old data"
   ]
  },
  {
   "cell_type": "code",
   "execution_count": null,
   "id": "ca633816-4a4c-460e-8bf7-f834d87eec9f",
   "metadata": {},
   "outputs": [],
   "source": [
    "import scanpy as sc\n",
    "\n",
    "# Assuming adatas is a list containing your individual AnnData objects: [adata1, adata2, adata3, adata4]\n",
    "adatayoungold = [adata1, adata2, adata3, adata4, adata5, adata6, adata7, adata8]\n",
    "\n",
    "# Define sample names\n",
    "sample_names = ['YSham_GFP', 'YSham_noGFP', 'YOV_GFP', 'YOV_noGFP', 'ASham_GFP', 'ASham_noGFP', 'AOV_GFP', 'AOV_noGFP']\n",
    "\n",
    "\n",
    "# Concatenate the list of AnnData objects into a single AnnData object\n",
    "adataa = sc.concat(adatayoungold, join='outer', label='Sample', keys=sample_names)\n",
    "adataa"
   ]
  },
  {
   "cell_type": "code",
   "execution_count": null,
   "id": "2abacdc4-fdfc-41bd-acc5-41564c26ff4b",
   "metadata": {},
   "outputs": [],
   "source": [
    "sc.pp.filter_genes(adataa, min_cells = 10)\n",
    "adataa"
   ]
  },
  {
   "cell_type": "code",
   "execution_count": null,
   "id": "23b6bf06-bf2c-4db7-83be-20fb1c9d6f10",
   "metadata": {},
   "outputs": [],
   "source": [
    "adataa.X"
   ]
  },
  {
   "cell_type": "code",
   "execution_count": null,
   "id": "4d50d5b6-769e-4bca-9342-05fc6637425d",
   "metadata": {},
   "outputs": [],
   "source": [
    "adataa.write_h5ad('combined1.h5ad')"
   ]
  },
  {
   "cell_type": "code",
   "execution_count": null,
   "id": "243e61f7-202a-479b-a92c-333ac8c63f29",
   "metadata": {},
   "outputs": [],
   "source": []
  },
  {
   "cell_type": "code",
   "execution_count": null,
   "id": "9be2fb8f-1efc-454f-9f22-19f629c842c9",
   "metadata": {},
   "outputs": [],
   "source": [
    "# combine satellite cell depleted data and control"
   ]
  },
  {
   "cell_type": "code",
   "execution_count": null,
   "id": "5a2d64ad-8efc-4dff-95dc-45be4985015b",
   "metadata": {},
   "outputs": [],
   "source": [
    "import scanpy as sc\n",
    "\n",
    "# Assuming adatas is a list containing your individual AnnData objects: [adata1, adata2, adata3, adata4]\n",
    "adatavehtam = [adata9, adata10, adata11, adata12]\n",
    "\n",
    "# Define sample names\n",
    "sample_names = ['V1', 'V2', 'T1', 'T2']\n",
    "\n",
    "\n",
    "# Concatenate the list of AnnData objects into a single AnnData object\n",
    "adatadata = sc.concat(adatavehtam, join='outer', label='Sample', keys=sample_names)\n"
   ]
  },
  {
   "cell_type": "code",
   "execution_count": null,
   "id": "846f27ad-217b-4add-b92e-45cfc8e54b2a",
   "metadata": {},
   "outputs": [],
   "source": [
    "adatadata"
   ]
  },
  {
   "cell_type": "code",
   "execution_count": null,
   "id": "43fbfb1a-c443-4cd0-a502-edba42f8d836",
   "metadata": {},
   "outputs": [],
   "source": [
    "sc.pp.filter_genes(adatadata, min_cells = 10)\n",
    "adatadata"
   ]
  },
  {
   "cell_type": "code",
   "execution_count": null,
   "id": "ab0e33ac-679c-4707-83d0-998ddc635cce",
   "metadata": {},
   "outputs": [],
   "source": [
    "adatadata.X"
   ]
  },
  {
   "cell_type": "code",
   "execution_count": null,
   "id": "1c793017-fe73-48f5-bbc6-d38252e716ec",
   "metadata": {},
   "outputs": [],
   "source": [
    "adatadata.write_h5ad('combined2.h5ad')"
   ]
  },
  {
   "cell_type": "code",
   "execution_count": null,
   "id": "baba0e51-8239-4a41-9811-a1bb2c623c4b",
   "metadata": {},
   "outputs": [],
   "source": []
  }
 ],
 "metadata": {
  "kernelspec": {
   "display_name": "Python 3 (ipykernel)",
   "language": "python",
   "name": "python3"
  },
  "language_info": {
   "codemirror_mode": {
    "name": "ipython",
    "version": 3
   },
   "file_extension": ".py",
   "mimetype": "text/x-python",
   "name": "python",
   "nbconvert_exporter": "python",
   "pygments_lexer": "ipython3",
   "version": "3.9.21"
  }
 },
 "nbformat": 4,
 "nbformat_minor": 5
}
