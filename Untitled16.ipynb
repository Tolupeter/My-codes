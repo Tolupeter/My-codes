{
 "cells": [
  {
   "cell_type": "code",
   "execution_count": 15,
   "id": "77005884-d8dd-4ec7-8ecf-34116998cd3e",
   "metadata": {},
   "outputs": [],
   "source": [
    "import numpy as np\n",
    "import pandas as pd\n",
    "import scanpy as sc\n",
    "import anndata as ad  # Make sure to import anndata\n",
    "import matplotlib.pyplot as pl\n",
    "import seaborn as sns\n",
    "import bbknn\n",
    "import scvelo as scv\n",
    "import anndata\n",
    "import leidenalg\n",
    "import loompy\n",
    "from scipy import io\n",
    "from scipy.sparse import coo_matrix, csr_matrix\n",
    "from matplotlib.pyplot import rc_context\n",
    "from matplotlib import cm\n",
    "from matplotlib.colors import ListedColormap, LinearSegmentedColormap\n",
    "import os\n",
    "import random\n",
    "import mellon"
   ]
  },
  {
   "cell_type": "code",
   "execution_count": 28,
   "id": "f22dc2b9-01c2-418d-9bd0-fc00439a071f",
   "metadata": {},
   "outputs": [],
   "source": [
    "import mellon\n",
    "import palantir\n",
    "import subprocess"
   ]
  },
  {
   "cell_type": "code",
   "execution_count": 27,
   "id": "2effeb73-3f9d-4fd4-be4e-77a9e3b8e5f9",
   "metadata": {},
   "outputs": [
    {
     "name": "stdout",
     "output_type": "stream",
     "text": [
      "Requirement already satisfied: jaxlib in c:\\users\\tpsa222\\.conda\\envs\\myoung\\lib\\site-packages (0.4.30)\n",
      "Requirement already satisfied: scipy>=1.9 in c:\\users\\tpsa222\\.conda\\envs\\myoung\\lib\\site-packages (from jaxlib) (1.11.4)\n",
      "Requirement already satisfied: numpy>=1.22 in c:\\users\\tpsa222\\.conda\\envs\\myoung\\lib\\site-packages (from jaxlib) (1.26.4)\n",
      "Requirement already satisfied: ml-dtypes>=0.2.0 in c:\\users\\tpsa222\\.conda\\envs\\myoung\\lib\\site-packages (from jaxlib) (0.5.1)\n",
      "Note: you may need to restart the kernel to use updated packages.\n"
     ]
    }
   ],
   "source": [
    "pip install jaxlib\n"
   ]
  },
  {
   "cell_type": "code",
   "execution_count": 30,
   "id": "751e3531-cacf-45dc-8d39-4f02ac137c3d",
   "metadata": {},
   "outputs": [],
   "source": [
    "import jax"
   ]
  },
  {
   "cell_type": "code",
   "execution_count": 31,
   "id": "fdebb67f-a511-4b4f-808c-7611696b7294",
   "metadata": {},
   "outputs": [
    {
     "data": {
      "text/plain": [
       "[CpuDevice(id=0)]"
      ]
     },
     "execution_count": 31,
     "metadata": {},
     "output_type": "execute_result"
    }
   ],
   "source": [
    "jax.devices()"
   ]
  },
  {
   "cell_type": "code",
   "execution_count": 32,
   "id": "efd52a9b-1630-4504-a91e-c3f839392db0",
   "metadata": {},
   "outputs": [],
   "source": [
    "model = mellon.DensityEstimator()"
   ]
  },
  {
   "cell_type": "code",
   "execution_count": 33,
   "id": "e9eb8e51-7c4a-443e-8490-e723db62b278",
   "metadata": {},
   "outputs": [],
   "source": [
    "ad = sc.read(\"integratedcelltypesn1.h5ad\")"
   ]
  },
  {
   "cell_type": "code",
   "execution_count": 34,
   "id": "4ac5dcae-8041-40c2-a4dc-edabc0a36b89",
   "metadata": {},
   "outputs": [],
   "source": [
    "dm_res = palantir.utils.run_diffusion_maps(ad, pca_key=\"X_pca_harmony\", n_components=50)"
   ]
  },
  {
   "cell_type": "code",
   "execution_count": 35,
   "id": "78231ad1-f96f-4be5-bd39-8c1eb76c565c",
   "metadata": {},
   "outputs": [
    {
     "name": "stdout",
     "output_type": "stream",
     "text": [
      "[2025-03-25 13:38:38,966] [INFO    ] Using sparse Gaussian Process since n_landmarks (5,000) < n_samples (45,828) and rank = 1.0.\n",
      "[2025-03-25 13:38:38,968] [INFO    ] Computing nearest neighbor distances.\n",
      "[2025-03-25 13:38:41,447] [INFO    ] Using embedding dimensionality d=50. Use d_method=\"fractal\" to enable effective density normalization.\n",
      "[2025-03-25 13:38:41,781] [INFO    ] Using covariance function Matern52(ls=0.02291133627295494).\n",
      "[2025-03-25 13:38:41,797] [INFO    ] Computing 5,000 landmarks with k-means clustering (random_state=42).\n",
      "[2025-03-25 13:39:41,472] [INFO    ] Using rank 5,000 covariance representation.\n",
      "[2025-03-25 13:40:10,073] [INFO    ] Running inference using L-BFGS-B.\n"
     ]
    }
   ],
   "source": [
    "log_density = model.fit_predict(ad.obsm[\"DM_EigenVectors\"])"
   ]
  },
  {
   "cell_type": "code",
   "execution_count": null,
   "id": "24d13011-79a0-4cda-9ea8-c101b832be9d",
   "metadata": {},
   "outputs": [],
   "source": [
    "predictor = model.predict\n",
    "\n",
    "ad.obs[\"mellon_log_density\"] = log_density\n",
    "ad.obs[\"mellon_log_density_clipped\"] = np.clip(\n",
    "    log_density, *np.quantile(log_density, [0.05, 1])\n",
    ")"
   ]
  },
  {
   "cell_type": "code",
   "execution_count": null,
   "id": "5dd76539-e0bb-43a7-85ab-03f4948b4681",
   "metadata": {},
   "outputs": [],
   "source": [
    "sc.pl.scatter(\n",
    "    ad, color=[\"mellon_log_density\", \"mellon_log_density_clipped\"], basis=\"umap\",groups='YSham_GFP'\n",
    ")"
   ]
  },
  {
   "cell_type": "code",
   "execution_count": null,
   "id": "285d659f-a80a-4ad6-9ced-35c82f46bfc2",
   "metadata": {},
   "outputs": [],
   "source": [
    "sc.pl.scatter(\n",
    "    ad, color=[\"mellon_log_density\", \"mellon_log_density_clipped\"], basis=\"umap\",groups='YOV_GFP'\n",
    ")"
   ]
  },
  {
   "cell_type": "code",
   "execution_count": 36,
   "id": "d183fe70-c59f-4c21-baa3-599911e0709e",
   "metadata": {},
   "outputs": [
    {
     "data": {
      "text/plain": [
       "AnnData object with n_obs × n_vars = 45828 × 3000\n",
       "    obs: 'batch', 'doublet', 'n_genes', 'n_genes_by_counts', 'total_counts', 'total_counts_mt', 'pct_counts_mt', 'Sample', 'leiden', 'cell type'\n",
       "    var: 'highly_variable', 'highly_variable_rank', 'means', 'variances', 'variances_norm', 'highly_variable_nbatches', 'mean', 'std'\n",
       "    uns: 'Sample_colors', 'batch_colors', 'cell type_colors', 'hvg', 'leiden', 'leiden_colors', 'log1p', 'neighbors', 'pca', 'rank_genes_groups', 'umap', 'DM_EigenValues'\n",
       "    obsm: 'X_pca', 'X_pca_harmony', 'X_umap', 'DM_EigenVectors'\n",
       "    varm: 'PCs'\n",
       "    layers: 'counts'\n",
       "    obsp: 'connectivities', 'distances', 'DM_Kernel', 'DM_Similarity'"
      ]
     },
     "execution_count": 36,
     "metadata": {},
     "output_type": "execute_result"
    }
   ],
   "source": [
    "ad"
   ]
  },
  {
   "cell_type": "code",
   "execution_count": null,
   "id": "3b321576-1a89-4281-8d86-9c6edd99f82e",
   "metadata": {},
   "outputs": [],
   "source": [
    "fig, (ax1, ax2) = pl.subplots(1, 2, width_ratios=[3, 2], figsize=[12, 4])\n",
    "sc.pl.violin(ad, \"mellon_log_density\", \"leiden\", rotation=45, ax=ax1, show=False)\n",
    "sc.pl.scatter(ad, color=\"leiden\", basis=\"umap\", ax=ax2, show=False)\n",
    "pl.show()"
   ]
  },
  {
   "cell_type": "code",
   "execution_count": null,
   "id": "2c60a458-3c0e-46ff-9fc1-9a42cfbac4ac",
   "metadata": {},
   "outputs": [],
   "source": [
    "adata.write('integratedcelltypesn1.h5ad')\n",
    "adata_concat=adata.copy()"
   ]
  },
  {
   "cell_type": "code",
   "execution_count": null,
   "id": "c642bef5-e031-46f6-a9b7-3a22d445c827",
   "metadata": {},
   "outputs": [],
   "source": [
    "sc.tl.rank_genes_groups(adata_concat,'leiden',method='wilcoxon',n_genes=1000)\n",
    "result = adata_concat.uns['rank_genes_groups']\n",
    "groups = result['names'].dtype.names\n",
    "res = pd.DataFrame(\n",
    "    {group + '_' + key[:1]: result[key][group]\n",
    "    for group in groups for key in ['names', 'logfoldchanges','pvals','pvals_adj']})\n",
    "res.to_csv('integrated_cluster_genes1.csv')"
   ]
  },
  {
   "cell_type": "code",
   "execution_count": null,
   "id": "2aa9f0cf-312a-4adc-8272-6d49f0d7106a",
   "metadata": {},
   "outputs": [],
   "source": []
  },
  {
   "cell_type": "code",
   "execution_count": null,
   "id": "6f6230cb-83db-4b0c-96fb-f88632c18934",
   "metadata": {},
   "outputs": [],
   "source": []
  },
  {
   "cell_type": "code",
   "execution_count": null,
   "id": "cbbe6fb3-f816-444a-9cbd-f917a86549ba",
   "metadata": {},
   "outputs": [],
   "source": []
  },
  {
   "cell_type": "code",
   "execution_count": null,
   "id": "318da0bb-4ca0-4116-b27b-eaddcc0f3ea2",
   "metadata": {},
   "outputs": [],
   "source": []
  },
  {
   "cell_type": "code",
   "execution_count": null,
   "id": "f4c5500e-9202-4e13-868d-efa30779eda4",
   "metadata": {},
   "outputs": [],
   "source": []
  },
  {
   "cell_type": "code",
   "execution_count": null,
   "id": "dd2d077d-3623-44df-b1b3-149ffb7624df",
   "metadata": {},
   "outputs": [],
   "source": []
  },
  {
   "cell_type": "code",
   "execution_count": null,
   "id": "22d362d4-3501-46a9-90a1-dc92cae7665b",
   "metadata": {},
   "outputs": [],
   "source": []
  },
  {
   "cell_type": "code",
   "execution_count": null,
   "id": "17b7487e-6510-49c7-8b6f-3f275bc49770",
   "metadata": {},
   "outputs": [],
   "source": []
  },
  {
   "cell_type": "code",
   "execution_count": null,
   "id": "6fff7672-af34-48fd-8ea2-b4c3a7d31407",
   "metadata": {},
   "outputs": [],
   "source": []
  },
  {
   "cell_type": "code",
   "execution_count": null,
   "id": "79c891f3-d210-41a8-a44f-295d6fb4b756",
   "metadata": {},
   "outputs": [],
   "source": []
  },
  {
   "cell_type": "code",
   "execution_count": 41,
   "id": "52e89685-6636-41db-90ee-8bbbe7ce8412",
   "metadata": {},
   "outputs": [
    {
     "data": {
      "image/png": "[encoded data removed]",
      "text/plain": [
       "<Figure size 294.88x200 with 1 Axes>"
      ]
     },
     "metadata": {},
     "output_type": "display_data"
    }
   ],
   "source": [
    "# Set figure size\n",
    "pl.rcParams['figure.figsize'] = 3, 2\n",
    "\n",
    "# Scatter plot of Pax7 vs Gfp and save it\n",
    "sc.pl.scatter(ad, x=\"Pax7\", y=\"Gfp\",size=10)\n"
   ]
  },
  {
   "cell_type": "code",
   "execution_count": null,
   "id": "3246af39-4f28-448e-86ce-0fac341f51b5",
   "metadata": {},
   "outputs": [],
   "source": []
  },
  {
   "cell_type": "code",
   "execution_count": null,
   "id": "1608e886-b52b-4c41-b094-a0d4e2837381",
   "metadata": {},
   "outputs": [],
   "source": []
  },
  {
   "cell_type": "code",
   "execution_count": null,
   "id": "91c7fca4-32f7-4390-81bb-e32ca8bfade0",
   "metadata": {},
   "outputs": [],
   "source": []
  },
  {
   "cell_type": "code",
   "execution_count": null,
   "id": "79d5ac1b-0e1d-4001-a010-abee4b94f0f3",
   "metadata": {},
   "outputs": [],
   "source": []
  },
  {
   "cell_type": "code",
   "execution_count": null,
   "id": "84e8f820-9437-4e4a-ab13-d39f18b47df3",
   "metadata": {},
   "outputs": [],
   "source": []
  },
  {
   "cell_type": "code",
   "execution_count": null,
   "id": "f35663ba-2d56-4fab-9ca2-96c4c4c4bfd0",
   "metadata": {},
   "outputs": [],
   "source": []
  },
  {
   "cell_type": "code",
   "execution_count": null,
   "id": "8d8757a2-65e2-4c0e-ad4e-dd5048ea950b",
   "metadata": {},
   "outputs": [],
   "source": []
  },
  {
   "cell_type": "code",
   "execution_count": null,
   "id": "881012fb-3f4a-4d20-884e-c1a1647a0640",
   "metadata": {},
   "outputs": [],
   "source": []
  },
  {
   "cell_type": "code",
   "execution_count": null,
   "id": "59f5f380-e946-4ba5-92d9-5ffdfced6791",
   "metadata": {},
   "outputs": [],
   "source": []
  },
  {
   "cell_type": "code",
   "execution_count": null,
   "id": "e169f5c7-ec4f-4cb6-9f4e-d55adde60f45",
   "metadata": {},
   "outputs": [],
   "source": []
  },
  {
   "cell_type": "code",
   "execution_count": 12,
   "id": "29942f58-8b0c-43b1-8381-9fad2f68688c",
   "metadata": {},
   "outputs": [
    {
     "name": "stdout",
     "output_type": "stream",
     "text": [
      "AnnData object with n_obs × n_vars = 43252 × 35434\n",
      "    obs: 'batch', 'doublet', 'n_genes', 'n_genes_by_counts', 'total_counts', 'total_counts_mt', 'pct_counts_mt', 'Sample'\n",
      "    layers: 'counts'\n"
     ]
    }
   ],
   "source": [
    "ad_filtered = adata[((adata.raw[: , \"Gfp\"].X.toarray().flatten() ==0) & (adata.raw[: , \"Pax7\"].X.toarray().flatten() ==0)), :].copy()\n",
    "#ad_filtered = adata_concat[(adata_concat.raw[: , \"Gfp\"].X.toarray().flatten() ==0) , :].copy()\n",
    "print(ad_filtered)"
   ]
  },
  {
   "cell_type": "code",
   "execution_count": 14,
   "id": "d3cd0ba5-2deb-4d52-a7e1-73cb6dc1fc84",
   "metadata": {},
   "outputs": [
    {
     "ename": "KeyError",
     "evalue": "\"['umap_density_batch', 'leiden'] not in index\"",
     "output_type": "error",
     "traceback": [
      "\u001b[1;31m---------------------------------------------------------------------------\u001b[0m",
      "\u001b[1;31mKeyError\u001b[0m                                  Traceback (most recent call last)",
      "Cell \u001b[1;32mIn[14], line 1\u001b[0m\n\u001b[1;32m----> 1\u001b[0m \u001b[43mad_filtered\u001b[49m\u001b[38;5;241;43m.\u001b[39;49m\u001b[43mobs\u001b[49m\u001b[43m[\u001b[49m\u001b[43m[\u001b[49m\u001b[38;5;124;43m'\u001b[39;49m\u001b[38;5;124;43mumap_density_batch\u001b[39;49m\u001b[38;5;124;43m'\u001b[39;49m\u001b[43m,\u001b[49m\u001b[38;5;124;43m'\u001b[39;49m\u001b[38;5;124;43mleiden\u001b[39;49m\u001b[38;5;124;43m'\u001b[39;49m\u001b[43m,\u001b[49m\u001b[38;5;124;43m'\u001b[39;49m\u001b[38;5;124;43mbatch\u001b[39;49m\u001b[38;5;124;43m'\u001b[39;49m\u001b[43m]\u001b[49m\u001b[43m]\u001b[49m\u001b[38;5;241m.\u001b[39mto_csv(\u001b[38;5;124m'\u001b[39m\u001b[38;5;124mdensity_by_cluster_filteredoriginal.csv\u001b[39m\u001b[38;5;124m'\u001b[39m)\n",
      "File \u001b[1;32m~\\.conda\\envs\\myoung\\lib\\site-packages\\pandas\\core\\frame.py:4108\u001b[0m, in \u001b[0;36mDataFrame.__getitem__\u001b[1;34m(self, key)\u001b[0m\n\u001b[0;32m   4106\u001b[0m     \u001b[38;5;28;01mif\u001b[39;00m is_iterator(key):\n\u001b[0;32m   4107\u001b[0m         key \u001b[38;5;241m=\u001b[39m \u001b[38;5;28mlist\u001b[39m(key)\n\u001b[1;32m-> 4108\u001b[0m     indexer \u001b[38;5;241m=\u001b[39m \u001b[38;5;28;43mself\u001b[39;49m\u001b[38;5;241;43m.\u001b[39;49m\u001b[43mcolumns\u001b[49m\u001b[38;5;241;43m.\u001b[39;49m\u001b[43m_get_indexer_strict\u001b[49m\u001b[43m(\u001b[49m\u001b[43mkey\u001b[49m\u001b[43m,\u001b[49m\u001b[43m \u001b[49m\u001b[38;5;124;43m\"\u001b[39;49m\u001b[38;5;124;43mcolumns\u001b[39;49m\u001b[38;5;124;43m\"\u001b[39;49m\u001b[43m)\u001b[49m[\u001b[38;5;241m1\u001b[39m]\n\u001b[0;32m   4110\u001b[0m \u001b[38;5;66;03m# take() does not accept boolean indexers\u001b[39;00m\n\u001b[0;32m   4111\u001b[0m \u001b[38;5;28;01mif\u001b[39;00m \u001b[38;5;28mgetattr\u001b[39m(indexer, \u001b[38;5;124m\"\u001b[39m\u001b[38;5;124mdtype\u001b[39m\u001b[38;5;124m\"\u001b[39m, \u001b[38;5;28;01mNone\u001b[39;00m) \u001b[38;5;241m==\u001b[39m \u001b[38;5;28mbool\u001b[39m:\n",
      "File \u001b[1;32m~\\.conda\\envs\\myoung\\lib\\site-packages\\pandas\\core\\indexes\\base.py:6200\u001b[0m, in \u001b[0;36mIndex._get_indexer_strict\u001b[1;34m(self, key, axis_name)\u001b[0m\n\u001b[0;32m   6197\u001b[0m \u001b[38;5;28;01melse\u001b[39;00m:\n\u001b[0;32m   6198\u001b[0m     keyarr, indexer, new_indexer \u001b[38;5;241m=\u001b[39m \u001b[38;5;28mself\u001b[39m\u001b[38;5;241m.\u001b[39m_reindex_non_unique(keyarr)\n\u001b[1;32m-> 6200\u001b[0m \u001b[38;5;28;43mself\u001b[39;49m\u001b[38;5;241;43m.\u001b[39;49m\u001b[43m_raise_if_missing\u001b[49m\u001b[43m(\u001b[49m\u001b[43mkeyarr\u001b[49m\u001b[43m,\u001b[49m\u001b[43m \u001b[49m\u001b[43mindexer\u001b[49m\u001b[43m,\u001b[49m\u001b[43m \u001b[49m\u001b[43maxis_name\u001b[49m\u001b[43m)\u001b[49m\n\u001b[0;32m   6202\u001b[0m keyarr \u001b[38;5;241m=\u001b[39m \u001b[38;5;28mself\u001b[39m\u001b[38;5;241m.\u001b[39mtake(indexer)\n\u001b[0;32m   6203\u001b[0m \u001b[38;5;28;01mif\u001b[39;00m \u001b[38;5;28misinstance\u001b[39m(key, Index):\n\u001b[0;32m   6204\u001b[0m     \u001b[38;5;66;03m# GH 42790 - Preserve name from an Index\u001b[39;00m\n",
      "File \u001b[1;32m~\\.conda\\envs\\myoung\\lib\\site-packages\\pandas\\core\\indexes\\base.py:6252\u001b[0m, in \u001b[0;36mIndex._raise_if_missing\u001b[1;34m(self, key, indexer, axis_name)\u001b[0m\n\u001b[0;32m   6249\u001b[0m     \u001b[38;5;28;01mraise\u001b[39;00m \u001b[38;5;167;01mKeyError\u001b[39;00m(\u001b[38;5;124mf\u001b[39m\u001b[38;5;124m\"\u001b[39m\u001b[38;5;124mNone of [\u001b[39m\u001b[38;5;132;01m{\u001b[39;00mkey\u001b[38;5;132;01m}\u001b[39;00m\u001b[38;5;124m] are in the [\u001b[39m\u001b[38;5;132;01m{\u001b[39;00maxis_name\u001b[38;5;132;01m}\u001b[39;00m\u001b[38;5;124m]\u001b[39m\u001b[38;5;124m\"\u001b[39m)\n\u001b[0;32m   6251\u001b[0m not_found \u001b[38;5;241m=\u001b[39m \u001b[38;5;28mlist\u001b[39m(ensure_index(key)[missing_mask\u001b[38;5;241m.\u001b[39mnonzero()[\u001b[38;5;241m0\u001b[39m]]\u001b[38;5;241m.\u001b[39munique())\n\u001b[1;32m-> 6252\u001b[0m \u001b[38;5;28;01mraise\u001b[39;00m \u001b[38;5;167;01mKeyError\u001b[39;00m(\u001b[38;5;124mf\u001b[39m\u001b[38;5;124m\"\u001b[39m\u001b[38;5;132;01m{\u001b[39;00mnot_found\u001b[38;5;132;01m}\u001b[39;00m\u001b[38;5;124m not in index\u001b[39m\u001b[38;5;124m\"\u001b[39m)\n",
      "\u001b[1;31mKeyError\u001b[0m: \"['umap_density_batch', 'leiden'] not in index\""
     ]
    }
   ],
   "source": [
    "ad_filtered.obs[['umap_density_batch','leiden','batch']].to_csv('density_by_cluster_filteredoriginal.csv')"
   ]
  },
  {
   "cell_type": "code",
   "execution_count": null,
   "id": "8c2589d4-019d-4714-b2b6-49fc0514c17f",
   "metadata": {},
   "outputs": [],
   "source": []
  }
 ],
 "metadata": {
  "kernelspec": {
   "display_name": "Python 3 (ipykernel)",
   "language": "python",
   "name": "python3"
  },
  "language_info": {
   "codemirror_mode": {
    "name": "ipython",
    "version": 3
   },
   "file_extension": ".py",
   "mimetype": "text/x-python",
   "name": "python",
   "nbconvert_exporter": "python",
   "pygments_lexer": "ipython3",
   "version": "3.9.21"
  }
 },
 "nbformat": 4,
 "nbformat_minor": 5
}
